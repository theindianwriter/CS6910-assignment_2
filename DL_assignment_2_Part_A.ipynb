{
  "nbformat": 4,
  "nbformat_minor": 0,
  "metadata": {
    "colab": {
      "name": "DL assignment 2 Part A.ipynb",
      "provenance": [],
      "mount_file_id": "1yBwQxhZYw9UwQKB6m5B6UEjQDTjhCM-l",
      "authorship_tag": "ABX9TyNyXeKe2MtF2Qt7cywxC8Zw",
      "include_colab_link": true
    },
    "kernelspec": {
      "name": "python3",
      "display_name": "Python 3"
    },
    "language_info": {
      "name": "python"
    },
    "accelerator": "GPU",
    "widgets": {
      "application/vnd.jupyter.widget-state+json": {
        "e871fbb80e0e493c9195b7743866e41f": {
          "model_module": "@jupyter-widgets/controls",
          "model_name": "VBoxModel",
          "state": {
            "_view_name": "VBoxView",
            "_dom_classes": [],
            "_model_name": "VBoxModel",
            "_view_module": "@jupyter-widgets/controls",
            "_model_module_version": "1.5.0",
            "_view_count": null,
            "_view_module_version": "1.5.0",
            "box_style": "",
            "layout": "IPY_MODEL_752bd649b69a4b53bcd2eee724cd69e9",
            "_model_module": "@jupyter-widgets/controls",
            "children": [
              "IPY_MODEL_238250e10ffb4a58a1b488299d492d2d",
              "IPY_MODEL_2b5a07d33b2b404880898dee91cc5b35"
            ]
          }
        },
        "752bd649b69a4b53bcd2eee724cd69e9": {
          "model_module": "@jupyter-widgets/base",
          "model_name": "LayoutModel",
          "state": {
            "_view_name": "LayoutView",
            "grid_template_rows": null,
            "right": null,
            "justify_content": null,
            "_view_module": "@jupyter-widgets/base",
            "overflow": null,
            "_model_module_version": "1.2.0",
            "_view_count": null,
            "flex_flow": null,
            "width": null,
            "min_width": null,
            "border": null,
            "align_items": null,
            "bottom": null,
            "_model_module": "@jupyter-widgets/base",
            "top": null,
            "grid_column": null,
            "overflow_y": null,
            "overflow_x": null,
            "grid_auto_flow": null,
            "grid_area": null,
            "grid_template_columns": null,
            "flex": null,
            "_model_name": "LayoutModel",
            "justify_items": null,
            "grid_row": null,
            "max_height": null,
            "align_content": null,
            "visibility": null,
            "align_self": null,
            "height": null,
            "min_height": null,
            "padding": null,
            "grid_auto_rows": null,
            "grid_gap": null,
            "max_width": null,
            "order": null,
            "_view_module_version": "1.2.0",
            "grid_template_areas": null,
            "object_position": null,
            "object_fit": null,
            "grid_auto_columns": null,
            "margin": null,
            "display": null,
            "left": null
          }
        },
        "238250e10ffb4a58a1b488299d492d2d": {
          "model_module": "@jupyter-widgets/controls",
          "model_name": "LabelModel",
          "state": {
            "_view_name": "LabelView",
            "style": "IPY_MODEL_be1b5939a2184609b7ca435d4efe1b6d",
            "_dom_classes": [],
            "description": "",
            "_model_name": "LabelModel",
            "placeholder": "​",
            "_view_module": "@jupyter-widgets/controls",
            "_model_module_version": "1.5.0",
            "value": " 0.01MB of 0.01MB uploaded (0.00MB deduped)\r",
            "_view_count": null,
            "_view_module_version": "1.5.0",
            "description_tooltip": null,
            "_model_module": "@jupyter-widgets/controls",
            "layout": "IPY_MODEL_7332e4a3a54443d68698a6d2163cf505"
          }
        },
        "2b5a07d33b2b404880898dee91cc5b35": {
          "model_module": "@jupyter-widgets/controls",
          "model_name": "FloatProgressModel",
          "state": {
            "_view_name": "ProgressView",
            "style": "IPY_MODEL_24ceece29dc241d796d092051807bffc",
            "_dom_classes": [],
            "description": "",
            "_model_name": "FloatProgressModel",
            "bar_style": "",
            "max": 1,
            "_view_module": "@jupyter-widgets/controls",
            "_model_module_version": "1.5.0",
            "value": 1,
            "_view_count": null,
            "_view_module_version": "1.5.0",
            "orientation": "horizontal",
            "min": 0,
            "description_tooltip": null,
            "_model_module": "@jupyter-widgets/controls",
            "layout": "IPY_MODEL_a4b518cbbb764b76b5e68e0806c76373"
          }
        },
        "be1b5939a2184609b7ca435d4efe1b6d": {
          "model_module": "@jupyter-widgets/controls",
          "model_name": "DescriptionStyleModel",
          "state": {
            "_view_name": "StyleView",
            "_model_name": "DescriptionStyleModel",
            "description_width": "",
            "_view_module": "@jupyter-widgets/base",
            "_model_module_version": "1.5.0",
            "_view_count": null,
            "_view_module_version": "1.2.0",
            "_model_module": "@jupyter-widgets/controls"
          }
        },
        "7332e4a3a54443d68698a6d2163cf505": {
          "model_module": "@jupyter-widgets/base",
          "model_name": "LayoutModel",
          "state": {
            "_view_name": "LayoutView",
            "grid_template_rows": null,
            "right": null,
            "justify_content": null,
            "_view_module": "@jupyter-widgets/base",
            "overflow": null,
            "_model_module_version": "1.2.0",
            "_view_count": null,
            "flex_flow": null,
            "width": null,
            "min_width": null,
            "border": null,
            "align_items": null,
            "bottom": null,
            "_model_module": "@jupyter-widgets/base",
            "top": null,
            "grid_column": null,
            "overflow_y": null,
            "overflow_x": null,
            "grid_auto_flow": null,
            "grid_area": null,
            "grid_template_columns": null,
            "flex": null,
            "_model_name": "LayoutModel",
            "justify_items": null,
            "grid_row": null,
            "max_height": null,
            "align_content": null,
            "visibility": null,
            "align_self": null,
            "height": null,
            "min_height": null,
            "padding": null,
            "grid_auto_rows": null,
            "grid_gap": null,
            "max_width": null,
            "order": null,
            "_view_module_version": "1.2.0",
            "grid_template_areas": null,
            "object_position": null,
            "object_fit": null,
            "grid_auto_columns": null,
            "margin": null,
            "display": null,
            "left": null
          }
        },
        "24ceece29dc241d796d092051807bffc": {
          "model_module": "@jupyter-widgets/controls",
          "model_name": "ProgressStyleModel",
          "state": {
            "_view_name": "StyleView",
            "_model_name": "ProgressStyleModel",
            "description_width": "",
            "_view_module": "@jupyter-widgets/base",
            "_model_module_version": "1.5.0",
            "_view_count": null,
            "_view_module_version": "1.2.0",
            "bar_color": null,
            "_model_module": "@jupyter-widgets/controls"
          }
        },
        "a4b518cbbb764b76b5e68e0806c76373": {
          "model_module": "@jupyter-widgets/base",
          "model_name": "LayoutModel",
          "state": {
            "_view_name": "LayoutView",
            "grid_template_rows": null,
            "right": null,
            "justify_content": null,
            "_view_module": "@jupyter-widgets/base",
            "overflow": null,
            "_model_module_version": "1.2.0",
            "_view_count": null,
            "flex_flow": null,
            "width": null,
            "min_width": null,
            "border": null,
            "align_items": null,
            "bottom": null,
            "_model_module": "@jupyter-widgets/base",
            "top": null,
            "grid_column": null,
            "overflow_y": null,
            "overflow_x": null,
            "grid_auto_flow": null,
            "grid_area": null,
            "grid_template_columns": null,
            "flex": null,
            "_model_name": "LayoutModel",
            "justify_items": null,
            "grid_row": null,
            "max_height": null,
            "align_content": null,
            "visibility": null,
            "align_self": null,
            "height": null,
            "min_height": null,
            "padding": null,
            "grid_auto_rows": null,
            "grid_gap": null,
            "max_width": null,
            "order": null,
            "_view_module_version": "1.2.0",
            "grid_template_areas": null,
            "object_position": null,
            "object_fit": null,
            "grid_auto_columns": null,
            "margin": null,
            "display": null,
            "left": null
          }
        },
        "1b1fc5132aa644c1ad4a7ea73f30da4c": {
          "model_module": "@jupyter-widgets/controls",
          "model_name": "VBoxModel",
          "state": {
            "_view_name": "VBoxView",
            "_dom_classes": [],
            "_model_name": "VBoxModel",
            "_view_module": "@jupyter-widgets/controls",
            "_model_module_version": "1.5.0",
            "_view_count": null,
            "_view_module_version": "1.5.0",
            "box_style": "",
            "layout": "IPY_MODEL_b7a9264ca88a4538be3f3f58f7a96b02",
            "_model_module": "@jupyter-widgets/controls",
            "children": [
              "IPY_MODEL_653634c1d25346328dd3e4cdfaac692e",
              "IPY_MODEL_b131a62732fa4d40925f2fc11323c52e"
            ]
          }
        },
        "b7a9264ca88a4538be3f3f58f7a96b02": {
          "model_module": "@jupyter-widgets/base",
          "model_name": "LayoutModel",
          "state": {
            "_view_name": "LayoutView",
            "grid_template_rows": null,
            "right": null,
            "justify_content": null,
            "_view_module": "@jupyter-widgets/base",
            "overflow": null,
            "_model_module_version": "1.2.0",
            "_view_count": null,
            "flex_flow": null,
            "width": null,
            "min_width": null,
            "border": null,
            "align_items": null,
            "bottom": null,
            "_model_module": "@jupyter-widgets/base",
            "top": null,
            "grid_column": null,
            "overflow_y": null,
            "overflow_x": null,
            "grid_auto_flow": null,
            "grid_area": null,
            "grid_template_columns": null,
            "flex": null,
            "_model_name": "LayoutModel",
            "justify_items": null,
            "grid_row": null,
            "max_height": null,
            "align_content": null,
            "visibility": null,
            "align_self": null,
            "height": null,
            "min_height": null,
            "padding": null,
            "grid_auto_rows": null,
            "grid_gap": null,
            "max_width": null,
            "order": null,
            "_view_module_version": "1.2.0",
            "grid_template_areas": null,
            "object_position": null,
            "object_fit": null,
            "grid_auto_columns": null,
            "margin": null,
            "display": null,
            "left": null
          }
        },
        "653634c1d25346328dd3e4cdfaac692e": {
          "model_module": "@jupyter-widgets/controls",
          "model_name": "LabelModel",
          "state": {
            "_view_name": "LabelView",
            "style": "IPY_MODEL_c64a3223ccb34043a8f58113b0129e12",
            "_dom_classes": [],
            "description": "",
            "_model_name": "LabelModel",
            "placeholder": "​",
            "_view_module": "@jupyter-widgets/controls",
            "_model_module_version": "1.5.0",
            "value": " 0.01MB of 0.01MB uploaded (0.00MB deduped)\r",
            "_view_count": null,
            "_view_module_version": "1.5.0",
            "description_tooltip": null,
            "_model_module": "@jupyter-widgets/controls",
            "layout": "IPY_MODEL_d063c90c952147bd937c8895364f8dc5"
          }
        },
        "b131a62732fa4d40925f2fc11323c52e": {
          "model_module": "@jupyter-widgets/controls",
          "model_name": "FloatProgressModel",
          "state": {
            "_view_name": "ProgressView",
            "style": "IPY_MODEL_001d3789f1f64baa93e7b0aefb7a1e73",
            "_dom_classes": [],
            "description": "",
            "_model_name": "FloatProgressModel",
            "bar_style": "",
            "max": 1,
            "_view_module": "@jupyter-widgets/controls",
            "_model_module_version": "1.5.0",
            "value": 1,
            "_view_count": null,
            "_view_module_version": "1.5.0",
            "orientation": "horizontal",
            "min": 0,
            "description_tooltip": null,
            "_model_module": "@jupyter-widgets/controls",
            "layout": "IPY_MODEL_17ad5cdae5b44030a4cdfa48d496a70d"
          }
        },
        "c64a3223ccb34043a8f58113b0129e12": {
          "model_module": "@jupyter-widgets/controls",
          "model_name": "DescriptionStyleModel",
          "state": {
            "_view_name": "StyleView",
            "_model_name": "DescriptionStyleModel",
            "description_width": "",
            "_view_module": "@jupyter-widgets/base",
            "_model_module_version": "1.5.0",
            "_view_count": null,
            "_view_module_version": "1.2.0",
            "_model_module": "@jupyter-widgets/controls"
          }
        },
        "d063c90c952147bd937c8895364f8dc5": {
          "model_module": "@jupyter-widgets/base",
          "model_name": "LayoutModel",
          "state": {
            "_view_name": "LayoutView",
            "grid_template_rows": null,
            "right": null,
            "justify_content": null,
            "_view_module": "@jupyter-widgets/base",
            "overflow": null,
            "_model_module_version": "1.2.0",
            "_view_count": null,
            "flex_flow": null,
            "width": null,
            "min_width": null,
            "border": null,
            "align_items": null,
            "bottom": null,
            "_model_module": "@jupyter-widgets/base",
            "top": null,
            "grid_column": null,
            "overflow_y": null,
            "overflow_x": null,
            "grid_auto_flow": null,
            "grid_area": null,
            "grid_template_columns": null,
            "flex": null,
            "_model_name": "LayoutModel",
            "justify_items": null,
            "grid_row": null,
            "max_height": null,
            "align_content": null,
            "visibility": null,
            "align_self": null,
            "height": null,
            "min_height": null,
            "padding": null,
            "grid_auto_rows": null,
            "grid_gap": null,
            "max_width": null,
            "order": null,
            "_view_module_version": "1.2.0",
            "grid_template_areas": null,
            "object_position": null,
            "object_fit": null,
            "grid_auto_columns": null,
            "margin": null,
            "display": null,
            "left": null
          }
        },
        "001d3789f1f64baa93e7b0aefb7a1e73": {
          "model_module": "@jupyter-widgets/controls",
          "model_name": "ProgressStyleModel",
          "state": {
            "_view_name": "StyleView",
            "_model_name": "ProgressStyleModel",
            "description_width": "",
            "_view_module": "@jupyter-widgets/base",
            "_model_module_version": "1.5.0",
            "_view_count": null,
            "_view_module_version": "1.2.0",
            "bar_color": null,
            "_model_module": "@jupyter-widgets/controls"
          }
        },
        "17ad5cdae5b44030a4cdfa48d496a70d": {
          "model_module": "@jupyter-widgets/base",
          "model_name": "LayoutModel",
          "state": {
            "_view_name": "LayoutView",
            "grid_template_rows": null,
            "right": null,
            "justify_content": null,
            "_view_module": "@jupyter-widgets/base",
            "overflow": null,
            "_model_module_version": "1.2.0",
            "_view_count": null,
            "flex_flow": null,
            "width": null,
            "min_width": null,
            "border": null,
            "align_items": null,
            "bottom": null,
            "_model_module": "@jupyter-widgets/base",
            "top": null,
            "grid_column": null,
            "overflow_y": null,
            "overflow_x": null,
            "grid_auto_flow": null,
            "grid_area": null,
            "grid_template_columns": null,
            "flex": null,
            "_model_name": "LayoutModel",
            "justify_items": null,
            "grid_row": null,
            "max_height": null,
            "align_content": null,
            "visibility": null,
            "align_self": null,
            "height": null,
            "min_height": null,
            "padding": null,
            "grid_auto_rows": null,
            "grid_gap": null,
            "max_width": null,
            "order": null,
            "_view_module_version": "1.2.0",
            "grid_template_areas": null,
            "object_position": null,
            "object_fit": null,
            "grid_auto_columns": null,
            "margin": null,
            "display": null,
            "left": null
          }
        },
        "49b8ff7277f545e2a8600885b738fdf6": {
          "model_module": "@jupyter-widgets/controls",
          "model_name": "VBoxModel",
          "state": {
            "_view_name": "VBoxView",
            "_dom_classes": [],
            "_model_name": "VBoxModel",
            "_view_module": "@jupyter-widgets/controls",
            "_model_module_version": "1.5.0",
            "_view_count": null,
            "_view_module_version": "1.5.0",
            "box_style": "",
            "layout": "IPY_MODEL_5fa611fd92e84f59b89c8992bdbe9a5a",
            "_model_module": "@jupyter-widgets/controls",
            "children": [
              "IPY_MODEL_885b2d7b2b70411b9eb410d2e00e6a00",
              "IPY_MODEL_3b46add08c5643f7a66c970533f7daa3"
            ]
          }
        },
        "5fa611fd92e84f59b89c8992bdbe9a5a": {
          "model_module": "@jupyter-widgets/base",
          "model_name": "LayoutModel",
          "state": {
            "_view_name": "LayoutView",
            "grid_template_rows": null,
            "right": null,
            "justify_content": null,
            "_view_module": "@jupyter-widgets/base",
            "overflow": null,
            "_model_module_version": "1.2.0",
            "_view_count": null,
            "flex_flow": null,
            "width": null,
            "min_width": null,
            "border": null,
            "align_items": null,
            "bottom": null,
            "_model_module": "@jupyter-widgets/base",
            "top": null,
            "grid_column": null,
            "overflow_y": null,
            "overflow_x": null,
            "grid_auto_flow": null,
            "grid_area": null,
            "grid_template_columns": null,
            "flex": null,
            "_model_name": "LayoutModel",
            "justify_items": null,
            "grid_row": null,
            "max_height": null,
            "align_content": null,
            "visibility": null,
            "align_self": null,
            "height": null,
            "min_height": null,
            "padding": null,
            "grid_auto_rows": null,
            "grid_gap": null,
            "max_width": null,
            "order": null,
            "_view_module_version": "1.2.0",
            "grid_template_areas": null,
            "object_position": null,
            "object_fit": null,
            "grid_auto_columns": null,
            "margin": null,
            "display": null,
            "left": null
          }
        },
        "885b2d7b2b70411b9eb410d2e00e6a00": {
          "model_module": "@jupyter-widgets/controls",
          "model_name": "LabelModel",
          "state": {
            "_view_name": "LabelView",
            "style": "IPY_MODEL_b1e6e6012cdd40078b4b4859297ea1f1",
            "_dom_classes": [],
            "description": "",
            "_model_name": "LabelModel",
            "placeholder": "​",
            "_view_module": "@jupyter-widgets/controls",
            "_model_module_version": "1.5.0",
            "value": " 0.01MB of 0.01MB uploaded (0.00MB deduped)\r",
            "_view_count": null,
            "_view_module_version": "1.5.0",
            "description_tooltip": null,
            "_model_module": "@jupyter-widgets/controls",
            "layout": "IPY_MODEL_7c93c58af2114af9af1efc31816b5bca"
          }
        },
        "3b46add08c5643f7a66c970533f7daa3": {
          "model_module": "@jupyter-widgets/controls",
          "model_name": "FloatProgressModel",
          "state": {
            "_view_name": "ProgressView",
            "style": "IPY_MODEL_ec2acb917a92478b815befac61ad655a",
            "_dom_classes": [],
            "description": "",
            "_model_name": "FloatProgressModel",
            "bar_style": "",
            "max": 1,
            "_view_module": "@jupyter-widgets/controls",
            "_model_module_version": "1.5.0",
            "value": 1,
            "_view_count": null,
            "_view_module_version": "1.5.0",
            "orientation": "horizontal",
            "min": 0,
            "description_tooltip": null,
            "_model_module": "@jupyter-widgets/controls",
            "layout": "IPY_MODEL_65bcd55f7ee24fa592a7a3b9231bc746"
          }
        },
        "b1e6e6012cdd40078b4b4859297ea1f1": {
          "model_module": "@jupyter-widgets/controls",
          "model_name": "DescriptionStyleModel",
          "state": {
            "_view_name": "StyleView",
            "_model_name": "DescriptionStyleModel",
            "description_width": "",
            "_view_module": "@jupyter-widgets/base",
            "_model_module_version": "1.5.0",
            "_view_count": null,
            "_view_module_version": "1.2.0",
            "_model_module": "@jupyter-widgets/controls"
          }
        },
        "7c93c58af2114af9af1efc31816b5bca": {
          "model_module": "@jupyter-widgets/base",
          "model_name": "LayoutModel",
          "state": {
            "_view_name": "LayoutView",
            "grid_template_rows": null,
            "right": null,
            "justify_content": null,
            "_view_module": "@jupyter-widgets/base",
            "overflow": null,
            "_model_module_version": "1.2.0",
            "_view_count": null,
            "flex_flow": null,
            "width": null,
            "min_width": null,
            "border": null,
            "align_items": null,
            "bottom": null,
            "_model_module": "@jupyter-widgets/base",
            "top": null,
            "grid_column": null,
            "overflow_y": null,
            "overflow_x": null,
            "grid_auto_flow": null,
            "grid_area": null,
            "grid_template_columns": null,
            "flex": null,
            "_model_name": "LayoutModel",
            "justify_items": null,
            "grid_row": null,
            "max_height": null,
            "align_content": null,
            "visibility": null,
            "align_self": null,
            "height": null,
            "min_height": null,
            "padding": null,
            "grid_auto_rows": null,
            "grid_gap": null,
            "max_width": null,
            "order": null,
            "_view_module_version": "1.2.0",
            "grid_template_areas": null,
            "object_position": null,
            "object_fit": null,
            "grid_auto_columns": null,
            "margin": null,
            "display": null,
            "left": null
          }
        },
        "ec2acb917a92478b815befac61ad655a": {
          "model_module": "@jupyter-widgets/controls",
          "model_name": "ProgressStyleModel",
          "state": {
            "_view_name": "StyleView",
            "_model_name": "ProgressStyleModel",
            "description_width": "",
            "_view_module": "@jupyter-widgets/base",
            "_model_module_version": "1.5.0",
            "_view_count": null,
            "_view_module_version": "1.2.0",
            "bar_color": null,
            "_model_module": "@jupyter-widgets/controls"
          }
        },
        "65bcd55f7ee24fa592a7a3b9231bc746": {
          "model_module": "@jupyter-widgets/base",
          "model_name": "LayoutModel",
          "state": {
            "_view_name": "LayoutView",
            "grid_template_rows": null,
            "right": null,
            "justify_content": null,
            "_view_module": "@jupyter-widgets/base",
            "overflow": null,
            "_model_module_version": "1.2.0",
            "_view_count": null,
            "flex_flow": null,
            "width": null,
            "min_width": null,
            "border": null,
            "align_items": null,
            "bottom": null,
            "_model_module": "@jupyter-widgets/base",
            "top": null,
            "grid_column": null,
            "overflow_y": null,
            "overflow_x": null,
            "grid_auto_flow": null,
            "grid_area": null,
            "grid_template_columns": null,
            "flex": null,
            "_model_name": "LayoutModel",
            "justify_items": null,
            "grid_row": null,
            "max_height": null,
            "align_content": null,
            "visibility": null,
            "align_self": null,
            "height": null,
            "min_height": null,
            "padding": null,
            "grid_auto_rows": null,
            "grid_gap": null,
            "max_width": null,
            "order": null,
            "_view_module_version": "1.2.0",
            "grid_template_areas": null,
            "object_position": null,
            "object_fit": null,
            "grid_auto_columns": null,
            "margin": null,
            "display": null,
            "left": null
          }
        },
        "e15652682fa545aeb2276bf83dad85cf": {
          "model_module": "@jupyter-widgets/controls",
          "model_name": "VBoxModel",
          "state": {
            "_view_name": "VBoxView",
            "_dom_classes": [],
            "_model_name": "VBoxModel",
            "_view_module": "@jupyter-widgets/controls",
            "_model_module_version": "1.5.0",
            "_view_count": null,
            "_view_module_version": "1.5.0",
            "box_style": "",
            "layout": "IPY_MODEL_1dc16a78957c4af7867ac9c3e629394a",
            "_model_module": "@jupyter-widgets/controls",
            "children": [
              "IPY_MODEL_cb0f76d2fb61426c9aba00c2f95deea6",
              "IPY_MODEL_cf903991981c4a06b3ff23a4769ec5c0"
            ]
          }
        },
        "1dc16a78957c4af7867ac9c3e629394a": {
          "model_module": "@jupyter-widgets/base",
          "model_name": "LayoutModel",
          "state": {
            "_view_name": "LayoutView",
            "grid_template_rows": null,
            "right": null,
            "justify_content": null,
            "_view_module": "@jupyter-widgets/base",
            "overflow": null,
            "_model_module_version": "1.2.0",
            "_view_count": null,
            "flex_flow": null,
            "width": null,
            "min_width": null,
            "border": null,
            "align_items": null,
            "bottom": null,
            "_model_module": "@jupyter-widgets/base",
            "top": null,
            "grid_column": null,
            "overflow_y": null,
            "overflow_x": null,
            "grid_auto_flow": null,
            "grid_area": null,
            "grid_template_columns": null,
            "flex": null,
            "_model_name": "LayoutModel",
            "justify_items": null,
            "grid_row": null,
            "max_height": null,
            "align_content": null,
            "visibility": null,
            "align_self": null,
            "height": null,
            "min_height": null,
            "padding": null,
            "grid_auto_rows": null,
            "grid_gap": null,
            "max_width": null,
            "order": null,
            "_view_module_version": "1.2.0",
            "grid_template_areas": null,
            "object_position": null,
            "object_fit": null,
            "grid_auto_columns": null,
            "margin": null,
            "display": null,
            "left": null
          }
        },
        "cb0f76d2fb61426c9aba00c2f95deea6": {
          "model_module": "@jupyter-widgets/controls",
          "model_name": "LabelModel",
          "state": {
            "_view_name": "LabelView",
            "style": "IPY_MODEL_30f8255b3a6e4ffb8f5736df9bab8081",
            "_dom_classes": [],
            "description": "",
            "_model_name": "LabelModel",
            "placeholder": "​",
            "_view_module": "@jupyter-widgets/controls",
            "_model_module_version": "1.5.0",
            "value": " 0.01MB of 0.01MB uploaded (0.00MB deduped)\r",
            "_view_count": null,
            "_view_module_version": "1.5.0",
            "description_tooltip": null,
            "_model_module": "@jupyter-widgets/controls",
            "layout": "IPY_MODEL_520e015a86464a2987a9dab9441b9475"
          }
        },
        "cf903991981c4a06b3ff23a4769ec5c0": {
          "model_module": "@jupyter-widgets/controls",
          "model_name": "FloatProgressModel",
          "state": {
            "_view_name": "ProgressView",
            "style": "IPY_MODEL_4b234af1156c4b649dc7c8766a9712c3",
            "_dom_classes": [],
            "description": "",
            "_model_name": "FloatProgressModel",
            "bar_style": "",
            "max": 1,
            "_view_module": "@jupyter-widgets/controls",
            "_model_module_version": "1.5.0",
            "value": 1,
            "_view_count": null,
            "_view_module_version": "1.5.0",
            "orientation": "horizontal",
            "min": 0,
            "description_tooltip": null,
            "_model_module": "@jupyter-widgets/controls",
            "layout": "IPY_MODEL_ef8320a37b874c2c88ec13061e074339"
          }
        },
        "30f8255b3a6e4ffb8f5736df9bab8081": {
          "model_module": "@jupyter-widgets/controls",
          "model_name": "DescriptionStyleModel",
          "state": {
            "_view_name": "StyleView",
            "_model_name": "DescriptionStyleModel",
            "description_width": "",
            "_view_module": "@jupyter-widgets/base",
            "_model_module_version": "1.5.0",
            "_view_count": null,
            "_view_module_version": "1.2.0",
            "_model_module": "@jupyter-widgets/controls"
          }
        },
        "520e015a86464a2987a9dab9441b9475": {
          "model_module": "@jupyter-widgets/base",
          "model_name": "LayoutModel",
          "state": {
            "_view_name": "LayoutView",
            "grid_template_rows": null,
            "right": null,
            "justify_content": null,
            "_view_module": "@jupyter-widgets/base",
            "overflow": null,
            "_model_module_version": "1.2.0",
            "_view_count": null,
            "flex_flow": null,
            "width": null,
            "min_width": null,
            "border": null,
            "align_items": null,
            "bottom": null,
            "_model_module": "@jupyter-widgets/base",
            "top": null,
            "grid_column": null,
            "overflow_y": null,
            "overflow_x": null,
            "grid_auto_flow": null,
            "grid_area": null,
            "grid_template_columns": null,
            "flex": null,
            "_model_name": "LayoutModel",
            "justify_items": null,
            "grid_row": null,
            "max_height": null,
            "align_content": null,
            "visibility": null,
            "align_self": null,
            "height": null,
            "min_height": null,
            "padding": null,
            "grid_auto_rows": null,
            "grid_gap": null,
            "max_width": null,
            "order": null,
            "_view_module_version": "1.2.0",
            "grid_template_areas": null,
            "object_position": null,
            "object_fit": null,
            "grid_auto_columns": null,
            "margin": null,
            "display": null,
            "left": null
          }
        },
        "4b234af1156c4b649dc7c8766a9712c3": {
          "model_module": "@jupyter-widgets/controls",
          "model_name": "ProgressStyleModel",
          "state": {
            "_view_name": "StyleView",
            "_model_name": "ProgressStyleModel",
            "description_width": "",
            "_view_module": "@jupyter-widgets/base",
            "_model_module_version": "1.5.0",
            "_view_count": null,
            "_view_module_version": "1.2.0",
            "bar_color": null,
            "_model_module": "@jupyter-widgets/controls"
          }
        },
        "ef8320a37b874c2c88ec13061e074339": {
          "model_module": "@jupyter-widgets/base",
          "model_name": "LayoutModel",
          "state": {
            "_view_name": "LayoutView",
            "grid_template_rows": null,
            "right": null,
            "justify_content": null,
            "_view_module": "@jupyter-widgets/base",
            "overflow": null,
            "_model_module_version": "1.2.0",
            "_view_count": null,
            "flex_flow": null,
            "width": null,
            "min_width": null,
            "border": null,
            "align_items": null,
            "bottom": null,
            "_model_module": "@jupyter-widgets/base",
            "top": null,
            "grid_column": null,
            "overflow_y": null,
            "overflow_x": null,
            "grid_auto_flow": null,
            "grid_area": null,
            "grid_template_columns": null,
            "flex": null,
            "_model_name": "LayoutModel",
            "justify_items": null,
            "grid_row": null,
            "max_height": null,
            "align_content": null,
            "visibility": null,
            "align_self": null,
            "height": null,
            "min_height": null,
            "padding": null,
            "grid_auto_rows": null,
            "grid_gap": null,
            "max_width": null,
            "order": null,
            "_view_module_version": "1.2.0",
            "grid_template_areas": null,
            "object_position": null,
            "object_fit": null,
            "grid_auto_columns": null,
            "margin": null,
            "display": null,
            "left": null
          }
        },
        "bc83bad26e4948029be9456b951d8658": {
          "model_module": "@jupyter-widgets/controls",
          "model_name": "VBoxModel",
          "state": {
            "_view_name": "VBoxView",
            "_dom_classes": [],
            "_model_name": "VBoxModel",
            "_view_module": "@jupyter-widgets/controls",
            "_model_module_version": "1.5.0",
            "_view_count": null,
            "_view_module_version": "1.5.0",
            "box_style": "",
            "layout": "IPY_MODEL_7416f23391e84afe8141c4acb2e7e82a",
            "_model_module": "@jupyter-widgets/controls",
            "children": [
              "IPY_MODEL_e159a95de8434f69a0f245adf678f8bf",
              "IPY_MODEL_201ff5cab784476591a73ba83e4ae4a5"
            ]
          }
        },
        "7416f23391e84afe8141c4acb2e7e82a": {
          "model_module": "@jupyter-widgets/base",
          "model_name": "LayoutModel",
          "state": {
            "_view_name": "LayoutView",
            "grid_template_rows": null,
            "right": null,
            "justify_content": null,
            "_view_module": "@jupyter-widgets/base",
            "overflow": null,
            "_model_module_version": "1.2.0",
            "_view_count": null,
            "flex_flow": null,
            "width": null,
            "min_width": null,
            "border": null,
            "align_items": null,
            "bottom": null,
            "_model_module": "@jupyter-widgets/base",
            "top": null,
            "grid_column": null,
            "overflow_y": null,
            "overflow_x": null,
            "grid_auto_flow": null,
            "grid_area": null,
            "grid_template_columns": null,
            "flex": null,
            "_model_name": "LayoutModel",
            "justify_items": null,
            "grid_row": null,
            "max_height": null,
            "align_content": null,
            "visibility": null,
            "align_self": null,
            "height": null,
            "min_height": null,
            "padding": null,
            "grid_auto_rows": null,
            "grid_gap": null,
            "max_width": null,
            "order": null,
            "_view_module_version": "1.2.0",
            "grid_template_areas": null,
            "object_position": null,
            "object_fit": null,
            "grid_auto_columns": null,
            "margin": null,
            "display": null,
            "left": null
          }
        },
        "e159a95de8434f69a0f245adf678f8bf": {
          "model_module": "@jupyter-widgets/controls",
          "model_name": "LabelModel",
          "state": {
            "_view_name": "LabelView",
            "style": "IPY_MODEL_9313d53919844bebb18b4e1891c1a4c5",
            "_dom_classes": [],
            "description": "",
            "_model_name": "LabelModel",
            "placeholder": "​",
            "_view_module": "@jupyter-widgets/controls",
            "_model_module_version": "1.5.0",
            "value": " 0.01MB of 0.01MB uploaded (0.00MB deduped)\r",
            "_view_count": null,
            "_view_module_version": "1.5.0",
            "description_tooltip": null,
            "_model_module": "@jupyter-widgets/controls",
            "layout": "IPY_MODEL_9808c39d19f945628c3c8c22bd67257f"
          }
        },
        "201ff5cab784476591a73ba83e4ae4a5": {
          "model_module": "@jupyter-widgets/controls",
          "model_name": "FloatProgressModel",
          "state": {
            "_view_name": "ProgressView",
            "style": "IPY_MODEL_7366721a78af442f9eadb41cda768e52",
            "_dom_classes": [],
            "description": "",
            "_model_name": "FloatProgressModel",
            "bar_style": "",
            "max": 1,
            "_view_module": "@jupyter-widgets/controls",
            "_model_module_version": "1.5.0",
            "value": 1,
            "_view_count": null,
            "_view_module_version": "1.5.0",
            "orientation": "horizontal",
            "min": 0,
            "description_tooltip": null,
            "_model_module": "@jupyter-widgets/controls",
            "layout": "IPY_MODEL_bfc2f1f915a047c8a596259e8742f6e6"
          }
        },
        "9313d53919844bebb18b4e1891c1a4c5": {
          "model_module": "@jupyter-widgets/controls",
          "model_name": "DescriptionStyleModel",
          "state": {
            "_view_name": "StyleView",
            "_model_name": "DescriptionStyleModel",
            "description_width": "",
            "_view_module": "@jupyter-widgets/base",
            "_model_module_version": "1.5.0",
            "_view_count": null,
            "_view_module_version": "1.2.0",
            "_model_module": "@jupyter-widgets/controls"
          }
        },
        "9808c39d19f945628c3c8c22bd67257f": {
          "model_module": "@jupyter-widgets/base",
          "model_name": "LayoutModel",
          "state": {
            "_view_name": "LayoutView",
            "grid_template_rows": null,
            "right": null,
            "justify_content": null,
            "_view_module": "@jupyter-widgets/base",
            "overflow": null,
            "_model_module_version": "1.2.0",
            "_view_count": null,
            "flex_flow": null,
            "width": null,
            "min_width": null,
            "border": null,
            "align_items": null,
            "bottom": null,
            "_model_module": "@jupyter-widgets/base",
            "top": null,
            "grid_column": null,
            "overflow_y": null,
            "overflow_x": null,
            "grid_auto_flow": null,
            "grid_area": null,
            "grid_template_columns": null,
            "flex": null,
            "_model_name": "LayoutModel",
            "justify_items": null,
            "grid_row": null,
            "max_height": null,
            "align_content": null,
            "visibility": null,
            "align_self": null,
            "height": null,
            "min_height": null,
            "padding": null,
            "grid_auto_rows": null,
            "grid_gap": null,
            "max_width": null,
            "order": null,
            "_view_module_version": "1.2.0",
            "grid_template_areas": null,
            "object_position": null,
            "object_fit": null,
            "grid_auto_columns": null,
            "margin": null,
            "display": null,
            "left": null
          }
        },
        "7366721a78af442f9eadb41cda768e52": {
          "model_module": "@jupyter-widgets/controls",
          "model_name": "ProgressStyleModel",
          "state": {
            "_view_name": "StyleView",
            "_model_name": "ProgressStyleModel",
            "description_width": "",
            "_view_module": "@jupyter-widgets/base",
            "_model_module_version": "1.5.0",
            "_view_count": null,
            "_view_module_version": "1.2.0",
            "bar_color": null,
            "_model_module": "@jupyter-widgets/controls"
          }
        },
        "bfc2f1f915a047c8a596259e8742f6e6": {
          "model_module": "@jupyter-widgets/base",
          "model_name": "LayoutModel",
          "state": {
            "_view_name": "LayoutView",
            "grid_template_rows": null,
            "right": null,
            "justify_content": null,
            "_view_module": "@jupyter-widgets/base",
            "overflow": null,
            "_model_module_version": "1.2.0",
            "_view_count": null,
            "flex_flow": null,
            "width": null,
            "min_width": null,
            "border": null,
            "align_items": null,
            "bottom": null,
            "_model_module": "@jupyter-widgets/base",
            "top": null,
            "grid_column": null,
            "overflow_y": null,
            "overflow_x": null,
            "grid_auto_flow": null,
            "grid_area": null,
            "grid_template_columns": null,
            "flex": null,
            "_model_name": "LayoutModel",
            "justify_items": null,
            "grid_row": null,
            "max_height": null,
            "align_content": null,
            "visibility": null,
            "align_self": null,
            "height": null,
            "min_height": null,
            "padding": null,
            "grid_auto_rows": null,
            "grid_gap": null,
            "max_width": null,
            "order": null,
            "_view_module_version": "1.2.0",
            "grid_template_areas": null,
            "object_position": null,
            "object_fit": null,
            "grid_auto_columns": null,
            "margin": null,
            "display": null,
            "left": null
          }
        },
        "729e304ba5844f5db46cc6437cb4fac6": {
          "model_module": "@jupyter-widgets/controls",
          "model_name": "VBoxModel",
          "state": {
            "_view_name": "VBoxView",
            "_dom_classes": [],
            "_model_name": "VBoxModel",
            "_view_module": "@jupyter-widgets/controls",
            "_model_module_version": "1.5.0",
            "_view_count": null,
            "_view_module_version": "1.5.0",
            "box_style": "",
            "layout": "IPY_MODEL_6dd40066e0114aee83f9ed0e6bcfa9d3",
            "_model_module": "@jupyter-widgets/controls",
            "children": [
              "IPY_MODEL_23caacc6ad334e3ab38898e632703726",
              "IPY_MODEL_a73143b675ef497a97445b396929f18e"
            ]
          }
        },
        "6dd40066e0114aee83f9ed0e6bcfa9d3": {
          "model_module": "@jupyter-widgets/base",
          "model_name": "LayoutModel",
          "state": {
            "_view_name": "LayoutView",
            "grid_template_rows": null,
            "right": null,
            "justify_content": null,
            "_view_module": "@jupyter-widgets/base",
            "overflow": null,
            "_model_module_version": "1.2.0",
            "_view_count": null,
            "flex_flow": null,
            "width": null,
            "min_width": null,
            "border": null,
            "align_items": null,
            "bottom": null,
            "_model_module": "@jupyter-widgets/base",
            "top": null,
            "grid_column": null,
            "overflow_y": null,
            "overflow_x": null,
            "grid_auto_flow": null,
            "grid_area": null,
            "grid_template_columns": null,
            "flex": null,
            "_model_name": "LayoutModel",
            "justify_items": null,
            "grid_row": null,
            "max_height": null,
            "align_content": null,
            "visibility": null,
            "align_self": null,
            "height": null,
            "min_height": null,
            "padding": null,
            "grid_auto_rows": null,
            "grid_gap": null,
            "max_width": null,
            "order": null,
            "_view_module_version": "1.2.0",
            "grid_template_areas": null,
            "object_position": null,
            "object_fit": null,
            "grid_auto_columns": null,
            "margin": null,
            "display": null,
            "left": null
          }
        },
        "23caacc6ad334e3ab38898e632703726": {
          "model_module": "@jupyter-widgets/controls",
          "model_name": "LabelModel",
          "state": {
            "_view_name": "LabelView",
            "style": "IPY_MODEL_fb9bfe4f04f346aaa2b89be5c21ef3c9",
            "_dom_classes": [],
            "description": "",
            "_model_name": "LabelModel",
            "placeholder": "​",
            "_view_module": "@jupyter-widgets/controls",
            "_model_module_version": "1.5.0",
            "value": " 0.01MB of 0.01MB uploaded (0.00MB deduped)\r",
            "_view_count": null,
            "_view_module_version": "1.5.0",
            "description_tooltip": null,
            "_model_module": "@jupyter-widgets/controls",
            "layout": "IPY_MODEL_f5242ac9e955464bb961087f937d4868"
          }
        },
        "a73143b675ef497a97445b396929f18e": {
          "model_module": "@jupyter-widgets/controls",
          "model_name": "FloatProgressModel",
          "state": {
            "_view_name": "ProgressView",
            "style": "IPY_MODEL_32e05effa27d4e309ffa50966e658cdc",
            "_dom_classes": [],
            "description": "",
            "_model_name": "FloatProgressModel",
            "bar_style": "",
            "max": 1,
            "_view_module": "@jupyter-widgets/controls",
            "_model_module_version": "1.5.0",
            "value": 1,
            "_view_count": null,
            "_view_module_version": "1.5.0",
            "orientation": "horizontal",
            "min": 0,
            "description_tooltip": null,
            "_model_module": "@jupyter-widgets/controls",
            "layout": "IPY_MODEL_01f8be59516346f9aaa0ce8221f7bd1d"
          }
        },
        "fb9bfe4f04f346aaa2b89be5c21ef3c9": {
          "model_module": "@jupyter-widgets/controls",
          "model_name": "DescriptionStyleModel",
          "state": {
            "_view_name": "StyleView",
            "_model_name": "DescriptionStyleModel",
            "description_width": "",
            "_view_module": "@jupyter-widgets/base",
            "_model_module_version": "1.5.0",
            "_view_count": null,
            "_view_module_version": "1.2.0",
            "_model_module": "@jupyter-widgets/controls"
          }
        },
        "f5242ac9e955464bb961087f937d4868": {
          "model_module": "@jupyter-widgets/base",
          "model_name": "LayoutModel",
          "state": {
            "_view_name": "LayoutView",
            "grid_template_rows": null,
            "right": null,
            "justify_content": null,
            "_view_module": "@jupyter-widgets/base",
            "overflow": null,
            "_model_module_version": "1.2.0",
            "_view_count": null,
            "flex_flow": null,
            "width": null,
            "min_width": null,
            "border": null,
            "align_items": null,
            "bottom": null,
            "_model_module": "@jupyter-widgets/base",
            "top": null,
            "grid_column": null,
            "overflow_y": null,
            "overflow_x": null,
            "grid_auto_flow": null,
            "grid_area": null,
            "grid_template_columns": null,
            "flex": null,
            "_model_name": "LayoutModel",
            "justify_items": null,
            "grid_row": null,
            "max_height": null,
            "align_content": null,
            "visibility": null,
            "align_self": null,
            "height": null,
            "min_height": null,
            "padding": null,
            "grid_auto_rows": null,
            "grid_gap": null,
            "max_width": null,
            "order": null,
            "_view_module_version": "1.2.0",
            "grid_template_areas": null,
            "object_position": null,
            "object_fit": null,
            "grid_auto_columns": null,
            "margin": null,
            "display": null,
            "left": null
          }
        },
        "32e05effa27d4e309ffa50966e658cdc": {
          "model_module": "@jupyter-widgets/controls",
          "model_name": "ProgressStyleModel",
          "state": {
            "_view_name": "StyleView",
            "_model_name": "ProgressStyleModel",
            "description_width": "",
            "_view_module": "@jupyter-widgets/base",
            "_model_module_version": "1.5.0",
            "_view_count": null,
            "_view_module_version": "1.2.0",
            "bar_color": null,
            "_model_module": "@jupyter-widgets/controls"
          }
        },
        "01f8be59516346f9aaa0ce8221f7bd1d": {
          "model_module": "@jupyter-widgets/base",
          "model_name": "LayoutModel",
          "state": {
            "_view_name": "LayoutView",
            "grid_template_rows": null,
            "right": null,
            "justify_content": null,
            "_view_module": "@jupyter-widgets/base",
            "overflow": null,
            "_model_module_version": "1.2.0",
            "_view_count": null,
            "flex_flow": null,
            "width": null,
            "min_width": null,
            "border": null,
            "align_items": null,
            "bottom": null,
            "_model_module": "@jupyter-widgets/base",
            "top": null,
            "grid_column": null,
            "overflow_y": null,
            "overflow_x": null,
            "grid_auto_flow": null,
            "grid_area": null,
            "grid_template_columns": null,
            "flex": null,
            "_model_name": "LayoutModel",
            "justify_items": null,
            "grid_row": null,
            "max_height": null,
            "align_content": null,
            "visibility": null,
            "align_self": null,
            "height": null,
            "min_height": null,
            "padding": null,
            "grid_auto_rows": null,
            "grid_gap": null,
            "max_width": null,
            "order": null,
            "_view_module_version": "1.2.0",
            "grid_template_areas": null,
            "object_position": null,
            "object_fit": null,
            "grid_auto_columns": null,
            "margin": null,
            "display": null,
            "left": null
          }
        },
        "c1de6bc64a034dac9d3c938ba19f42ea": {
          "model_module": "@jupyter-widgets/controls",
          "model_name": "VBoxModel",
          "state": {
            "_view_name": "VBoxView",
            "_dom_classes": [],
            "_model_name": "VBoxModel",
            "_view_module": "@jupyter-widgets/controls",
            "_model_module_version": "1.5.0",
            "_view_count": null,
            "_view_module_version": "1.5.0",
            "box_style": "",
            "layout": "IPY_MODEL_31be40a45d3d4ff68b5b01af05078036",
            "_model_module": "@jupyter-widgets/controls",
            "children": [
              "IPY_MODEL_905907745c1a4faca7559cf3df5eca83",
              "IPY_MODEL_3f4e5f0f7cea4f13b22bdb1cc2519ae1"
            ]
          }
        },
        "31be40a45d3d4ff68b5b01af05078036": {
          "model_module": "@jupyter-widgets/base",
          "model_name": "LayoutModel",
          "state": {
            "_view_name": "LayoutView",
            "grid_template_rows": null,
            "right": null,
            "justify_content": null,
            "_view_module": "@jupyter-widgets/base",
            "overflow": null,
            "_model_module_version": "1.2.0",
            "_view_count": null,
            "flex_flow": null,
            "width": null,
            "min_width": null,
            "border": null,
            "align_items": null,
            "bottom": null,
            "_model_module": "@jupyter-widgets/base",
            "top": null,
            "grid_column": null,
            "overflow_y": null,
            "overflow_x": null,
            "grid_auto_flow": null,
            "grid_area": null,
            "grid_template_columns": null,
            "flex": null,
            "_model_name": "LayoutModel",
            "justify_items": null,
            "grid_row": null,
            "max_height": null,
            "align_content": null,
            "visibility": null,
            "align_self": null,
            "height": null,
            "min_height": null,
            "padding": null,
            "grid_auto_rows": null,
            "grid_gap": null,
            "max_width": null,
            "order": null,
            "_view_module_version": "1.2.0",
            "grid_template_areas": null,
            "object_position": null,
            "object_fit": null,
            "grid_auto_columns": null,
            "margin": null,
            "display": null,
            "left": null
          }
        },
        "905907745c1a4faca7559cf3df5eca83": {
          "model_module": "@jupyter-widgets/controls",
          "model_name": "LabelModel",
          "state": {
            "_view_name": "LabelView",
            "style": "IPY_MODEL_59c5e90075d34aa1be4a8a8babdcd66b",
            "_dom_classes": [],
            "description": "",
            "_model_name": "LabelModel",
            "placeholder": "​",
            "_view_module": "@jupyter-widgets/controls",
            "_model_module_version": "1.5.0",
            "value": " 0.01MB of 0.01MB uploaded (0.00MB deduped)\r",
            "_view_count": null,
            "_view_module_version": "1.5.0",
            "description_tooltip": null,
            "_model_module": "@jupyter-widgets/controls",
            "layout": "IPY_MODEL_bd71f23262724d39862c4d57438028fb"
          }
        },
        "3f4e5f0f7cea4f13b22bdb1cc2519ae1": {
          "model_module": "@jupyter-widgets/controls",
          "model_name": "FloatProgressModel",
          "state": {
            "_view_name": "ProgressView",
            "style": "IPY_MODEL_514349e77c964ff4b5030569e05808ee",
            "_dom_classes": [],
            "description": "",
            "_model_name": "FloatProgressModel",
            "bar_style": "",
            "max": 1,
            "_view_module": "@jupyter-widgets/controls",
            "_model_module_version": "1.5.0",
            "value": 1,
            "_view_count": null,
            "_view_module_version": "1.5.0",
            "orientation": "horizontal",
            "min": 0,
            "description_tooltip": null,
            "_model_module": "@jupyter-widgets/controls",
            "layout": "IPY_MODEL_c195682b471f49f3a80fe37221e1d77b"
          }
        },
        "59c5e90075d34aa1be4a8a8babdcd66b": {
          "model_module": "@jupyter-widgets/controls",
          "model_name": "DescriptionStyleModel",
          "state": {
            "_view_name": "StyleView",
            "_model_name": "DescriptionStyleModel",
            "description_width": "",
            "_view_module": "@jupyter-widgets/base",
            "_model_module_version": "1.5.0",
            "_view_count": null,
            "_view_module_version": "1.2.0",
            "_model_module": "@jupyter-widgets/controls"
          }
        },
        "bd71f23262724d39862c4d57438028fb": {
          "model_module": "@jupyter-widgets/base",
          "model_name": "LayoutModel",
          "state": {
            "_view_name": "LayoutView",
            "grid_template_rows": null,
            "right": null,
            "justify_content": null,
            "_view_module": "@jupyter-widgets/base",
            "overflow": null,
            "_model_module_version": "1.2.0",
            "_view_count": null,
            "flex_flow": null,
            "width": null,
            "min_width": null,
            "border": null,
            "align_items": null,
            "bottom": null,
            "_model_module": "@jupyter-widgets/base",
            "top": null,
            "grid_column": null,
            "overflow_y": null,
            "overflow_x": null,
            "grid_auto_flow": null,
            "grid_area": null,
            "grid_template_columns": null,
            "flex": null,
            "_model_name": "LayoutModel",
            "justify_items": null,
            "grid_row": null,
            "max_height": null,
            "align_content": null,
            "visibility": null,
            "align_self": null,
            "height": null,
            "min_height": null,
            "padding": null,
            "grid_auto_rows": null,
            "grid_gap": null,
            "max_width": null,
            "order": null,
            "_view_module_version": "1.2.0",
            "grid_template_areas": null,
            "object_position": null,
            "object_fit": null,
            "grid_auto_columns": null,
            "margin": null,
            "display": null,
            "left": null
          }
        },
        "514349e77c964ff4b5030569e05808ee": {
          "model_module": "@jupyter-widgets/controls",
          "model_name": "ProgressStyleModel",
          "state": {
            "_view_name": "StyleView",
            "_model_name": "ProgressStyleModel",
            "description_width": "",
            "_view_module": "@jupyter-widgets/base",
            "_model_module_version": "1.5.0",
            "_view_count": null,
            "_view_module_version": "1.2.0",
            "bar_color": null,
            "_model_module": "@jupyter-widgets/controls"
          }
        },
        "c195682b471f49f3a80fe37221e1d77b": {
          "model_module": "@jupyter-widgets/base",
          "model_name": "LayoutModel",
          "state": {
            "_view_name": "LayoutView",
            "grid_template_rows": null,
            "right": null,
            "justify_content": null,
            "_view_module": "@jupyter-widgets/base",
            "overflow": null,
            "_model_module_version": "1.2.0",
            "_view_count": null,
            "flex_flow": null,
            "width": null,
            "min_width": null,
            "border": null,
            "align_items": null,
            "bottom": null,
            "_model_module": "@jupyter-widgets/base",
            "top": null,
            "grid_column": null,
            "overflow_y": null,
            "overflow_x": null,
            "grid_auto_flow": null,
            "grid_area": null,
            "grid_template_columns": null,
            "flex": null,
            "_model_name": "LayoutModel",
            "justify_items": null,
            "grid_row": null,
            "max_height": null,
            "align_content": null,
            "visibility": null,
            "align_self": null,
            "height": null,
            "min_height": null,
            "padding": null,
            "grid_auto_rows": null,
            "grid_gap": null,
            "max_width": null,
            "order": null,
            "_view_module_version": "1.2.0",
            "grid_template_areas": null,
            "object_position": null,
            "object_fit": null,
            "grid_auto_columns": null,
            "margin": null,
            "display": null,
            "left": null
          }
        },
        "8961d09ef916420bb77a2a94047d4736": {
          "model_module": "@jupyter-widgets/controls",
          "model_name": "VBoxModel",
          "state": {
            "_view_name": "VBoxView",
            "_dom_classes": [],
            "_model_name": "VBoxModel",
            "_view_module": "@jupyter-widgets/controls",
            "_model_module_version": "1.5.0",
            "_view_count": null,
            "_view_module_version": "1.5.0",
            "box_style": "",
            "layout": "IPY_MODEL_6f4d393faad34faa9f108e7d2983ec38",
            "_model_module": "@jupyter-widgets/controls",
            "children": [
              "IPY_MODEL_5e22513b7680451aa127e7a7adacc51a",
              "IPY_MODEL_1da61f3c74854117819715a2c917b100"
            ]
          }
        },
        "6f4d393faad34faa9f108e7d2983ec38": {
          "model_module": "@jupyter-widgets/base",
          "model_name": "LayoutModel",
          "state": {
            "_view_name": "LayoutView",
            "grid_template_rows": null,
            "right": null,
            "justify_content": null,
            "_view_module": "@jupyter-widgets/base",
            "overflow": null,
            "_model_module_version": "1.2.0",
            "_view_count": null,
            "flex_flow": null,
            "width": null,
            "min_width": null,
            "border": null,
            "align_items": null,
            "bottom": null,
            "_model_module": "@jupyter-widgets/base",
            "top": null,
            "grid_column": null,
            "overflow_y": null,
            "overflow_x": null,
            "grid_auto_flow": null,
            "grid_area": null,
            "grid_template_columns": null,
            "flex": null,
            "_model_name": "LayoutModel",
            "justify_items": null,
            "grid_row": null,
            "max_height": null,
            "align_content": null,
            "visibility": null,
            "align_self": null,
            "height": null,
            "min_height": null,
            "padding": null,
            "grid_auto_rows": null,
            "grid_gap": null,
            "max_width": null,
            "order": null,
            "_view_module_version": "1.2.0",
            "grid_template_areas": null,
            "object_position": null,
            "object_fit": null,
            "grid_auto_columns": null,
            "margin": null,
            "display": null,
            "left": null
          }
        },
        "5e22513b7680451aa127e7a7adacc51a": {
          "model_module": "@jupyter-widgets/controls",
          "model_name": "LabelModel",
          "state": {
            "_view_name": "LabelView",
            "style": "IPY_MODEL_35b56baf085d480d820c904ed901be8a",
            "_dom_classes": [],
            "description": "",
            "_model_name": "LabelModel",
            "placeholder": "​",
            "_view_module": "@jupyter-widgets/controls",
            "_model_module_version": "1.5.0",
            "value": " 0.01MB of 0.01MB uploaded (0.00MB deduped)\r",
            "_view_count": null,
            "_view_module_version": "1.5.0",
            "description_tooltip": null,
            "_model_module": "@jupyter-widgets/controls",
            "layout": "IPY_MODEL_78dc6bed38914596a984c0690851f6ed"
          }
        },
        "1da61f3c74854117819715a2c917b100": {
          "model_module": "@jupyter-widgets/controls",
          "model_name": "FloatProgressModel",
          "state": {
            "_view_name": "ProgressView",
            "style": "IPY_MODEL_9c9d3f32eb224dab8975bbba734fd560",
            "_dom_classes": [],
            "description": "",
            "_model_name": "FloatProgressModel",
            "bar_style": "",
            "max": 1,
            "_view_module": "@jupyter-widgets/controls",
            "_model_module_version": "1.5.0",
            "value": 1,
            "_view_count": null,
            "_view_module_version": "1.5.0",
            "orientation": "horizontal",
            "min": 0,
            "description_tooltip": null,
            "_model_module": "@jupyter-widgets/controls",
            "layout": "IPY_MODEL_10dc44c3f2f6422e9e0468751472b48e"
          }
        },
        "35b56baf085d480d820c904ed901be8a": {
          "model_module": "@jupyter-widgets/controls",
          "model_name": "DescriptionStyleModel",
          "state": {
            "_view_name": "StyleView",
            "_model_name": "DescriptionStyleModel",
            "description_width": "",
            "_view_module": "@jupyter-widgets/base",
            "_model_module_version": "1.5.0",
            "_view_count": null,
            "_view_module_version": "1.2.0",
            "_model_module": "@jupyter-widgets/controls"
          }
        },
        "78dc6bed38914596a984c0690851f6ed": {
          "model_module": "@jupyter-widgets/base",
          "model_name": "LayoutModel",
          "state": {
            "_view_name": "LayoutView",
            "grid_template_rows": null,
            "right": null,
            "justify_content": null,
            "_view_module": "@jupyter-widgets/base",
            "overflow": null,
            "_model_module_version": "1.2.0",
            "_view_count": null,
            "flex_flow": null,
            "width": null,
            "min_width": null,
            "border": null,
            "align_items": null,
            "bottom": null,
            "_model_module": "@jupyter-widgets/base",
            "top": null,
            "grid_column": null,
            "overflow_y": null,
            "overflow_x": null,
            "grid_auto_flow": null,
            "grid_area": null,
            "grid_template_columns": null,
            "flex": null,
            "_model_name": "LayoutModel",
            "justify_items": null,
            "grid_row": null,
            "max_height": null,
            "align_content": null,
            "visibility": null,
            "align_self": null,
            "height": null,
            "min_height": null,
            "padding": null,
            "grid_auto_rows": null,
            "grid_gap": null,
            "max_width": null,
            "order": null,
            "_view_module_version": "1.2.0",
            "grid_template_areas": null,
            "object_position": null,
            "object_fit": null,
            "grid_auto_columns": null,
            "margin": null,
            "display": null,
            "left": null
          }
        },
        "9c9d3f32eb224dab8975bbba734fd560": {
          "model_module": "@jupyter-widgets/controls",
          "model_name": "ProgressStyleModel",
          "state": {
            "_view_name": "StyleView",
            "_model_name": "ProgressStyleModel",
            "description_width": "",
            "_view_module": "@jupyter-widgets/base",
            "_model_module_version": "1.5.0",
            "_view_count": null,
            "_view_module_version": "1.2.0",
            "bar_color": null,
            "_model_module": "@jupyter-widgets/controls"
          }
        },
        "10dc44c3f2f6422e9e0468751472b48e": {
          "model_module": "@jupyter-widgets/base",
          "model_name": "LayoutModel",
          "state": {
            "_view_name": "LayoutView",
            "grid_template_rows": null,
            "right": null,
            "justify_content": null,
            "_view_module": "@jupyter-widgets/base",
            "overflow": null,
            "_model_module_version": "1.2.0",
            "_view_count": null,
            "flex_flow": null,
            "width": null,
            "min_width": null,
            "border": null,
            "align_items": null,
            "bottom": null,
            "_model_module": "@jupyter-widgets/base",
            "top": null,
            "grid_column": null,
            "overflow_y": null,
            "overflow_x": null,
            "grid_auto_flow": null,
            "grid_area": null,
            "grid_template_columns": null,
            "flex": null,
            "_model_name": "LayoutModel",
            "justify_items": null,
            "grid_row": null,
            "max_height": null,
            "align_content": null,
            "visibility": null,
            "align_self": null,
            "height": null,
            "min_height": null,
            "padding": null,
            "grid_auto_rows": null,
            "grid_gap": null,
            "max_width": null,
            "order": null,
            "_view_module_version": "1.2.0",
            "grid_template_areas": null,
            "object_position": null,
            "object_fit": null,
            "grid_auto_columns": null,
            "margin": null,
            "display": null,
            "left": null
          }
        },
        "08afdef13697402aaf33991d69977c28": {
          "model_module": "@jupyter-widgets/controls",
          "model_name": "VBoxModel",
          "state": {
            "_view_name": "VBoxView",
            "_dom_classes": [],
            "_model_name": "VBoxModel",
            "_view_module": "@jupyter-widgets/controls",
            "_model_module_version": "1.5.0",
            "_view_count": null,
            "_view_module_version": "1.5.0",
            "box_style": "",
            "layout": "IPY_MODEL_ea9ae636e1014fad95ad08e2ff648f06",
            "_model_module": "@jupyter-widgets/controls",
            "children": [
              "IPY_MODEL_0966898075b44475bc3fb09809910b8c",
              "IPY_MODEL_3eeef3e964bc476e8a58ce3858a5b13d"
            ]
          }
        },
        "ea9ae636e1014fad95ad08e2ff648f06": {
          "model_module": "@jupyter-widgets/base",
          "model_name": "LayoutModel",
          "state": {
            "_view_name": "LayoutView",
            "grid_template_rows": null,
            "right": null,
            "justify_content": null,
            "_view_module": "@jupyter-widgets/base",
            "overflow": null,
            "_model_module_version": "1.2.0",
            "_view_count": null,
            "flex_flow": null,
            "width": null,
            "min_width": null,
            "border": null,
            "align_items": null,
            "bottom": null,
            "_model_module": "@jupyter-widgets/base",
            "top": null,
            "grid_column": null,
            "overflow_y": null,
            "overflow_x": null,
            "grid_auto_flow": null,
            "grid_area": null,
            "grid_template_columns": null,
            "flex": null,
            "_model_name": "LayoutModel",
            "justify_items": null,
            "grid_row": null,
            "max_height": null,
            "align_content": null,
            "visibility": null,
            "align_self": null,
            "height": null,
            "min_height": null,
            "padding": null,
            "grid_auto_rows": null,
            "grid_gap": null,
            "max_width": null,
            "order": null,
            "_view_module_version": "1.2.0",
            "grid_template_areas": null,
            "object_position": null,
            "object_fit": null,
            "grid_auto_columns": null,
            "margin": null,
            "display": null,
            "left": null
          }
        },
        "0966898075b44475bc3fb09809910b8c": {
          "model_module": "@jupyter-widgets/controls",
          "model_name": "LabelModel",
          "state": {
            "_view_name": "LabelView",
            "style": "IPY_MODEL_c6d85ebeaa8e4d0fbe9ad922c4a2cf6c",
            "_dom_classes": [],
            "description": "",
            "_model_name": "LabelModel",
            "placeholder": "​",
            "_view_module": "@jupyter-widgets/controls",
            "_model_module_version": "1.5.0",
            "value": " 0.01MB of 0.01MB uploaded (0.00MB deduped)\r",
            "_view_count": null,
            "_view_module_version": "1.5.0",
            "description_tooltip": null,
            "_model_module": "@jupyter-widgets/controls",
            "layout": "IPY_MODEL_17ad08a8a3f64e80b08af985cde0ade3"
          }
        },
        "3eeef3e964bc476e8a58ce3858a5b13d": {
          "model_module": "@jupyter-widgets/controls",
          "model_name": "FloatProgressModel",
          "state": {
            "_view_name": "ProgressView",
            "style": "IPY_MODEL_48f58f98e5a04eb583799732a639798b",
            "_dom_classes": [],
            "description": "",
            "_model_name": "FloatProgressModel",
            "bar_style": "",
            "max": 1,
            "_view_module": "@jupyter-widgets/controls",
            "_model_module_version": "1.5.0",
            "value": 1,
            "_view_count": null,
            "_view_module_version": "1.5.0",
            "orientation": "horizontal",
            "min": 0,
            "description_tooltip": null,
            "_model_module": "@jupyter-widgets/controls",
            "layout": "IPY_MODEL_bb6bbdcdb01e46bd9739496da64e3c0c"
          }
        },
        "c6d85ebeaa8e4d0fbe9ad922c4a2cf6c": {
          "model_module": "@jupyter-widgets/controls",
          "model_name": "DescriptionStyleModel",
          "state": {
            "_view_name": "StyleView",
            "_model_name": "DescriptionStyleModel",
            "description_width": "",
            "_view_module": "@jupyter-widgets/base",
            "_model_module_version": "1.5.0",
            "_view_count": null,
            "_view_module_version": "1.2.0",
            "_model_module": "@jupyter-widgets/controls"
          }
        },
        "17ad08a8a3f64e80b08af985cde0ade3": {
          "model_module": "@jupyter-widgets/base",
          "model_name": "LayoutModel",
          "state": {
            "_view_name": "LayoutView",
            "grid_template_rows": null,
            "right": null,
            "justify_content": null,
            "_view_module": "@jupyter-widgets/base",
            "overflow": null,
            "_model_module_version": "1.2.0",
            "_view_count": null,
            "flex_flow": null,
            "width": null,
            "min_width": null,
            "border": null,
            "align_items": null,
            "bottom": null,
            "_model_module": "@jupyter-widgets/base",
            "top": null,
            "grid_column": null,
            "overflow_y": null,
            "overflow_x": null,
            "grid_auto_flow": null,
            "grid_area": null,
            "grid_template_columns": null,
            "flex": null,
            "_model_name": "LayoutModel",
            "justify_items": null,
            "grid_row": null,
            "max_height": null,
            "align_content": null,
            "visibility": null,
            "align_self": null,
            "height": null,
            "min_height": null,
            "padding": null,
            "grid_auto_rows": null,
            "grid_gap": null,
            "max_width": null,
            "order": null,
            "_view_module_version": "1.2.0",
            "grid_template_areas": null,
            "object_position": null,
            "object_fit": null,
            "grid_auto_columns": null,
            "margin": null,
            "display": null,
            "left": null
          }
        },
        "48f58f98e5a04eb583799732a639798b": {
          "model_module": "@jupyter-widgets/controls",
          "model_name": "ProgressStyleModel",
          "state": {
            "_view_name": "StyleView",
            "_model_name": "ProgressStyleModel",
            "description_width": "",
            "_view_module": "@jupyter-widgets/base",
            "_model_module_version": "1.5.0",
            "_view_count": null,
            "_view_module_version": "1.2.0",
            "bar_color": null,
            "_model_module": "@jupyter-widgets/controls"
          }
        },
        "bb6bbdcdb01e46bd9739496da64e3c0c": {
          "model_module": "@jupyter-widgets/base",
          "model_name": "LayoutModel",
          "state": {
            "_view_name": "LayoutView",
            "grid_template_rows": null,
            "right": null,
            "justify_content": null,
            "_view_module": "@jupyter-widgets/base",
            "overflow": null,
            "_model_module_version": "1.2.0",
            "_view_count": null,
            "flex_flow": null,
            "width": null,
            "min_width": null,
            "border": null,
            "align_items": null,
            "bottom": null,
            "_model_module": "@jupyter-widgets/base",
            "top": null,
            "grid_column": null,
            "overflow_y": null,
            "overflow_x": null,
            "grid_auto_flow": null,
            "grid_area": null,
            "grid_template_columns": null,
            "flex": null,
            "_model_name": "LayoutModel",
            "justify_items": null,
            "grid_row": null,
            "max_height": null,
            "align_content": null,
            "visibility": null,
            "align_self": null,
            "height": null,
            "min_height": null,
            "padding": null,
            "grid_auto_rows": null,
            "grid_gap": null,
            "max_width": null,
            "order": null,
            "_view_module_version": "1.2.0",
            "grid_template_areas": null,
            "object_position": null,
            "object_fit": null,
            "grid_auto_columns": null,
            "margin": null,
            "display": null,
            "left": null
          }
        },
        "07cbe7a507074f49a24109f802122c35": {
          "model_module": "@jupyter-widgets/controls",
          "model_name": "VBoxModel",
          "state": {
            "_view_name": "VBoxView",
            "_dom_classes": [],
            "_model_name": "VBoxModel",
            "_view_module": "@jupyter-widgets/controls",
            "_model_module_version": "1.5.0",
            "_view_count": null,
            "_view_module_version": "1.5.0",
            "box_style": "",
            "layout": "IPY_MODEL_c331ddcc418846a3bf8ff8367096618a",
            "_model_module": "@jupyter-widgets/controls",
            "children": [
              "IPY_MODEL_88d1801e3e624acf8b7a4cbfba5debf9",
              "IPY_MODEL_f0749d071c124c6495668acb5c10b287"
            ]
          }
        },
        "c331ddcc418846a3bf8ff8367096618a": {
          "model_module": "@jupyter-widgets/base",
          "model_name": "LayoutModel",
          "state": {
            "_view_name": "LayoutView",
            "grid_template_rows": null,
            "right": null,
            "justify_content": null,
            "_view_module": "@jupyter-widgets/base",
            "overflow": null,
            "_model_module_version": "1.2.0",
            "_view_count": null,
            "flex_flow": null,
            "width": null,
            "min_width": null,
            "border": null,
            "align_items": null,
            "bottom": null,
            "_model_module": "@jupyter-widgets/base",
            "top": null,
            "grid_column": null,
            "overflow_y": null,
            "overflow_x": null,
            "grid_auto_flow": null,
            "grid_area": null,
            "grid_template_columns": null,
            "flex": null,
            "_model_name": "LayoutModel",
            "justify_items": null,
            "grid_row": null,
            "max_height": null,
            "align_content": null,
            "visibility": null,
            "align_self": null,
            "height": null,
            "min_height": null,
            "padding": null,
            "grid_auto_rows": null,
            "grid_gap": null,
            "max_width": null,
            "order": null,
            "_view_module_version": "1.2.0",
            "grid_template_areas": null,
            "object_position": null,
            "object_fit": null,
            "grid_auto_columns": null,
            "margin": null,
            "display": null,
            "left": null
          }
        },
        "88d1801e3e624acf8b7a4cbfba5debf9": {
          "model_module": "@jupyter-widgets/controls",
          "model_name": "LabelModel",
          "state": {
            "_view_name": "LabelView",
            "style": "IPY_MODEL_7d53dd50f7314494b64d3b55aba371f6",
            "_dom_classes": [],
            "description": "",
            "_model_name": "LabelModel",
            "placeholder": "​",
            "_view_module": "@jupyter-widgets/controls",
            "_model_module_version": "1.5.0",
            "value": " 0.01MB of 0.01MB uploaded (0.00MB deduped)\r",
            "_view_count": null,
            "_view_module_version": "1.5.0",
            "description_tooltip": null,
            "_model_module": "@jupyter-widgets/controls",
            "layout": "IPY_MODEL_2b53e19421cb45d5bde25f9a685df5f4"
          }
        },
        "f0749d071c124c6495668acb5c10b287": {
          "model_module": "@jupyter-widgets/controls",
          "model_name": "FloatProgressModel",
          "state": {
            "_view_name": "ProgressView",
            "style": "IPY_MODEL_b41e80cd0f0a4cf78bea7601eb815689",
            "_dom_classes": [],
            "description": "",
            "_model_name": "FloatProgressModel",
            "bar_style": "",
            "max": 1,
            "_view_module": "@jupyter-widgets/controls",
            "_model_module_version": "1.5.0",
            "value": 1,
            "_view_count": null,
            "_view_module_version": "1.5.0",
            "orientation": "horizontal",
            "min": 0,
            "description_tooltip": null,
            "_model_module": "@jupyter-widgets/controls",
            "layout": "IPY_MODEL_e6d5b2c0251440b78c1853f9e743ebb4"
          }
        },
        "7d53dd50f7314494b64d3b55aba371f6": {
          "model_module": "@jupyter-widgets/controls",
          "model_name": "DescriptionStyleModel",
          "state": {
            "_view_name": "StyleView",
            "_model_name": "DescriptionStyleModel",
            "description_width": "",
            "_view_module": "@jupyter-widgets/base",
            "_model_module_version": "1.5.0",
            "_view_count": null,
            "_view_module_version": "1.2.0",
            "_model_module": "@jupyter-widgets/controls"
          }
        },
        "2b53e19421cb45d5bde25f9a685df5f4": {
          "model_module": "@jupyter-widgets/base",
          "model_name": "LayoutModel",
          "state": {
            "_view_name": "LayoutView",
            "grid_template_rows": null,
            "right": null,
            "justify_content": null,
            "_view_module": "@jupyter-widgets/base",
            "overflow": null,
            "_model_module_version": "1.2.0",
            "_view_count": null,
            "flex_flow": null,
            "width": null,
            "min_width": null,
            "border": null,
            "align_items": null,
            "bottom": null,
            "_model_module": "@jupyter-widgets/base",
            "top": null,
            "grid_column": null,
            "overflow_y": null,
            "overflow_x": null,
            "grid_auto_flow": null,
            "grid_area": null,
            "grid_template_columns": null,
            "flex": null,
            "_model_name": "LayoutModel",
            "justify_items": null,
            "grid_row": null,
            "max_height": null,
            "align_content": null,
            "visibility": null,
            "align_self": null,
            "height": null,
            "min_height": null,
            "padding": null,
            "grid_auto_rows": null,
            "grid_gap": null,
            "max_width": null,
            "order": null,
            "_view_module_version": "1.2.0",
            "grid_template_areas": null,
            "object_position": null,
            "object_fit": null,
            "grid_auto_columns": null,
            "margin": null,
            "display": null,
            "left": null
          }
        },
        "b41e80cd0f0a4cf78bea7601eb815689": {
          "model_module": "@jupyter-widgets/controls",
          "model_name": "ProgressStyleModel",
          "state": {
            "_view_name": "StyleView",
            "_model_name": "ProgressStyleModel",
            "description_width": "",
            "_view_module": "@jupyter-widgets/base",
            "_model_module_version": "1.5.0",
            "_view_count": null,
            "_view_module_version": "1.2.0",
            "bar_color": null,
            "_model_module": "@jupyter-widgets/controls"
          }
        },
        "e6d5b2c0251440b78c1853f9e743ebb4": {
          "model_module": "@jupyter-widgets/base",
          "model_name": "LayoutModel",
          "state": {
            "_view_name": "LayoutView",
            "grid_template_rows": null,
            "right": null,
            "justify_content": null,
            "_view_module": "@jupyter-widgets/base",
            "overflow": null,
            "_model_module_version": "1.2.0",
            "_view_count": null,
            "flex_flow": null,
            "width": null,
            "min_width": null,
            "border": null,
            "align_items": null,
            "bottom": null,
            "_model_module": "@jupyter-widgets/base",
            "top": null,
            "grid_column": null,
            "overflow_y": null,
            "overflow_x": null,
            "grid_auto_flow": null,
            "grid_area": null,
            "grid_template_columns": null,
            "flex": null,
            "_model_name": "LayoutModel",
            "justify_items": null,
            "grid_row": null,
            "max_height": null,
            "align_content": null,
            "visibility": null,
            "align_self": null,
            "height": null,
            "min_height": null,
            "padding": null,
            "grid_auto_rows": null,
            "grid_gap": null,
            "max_width": null,
            "order": null,
            "_view_module_version": "1.2.0",
            "grid_template_areas": null,
            "object_position": null,
            "object_fit": null,
            "grid_auto_columns": null,
            "margin": null,
            "display": null,
            "left": null
          }
        },
        "4bb4e0dc193344e1aaea8f12d2f67985": {
          "model_module": "@jupyter-widgets/controls",
          "model_name": "VBoxModel",
          "state": {
            "_view_name": "VBoxView",
            "_dom_classes": [],
            "_model_name": "VBoxModel",
            "_view_module": "@jupyter-widgets/controls",
            "_model_module_version": "1.5.0",
            "_view_count": null,
            "_view_module_version": "1.5.0",
            "box_style": "",
            "layout": "IPY_MODEL_514a7042c1b048558d64d0c742d8083c",
            "_model_module": "@jupyter-widgets/controls",
            "children": [
              "IPY_MODEL_3e0983b845e445bbb4bd6e2a1eafcaa9",
              "IPY_MODEL_5ec7c1e3f88149229f9a2bc7879e8e5e"
            ]
          }
        },
        "514a7042c1b048558d64d0c742d8083c": {
          "model_module": "@jupyter-widgets/base",
          "model_name": "LayoutModel",
          "state": {
            "_view_name": "LayoutView",
            "grid_template_rows": null,
            "right": null,
            "justify_content": null,
            "_view_module": "@jupyter-widgets/base",
            "overflow": null,
            "_model_module_version": "1.2.0",
            "_view_count": null,
            "flex_flow": null,
            "width": null,
            "min_width": null,
            "border": null,
            "align_items": null,
            "bottom": null,
            "_model_module": "@jupyter-widgets/base",
            "top": null,
            "grid_column": null,
            "overflow_y": null,
            "overflow_x": null,
            "grid_auto_flow": null,
            "grid_area": null,
            "grid_template_columns": null,
            "flex": null,
            "_model_name": "LayoutModel",
            "justify_items": null,
            "grid_row": null,
            "max_height": null,
            "align_content": null,
            "visibility": null,
            "align_self": null,
            "height": null,
            "min_height": null,
            "padding": null,
            "grid_auto_rows": null,
            "grid_gap": null,
            "max_width": null,
            "order": null,
            "_view_module_version": "1.2.0",
            "grid_template_areas": null,
            "object_position": null,
            "object_fit": null,
            "grid_auto_columns": null,
            "margin": null,
            "display": null,
            "left": null
          }
        },
        "3e0983b845e445bbb4bd6e2a1eafcaa9": {
          "model_module": "@jupyter-widgets/controls",
          "model_name": "LabelModel",
          "state": {
            "_view_name": "LabelView",
            "style": "IPY_MODEL_b77fbed76bfc41dd9f0b8a30faa123de",
            "_dom_classes": [],
            "description": "",
            "_model_name": "LabelModel",
            "placeholder": "​",
            "_view_module": "@jupyter-widgets/controls",
            "_model_module_version": "1.5.0",
            "value": " 0.01MB of 0.01MB uploaded (0.00MB deduped)\r",
            "_view_count": null,
            "_view_module_version": "1.5.0",
            "description_tooltip": null,
            "_model_module": "@jupyter-widgets/controls",
            "layout": "IPY_MODEL_92d399c4cfb44e638f6f32a664830957"
          }
        },
        "5ec7c1e3f88149229f9a2bc7879e8e5e": {
          "model_module": "@jupyter-widgets/controls",
          "model_name": "FloatProgressModel",
          "state": {
            "_view_name": "ProgressView",
            "style": "IPY_MODEL_a0d17dfbc5594918a683ee3d0ac9ecf5",
            "_dom_classes": [],
            "description": "",
            "_model_name": "FloatProgressModel",
            "bar_style": "",
            "max": 1,
            "_view_module": "@jupyter-widgets/controls",
            "_model_module_version": "1.5.0",
            "value": 1,
            "_view_count": null,
            "_view_module_version": "1.5.0",
            "orientation": "horizontal",
            "min": 0,
            "description_tooltip": null,
            "_model_module": "@jupyter-widgets/controls",
            "layout": "IPY_MODEL_eb73dc9b45484475bcaea4e72c0aa160"
          }
        },
        "b77fbed76bfc41dd9f0b8a30faa123de": {
          "model_module": "@jupyter-widgets/controls",
          "model_name": "DescriptionStyleModel",
          "state": {
            "_view_name": "StyleView",
            "_model_name": "DescriptionStyleModel",
            "description_width": "",
            "_view_module": "@jupyter-widgets/base",
            "_model_module_version": "1.5.0",
            "_view_count": null,
            "_view_module_version": "1.2.0",
            "_model_module": "@jupyter-widgets/controls"
          }
        },
        "92d399c4cfb44e638f6f32a664830957": {
          "model_module": "@jupyter-widgets/base",
          "model_name": "LayoutModel",
          "state": {
            "_view_name": "LayoutView",
            "grid_template_rows": null,
            "right": null,
            "justify_content": null,
            "_view_module": "@jupyter-widgets/base",
            "overflow": null,
            "_model_module_version": "1.2.0",
            "_view_count": null,
            "flex_flow": null,
            "width": null,
            "min_width": null,
            "border": null,
            "align_items": null,
            "bottom": null,
            "_model_module": "@jupyter-widgets/base",
            "top": null,
            "grid_column": null,
            "overflow_y": null,
            "overflow_x": null,
            "grid_auto_flow": null,
            "grid_area": null,
            "grid_template_columns": null,
            "flex": null,
            "_model_name": "LayoutModel",
            "justify_items": null,
            "grid_row": null,
            "max_height": null,
            "align_content": null,
            "visibility": null,
            "align_self": null,
            "height": null,
            "min_height": null,
            "padding": null,
            "grid_auto_rows": null,
            "grid_gap": null,
            "max_width": null,
            "order": null,
            "_view_module_version": "1.2.0",
            "grid_template_areas": null,
            "object_position": null,
            "object_fit": null,
            "grid_auto_columns": null,
            "margin": null,
            "display": null,
            "left": null
          }
        },
        "a0d17dfbc5594918a683ee3d0ac9ecf5": {
          "model_module": "@jupyter-widgets/controls",
          "model_name": "ProgressStyleModel",
          "state": {
            "_view_name": "StyleView",
            "_model_name": "ProgressStyleModel",
            "description_width": "",
            "_view_module": "@jupyter-widgets/base",
            "_model_module_version": "1.5.0",
            "_view_count": null,
            "_view_module_version": "1.2.0",
            "bar_color": null,
            "_model_module": "@jupyter-widgets/controls"
          }
        },
        "eb73dc9b45484475bcaea4e72c0aa160": {
          "model_module": "@jupyter-widgets/base",
          "model_name": "LayoutModel",
          "state": {
            "_view_name": "LayoutView",
            "grid_template_rows": null,
            "right": null,
            "justify_content": null,
            "_view_module": "@jupyter-widgets/base",
            "overflow": null,
            "_model_module_version": "1.2.0",
            "_view_count": null,
            "flex_flow": null,
            "width": null,
            "min_width": null,
            "border": null,
            "align_items": null,
            "bottom": null,
            "_model_module": "@jupyter-widgets/base",
            "top": null,
            "grid_column": null,
            "overflow_y": null,
            "overflow_x": null,
            "grid_auto_flow": null,
            "grid_area": null,
            "grid_template_columns": null,
            "flex": null,
            "_model_name": "LayoutModel",
            "justify_items": null,
            "grid_row": null,
            "max_height": null,
            "align_content": null,
            "visibility": null,
            "align_self": null,
            "height": null,
            "min_height": null,
            "padding": null,
            "grid_auto_rows": null,
            "grid_gap": null,
            "max_width": null,
            "order": null,
            "_view_module_version": "1.2.0",
            "grid_template_areas": null,
            "object_position": null,
            "object_fit": null,
            "grid_auto_columns": null,
            "margin": null,
            "display": null,
            "left": null
          }
        },
        "18518f62cca642dc9907c3e708fe3505": {
          "model_module": "@jupyter-widgets/controls",
          "model_name": "VBoxModel",
          "state": {
            "_view_name": "VBoxView",
            "_dom_classes": [],
            "_model_name": "VBoxModel",
            "_view_module": "@jupyter-widgets/controls",
            "_model_module_version": "1.5.0",
            "_view_count": null,
            "_view_module_version": "1.5.0",
            "box_style": "",
            "layout": "IPY_MODEL_55a0f4b6b33844c2962917d3f958e316",
            "_model_module": "@jupyter-widgets/controls",
            "children": [
              "IPY_MODEL_de2724db4b1f4b6286f6d1e76eb08fb0",
              "IPY_MODEL_f2fdf0cdd0a045029a63aaf2efb15d1d"
            ]
          }
        },
        "55a0f4b6b33844c2962917d3f958e316": {
          "model_module": "@jupyter-widgets/base",
          "model_name": "LayoutModel",
          "state": {
            "_view_name": "LayoutView",
            "grid_template_rows": null,
            "right": null,
            "justify_content": null,
            "_view_module": "@jupyter-widgets/base",
            "overflow": null,
            "_model_module_version": "1.2.0",
            "_view_count": null,
            "flex_flow": null,
            "width": null,
            "min_width": null,
            "border": null,
            "align_items": null,
            "bottom": null,
            "_model_module": "@jupyter-widgets/base",
            "top": null,
            "grid_column": null,
            "overflow_y": null,
            "overflow_x": null,
            "grid_auto_flow": null,
            "grid_area": null,
            "grid_template_columns": null,
            "flex": null,
            "_model_name": "LayoutModel",
            "justify_items": null,
            "grid_row": null,
            "max_height": null,
            "align_content": null,
            "visibility": null,
            "align_self": null,
            "height": null,
            "min_height": null,
            "padding": null,
            "grid_auto_rows": null,
            "grid_gap": null,
            "max_width": null,
            "order": null,
            "_view_module_version": "1.2.0",
            "grid_template_areas": null,
            "object_position": null,
            "object_fit": null,
            "grid_auto_columns": null,
            "margin": null,
            "display": null,
            "left": null
          }
        },
        "de2724db4b1f4b6286f6d1e76eb08fb0": {
          "model_module": "@jupyter-widgets/controls",
          "model_name": "LabelModel",
          "state": {
            "_view_name": "LabelView",
            "style": "IPY_MODEL_e72d03ad996845e7a09496de3564f4fb",
            "_dom_classes": [],
            "description": "",
            "_model_name": "LabelModel",
            "placeholder": "​",
            "_view_module": "@jupyter-widgets/controls",
            "_model_module_version": "1.5.0",
            "value": " 0.01MB of 0.01MB uploaded (0.00MB deduped)\r",
            "_view_count": null,
            "_view_module_version": "1.5.0",
            "description_tooltip": null,
            "_model_module": "@jupyter-widgets/controls",
            "layout": "IPY_MODEL_39ded522c8374f878fc23154b1c00888"
          }
        },
        "f2fdf0cdd0a045029a63aaf2efb15d1d": {
          "model_module": "@jupyter-widgets/controls",
          "model_name": "FloatProgressModel",
          "state": {
            "_view_name": "ProgressView",
            "style": "IPY_MODEL_88edb58afd71410d9841b30caf76b07b",
            "_dom_classes": [],
            "description": "",
            "_model_name": "FloatProgressModel",
            "bar_style": "",
            "max": 1,
            "_view_module": "@jupyter-widgets/controls",
            "_model_module_version": "1.5.0",
            "value": 1,
            "_view_count": null,
            "_view_module_version": "1.5.0",
            "orientation": "horizontal",
            "min": 0,
            "description_tooltip": null,
            "_model_module": "@jupyter-widgets/controls",
            "layout": "IPY_MODEL_22034770a969454d972cbbde95499c5c"
          }
        },
        "e72d03ad996845e7a09496de3564f4fb": {
          "model_module": "@jupyter-widgets/controls",
          "model_name": "DescriptionStyleModel",
          "state": {
            "_view_name": "StyleView",
            "_model_name": "DescriptionStyleModel",
            "description_width": "",
            "_view_module": "@jupyter-widgets/base",
            "_model_module_version": "1.5.0",
            "_view_count": null,
            "_view_module_version": "1.2.0",
            "_model_module": "@jupyter-widgets/controls"
          }
        },
        "39ded522c8374f878fc23154b1c00888": {
          "model_module": "@jupyter-widgets/base",
          "model_name": "LayoutModel",
          "state": {
            "_view_name": "LayoutView",
            "grid_template_rows": null,
            "right": null,
            "justify_content": null,
            "_view_module": "@jupyter-widgets/base",
            "overflow": null,
            "_model_module_version": "1.2.0",
            "_view_count": null,
            "flex_flow": null,
            "width": null,
            "min_width": null,
            "border": null,
            "align_items": null,
            "bottom": null,
            "_model_module": "@jupyter-widgets/base",
            "top": null,
            "grid_column": null,
            "overflow_y": null,
            "overflow_x": null,
            "grid_auto_flow": null,
            "grid_area": null,
            "grid_template_columns": null,
            "flex": null,
            "_model_name": "LayoutModel",
            "justify_items": null,
            "grid_row": null,
            "max_height": null,
            "align_content": null,
            "visibility": null,
            "align_self": null,
            "height": null,
            "min_height": null,
            "padding": null,
            "grid_auto_rows": null,
            "grid_gap": null,
            "max_width": null,
            "order": null,
            "_view_module_version": "1.2.0",
            "grid_template_areas": null,
            "object_position": null,
            "object_fit": null,
            "grid_auto_columns": null,
            "margin": null,
            "display": null,
            "left": null
          }
        },
        "88edb58afd71410d9841b30caf76b07b": {
          "model_module": "@jupyter-widgets/controls",
          "model_name": "ProgressStyleModel",
          "state": {
            "_view_name": "StyleView",
            "_model_name": "ProgressStyleModel",
            "description_width": "",
            "_view_module": "@jupyter-widgets/base",
            "_model_module_version": "1.5.0",
            "_view_count": null,
            "_view_module_version": "1.2.0",
            "bar_color": null,
            "_model_module": "@jupyter-widgets/controls"
          }
        },
        "22034770a969454d972cbbde95499c5c": {
          "model_module": "@jupyter-widgets/base",
          "model_name": "LayoutModel",
          "state": {
            "_view_name": "LayoutView",
            "grid_template_rows": null,
            "right": null,
            "justify_content": null,
            "_view_module": "@jupyter-widgets/base",
            "overflow": null,
            "_model_module_version": "1.2.0",
            "_view_count": null,
            "flex_flow": null,
            "width": null,
            "min_width": null,
            "border": null,
            "align_items": null,
            "bottom": null,
            "_model_module": "@jupyter-widgets/base",
            "top": null,
            "grid_column": null,
            "overflow_y": null,
            "overflow_x": null,
            "grid_auto_flow": null,
            "grid_area": null,
            "grid_template_columns": null,
            "flex": null,
            "_model_name": "LayoutModel",
            "justify_items": null,
            "grid_row": null,
            "max_height": null,
            "align_content": null,
            "visibility": null,
            "align_self": null,
            "height": null,
            "min_height": null,
            "padding": null,
            "grid_auto_rows": null,
            "grid_gap": null,
            "max_width": null,
            "order": null,
            "_view_module_version": "1.2.0",
            "grid_template_areas": null,
            "object_position": null,
            "object_fit": null,
            "grid_auto_columns": null,
            "margin": null,
            "display": null,
            "left": null
          }
        },
        "ae5186be7415429fa3da3d84bd86eb19": {
          "model_module": "@jupyter-widgets/controls",
          "model_name": "VBoxModel",
          "state": {
            "_view_name": "VBoxView",
            "_dom_classes": [],
            "_model_name": "VBoxModel",
            "_view_module": "@jupyter-widgets/controls",
            "_model_module_version": "1.5.0",
            "_view_count": null,
            "_view_module_version": "1.5.0",
            "box_style": "",
            "layout": "IPY_MODEL_41703f2c3cc74d278c3dda4e7e48ee8d",
            "_model_module": "@jupyter-widgets/controls",
            "children": [
              "IPY_MODEL_cb68559af7524f6fb9e80673300e4a51",
              "IPY_MODEL_1e4262aa9d58479ca4a6445f4399185c"
            ]
          }
        },
        "41703f2c3cc74d278c3dda4e7e48ee8d": {
          "model_module": "@jupyter-widgets/base",
          "model_name": "LayoutModel",
          "state": {
            "_view_name": "LayoutView",
            "grid_template_rows": null,
            "right": null,
            "justify_content": null,
            "_view_module": "@jupyter-widgets/base",
            "overflow": null,
            "_model_module_version": "1.2.0",
            "_view_count": null,
            "flex_flow": null,
            "width": null,
            "min_width": null,
            "border": null,
            "align_items": null,
            "bottom": null,
            "_model_module": "@jupyter-widgets/base",
            "top": null,
            "grid_column": null,
            "overflow_y": null,
            "overflow_x": null,
            "grid_auto_flow": null,
            "grid_area": null,
            "grid_template_columns": null,
            "flex": null,
            "_model_name": "LayoutModel",
            "justify_items": null,
            "grid_row": null,
            "max_height": null,
            "align_content": null,
            "visibility": null,
            "align_self": null,
            "height": null,
            "min_height": null,
            "padding": null,
            "grid_auto_rows": null,
            "grid_gap": null,
            "max_width": null,
            "order": null,
            "_view_module_version": "1.2.0",
            "grid_template_areas": null,
            "object_position": null,
            "object_fit": null,
            "grid_auto_columns": null,
            "margin": null,
            "display": null,
            "left": null
          }
        },
        "cb68559af7524f6fb9e80673300e4a51": {
          "model_module": "@jupyter-widgets/controls",
          "model_name": "LabelModel",
          "state": {
            "_view_name": "LabelView",
            "style": "IPY_MODEL_34439a6440344dc1ae5fa35eb4e15b20",
            "_dom_classes": [],
            "description": "",
            "_model_name": "LabelModel",
            "placeholder": "​",
            "_view_module": "@jupyter-widgets/controls",
            "_model_module_version": "1.5.0",
            "value": " 0.01MB of 0.01MB uploaded (0.00MB deduped)\r",
            "_view_count": null,
            "_view_module_version": "1.5.0",
            "description_tooltip": null,
            "_model_module": "@jupyter-widgets/controls",
            "layout": "IPY_MODEL_9a9d76369949490e8008998ac7fb6290"
          }
        },
        "1e4262aa9d58479ca4a6445f4399185c": {
          "model_module": "@jupyter-widgets/controls",
          "model_name": "FloatProgressModel",
          "state": {
            "_view_name": "ProgressView",
            "style": "IPY_MODEL_77d32008aca4464b8da36873ec9711f2",
            "_dom_classes": [],
            "description": "",
            "_model_name": "FloatProgressModel",
            "bar_style": "",
            "max": 1,
            "_view_module": "@jupyter-widgets/controls",
            "_model_module_version": "1.5.0",
            "value": 1,
            "_view_count": null,
            "_view_module_version": "1.5.0",
            "orientation": "horizontal",
            "min": 0,
            "description_tooltip": null,
            "_model_module": "@jupyter-widgets/controls",
            "layout": "IPY_MODEL_17f1e26d369844629231ad0ff879143c"
          }
        },
        "34439a6440344dc1ae5fa35eb4e15b20": {
          "model_module": "@jupyter-widgets/controls",
          "model_name": "DescriptionStyleModel",
          "state": {
            "_view_name": "StyleView",
            "_model_name": "DescriptionStyleModel",
            "description_width": "",
            "_view_module": "@jupyter-widgets/base",
            "_model_module_version": "1.5.0",
            "_view_count": null,
            "_view_module_version": "1.2.0",
            "_model_module": "@jupyter-widgets/controls"
          }
        },
        "9a9d76369949490e8008998ac7fb6290": {
          "model_module": "@jupyter-widgets/base",
          "model_name": "LayoutModel",
          "state": {
            "_view_name": "LayoutView",
            "grid_template_rows": null,
            "right": null,
            "justify_content": null,
            "_view_module": "@jupyter-widgets/base",
            "overflow": null,
            "_model_module_version": "1.2.0",
            "_view_count": null,
            "flex_flow": null,
            "width": null,
            "min_width": null,
            "border": null,
            "align_items": null,
            "bottom": null,
            "_model_module": "@jupyter-widgets/base",
            "top": null,
            "grid_column": null,
            "overflow_y": null,
            "overflow_x": null,
            "grid_auto_flow": null,
            "grid_area": null,
            "grid_template_columns": null,
            "flex": null,
            "_model_name": "LayoutModel",
            "justify_items": null,
            "grid_row": null,
            "max_height": null,
            "align_content": null,
            "visibility": null,
            "align_self": null,
            "height": null,
            "min_height": null,
            "padding": null,
            "grid_auto_rows": null,
            "grid_gap": null,
            "max_width": null,
            "order": null,
            "_view_module_version": "1.2.0",
            "grid_template_areas": null,
            "object_position": null,
            "object_fit": null,
            "grid_auto_columns": null,
            "margin": null,
            "display": null,
            "left": null
          }
        },
        "77d32008aca4464b8da36873ec9711f2": {
          "model_module": "@jupyter-widgets/controls",
          "model_name": "ProgressStyleModel",
          "state": {
            "_view_name": "StyleView",
            "_model_name": "ProgressStyleModel",
            "description_width": "",
            "_view_module": "@jupyter-widgets/base",
            "_model_module_version": "1.5.0",
            "_view_count": null,
            "_view_module_version": "1.2.0",
            "bar_color": null,
            "_model_module": "@jupyter-widgets/controls"
          }
        },
        "17f1e26d369844629231ad0ff879143c": {
          "model_module": "@jupyter-widgets/base",
          "model_name": "LayoutModel",
          "state": {
            "_view_name": "LayoutView",
            "grid_template_rows": null,
            "right": null,
            "justify_content": null,
            "_view_module": "@jupyter-widgets/base",
            "overflow": null,
            "_model_module_version": "1.2.0",
            "_view_count": null,
            "flex_flow": null,
            "width": null,
            "min_width": null,
            "border": null,
            "align_items": null,
            "bottom": null,
            "_model_module": "@jupyter-widgets/base",
            "top": null,
            "grid_column": null,
            "overflow_y": null,
            "overflow_x": null,
            "grid_auto_flow": null,
            "grid_area": null,
            "grid_template_columns": null,
            "flex": null,
            "_model_name": "LayoutModel",
            "justify_items": null,
            "grid_row": null,
            "max_height": null,
            "align_content": null,
            "visibility": null,
            "align_self": null,
            "height": null,
            "min_height": null,
            "padding": null,
            "grid_auto_rows": null,
            "grid_gap": null,
            "max_width": null,
            "order": null,
            "_view_module_version": "1.2.0",
            "grid_template_areas": null,
            "object_position": null,
            "object_fit": null,
            "grid_auto_columns": null,
            "margin": null,
            "display": null,
            "left": null
          }
        },
        "55583961ea054681a0b47c55dd66b9de": {
          "model_module": "@jupyter-widgets/controls",
          "model_name": "VBoxModel",
          "state": {
            "_view_name": "VBoxView",
            "_dom_classes": [],
            "_model_name": "VBoxModel",
            "_view_module": "@jupyter-widgets/controls",
            "_model_module_version": "1.5.0",
            "_view_count": null,
            "_view_module_version": "1.5.0",
            "box_style": "",
            "layout": "IPY_MODEL_7fa6e37b9a79417fb68afa003548ee29",
            "_model_module": "@jupyter-widgets/controls",
            "children": [
              "IPY_MODEL_8ee6e6c375e1475a85619d22f9768e48",
              "IPY_MODEL_def7fb3f8d7a428eadb62a3365c8c2e2"
            ]
          }
        },
        "7fa6e37b9a79417fb68afa003548ee29": {
          "model_module": "@jupyter-widgets/base",
          "model_name": "LayoutModel",
          "state": {
            "_view_name": "LayoutView",
            "grid_template_rows": null,
            "right": null,
            "justify_content": null,
            "_view_module": "@jupyter-widgets/base",
            "overflow": null,
            "_model_module_version": "1.2.0",
            "_view_count": null,
            "flex_flow": null,
            "width": null,
            "min_width": null,
            "border": null,
            "align_items": null,
            "bottom": null,
            "_model_module": "@jupyter-widgets/base",
            "top": null,
            "grid_column": null,
            "overflow_y": null,
            "overflow_x": null,
            "grid_auto_flow": null,
            "grid_area": null,
            "grid_template_columns": null,
            "flex": null,
            "_model_name": "LayoutModel",
            "justify_items": null,
            "grid_row": null,
            "max_height": null,
            "align_content": null,
            "visibility": null,
            "align_self": null,
            "height": null,
            "min_height": null,
            "padding": null,
            "grid_auto_rows": null,
            "grid_gap": null,
            "max_width": null,
            "order": null,
            "_view_module_version": "1.2.0",
            "grid_template_areas": null,
            "object_position": null,
            "object_fit": null,
            "grid_auto_columns": null,
            "margin": null,
            "display": null,
            "left": null
          }
        },
        "8ee6e6c375e1475a85619d22f9768e48": {
          "model_module": "@jupyter-widgets/controls",
          "model_name": "LabelModel",
          "state": {
            "_view_name": "LabelView",
            "style": "IPY_MODEL_ee0a0f9bb1014193b3f634c32af6a6ed",
            "_dom_classes": [],
            "description": "",
            "_model_name": "LabelModel",
            "placeholder": "​",
            "_view_module": "@jupyter-widgets/controls",
            "_model_module_version": "1.5.0",
            "value": " 0.01MB of 0.01MB uploaded (0.00MB deduped)\r",
            "_view_count": null,
            "_view_module_version": "1.5.0",
            "description_tooltip": null,
            "_model_module": "@jupyter-widgets/controls",
            "layout": "IPY_MODEL_4063b0b53dc5415dbe33f22397bcccc3"
          }
        },
        "def7fb3f8d7a428eadb62a3365c8c2e2": {
          "model_module": "@jupyter-widgets/controls",
          "model_name": "FloatProgressModel",
          "state": {
            "_view_name": "ProgressView",
            "style": "IPY_MODEL_56dd176ef3a74fe6b907dbfc353d47f6",
            "_dom_classes": [],
            "description": "",
            "_model_name": "FloatProgressModel",
            "bar_style": "",
            "max": 1,
            "_view_module": "@jupyter-widgets/controls",
            "_model_module_version": "1.5.0",
            "value": 1,
            "_view_count": null,
            "_view_module_version": "1.5.0",
            "orientation": "horizontal",
            "min": 0,
            "description_tooltip": null,
            "_model_module": "@jupyter-widgets/controls",
            "layout": "IPY_MODEL_9771dc283e09444998afb78f0325e593"
          }
        },
        "ee0a0f9bb1014193b3f634c32af6a6ed": {
          "model_module": "@jupyter-widgets/controls",
          "model_name": "DescriptionStyleModel",
          "state": {
            "_view_name": "StyleView",
            "_model_name": "DescriptionStyleModel",
            "description_width": "",
            "_view_module": "@jupyter-widgets/base",
            "_model_module_version": "1.5.0",
            "_view_count": null,
            "_view_module_version": "1.2.0",
            "_model_module": "@jupyter-widgets/controls"
          }
        },
        "4063b0b53dc5415dbe33f22397bcccc3": {
          "model_module": "@jupyter-widgets/base",
          "model_name": "LayoutModel",
          "state": {
            "_view_name": "LayoutView",
            "grid_template_rows": null,
            "right": null,
            "justify_content": null,
            "_view_module": "@jupyter-widgets/base",
            "overflow": null,
            "_model_module_version": "1.2.0",
            "_view_count": null,
            "flex_flow": null,
            "width": null,
            "min_width": null,
            "border": null,
            "align_items": null,
            "bottom": null,
            "_model_module": "@jupyter-widgets/base",
            "top": null,
            "grid_column": null,
            "overflow_y": null,
            "overflow_x": null,
            "grid_auto_flow": null,
            "grid_area": null,
            "grid_template_columns": null,
            "flex": null,
            "_model_name": "LayoutModel",
            "justify_items": null,
            "grid_row": null,
            "max_height": null,
            "align_content": null,
            "visibility": null,
            "align_self": null,
            "height": null,
            "min_height": null,
            "padding": null,
            "grid_auto_rows": null,
            "grid_gap": null,
            "max_width": null,
            "order": null,
            "_view_module_version": "1.2.0",
            "grid_template_areas": null,
            "object_position": null,
            "object_fit": null,
            "grid_auto_columns": null,
            "margin": null,
            "display": null,
            "left": null
          }
        },
        "56dd176ef3a74fe6b907dbfc353d47f6": {
          "model_module": "@jupyter-widgets/controls",
          "model_name": "ProgressStyleModel",
          "state": {
            "_view_name": "StyleView",
            "_model_name": "ProgressStyleModel",
            "description_width": "",
            "_view_module": "@jupyter-widgets/base",
            "_model_module_version": "1.5.0",
            "_view_count": null,
            "_view_module_version": "1.2.0",
            "bar_color": null,
            "_model_module": "@jupyter-widgets/controls"
          }
        },
        "9771dc283e09444998afb78f0325e593": {
          "model_module": "@jupyter-widgets/base",
          "model_name": "LayoutModel",
          "state": {
            "_view_name": "LayoutView",
            "grid_template_rows": null,
            "right": null,
            "justify_content": null,
            "_view_module": "@jupyter-widgets/base",
            "overflow": null,
            "_model_module_version": "1.2.0",
            "_view_count": null,
            "flex_flow": null,
            "width": null,
            "min_width": null,
            "border": null,
            "align_items": null,
            "bottom": null,
            "_model_module": "@jupyter-widgets/base",
            "top": null,
            "grid_column": null,
            "overflow_y": null,
            "overflow_x": null,
            "grid_auto_flow": null,
            "grid_area": null,
            "grid_template_columns": null,
            "flex": null,
            "_model_name": "LayoutModel",
            "justify_items": null,
            "grid_row": null,
            "max_height": null,
            "align_content": null,
            "visibility": null,
            "align_self": null,
            "height": null,
            "min_height": null,
            "padding": null,
            "grid_auto_rows": null,
            "grid_gap": null,
            "max_width": null,
            "order": null,
            "_view_module_version": "1.2.0",
            "grid_template_areas": null,
            "object_position": null,
            "object_fit": null,
            "grid_auto_columns": null,
            "margin": null,
            "display": null,
            "left": null
          }
        },
        "eb7ed36d1abd48b6bd206e92e4995665": {
          "model_module": "@jupyter-widgets/controls",
          "model_name": "VBoxModel",
          "state": {
            "_view_name": "VBoxView",
            "_dom_classes": [],
            "_model_name": "VBoxModel",
            "_view_module": "@jupyter-widgets/controls",
            "_model_module_version": "1.5.0",
            "_view_count": null,
            "_view_module_version": "1.5.0",
            "box_style": "",
            "layout": "IPY_MODEL_1ef868db65d843299a7e5be9d9dfab5c",
            "_model_module": "@jupyter-widgets/controls",
            "children": [
              "IPY_MODEL_13ec0b1b3e3c4a38ad0217d7f9fcba38",
              "IPY_MODEL_603e5830d2334b4da982b70737aba45d"
            ]
          }
        },
        "1ef868db65d843299a7e5be9d9dfab5c": {
          "model_module": "@jupyter-widgets/base",
          "model_name": "LayoutModel",
          "state": {
            "_view_name": "LayoutView",
            "grid_template_rows": null,
            "right": null,
            "justify_content": null,
            "_view_module": "@jupyter-widgets/base",
            "overflow": null,
            "_model_module_version": "1.2.0",
            "_view_count": null,
            "flex_flow": null,
            "width": null,
            "min_width": null,
            "border": null,
            "align_items": null,
            "bottom": null,
            "_model_module": "@jupyter-widgets/base",
            "top": null,
            "grid_column": null,
            "overflow_y": null,
            "overflow_x": null,
            "grid_auto_flow": null,
            "grid_area": null,
            "grid_template_columns": null,
            "flex": null,
            "_model_name": "LayoutModel",
            "justify_items": null,
            "grid_row": null,
            "max_height": null,
            "align_content": null,
            "visibility": null,
            "align_self": null,
            "height": null,
            "min_height": null,
            "padding": null,
            "grid_auto_rows": null,
            "grid_gap": null,
            "max_width": null,
            "order": null,
            "_view_module_version": "1.2.0",
            "grid_template_areas": null,
            "object_position": null,
            "object_fit": null,
            "grid_auto_columns": null,
            "margin": null,
            "display": null,
            "left": null
          }
        },
        "13ec0b1b3e3c4a38ad0217d7f9fcba38": {
          "model_module": "@jupyter-widgets/controls",
          "model_name": "LabelModel",
          "state": {
            "_view_name": "LabelView",
            "style": "IPY_MODEL_507431853ebf45828175fb6485f7689d",
            "_dom_classes": [],
            "description": "",
            "_model_name": "LabelModel",
            "placeholder": "​",
            "_view_module": "@jupyter-widgets/controls",
            "_model_module_version": "1.5.0",
            "value": " 0.01MB of 0.01MB uploaded (0.00MB deduped)\r",
            "_view_count": null,
            "_view_module_version": "1.5.0",
            "description_tooltip": null,
            "_model_module": "@jupyter-widgets/controls",
            "layout": "IPY_MODEL_c56e4cc5ce4c47b18de8e0e25b726561"
          }
        },
        "603e5830d2334b4da982b70737aba45d": {
          "model_module": "@jupyter-widgets/controls",
          "model_name": "FloatProgressModel",
          "state": {
            "_view_name": "ProgressView",
            "style": "IPY_MODEL_91d45f8315cc45fdb3526d7b6b8108b5",
            "_dom_classes": [],
            "description": "",
            "_model_name": "FloatProgressModel",
            "bar_style": "",
            "max": 1,
            "_view_module": "@jupyter-widgets/controls",
            "_model_module_version": "1.5.0",
            "value": 1,
            "_view_count": null,
            "_view_module_version": "1.5.0",
            "orientation": "horizontal",
            "min": 0,
            "description_tooltip": null,
            "_model_module": "@jupyter-widgets/controls",
            "layout": "IPY_MODEL_d6f6d09d17ab4f81a81ca43016fce80f"
          }
        },
        "507431853ebf45828175fb6485f7689d": {
          "model_module": "@jupyter-widgets/controls",
          "model_name": "DescriptionStyleModel",
          "state": {
            "_view_name": "StyleView",
            "_model_name": "DescriptionStyleModel",
            "description_width": "",
            "_view_module": "@jupyter-widgets/base",
            "_model_module_version": "1.5.0",
            "_view_count": null,
            "_view_module_version": "1.2.0",
            "_model_module": "@jupyter-widgets/controls"
          }
        },
        "c56e4cc5ce4c47b18de8e0e25b726561": {
          "model_module": "@jupyter-widgets/base",
          "model_name": "LayoutModel",
          "state": {
            "_view_name": "LayoutView",
            "grid_template_rows": null,
            "right": null,
            "justify_content": null,
            "_view_module": "@jupyter-widgets/base",
            "overflow": null,
            "_model_module_version": "1.2.0",
            "_view_count": null,
            "flex_flow": null,
            "width": null,
            "min_width": null,
            "border": null,
            "align_items": null,
            "bottom": null,
            "_model_module": "@jupyter-widgets/base",
            "top": null,
            "grid_column": null,
            "overflow_y": null,
            "overflow_x": null,
            "grid_auto_flow": null,
            "grid_area": null,
            "grid_template_columns": null,
            "flex": null,
            "_model_name": "LayoutModel",
            "justify_items": null,
            "grid_row": null,
            "max_height": null,
            "align_content": null,
            "visibility": null,
            "align_self": null,
            "height": null,
            "min_height": null,
            "padding": null,
            "grid_auto_rows": null,
            "grid_gap": null,
            "max_width": null,
            "order": null,
            "_view_module_version": "1.2.0",
            "grid_template_areas": null,
            "object_position": null,
            "object_fit": null,
            "grid_auto_columns": null,
            "margin": null,
            "display": null,
            "left": null
          }
        },
        "91d45f8315cc45fdb3526d7b6b8108b5": {
          "model_module": "@jupyter-widgets/controls",
          "model_name": "ProgressStyleModel",
          "state": {
            "_view_name": "StyleView",
            "_model_name": "ProgressStyleModel",
            "description_width": "",
            "_view_module": "@jupyter-widgets/base",
            "_model_module_version": "1.5.0",
            "_view_count": null,
            "_view_module_version": "1.2.0",
            "bar_color": null,
            "_model_module": "@jupyter-widgets/controls"
          }
        },
        "d6f6d09d17ab4f81a81ca43016fce80f": {
          "model_module": "@jupyter-widgets/base",
          "model_name": "LayoutModel",
          "state": {
            "_view_name": "LayoutView",
            "grid_template_rows": null,
            "right": null,
            "justify_content": null,
            "_view_module": "@jupyter-widgets/base",
            "overflow": null,
            "_model_module_version": "1.2.0",
            "_view_count": null,
            "flex_flow": null,
            "width": null,
            "min_width": null,
            "border": null,
            "align_items": null,
            "bottom": null,
            "_model_module": "@jupyter-widgets/base",
            "top": null,
            "grid_column": null,
            "overflow_y": null,
            "overflow_x": null,
            "grid_auto_flow": null,
            "grid_area": null,
            "grid_template_columns": null,
            "flex": null,
            "_model_name": "LayoutModel",
            "justify_items": null,
            "grid_row": null,
            "max_height": null,
            "align_content": null,
            "visibility": null,
            "align_self": null,
            "height": null,
            "min_height": null,
            "padding": null,
            "grid_auto_rows": null,
            "grid_gap": null,
            "max_width": null,
            "order": null,
            "_view_module_version": "1.2.0",
            "grid_template_areas": null,
            "object_position": null,
            "object_fit": null,
            "grid_auto_columns": null,
            "margin": null,
            "display": null,
            "left": null
          }
        },
        "2bbc905f818746a4a54801322aa5c3e7": {
          "model_module": "@jupyter-widgets/controls",
          "model_name": "VBoxModel",
          "state": {
            "_view_name": "VBoxView",
            "_dom_classes": [],
            "_model_name": "VBoxModel",
            "_view_module": "@jupyter-widgets/controls",
            "_model_module_version": "1.5.0",
            "_view_count": null,
            "_view_module_version": "1.5.0",
            "box_style": "",
            "layout": "IPY_MODEL_8244ae17782d41a983059e77cb2ed859",
            "_model_module": "@jupyter-widgets/controls",
            "children": [
              "IPY_MODEL_c49783f88f2a40f5bb858b7c38c75925",
              "IPY_MODEL_dbca05b2bcb44664808cfce203e13983"
            ]
          }
        },
        "8244ae17782d41a983059e77cb2ed859": {
          "model_module": "@jupyter-widgets/base",
          "model_name": "LayoutModel",
          "state": {
            "_view_name": "LayoutView",
            "grid_template_rows": null,
            "right": null,
            "justify_content": null,
            "_view_module": "@jupyter-widgets/base",
            "overflow": null,
            "_model_module_version": "1.2.0",
            "_view_count": null,
            "flex_flow": null,
            "width": null,
            "min_width": null,
            "border": null,
            "align_items": null,
            "bottom": null,
            "_model_module": "@jupyter-widgets/base",
            "top": null,
            "grid_column": null,
            "overflow_y": null,
            "overflow_x": null,
            "grid_auto_flow": null,
            "grid_area": null,
            "grid_template_columns": null,
            "flex": null,
            "_model_name": "LayoutModel",
            "justify_items": null,
            "grid_row": null,
            "max_height": null,
            "align_content": null,
            "visibility": null,
            "align_self": null,
            "height": null,
            "min_height": null,
            "padding": null,
            "grid_auto_rows": null,
            "grid_gap": null,
            "max_width": null,
            "order": null,
            "_view_module_version": "1.2.0",
            "grid_template_areas": null,
            "object_position": null,
            "object_fit": null,
            "grid_auto_columns": null,
            "margin": null,
            "display": null,
            "left": null
          }
        },
        "c49783f88f2a40f5bb858b7c38c75925": {
          "model_module": "@jupyter-widgets/controls",
          "model_name": "LabelModel",
          "state": {
            "_view_name": "LabelView",
            "style": "IPY_MODEL_e637112e3ca44e2c82b7f08a3bd53e9f",
            "_dom_classes": [],
            "description": "",
            "_model_name": "LabelModel",
            "placeholder": "​",
            "_view_module": "@jupyter-widgets/controls",
            "_model_module_version": "1.5.0",
            "value": " 0.01MB of 0.01MB uploaded (0.00MB deduped)\r",
            "_view_count": null,
            "_view_module_version": "1.5.0",
            "description_tooltip": null,
            "_model_module": "@jupyter-widgets/controls",
            "layout": "IPY_MODEL_10ff6613eeb442e5b0c86ace44ffaed9"
          }
        },
        "dbca05b2bcb44664808cfce203e13983": {
          "model_module": "@jupyter-widgets/controls",
          "model_name": "FloatProgressModel",
          "state": {
            "_view_name": "ProgressView",
            "style": "IPY_MODEL_f88439f51a19425298a4783e72eb50c9",
            "_dom_classes": [],
            "description": "",
            "_model_name": "FloatProgressModel",
            "bar_style": "",
            "max": 1,
            "_view_module": "@jupyter-widgets/controls",
            "_model_module_version": "1.5.0",
            "value": 1,
            "_view_count": null,
            "_view_module_version": "1.5.0",
            "orientation": "horizontal",
            "min": 0,
            "description_tooltip": null,
            "_model_module": "@jupyter-widgets/controls",
            "layout": "IPY_MODEL_688555cc7485495b88816ed098433ca2"
          }
        },
        "e637112e3ca44e2c82b7f08a3bd53e9f": {
          "model_module": "@jupyter-widgets/controls",
          "model_name": "DescriptionStyleModel",
          "state": {
            "_view_name": "StyleView",
            "_model_name": "DescriptionStyleModel",
            "description_width": "",
            "_view_module": "@jupyter-widgets/base",
            "_model_module_version": "1.5.0",
            "_view_count": null,
            "_view_module_version": "1.2.0",
            "_model_module": "@jupyter-widgets/controls"
          }
        },
        "10ff6613eeb442e5b0c86ace44ffaed9": {
          "model_module": "@jupyter-widgets/base",
          "model_name": "LayoutModel",
          "state": {
            "_view_name": "LayoutView",
            "grid_template_rows": null,
            "right": null,
            "justify_content": null,
            "_view_module": "@jupyter-widgets/base",
            "overflow": null,
            "_model_module_version": "1.2.0",
            "_view_count": null,
            "flex_flow": null,
            "width": null,
            "min_width": null,
            "border": null,
            "align_items": null,
            "bottom": null,
            "_model_module": "@jupyter-widgets/base",
            "top": null,
            "grid_column": null,
            "overflow_y": null,
            "overflow_x": null,
            "grid_auto_flow": null,
            "grid_area": null,
            "grid_template_columns": null,
            "flex": null,
            "_model_name": "LayoutModel",
            "justify_items": null,
            "grid_row": null,
            "max_height": null,
            "align_content": null,
            "visibility": null,
            "align_self": null,
            "height": null,
            "min_height": null,
            "padding": null,
            "grid_auto_rows": null,
            "grid_gap": null,
            "max_width": null,
            "order": null,
            "_view_module_version": "1.2.0",
            "grid_template_areas": null,
            "object_position": null,
            "object_fit": null,
            "grid_auto_columns": null,
            "margin": null,
            "display": null,
            "left": null
          }
        },
        "f88439f51a19425298a4783e72eb50c9": {
          "model_module": "@jupyter-widgets/controls",
          "model_name": "ProgressStyleModel",
          "state": {
            "_view_name": "StyleView",
            "_model_name": "ProgressStyleModel",
            "description_width": "",
            "_view_module": "@jupyter-widgets/base",
            "_model_module_version": "1.5.0",
            "_view_count": null,
            "_view_module_version": "1.2.0",
            "bar_color": null,
            "_model_module": "@jupyter-widgets/controls"
          }
        },
        "688555cc7485495b88816ed098433ca2": {
          "model_module": "@jupyter-widgets/base",
          "model_name": "LayoutModel",
          "state": {
            "_view_name": "LayoutView",
            "grid_template_rows": null,
            "right": null,
            "justify_content": null,
            "_view_module": "@jupyter-widgets/base",
            "overflow": null,
            "_model_module_version": "1.2.0",
            "_view_count": null,
            "flex_flow": null,
            "width": null,
            "min_width": null,
            "border": null,
            "align_items": null,
            "bottom": null,
            "_model_module": "@jupyter-widgets/base",
            "top": null,
            "grid_column": null,
            "overflow_y": null,
            "overflow_x": null,
            "grid_auto_flow": null,
            "grid_area": null,
            "grid_template_columns": null,
            "flex": null,
            "_model_name": "LayoutModel",
            "justify_items": null,
            "grid_row": null,
            "max_height": null,
            "align_content": null,
            "visibility": null,
            "align_self": null,
            "height": null,
            "min_height": null,
            "padding": null,
            "grid_auto_rows": null,
            "grid_gap": null,
            "max_width": null,
            "order": null,
            "_view_module_version": "1.2.0",
            "grid_template_areas": null,
            "object_position": null,
            "object_fit": null,
            "grid_auto_columns": null,
            "margin": null,
            "display": null,
            "left": null
          }
        },
        "0a3c96d469c04e7482f061ec69d0e8a1": {
          "model_module": "@jupyter-widgets/controls",
          "model_name": "VBoxModel",
          "state": {
            "_view_name": "VBoxView",
            "_dom_classes": [],
            "_model_name": "VBoxModel",
            "_view_module": "@jupyter-widgets/controls",
            "_model_module_version": "1.5.0",
            "_view_count": null,
            "_view_module_version": "1.5.0",
            "box_style": "",
            "layout": "IPY_MODEL_cd7a4ffa441a489992233521b2ce2457",
            "_model_module": "@jupyter-widgets/controls",
            "children": [
              "IPY_MODEL_da5fbb14ec0a40c7bebec7e4987e8dec",
              "IPY_MODEL_17db9ef8bedd4332971a64262c277054"
            ]
          }
        },
        "cd7a4ffa441a489992233521b2ce2457": {
          "model_module": "@jupyter-widgets/base",
          "model_name": "LayoutModel",
          "state": {
            "_view_name": "LayoutView",
            "grid_template_rows": null,
            "right": null,
            "justify_content": null,
            "_view_module": "@jupyter-widgets/base",
            "overflow": null,
            "_model_module_version": "1.2.0",
            "_view_count": null,
            "flex_flow": null,
            "width": null,
            "min_width": null,
            "border": null,
            "align_items": null,
            "bottom": null,
            "_model_module": "@jupyter-widgets/base",
            "top": null,
            "grid_column": null,
            "overflow_y": null,
            "overflow_x": null,
            "grid_auto_flow": null,
            "grid_area": null,
            "grid_template_columns": null,
            "flex": null,
            "_model_name": "LayoutModel",
            "justify_items": null,
            "grid_row": null,
            "max_height": null,
            "align_content": null,
            "visibility": null,
            "align_self": null,
            "height": null,
            "min_height": null,
            "padding": null,
            "grid_auto_rows": null,
            "grid_gap": null,
            "max_width": null,
            "order": null,
            "_view_module_version": "1.2.0",
            "grid_template_areas": null,
            "object_position": null,
            "object_fit": null,
            "grid_auto_columns": null,
            "margin": null,
            "display": null,
            "left": null
          }
        },
        "da5fbb14ec0a40c7bebec7e4987e8dec": {
          "model_module": "@jupyter-widgets/controls",
          "model_name": "LabelModel",
          "state": {
            "_view_name": "LabelView",
            "style": "IPY_MODEL_6534ec823451479eb0ae1fd3bec9be1f",
            "_dom_classes": [],
            "description": "",
            "_model_name": "LabelModel",
            "placeholder": "​",
            "_view_module": "@jupyter-widgets/controls",
            "_model_module_version": "1.5.0",
            "value": " 0.01MB of 0.01MB uploaded (0.00MB deduped)\r",
            "_view_count": null,
            "_view_module_version": "1.5.0",
            "description_tooltip": null,
            "_model_module": "@jupyter-widgets/controls",
            "layout": "IPY_MODEL_6c88e1b7ce6547488bdbfefe8a4d704a"
          }
        },
        "17db9ef8bedd4332971a64262c277054": {
          "model_module": "@jupyter-widgets/controls",
          "model_name": "FloatProgressModel",
          "state": {
            "_view_name": "ProgressView",
            "style": "IPY_MODEL_d83fc8cb05fc44e7ac3909d6e17d5e53",
            "_dom_classes": [],
            "description": "",
            "_model_name": "FloatProgressModel",
            "bar_style": "",
            "max": 1,
            "_view_module": "@jupyter-widgets/controls",
            "_model_module_version": "1.5.0",
            "value": 1,
            "_view_count": null,
            "_view_module_version": "1.5.0",
            "orientation": "horizontal",
            "min": 0,
            "description_tooltip": null,
            "_model_module": "@jupyter-widgets/controls",
            "layout": "IPY_MODEL_5c93e33c10ba4d98ba19733433e57445"
          }
        },
        "6534ec823451479eb0ae1fd3bec9be1f": {
          "model_module": "@jupyter-widgets/controls",
          "model_name": "DescriptionStyleModel",
          "state": {
            "_view_name": "StyleView",
            "_model_name": "DescriptionStyleModel",
            "description_width": "",
            "_view_module": "@jupyter-widgets/base",
            "_model_module_version": "1.5.0",
            "_view_count": null,
            "_view_module_version": "1.2.0",
            "_model_module": "@jupyter-widgets/controls"
          }
        },
        "6c88e1b7ce6547488bdbfefe8a4d704a": {
          "model_module": "@jupyter-widgets/base",
          "model_name": "LayoutModel",
          "state": {
            "_view_name": "LayoutView",
            "grid_template_rows": null,
            "right": null,
            "justify_content": null,
            "_view_module": "@jupyter-widgets/base",
            "overflow": null,
            "_model_module_version": "1.2.0",
            "_view_count": null,
            "flex_flow": null,
            "width": null,
            "min_width": null,
            "border": null,
            "align_items": null,
            "bottom": null,
            "_model_module": "@jupyter-widgets/base",
            "top": null,
            "grid_column": null,
            "overflow_y": null,
            "overflow_x": null,
            "grid_auto_flow": null,
            "grid_area": null,
            "grid_template_columns": null,
            "flex": null,
            "_model_name": "LayoutModel",
            "justify_items": null,
            "grid_row": null,
            "max_height": null,
            "align_content": null,
            "visibility": null,
            "align_self": null,
            "height": null,
            "min_height": null,
            "padding": null,
            "grid_auto_rows": null,
            "grid_gap": null,
            "max_width": null,
            "order": null,
            "_view_module_version": "1.2.0",
            "grid_template_areas": null,
            "object_position": null,
            "object_fit": null,
            "grid_auto_columns": null,
            "margin": null,
            "display": null,
            "left": null
          }
        },
        "d83fc8cb05fc44e7ac3909d6e17d5e53": {
          "model_module": "@jupyter-widgets/controls",
          "model_name": "ProgressStyleModel",
          "state": {
            "_view_name": "StyleView",
            "_model_name": "ProgressStyleModel",
            "description_width": "",
            "_view_module": "@jupyter-widgets/base",
            "_model_module_version": "1.5.0",
            "_view_count": null,
            "_view_module_version": "1.2.0",
            "bar_color": null,
            "_model_module": "@jupyter-widgets/controls"
          }
        },
        "5c93e33c10ba4d98ba19733433e57445": {
          "model_module": "@jupyter-widgets/base",
          "model_name": "LayoutModel",
          "state": {
            "_view_name": "LayoutView",
            "grid_template_rows": null,
            "right": null,
            "justify_content": null,
            "_view_module": "@jupyter-widgets/base",
            "overflow": null,
            "_model_module_version": "1.2.0",
            "_view_count": null,
            "flex_flow": null,
            "width": null,
            "min_width": null,
            "border": null,
            "align_items": null,
            "bottom": null,
            "_model_module": "@jupyter-widgets/base",
            "top": null,
            "grid_column": null,
            "overflow_y": null,
            "overflow_x": null,
            "grid_auto_flow": null,
            "grid_area": null,
            "grid_template_columns": null,
            "flex": null,
            "_model_name": "LayoutModel",
            "justify_items": null,
            "grid_row": null,
            "max_height": null,
            "align_content": null,
            "visibility": null,
            "align_self": null,
            "height": null,
            "min_height": null,
            "padding": null,
            "grid_auto_rows": null,
            "grid_gap": null,
            "max_width": null,
            "order": null,
            "_view_module_version": "1.2.0",
            "grid_template_areas": null,
            "object_position": null,
            "object_fit": null,
            "grid_auto_columns": null,
            "margin": null,
            "display": null,
            "left": null
          }
        },
        "b9cfbefa79ee4d4ca8e517b54cb49cb7": {
          "model_module": "@jupyter-widgets/controls",
          "model_name": "VBoxModel",
          "state": {
            "_view_name": "VBoxView",
            "_dom_classes": [],
            "_model_name": "VBoxModel",
            "_view_module": "@jupyter-widgets/controls",
            "_model_module_version": "1.5.0",
            "_view_count": null,
            "_view_module_version": "1.5.0",
            "box_style": "",
            "layout": "IPY_MODEL_7b9a71c567224050a0ca41ba9083d180",
            "_model_module": "@jupyter-widgets/controls",
            "children": [
              "IPY_MODEL_c0c8576160284676b05f60f3781c113e",
              "IPY_MODEL_64588c7c8be84ed8961ee4086ada3975"
            ]
          }
        },
        "7b9a71c567224050a0ca41ba9083d180": {
          "model_module": "@jupyter-widgets/base",
          "model_name": "LayoutModel",
          "state": {
            "_view_name": "LayoutView",
            "grid_template_rows": null,
            "right": null,
            "justify_content": null,
            "_view_module": "@jupyter-widgets/base",
            "overflow": null,
            "_model_module_version": "1.2.0",
            "_view_count": null,
            "flex_flow": null,
            "width": null,
            "min_width": null,
            "border": null,
            "align_items": null,
            "bottom": null,
            "_model_module": "@jupyter-widgets/base",
            "top": null,
            "grid_column": null,
            "overflow_y": null,
            "overflow_x": null,
            "grid_auto_flow": null,
            "grid_area": null,
            "grid_template_columns": null,
            "flex": null,
            "_model_name": "LayoutModel",
            "justify_items": null,
            "grid_row": null,
            "max_height": null,
            "align_content": null,
            "visibility": null,
            "align_self": null,
            "height": null,
            "min_height": null,
            "padding": null,
            "grid_auto_rows": null,
            "grid_gap": null,
            "max_width": null,
            "order": null,
            "_view_module_version": "1.2.0",
            "grid_template_areas": null,
            "object_position": null,
            "object_fit": null,
            "grid_auto_columns": null,
            "margin": null,
            "display": null,
            "left": null
          }
        },
        "c0c8576160284676b05f60f3781c113e": {
          "model_module": "@jupyter-widgets/controls",
          "model_name": "LabelModel",
          "state": {
            "_view_name": "LabelView",
            "style": "IPY_MODEL_2eb2c9fc04884ac38bc69e1d8fe41387",
            "_dom_classes": [],
            "description": "",
            "_model_name": "LabelModel",
            "placeholder": "​",
            "_view_module": "@jupyter-widgets/controls",
            "_model_module_version": "1.5.0",
            "value": " 0.01MB of 0.01MB uploaded (0.00MB deduped)\r",
            "_view_count": null,
            "_view_module_version": "1.5.0",
            "description_tooltip": null,
            "_model_module": "@jupyter-widgets/controls",
            "layout": "IPY_MODEL_31453faea09841658617a34a341fd62c"
          }
        },
        "64588c7c8be84ed8961ee4086ada3975": {
          "model_module": "@jupyter-widgets/controls",
          "model_name": "FloatProgressModel",
          "state": {
            "_view_name": "ProgressView",
            "style": "IPY_MODEL_bdfe8765690f4c52a2a2434836ebd4f6",
            "_dom_classes": [],
            "description": "",
            "_model_name": "FloatProgressModel",
            "bar_style": "",
            "max": 1,
            "_view_module": "@jupyter-widgets/controls",
            "_model_module_version": "1.5.0",
            "value": 1,
            "_view_count": null,
            "_view_module_version": "1.5.0",
            "orientation": "horizontal",
            "min": 0,
            "description_tooltip": null,
            "_model_module": "@jupyter-widgets/controls",
            "layout": "IPY_MODEL_f76934df174e4b30ab3d3f16005dc270"
          }
        },
        "2eb2c9fc04884ac38bc69e1d8fe41387": {
          "model_module": "@jupyter-widgets/controls",
          "model_name": "DescriptionStyleModel",
          "state": {
            "_view_name": "StyleView",
            "_model_name": "DescriptionStyleModel",
            "description_width": "",
            "_view_module": "@jupyter-widgets/base",
            "_model_module_version": "1.5.0",
            "_view_count": null,
            "_view_module_version": "1.2.0",
            "_model_module": "@jupyter-widgets/controls"
          }
        },
        "31453faea09841658617a34a341fd62c": {
          "model_module": "@jupyter-widgets/base",
          "model_name": "LayoutModel",
          "state": {
            "_view_name": "LayoutView",
            "grid_template_rows": null,
            "right": null,
            "justify_content": null,
            "_view_module": "@jupyter-widgets/base",
            "overflow": null,
            "_model_module_version": "1.2.0",
            "_view_count": null,
            "flex_flow": null,
            "width": null,
            "min_width": null,
            "border": null,
            "align_items": null,
            "bottom": null,
            "_model_module": "@jupyter-widgets/base",
            "top": null,
            "grid_column": null,
            "overflow_y": null,
            "overflow_x": null,
            "grid_auto_flow": null,
            "grid_area": null,
            "grid_template_columns": null,
            "flex": null,
            "_model_name": "LayoutModel",
            "justify_items": null,
            "grid_row": null,
            "max_height": null,
            "align_content": null,
            "visibility": null,
            "align_self": null,
            "height": null,
            "min_height": null,
            "padding": null,
            "grid_auto_rows": null,
            "grid_gap": null,
            "max_width": null,
            "order": null,
            "_view_module_version": "1.2.0",
            "grid_template_areas": null,
            "object_position": null,
            "object_fit": null,
            "grid_auto_columns": null,
            "margin": null,
            "display": null,
            "left": null
          }
        },
        "bdfe8765690f4c52a2a2434836ebd4f6": {
          "model_module": "@jupyter-widgets/controls",
          "model_name": "ProgressStyleModel",
          "state": {
            "_view_name": "StyleView",
            "_model_name": "ProgressStyleModel",
            "description_width": "",
            "_view_module": "@jupyter-widgets/base",
            "_model_module_version": "1.5.0",
            "_view_count": null,
            "_view_module_version": "1.2.0",
            "bar_color": null,
            "_model_module": "@jupyter-widgets/controls"
          }
        },
        "f76934df174e4b30ab3d3f16005dc270": {
          "model_module": "@jupyter-widgets/base",
          "model_name": "LayoutModel",
          "state": {
            "_view_name": "LayoutView",
            "grid_template_rows": null,
            "right": null,
            "justify_content": null,
            "_view_module": "@jupyter-widgets/base",
            "overflow": null,
            "_model_module_version": "1.2.0",
            "_view_count": null,
            "flex_flow": null,
            "width": null,
            "min_width": null,
            "border": null,
            "align_items": null,
            "bottom": null,
            "_model_module": "@jupyter-widgets/base",
            "top": null,
            "grid_column": null,
            "overflow_y": null,
            "overflow_x": null,
            "grid_auto_flow": null,
            "grid_area": null,
            "grid_template_columns": null,
            "flex": null,
            "_model_name": "LayoutModel",
            "justify_items": null,
            "grid_row": null,
            "max_height": null,
            "align_content": null,
            "visibility": null,
            "align_self": null,
            "height": null,
            "min_height": null,
            "padding": null,
            "grid_auto_rows": null,
            "grid_gap": null,
            "max_width": null,
            "order": null,
            "_view_module_version": "1.2.0",
            "grid_template_areas": null,
            "object_position": null,
            "object_fit": null,
            "grid_auto_columns": null,
            "margin": null,
            "display": null,
            "left": null
          }
        },
        "69caeeea55a3476d9cd8a65f1e94b671": {
          "model_module": "@jupyter-widgets/controls",
          "model_name": "VBoxModel",
          "state": {
            "_view_name": "VBoxView",
            "_dom_classes": [],
            "_model_name": "VBoxModel",
            "_view_module": "@jupyter-widgets/controls",
            "_model_module_version": "1.5.0",
            "_view_count": null,
            "_view_module_version": "1.5.0",
            "box_style": "",
            "layout": "IPY_MODEL_3c8d31fc338f40559dbf2d185ccb07ca",
            "_model_module": "@jupyter-widgets/controls",
            "children": [
              "IPY_MODEL_3e499525ff6c4fd987a711202c14eaa9",
              "IPY_MODEL_c744427ffeaf412786c5fe31849fef50"
            ]
          }
        },
        "3c8d31fc338f40559dbf2d185ccb07ca": {
          "model_module": "@jupyter-widgets/base",
          "model_name": "LayoutModel",
          "state": {
            "_view_name": "LayoutView",
            "grid_template_rows": null,
            "right": null,
            "justify_content": null,
            "_view_module": "@jupyter-widgets/base",
            "overflow": null,
            "_model_module_version": "1.2.0",
            "_view_count": null,
            "flex_flow": null,
            "width": null,
            "min_width": null,
            "border": null,
            "align_items": null,
            "bottom": null,
            "_model_module": "@jupyter-widgets/base",
            "top": null,
            "grid_column": null,
            "overflow_y": null,
            "overflow_x": null,
            "grid_auto_flow": null,
            "grid_area": null,
            "grid_template_columns": null,
            "flex": null,
            "_model_name": "LayoutModel",
            "justify_items": null,
            "grid_row": null,
            "max_height": null,
            "align_content": null,
            "visibility": null,
            "align_self": null,
            "height": null,
            "min_height": null,
            "padding": null,
            "grid_auto_rows": null,
            "grid_gap": null,
            "max_width": null,
            "order": null,
            "_view_module_version": "1.2.0",
            "grid_template_areas": null,
            "object_position": null,
            "object_fit": null,
            "grid_auto_columns": null,
            "margin": null,
            "display": null,
            "left": null
          }
        },
        "3e499525ff6c4fd987a711202c14eaa9": {
          "model_module": "@jupyter-widgets/controls",
          "model_name": "LabelModel",
          "state": {
            "_view_name": "LabelView",
            "style": "IPY_MODEL_7ea2566d6b564025a32c0c988a93c2e7",
            "_dom_classes": [],
            "description": "",
            "_model_name": "LabelModel",
            "placeholder": "​",
            "_view_module": "@jupyter-widgets/controls",
            "_model_module_version": "1.5.0",
            "value": " 0.01MB of 0.01MB uploaded (0.00MB deduped)\r",
            "_view_count": null,
            "_view_module_version": "1.5.0",
            "description_tooltip": null,
            "_model_module": "@jupyter-widgets/controls",
            "layout": "IPY_MODEL_acc21749ae7b4ddeb75fed54fd23dbcd"
          }
        },
        "c744427ffeaf412786c5fe31849fef50": {
          "model_module": "@jupyter-widgets/controls",
          "model_name": "FloatProgressModel",
          "state": {
            "_view_name": "ProgressView",
            "style": "IPY_MODEL_424152a0120a41fb93be4c2d9b5b5531",
            "_dom_classes": [],
            "description": "",
            "_model_name": "FloatProgressModel",
            "bar_style": "",
            "max": 1,
            "_view_module": "@jupyter-widgets/controls",
            "_model_module_version": "1.5.0",
            "value": 1,
            "_view_count": null,
            "_view_module_version": "1.5.0",
            "orientation": "horizontal",
            "min": 0,
            "description_tooltip": null,
            "_model_module": "@jupyter-widgets/controls",
            "layout": "IPY_MODEL_21e32fd392074fdfbffe10cb7be230ca"
          }
        },
        "7ea2566d6b564025a32c0c988a93c2e7": {
          "model_module": "@jupyter-widgets/controls",
          "model_name": "DescriptionStyleModel",
          "state": {
            "_view_name": "StyleView",
            "_model_name": "DescriptionStyleModel",
            "description_width": "",
            "_view_module": "@jupyter-widgets/base",
            "_model_module_version": "1.5.0",
            "_view_count": null,
            "_view_module_version": "1.2.0",
            "_model_module": "@jupyter-widgets/controls"
          }
        },
        "acc21749ae7b4ddeb75fed54fd23dbcd": {
          "model_module": "@jupyter-widgets/base",
          "model_name": "LayoutModel",
          "state": {
            "_view_name": "LayoutView",
            "grid_template_rows": null,
            "right": null,
            "justify_content": null,
            "_view_module": "@jupyter-widgets/base",
            "overflow": null,
            "_model_module_version": "1.2.0",
            "_view_count": null,
            "flex_flow": null,
            "width": null,
            "min_width": null,
            "border": null,
            "align_items": null,
            "bottom": null,
            "_model_module": "@jupyter-widgets/base",
            "top": null,
            "grid_column": null,
            "overflow_y": null,
            "overflow_x": null,
            "grid_auto_flow": null,
            "grid_area": null,
            "grid_template_columns": null,
            "flex": null,
            "_model_name": "LayoutModel",
            "justify_items": null,
            "grid_row": null,
            "max_height": null,
            "align_content": null,
            "visibility": null,
            "align_self": null,
            "height": null,
            "min_height": null,
            "padding": null,
            "grid_auto_rows": null,
            "grid_gap": null,
            "max_width": null,
            "order": null,
            "_view_module_version": "1.2.0",
            "grid_template_areas": null,
            "object_position": null,
            "object_fit": null,
            "grid_auto_columns": null,
            "margin": null,
            "display": null,
            "left": null
          }
        },
        "424152a0120a41fb93be4c2d9b5b5531": {
          "model_module": "@jupyter-widgets/controls",
          "model_name": "ProgressStyleModel",
          "state": {
            "_view_name": "StyleView",
            "_model_name": "ProgressStyleModel",
            "description_width": "",
            "_view_module": "@jupyter-widgets/base",
            "_model_module_version": "1.5.0",
            "_view_count": null,
            "_view_module_version": "1.2.0",
            "bar_color": null,
            "_model_module": "@jupyter-widgets/controls"
          }
        },
        "21e32fd392074fdfbffe10cb7be230ca": {
          "model_module": "@jupyter-widgets/base",
          "model_name": "LayoutModel",
          "state": {
            "_view_name": "LayoutView",
            "grid_template_rows": null,
            "right": null,
            "justify_content": null,
            "_view_module": "@jupyter-widgets/base",
            "overflow": null,
            "_model_module_version": "1.2.0",
            "_view_count": null,
            "flex_flow": null,
            "width": null,
            "min_width": null,
            "border": null,
            "align_items": null,
            "bottom": null,
            "_model_module": "@jupyter-widgets/base",
            "top": null,
            "grid_column": null,
            "overflow_y": null,
            "overflow_x": null,
            "grid_auto_flow": null,
            "grid_area": null,
            "grid_template_columns": null,
            "flex": null,
            "_model_name": "LayoutModel",
            "justify_items": null,
            "grid_row": null,
            "max_height": null,
            "align_content": null,
            "visibility": null,
            "align_self": null,
            "height": null,
            "min_height": null,
            "padding": null,
            "grid_auto_rows": null,
            "grid_gap": null,
            "max_width": null,
            "order": null,
            "_view_module_version": "1.2.0",
            "grid_template_areas": null,
            "object_position": null,
            "object_fit": null,
            "grid_auto_columns": null,
            "margin": null,
            "display": null,
            "left": null
          }
        },
        "bd9ed053116e4a64a2a469ebdf8716a8": {
          "model_module": "@jupyter-widgets/controls",
          "model_name": "VBoxModel",
          "state": {
            "_view_name": "VBoxView",
            "_dom_classes": [],
            "_model_name": "VBoxModel",
            "_view_module": "@jupyter-widgets/controls",
            "_model_module_version": "1.5.0",
            "_view_count": null,
            "_view_module_version": "1.5.0",
            "box_style": "",
            "layout": "IPY_MODEL_5a0256611b9a417cb18049d7aa52ad85",
            "_model_module": "@jupyter-widgets/controls",
            "children": [
              "IPY_MODEL_fb918aceb3b7421cb0a25576f79197c3",
              "IPY_MODEL_ebdc85346c8b40bbb82950a1c8a96d84"
            ]
          }
        },
        "5a0256611b9a417cb18049d7aa52ad85": {
          "model_module": "@jupyter-widgets/base",
          "model_name": "LayoutModel",
          "state": {
            "_view_name": "LayoutView",
            "grid_template_rows": null,
            "right": null,
            "justify_content": null,
            "_view_module": "@jupyter-widgets/base",
            "overflow": null,
            "_model_module_version": "1.2.0",
            "_view_count": null,
            "flex_flow": null,
            "width": null,
            "min_width": null,
            "border": null,
            "align_items": null,
            "bottom": null,
            "_model_module": "@jupyter-widgets/base",
            "top": null,
            "grid_column": null,
            "overflow_y": null,
            "overflow_x": null,
            "grid_auto_flow": null,
            "grid_area": null,
            "grid_template_columns": null,
            "flex": null,
            "_model_name": "LayoutModel",
            "justify_items": null,
            "grid_row": null,
            "max_height": null,
            "align_content": null,
            "visibility": null,
            "align_self": null,
            "height": null,
            "min_height": null,
            "padding": null,
            "grid_auto_rows": null,
            "grid_gap": null,
            "max_width": null,
            "order": null,
            "_view_module_version": "1.2.0",
            "grid_template_areas": null,
            "object_position": null,
            "object_fit": null,
            "grid_auto_columns": null,
            "margin": null,
            "display": null,
            "left": null
          }
        },
        "fb918aceb3b7421cb0a25576f79197c3": {
          "model_module": "@jupyter-widgets/controls",
          "model_name": "LabelModel",
          "state": {
            "_view_name": "LabelView",
            "style": "IPY_MODEL_99182c7763e54bc99b2bfcdd78a09c5b",
            "_dom_classes": [],
            "description": "",
            "_model_name": "LabelModel",
            "placeholder": "​",
            "_view_module": "@jupyter-widgets/controls",
            "_model_module_version": "1.5.0",
            "value": " 0.01MB of 0.01MB uploaded (0.00MB deduped)\r",
            "_view_count": null,
            "_view_module_version": "1.5.0",
            "description_tooltip": null,
            "_model_module": "@jupyter-widgets/controls",
            "layout": "IPY_MODEL_dea871389330476f972de37ee28f4eaf"
          }
        },
        "ebdc85346c8b40bbb82950a1c8a96d84": {
          "model_module": "@jupyter-widgets/controls",
          "model_name": "FloatProgressModel",
          "state": {
            "_view_name": "ProgressView",
            "style": "IPY_MODEL_b81c4d58b5c947768ccbf050bb996a5c",
            "_dom_classes": [],
            "description": "",
            "_model_name": "FloatProgressModel",
            "bar_style": "",
            "max": 1,
            "_view_module": "@jupyter-widgets/controls",
            "_model_module_version": "1.5.0",
            "value": 1,
            "_view_count": null,
            "_view_module_version": "1.5.0",
            "orientation": "horizontal",
            "min": 0,
            "description_tooltip": null,
            "_model_module": "@jupyter-widgets/controls",
            "layout": "IPY_MODEL_8098e1d403534860a01ba402c7e7e892"
          }
        },
        "99182c7763e54bc99b2bfcdd78a09c5b": {
          "model_module": "@jupyter-widgets/controls",
          "model_name": "DescriptionStyleModel",
          "state": {
            "_view_name": "StyleView",
            "_model_name": "DescriptionStyleModel",
            "description_width": "",
            "_view_module": "@jupyter-widgets/base",
            "_model_module_version": "1.5.0",
            "_view_count": null,
            "_view_module_version": "1.2.0",
            "_model_module": "@jupyter-widgets/controls"
          }
        },
        "dea871389330476f972de37ee28f4eaf": {
          "model_module": "@jupyter-widgets/base",
          "model_name": "LayoutModel",
          "state": {
            "_view_name": "LayoutView",
            "grid_template_rows": null,
            "right": null,
            "justify_content": null,
            "_view_module": "@jupyter-widgets/base",
            "overflow": null,
            "_model_module_version": "1.2.0",
            "_view_count": null,
            "flex_flow": null,
            "width": null,
            "min_width": null,
            "border": null,
            "align_items": null,
            "bottom": null,
            "_model_module": "@jupyter-widgets/base",
            "top": null,
            "grid_column": null,
            "overflow_y": null,
            "overflow_x": null,
            "grid_auto_flow": null,
            "grid_area": null,
            "grid_template_columns": null,
            "flex": null,
            "_model_name": "LayoutModel",
            "justify_items": null,
            "grid_row": null,
            "max_height": null,
            "align_content": null,
            "visibility": null,
            "align_self": null,
            "height": null,
            "min_height": null,
            "padding": null,
            "grid_auto_rows": null,
            "grid_gap": null,
            "max_width": null,
            "order": null,
            "_view_module_version": "1.2.0",
            "grid_template_areas": null,
            "object_position": null,
            "object_fit": null,
            "grid_auto_columns": null,
            "margin": null,
            "display": null,
            "left": null
          }
        },
        "b81c4d58b5c947768ccbf050bb996a5c": {
          "model_module": "@jupyter-widgets/controls",
          "model_name": "ProgressStyleModel",
          "state": {
            "_view_name": "StyleView",
            "_model_name": "ProgressStyleModel",
            "description_width": "",
            "_view_module": "@jupyter-widgets/base",
            "_model_module_version": "1.5.0",
            "_view_count": null,
            "_view_module_version": "1.2.0",
            "bar_color": null,
            "_model_module": "@jupyter-widgets/controls"
          }
        },
        "8098e1d403534860a01ba402c7e7e892": {
          "model_module": "@jupyter-widgets/base",
          "model_name": "LayoutModel",
          "state": {
            "_view_name": "LayoutView",
            "grid_template_rows": null,
            "right": null,
            "justify_content": null,
            "_view_module": "@jupyter-widgets/base",
            "overflow": null,
            "_model_module_version": "1.2.0",
            "_view_count": null,
            "flex_flow": null,
            "width": null,
            "min_width": null,
            "border": null,
            "align_items": null,
            "bottom": null,
            "_model_module": "@jupyter-widgets/base",
            "top": null,
            "grid_column": null,
            "overflow_y": null,
            "overflow_x": null,
            "grid_auto_flow": null,
            "grid_area": null,
            "grid_template_columns": null,
            "flex": null,
            "_model_name": "LayoutModel",
            "justify_items": null,
            "grid_row": null,
            "max_height": null,
            "align_content": null,
            "visibility": null,
            "align_self": null,
            "height": null,
            "min_height": null,
            "padding": null,
            "grid_auto_rows": null,
            "grid_gap": null,
            "max_width": null,
            "order": null,
            "_view_module_version": "1.2.0",
            "grid_template_areas": null,
            "object_position": null,
            "object_fit": null,
            "grid_auto_columns": null,
            "margin": null,
            "display": null,
            "left": null
          }
        },
        "88f1daa83d6b4aa49d921f03eb22395a": {
          "model_module": "@jupyter-widgets/controls",
          "model_name": "VBoxModel",
          "state": {
            "_view_name": "VBoxView",
            "_dom_classes": [],
            "_model_name": "VBoxModel",
            "_view_module": "@jupyter-widgets/controls",
            "_model_module_version": "1.5.0",
            "_view_count": null,
            "_view_module_version": "1.5.0",
            "box_style": "",
            "layout": "IPY_MODEL_a3e0b2d25bae4aaf85b67dd1ad2db951",
            "_model_module": "@jupyter-widgets/controls",
            "children": [
              "IPY_MODEL_fb4b3f54f0d9406487e4185241f30404",
              "IPY_MODEL_c21b9db47def476582b32b457ef422fe"
            ]
          }
        },
        "a3e0b2d25bae4aaf85b67dd1ad2db951": {
          "model_module": "@jupyter-widgets/base",
          "model_name": "LayoutModel",
          "state": {
            "_view_name": "LayoutView",
            "grid_template_rows": null,
            "right": null,
            "justify_content": null,
            "_view_module": "@jupyter-widgets/base",
            "overflow": null,
            "_model_module_version": "1.2.0",
            "_view_count": null,
            "flex_flow": null,
            "width": null,
            "min_width": null,
            "border": null,
            "align_items": null,
            "bottom": null,
            "_model_module": "@jupyter-widgets/base",
            "top": null,
            "grid_column": null,
            "overflow_y": null,
            "overflow_x": null,
            "grid_auto_flow": null,
            "grid_area": null,
            "grid_template_columns": null,
            "flex": null,
            "_model_name": "LayoutModel",
            "justify_items": null,
            "grid_row": null,
            "max_height": null,
            "align_content": null,
            "visibility": null,
            "align_self": null,
            "height": null,
            "min_height": null,
            "padding": null,
            "grid_auto_rows": null,
            "grid_gap": null,
            "max_width": null,
            "order": null,
            "_view_module_version": "1.2.0",
            "grid_template_areas": null,
            "object_position": null,
            "object_fit": null,
            "grid_auto_columns": null,
            "margin": null,
            "display": null,
            "left": null
          }
        },
        "fb4b3f54f0d9406487e4185241f30404": {
          "model_module": "@jupyter-widgets/controls",
          "model_name": "LabelModel",
          "state": {
            "_view_name": "LabelView",
            "style": "IPY_MODEL_c5b8f84e75084fe69a1243514d2dee52",
            "_dom_classes": [],
            "description": "",
            "_model_name": "LabelModel",
            "placeholder": "​",
            "_view_module": "@jupyter-widgets/controls",
            "_model_module_version": "1.5.0",
            "value": " 0.01MB of 0.01MB uploaded (0.00MB deduped)\r",
            "_view_count": null,
            "_view_module_version": "1.5.0",
            "description_tooltip": null,
            "_model_module": "@jupyter-widgets/controls",
            "layout": "IPY_MODEL_9be31ea69b464a1e91df81522a8d5e6f"
          }
        },
        "c21b9db47def476582b32b457ef422fe": {
          "model_module": "@jupyter-widgets/controls",
          "model_name": "FloatProgressModel",
          "state": {
            "_view_name": "ProgressView",
            "style": "IPY_MODEL_70efa503d42c4f8db6bd1a27ec33e5e9",
            "_dom_classes": [],
            "description": "",
            "_model_name": "FloatProgressModel",
            "bar_style": "",
            "max": 1,
            "_view_module": "@jupyter-widgets/controls",
            "_model_module_version": "1.5.0",
            "value": 1,
            "_view_count": null,
            "_view_module_version": "1.5.0",
            "orientation": "horizontal",
            "min": 0,
            "description_tooltip": null,
            "_model_module": "@jupyter-widgets/controls",
            "layout": "IPY_MODEL_a8ea25849a4c49099b340f3a51913bf8"
          }
        },
        "c5b8f84e75084fe69a1243514d2dee52": {
          "model_module": "@jupyter-widgets/controls",
          "model_name": "DescriptionStyleModel",
          "state": {
            "_view_name": "StyleView",
            "_model_name": "DescriptionStyleModel",
            "description_width": "",
            "_view_module": "@jupyter-widgets/base",
            "_model_module_version": "1.5.0",
            "_view_count": null,
            "_view_module_version": "1.2.0",
            "_model_module": "@jupyter-widgets/controls"
          }
        },
        "9be31ea69b464a1e91df81522a8d5e6f": {
          "model_module": "@jupyter-widgets/base",
          "model_name": "LayoutModel",
          "state": {
            "_view_name": "LayoutView",
            "grid_template_rows": null,
            "right": null,
            "justify_content": null,
            "_view_module": "@jupyter-widgets/base",
            "overflow": null,
            "_model_module_version": "1.2.0",
            "_view_count": null,
            "flex_flow": null,
            "width": null,
            "min_width": null,
            "border": null,
            "align_items": null,
            "bottom": null,
            "_model_module": "@jupyter-widgets/base",
            "top": null,
            "grid_column": null,
            "overflow_y": null,
            "overflow_x": null,
            "grid_auto_flow": null,
            "grid_area": null,
            "grid_template_columns": null,
            "flex": null,
            "_model_name": "LayoutModel",
            "justify_items": null,
            "grid_row": null,
            "max_height": null,
            "align_content": null,
            "visibility": null,
            "align_self": null,
            "height": null,
            "min_height": null,
            "padding": null,
            "grid_auto_rows": null,
            "grid_gap": null,
            "max_width": null,
            "order": null,
            "_view_module_version": "1.2.0",
            "grid_template_areas": null,
            "object_position": null,
            "object_fit": null,
            "grid_auto_columns": null,
            "margin": null,
            "display": null,
            "left": null
          }
        },
        "70efa503d42c4f8db6bd1a27ec33e5e9": {
          "model_module": "@jupyter-widgets/controls",
          "model_name": "ProgressStyleModel",
          "state": {
            "_view_name": "StyleView",
            "_model_name": "ProgressStyleModel",
            "description_width": "",
            "_view_module": "@jupyter-widgets/base",
            "_model_module_version": "1.5.0",
            "_view_count": null,
            "_view_module_version": "1.2.0",
            "bar_color": null,
            "_model_module": "@jupyter-widgets/controls"
          }
        },
        "a8ea25849a4c49099b340f3a51913bf8": {
          "model_module": "@jupyter-widgets/base",
          "model_name": "LayoutModel",
          "state": {
            "_view_name": "LayoutView",
            "grid_template_rows": null,
            "right": null,
            "justify_content": null,
            "_view_module": "@jupyter-widgets/base",
            "overflow": null,
            "_model_module_version": "1.2.0",
            "_view_count": null,
            "flex_flow": null,
            "width": null,
            "min_width": null,
            "border": null,
            "align_items": null,
            "bottom": null,
            "_model_module": "@jupyter-widgets/base",
            "top": null,
            "grid_column": null,
            "overflow_y": null,
            "overflow_x": null,
            "grid_auto_flow": null,
            "grid_area": null,
            "grid_template_columns": null,
            "flex": null,
            "_model_name": "LayoutModel",
            "justify_items": null,
            "grid_row": null,
            "max_height": null,
            "align_content": null,
            "visibility": null,
            "align_self": null,
            "height": null,
            "min_height": null,
            "padding": null,
            "grid_auto_rows": null,
            "grid_gap": null,
            "max_width": null,
            "order": null,
            "_view_module_version": "1.2.0",
            "grid_template_areas": null,
            "object_position": null,
            "object_fit": null,
            "grid_auto_columns": null,
            "margin": null,
            "display": null,
            "left": null
          }
        },
        "bf3927dda3a94375b0857f9dd5eb0dfd": {
          "model_module": "@jupyter-widgets/controls",
          "model_name": "VBoxModel",
          "state": {
            "_view_name": "VBoxView",
            "_dom_classes": [],
            "_model_name": "VBoxModel",
            "_view_module": "@jupyter-widgets/controls",
            "_model_module_version": "1.5.0",
            "_view_count": null,
            "_view_module_version": "1.5.0",
            "box_style": "",
            "layout": "IPY_MODEL_c76a8b3052cf46c49bbb482737c202ff",
            "_model_module": "@jupyter-widgets/controls",
            "children": [
              "IPY_MODEL_4e133623eaf144528f8cc46b51e64908",
              "IPY_MODEL_520612acfbbb4c2eaa7a35f3a6f69808"
            ]
          }
        },
        "c76a8b3052cf46c49bbb482737c202ff": {
          "model_module": "@jupyter-widgets/base",
          "model_name": "LayoutModel",
          "state": {
            "_view_name": "LayoutView",
            "grid_template_rows": null,
            "right": null,
            "justify_content": null,
            "_view_module": "@jupyter-widgets/base",
            "overflow": null,
            "_model_module_version": "1.2.0",
            "_view_count": null,
            "flex_flow": null,
            "width": null,
            "min_width": null,
            "border": null,
            "align_items": null,
            "bottom": null,
            "_model_module": "@jupyter-widgets/base",
            "top": null,
            "grid_column": null,
            "overflow_y": null,
            "overflow_x": null,
            "grid_auto_flow": null,
            "grid_area": null,
            "grid_template_columns": null,
            "flex": null,
            "_model_name": "LayoutModel",
            "justify_items": null,
            "grid_row": null,
            "max_height": null,
            "align_content": null,
            "visibility": null,
            "align_self": null,
            "height": null,
            "min_height": null,
            "padding": null,
            "grid_auto_rows": null,
            "grid_gap": null,
            "max_width": null,
            "order": null,
            "_view_module_version": "1.2.0",
            "grid_template_areas": null,
            "object_position": null,
            "object_fit": null,
            "grid_auto_columns": null,
            "margin": null,
            "display": null,
            "left": null
          }
        },
        "4e133623eaf144528f8cc46b51e64908": {
          "model_module": "@jupyter-widgets/controls",
          "model_name": "LabelModel",
          "state": {
            "_view_name": "LabelView",
            "style": "IPY_MODEL_0f26a4f4ed004cd1bac48717d340c00f",
            "_dom_classes": [],
            "description": "",
            "_model_name": "LabelModel",
            "placeholder": "​",
            "_view_module": "@jupyter-widgets/controls",
            "_model_module_version": "1.5.0",
            "value": " 0.01MB of 0.01MB uploaded (0.00MB deduped)\r",
            "_view_count": null,
            "_view_module_version": "1.5.0",
            "description_tooltip": null,
            "_model_module": "@jupyter-widgets/controls",
            "layout": "IPY_MODEL_3bfd5b29d0494875ad69523cc9585f38"
          }
        },
        "520612acfbbb4c2eaa7a35f3a6f69808": {
          "model_module": "@jupyter-widgets/controls",
          "model_name": "FloatProgressModel",
          "state": {
            "_view_name": "ProgressView",
            "style": "IPY_MODEL_3deb8d1f828f45a79fd1ad3d470f8c6b",
            "_dom_classes": [],
            "description": "",
            "_model_name": "FloatProgressModel",
            "bar_style": "",
            "max": 1,
            "_view_module": "@jupyter-widgets/controls",
            "_model_module_version": "1.5.0",
            "value": 1,
            "_view_count": null,
            "_view_module_version": "1.5.0",
            "orientation": "horizontal",
            "min": 0,
            "description_tooltip": null,
            "_model_module": "@jupyter-widgets/controls",
            "layout": "IPY_MODEL_c6e367c44b4c40cc9c6795d9a0b48f6a"
          }
        },
        "0f26a4f4ed004cd1bac48717d340c00f": {
          "model_module": "@jupyter-widgets/controls",
          "model_name": "DescriptionStyleModel",
          "state": {
            "_view_name": "StyleView",
            "_model_name": "DescriptionStyleModel",
            "description_width": "",
            "_view_module": "@jupyter-widgets/base",
            "_model_module_version": "1.5.0",
            "_view_count": null,
            "_view_module_version": "1.2.0",
            "_model_module": "@jupyter-widgets/controls"
          }
        },
        "3bfd5b29d0494875ad69523cc9585f38": {
          "model_module": "@jupyter-widgets/base",
          "model_name": "LayoutModel",
          "state": {
            "_view_name": "LayoutView",
            "grid_template_rows": null,
            "right": null,
            "justify_content": null,
            "_view_module": "@jupyter-widgets/base",
            "overflow": null,
            "_model_module_version": "1.2.0",
            "_view_count": null,
            "flex_flow": null,
            "width": null,
            "min_width": null,
            "border": null,
            "align_items": null,
            "bottom": null,
            "_model_module": "@jupyter-widgets/base",
            "top": null,
            "grid_column": null,
            "overflow_y": null,
            "overflow_x": null,
            "grid_auto_flow": null,
            "grid_area": null,
            "grid_template_columns": null,
            "flex": null,
            "_model_name": "LayoutModel",
            "justify_items": null,
            "grid_row": null,
            "max_height": null,
            "align_content": null,
            "visibility": null,
            "align_self": null,
            "height": null,
            "min_height": null,
            "padding": null,
            "grid_auto_rows": null,
            "grid_gap": null,
            "max_width": null,
            "order": null,
            "_view_module_version": "1.2.0",
            "grid_template_areas": null,
            "object_position": null,
            "object_fit": null,
            "grid_auto_columns": null,
            "margin": null,
            "display": null,
            "left": null
          }
        },
        "3deb8d1f828f45a79fd1ad3d470f8c6b": {
          "model_module": "@jupyter-widgets/controls",
          "model_name": "ProgressStyleModel",
          "state": {
            "_view_name": "StyleView",
            "_model_name": "ProgressStyleModel",
            "description_width": "",
            "_view_module": "@jupyter-widgets/base",
            "_model_module_version": "1.5.0",
            "_view_count": null,
            "_view_module_version": "1.2.0",
            "bar_color": null,
            "_model_module": "@jupyter-widgets/controls"
          }
        },
        "c6e367c44b4c40cc9c6795d9a0b48f6a": {
          "model_module": "@jupyter-widgets/base",
          "model_name": "LayoutModel",
          "state": {
            "_view_name": "LayoutView",
            "grid_template_rows": null,
            "right": null,
            "justify_content": null,
            "_view_module": "@jupyter-widgets/base",
            "overflow": null,
            "_model_module_version": "1.2.0",
            "_view_count": null,
            "flex_flow": null,
            "width": null,
            "min_width": null,
            "border": null,
            "align_items": null,
            "bottom": null,
            "_model_module": "@jupyter-widgets/base",
            "top": null,
            "grid_column": null,
            "overflow_y": null,
            "overflow_x": null,
            "grid_auto_flow": null,
            "grid_area": null,
            "grid_template_columns": null,
            "flex": null,
            "_model_name": "LayoutModel",
            "justify_items": null,
            "grid_row": null,
            "max_height": null,
            "align_content": null,
            "visibility": null,
            "align_self": null,
            "height": null,
            "min_height": null,
            "padding": null,
            "grid_auto_rows": null,
            "grid_gap": null,
            "max_width": null,
            "order": null,
            "_view_module_version": "1.2.0",
            "grid_template_areas": null,
            "object_position": null,
            "object_fit": null,
            "grid_auto_columns": null,
            "margin": null,
            "display": null,
            "left": null
          }
        },
        "3e4d9d136bf74e66b431d19705e7e91d": {
          "model_module": "@jupyter-widgets/controls",
          "model_name": "VBoxModel",
          "state": {
            "_view_name": "VBoxView",
            "_dom_classes": [],
            "_model_name": "VBoxModel",
            "_view_module": "@jupyter-widgets/controls",
            "_model_module_version": "1.5.0",
            "_view_count": null,
            "_view_module_version": "1.5.0",
            "box_style": "",
            "layout": "IPY_MODEL_22fad92233524ffe84e66bf562cc566b",
            "_model_module": "@jupyter-widgets/controls",
            "children": [
              "IPY_MODEL_11368bed4959440ab58ef96dfc86784a",
              "IPY_MODEL_3f4a437563b2414e95207b9be694277e"
            ]
          }
        },
        "22fad92233524ffe84e66bf562cc566b": {
          "model_module": "@jupyter-widgets/base",
          "model_name": "LayoutModel",
          "state": {
            "_view_name": "LayoutView",
            "grid_template_rows": null,
            "right": null,
            "justify_content": null,
            "_view_module": "@jupyter-widgets/base",
            "overflow": null,
            "_model_module_version": "1.2.0",
            "_view_count": null,
            "flex_flow": null,
            "width": null,
            "min_width": null,
            "border": null,
            "align_items": null,
            "bottom": null,
            "_model_module": "@jupyter-widgets/base",
            "top": null,
            "grid_column": null,
            "overflow_y": null,
            "overflow_x": null,
            "grid_auto_flow": null,
            "grid_area": null,
            "grid_template_columns": null,
            "flex": null,
            "_model_name": "LayoutModel",
            "justify_items": null,
            "grid_row": null,
            "max_height": null,
            "align_content": null,
            "visibility": null,
            "align_self": null,
            "height": null,
            "min_height": null,
            "padding": null,
            "grid_auto_rows": null,
            "grid_gap": null,
            "max_width": null,
            "order": null,
            "_view_module_version": "1.2.0",
            "grid_template_areas": null,
            "object_position": null,
            "object_fit": null,
            "grid_auto_columns": null,
            "margin": null,
            "display": null,
            "left": null
          }
        },
        "11368bed4959440ab58ef96dfc86784a": {
          "model_module": "@jupyter-widgets/controls",
          "model_name": "LabelModel",
          "state": {
            "_view_name": "LabelView",
            "style": "IPY_MODEL_fbd487af63f54a64a9c6ef06ef84760c",
            "_dom_classes": [],
            "description": "",
            "_model_name": "LabelModel",
            "placeholder": "​",
            "_view_module": "@jupyter-widgets/controls",
            "_model_module_version": "1.5.0",
            "value": " 0.01MB of 0.01MB uploaded (0.00MB deduped)\r",
            "_view_count": null,
            "_view_module_version": "1.5.0",
            "description_tooltip": null,
            "_model_module": "@jupyter-widgets/controls",
            "layout": "IPY_MODEL_ebff9a6199f14aa8a177da8a556c4bfd"
          }
        },
        "3f4a437563b2414e95207b9be694277e": {
          "model_module": "@jupyter-widgets/controls",
          "model_name": "FloatProgressModel",
          "state": {
            "_view_name": "ProgressView",
            "style": "IPY_MODEL_147bd1afe53948209d4405554be83f8a",
            "_dom_classes": [],
            "description": "",
            "_model_name": "FloatProgressModel",
            "bar_style": "",
            "max": 1,
            "_view_module": "@jupyter-widgets/controls",
            "_model_module_version": "1.5.0",
            "value": 1,
            "_view_count": null,
            "_view_module_version": "1.5.0",
            "orientation": "horizontal",
            "min": 0,
            "description_tooltip": null,
            "_model_module": "@jupyter-widgets/controls",
            "layout": "IPY_MODEL_e195ce72307c4f8b9ba490d0fab04a10"
          }
        },
        "fbd487af63f54a64a9c6ef06ef84760c": {
          "model_module": "@jupyter-widgets/controls",
          "model_name": "DescriptionStyleModel",
          "state": {
            "_view_name": "StyleView",
            "_model_name": "DescriptionStyleModel",
            "description_width": "",
            "_view_module": "@jupyter-widgets/base",
            "_model_module_version": "1.5.0",
            "_view_count": null,
            "_view_module_version": "1.2.0",
            "_model_module": "@jupyter-widgets/controls"
          }
        },
        "ebff9a6199f14aa8a177da8a556c4bfd": {
          "model_module": "@jupyter-widgets/base",
          "model_name": "LayoutModel",
          "state": {
            "_view_name": "LayoutView",
            "grid_template_rows": null,
            "right": null,
            "justify_content": null,
            "_view_module": "@jupyter-widgets/base",
            "overflow": null,
            "_model_module_version": "1.2.0",
            "_view_count": null,
            "flex_flow": null,
            "width": null,
            "min_width": null,
            "border": null,
            "align_items": null,
            "bottom": null,
            "_model_module": "@jupyter-widgets/base",
            "top": null,
            "grid_column": null,
            "overflow_y": null,
            "overflow_x": null,
            "grid_auto_flow": null,
            "grid_area": null,
            "grid_template_columns": null,
            "flex": null,
            "_model_name": "LayoutModel",
            "justify_items": null,
            "grid_row": null,
            "max_height": null,
            "align_content": null,
            "visibility": null,
            "align_self": null,
            "height": null,
            "min_height": null,
            "padding": null,
            "grid_auto_rows": null,
            "grid_gap": null,
            "max_width": null,
            "order": null,
            "_view_module_version": "1.2.0",
            "grid_template_areas": null,
            "object_position": null,
            "object_fit": null,
            "grid_auto_columns": null,
            "margin": null,
            "display": null,
            "left": null
          }
        },
        "147bd1afe53948209d4405554be83f8a": {
          "model_module": "@jupyter-widgets/controls",
          "model_name": "ProgressStyleModel",
          "state": {
            "_view_name": "StyleView",
            "_model_name": "ProgressStyleModel",
            "description_width": "",
            "_view_module": "@jupyter-widgets/base",
            "_model_module_version": "1.5.0",
            "_view_count": null,
            "_view_module_version": "1.2.0",
            "bar_color": null,
            "_model_module": "@jupyter-widgets/controls"
          }
        },
        "e195ce72307c4f8b9ba490d0fab04a10": {
          "model_module": "@jupyter-widgets/base",
          "model_name": "LayoutModel",
          "state": {
            "_view_name": "LayoutView",
            "grid_template_rows": null,
            "right": null,
            "justify_content": null,
            "_view_module": "@jupyter-widgets/base",
            "overflow": null,
            "_model_module_version": "1.2.0",
            "_view_count": null,
            "flex_flow": null,
            "width": null,
            "min_width": null,
            "border": null,
            "align_items": null,
            "bottom": null,
            "_model_module": "@jupyter-widgets/base",
            "top": null,
            "grid_column": null,
            "overflow_y": null,
            "overflow_x": null,
            "grid_auto_flow": null,
            "grid_area": null,
            "grid_template_columns": null,
            "flex": null,
            "_model_name": "LayoutModel",
            "justify_items": null,
            "grid_row": null,
            "max_height": null,
            "align_content": null,
            "visibility": null,
            "align_self": null,
            "height": null,
            "min_height": null,
            "padding": null,
            "grid_auto_rows": null,
            "grid_gap": null,
            "max_width": null,
            "order": null,
            "_view_module_version": "1.2.0",
            "grid_template_areas": null,
            "object_position": null,
            "object_fit": null,
            "grid_auto_columns": null,
            "margin": null,
            "display": null,
            "left": null
          }
        },
        "4ed86d3f199c425089f5235b7d8b3797": {
          "model_module": "@jupyter-widgets/controls",
          "model_name": "VBoxModel",
          "state": {
            "_view_name": "VBoxView",
            "_dom_classes": [],
            "_model_name": "VBoxModel",
            "_view_module": "@jupyter-widgets/controls",
            "_model_module_version": "1.5.0",
            "_view_count": null,
            "_view_module_version": "1.5.0",
            "box_style": "",
            "layout": "IPY_MODEL_57cf4d6b30c14d049a4536f1eedd1878",
            "_model_module": "@jupyter-widgets/controls",
            "children": [
              "IPY_MODEL_569ffdf9d71e41528de71a70f2d52c8b",
              "IPY_MODEL_e7897c4844cc487e862de8c885e1f650"
            ]
          }
        },
        "57cf4d6b30c14d049a4536f1eedd1878": {
          "model_module": "@jupyter-widgets/base",
          "model_name": "LayoutModel",
          "state": {
            "_view_name": "LayoutView",
            "grid_template_rows": null,
            "right": null,
            "justify_content": null,
            "_view_module": "@jupyter-widgets/base",
            "overflow": null,
            "_model_module_version": "1.2.0",
            "_view_count": null,
            "flex_flow": null,
            "width": null,
            "min_width": null,
            "border": null,
            "align_items": null,
            "bottom": null,
            "_model_module": "@jupyter-widgets/base",
            "top": null,
            "grid_column": null,
            "overflow_y": null,
            "overflow_x": null,
            "grid_auto_flow": null,
            "grid_area": null,
            "grid_template_columns": null,
            "flex": null,
            "_model_name": "LayoutModel",
            "justify_items": null,
            "grid_row": null,
            "max_height": null,
            "align_content": null,
            "visibility": null,
            "align_self": null,
            "height": null,
            "min_height": null,
            "padding": null,
            "grid_auto_rows": null,
            "grid_gap": null,
            "max_width": null,
            "order": null,
            "_view_module_version": "1.2.0",
            "grid_template_areas": null,
            "object_position": null,
            "object_fit": null,
            "grid_auto_columns": null,
            "margin": null,
            "display": null,
            "left": null
          }
        },
        "569ffdf9d71e41528de71a70f2d52c8b": {
          "model_module": "@jupyter-widgets/controls",
          "model_name": "LabelModel",
          "state": {
            "_view_name": "LabelView",
            "style": "IPY_MODEL_5352452d7d034bf6853fdad6fd18cf30",
            "_dom_classes": [],
            "description": "",
            "_model_name": "LabelModel",
            "placeholder": "​",
            "_view_module": "@jupyter-widgets/controls",
            "_model_module_version": "1.5.0",
            "value": " 0.01MB of 0.01MB uploaded (0.00MB deduped)\r",
            "_view_count": null,
            "_view_module_version": "1.5.0",
            "description_tooltip": null,
            "_model_module": "@jupyter-widgets/controls",
            "layout": "IPY_MODEL_ef92126624334f6094d1efdef9f25360"
          }
        },
        "e7897c4844cc487e862de8c885e1f650": {
          "model_module": "@jupyter-widgets/controls",
          "model_name": "FloatProgressModel",
          "state": {
            "_view_name": "ProgressView",
            "style": "IPY_MODEL_54c95f1e76f14e72aef8395c3f6e3877",
            "_dom_classes": [],
            "description": "",
            "_model_name": "FloatProgressModel",
            "bar_style": "",
            "max": 1,
            "_view_module": "@jupyter-widgets/controls",
            "_model_module_version": "1.5.0",
            "value": 1,
            "_view_count": null,
            "_view_module_version": "1.5.0",
            "orientation": "horizontal",
            "min": 0,
            "description_tooltip": null,
            "_model_module": "@jupyter-widgets/controls",
            "layout": "IPY_MODEL_3f8a0fcdca5e47dfb59627056d5b7f9b"
          }
        },
        "5352452d7d034bf6853fdad6fd18cf30": {
          "model_module": "@jupyter-widgets/controls",
          "model_name": "DescriptionStyleModel",
          "state": {
            "_view_name": "StyleView",
            "_model_name": "DescriptionStyleModel",
            "description_width": "",
            "_view_module": "@jupyter-widgets/base",
            "_model_module_version": "1.5.0",
            "_view_count": null,
            "_view_module_version": "1.2.0",
            "_model_module": "@jupyter-widgets/controls"
          }
        },
        "ef92126624334f6094d1efdef9f25360": {
          "model_module": "@jupyter-widgets/base",
          "model_name": "LayoutModel",
          "state": {
            "_view_name": "LayoutView",
            "grid_template_rows": null,
            "right": null,
            "justify_content": null,
            "_view_module": "@jupyter-widgets/base",
            "overflow": null,
            "_model_module_version": "1.2.0",
            "_view_count": null,
            "flex_flow": null,
            "width": null,
            "min_width": null,
            "border": null,
            "align_items": null,
            "bottom": null,
            "_model_module": "@jupyter-widgets/base",
            "top": null,
            "grid_column": null,
            "overflow_y": null,
            "overflow_x": null,
            "grid_auto_flow": null,
            "grid_area": null,
            "grid_template_columns": null,
            "flex": null,
            "_model_name": "LayoutModel",
            "justify_items": null,
            "grid_row": null,
            "max_height": null,
            "align_content": null,
            "visibility": null,
            "align_self": null,
            "height": null,
            "min_height": null,
            "padding": null,
            "grid_auto_rows": null,
            "grid_gap": null,
            "max_width": null,
            "order": null,
            "_view_module_version": "1.2.0",
            "grid_template_areas": null,
            "object_position": null,
            "object_fit": null,
            "grid_auto_columns": null,
            "margin": null,
            "display": null,
            "left": null
          }
        },
        "54c95f1e76f14e72aef8395c3f6e3877": {
          "model_module": "@jupyter-widgets/controls",
          "model_name": "ProgressStyleModel",
          "state": {
            "_view_name": "StyleView",
            "_model_name": "ProgressStyleModel",
            "description_width": "",
            "_view_module": "@jupyter-widgets/base",
            "_model_module_version": "1.5.0",
            "_view_count": null,
            "_view_module_version": "1.2.0",
            "bar_color": null,
            "_model_module": "@jupyter-widgets/controls"
          }
        },
        "3f8a0fcdca5e47dfb59627056d5b7f9b": {
          "model_module": "@jupyter-widgets/base",
          "model_name": "LayoutModel",
          "state": {
            "_view_name": "LayoutView",
            "grid_template_rows": null,
            "right": null,
            "justify_content": null,
            "_view_module": "@jupyter-widgets/base",
            "overflow": null,
            "_model_module_version": "1.2.0",
            "_view_count": null,
            "flex_flow": null,
            "width": null,
            "min_width": null,
            "border": null,
            "align_items": null,
            "bottom": null,
            "_model_module": "@jupyter-widgets/base",
            "top": null,
            "grid_column": null,
            "overflow_y": null,
            "overflow_x": null,
            "grid_auto_flow": null,
            "grid_area": null,
            "grid_template_columns": null,
            "flex": null,
            "_model_name": "LayoutModel",
            "justify_items": null,
            "grid_row": null,
            "max_height": null,
            "align_content": null,
            "visibility": null,
            "align_self": null,
            "height": null,
            "min_height": null,
            "padding": null,
            "grid_auto_rows": null,
            "grid_gap": null,
            "max_width": null,
            "order": null,
            "_view_module_version": "1.2.0",
            "grid_template_areas": null,
            "object_position": null,
            "object_fit": null,
            "grid_auto_columns": null,
            "margin": null,
            "display": null,
            "left": null
          }
        },
        "c73143669c944f108ea5c4fcba6676ac": {
          "model_module": "@jupyter-widgets/controls",
          "model_name": "VBoxModel",
          "state": {
            "_view_name": "VBoxView",
            "_dom_classes": [],
            "_model_name": "VBoxModel",
            "_view_module": "@jupyter-widgets/controls",
            "_model_module_version": "1.5.0",
            "_view_count": null,
            "_view_module_version": "1.5.0",
            "box_style": "",
            "layout": "IPY_MODEL_1e5fb06e32774e2a95e36dba2a5b5630",
            "_model_module": "@jupyter-widgets/controls",
            "children": [
              "IPY_MODEL_67b01c22a5d549ee93f0dab65d803aba",
              "IPY_MODEL_c5cc04598adf46f583857f115029bbc7"
            ]
          }
        },
        "1e5fb06e32774e2a95e36dba2a5b5630": {
          "model_module": "@jupyter-widgets/base",
          "model_name": "LayoutModel",
          "state": {
            "_view_name": "LayoutView",
            "grid_template_rows": null,
            "right": null,
            "justify_content": null,
            "_view_module": "@jupyter-widgets/base",
            "overflow": null,
            "_model_module_version": "1.2.0",
            "_view_count": null,
            "flex_flow": null,
            "width": null,
            "min_width": null,
            "border": null,
            "align_items": null,
            "bottom": null,
            "_model_module": "@jupyter-widgets/base",
            "top": null,
            "grid_column": null,
            "overflow_y": null,
            "overflow_x": null,
            "grid_auto_flow": null,
            "grid_area": null,
            "grid_template_columns": null,
            "flex": null,
            "_model_name": "LayoutModel",
            "justify_items": null,
            "grid_row": null,
            "max_height": null,
            "align_content": null,
            "visibility": null,
            "align_self": null,
            "height": null,
            "min_height": null,
            "padding": null,
            "grid_auto_rows": null,
            "grid_gap": null,
            "max_width": null,
            "order": null,
            "_view_module_version": "1.2.0",
            "grid_template_areas": null,
            "object_position": null,
            "object_fit": null,
            "grid_auto_columns": null,
            "margin": null,
            "display": null,
            "left": null
          }
        },
        "67b01c22a5d549ee93f0dab65d803aba": {
          "model_module": "@jupyter-widgets/controls",
          "model_name": "LabelModel",
          "state": {
            "_view_name": "LabelView",
            "style": "IPY_MODEL_9fda1268bdd24a4ab132c41be0d79d14",
            "_dom_classes": [],
            "description": "",
            "_model_name": "LabelModel",
            "placeholder": "​",
            "_view_module": "@jupyter-widgets/controls",
            "_model_module_version": "1.5.0",
            "value": " 0.01MB of 0.01MB uploaded (0.00MB deduped)\r",
            "_view_count": null,
            "_view_module_version": "1.5.0",
            "description_tooltip": null,
            "_model_module": "@jupyter-widgets/controls",
            "layout": "IPY_MODEL_9b9bdd1139b240c481ae70d41597afce"
          }
        },
        "c5cc04598adf46f583857f115029bbc7": {
          "model_module": "@jupyter-widgets/controls",
          "model_name": "FloatProgressModel",
          "state": {
            "_view_name": "ProgressView",
            "style": "IPY_MODEL_e467cd68dcd24750aac901d969cbc8ee",
            "_dom_classes": [],
            "description": "",
            "_model_name": "FloatProgressModel",
            "bar_style": "",
            "max": 1,
            "_view_module": "@jupyter-widgets/controls",
            "_model_module_version": "1.5.0",
            "value": 1,
            "_view_count": null,
            "_view_module_version": "1.5.0",
            "orientation": "horizontal",
            "min": 0,
            "description_tooltip": null,
            "_model_module": "@jupyter-widgets/controls",
            "layout": "IPY_MODEL_f59bc9467fc34da09e3c70e791cf8b78"
          }
        },
        "9fda1268bdd24a4ab132c41be0d79d14": {
          "model_module": "@jupyter-widgets/controls",
          "model_name": "DescriptionStyleModel",
          "state": {
            "_view_name": "StyleView",
            "_model_name": "DescriptionStyleModel",
            "description_width": "",
            "_view_module": "@jupyter-widgets/base",
            "_model_module_version": "1.5.0",
            "_view_count": null,
            "_view_module_version": "1.2.0",
            "_model_module": "@jupyter-widgets/controls"
          }
        },
        "9b9bdd1139b240c481ae70d41597afce": {
          "model_module": "@jupyter-widgets/base",
          "model_name": "LayoutModel",
          "state": {
            "_view_name": "LayoutView",
            "grid_template_rows": null,
            "right": null,
            "justify_content": null,
            "_view_module": "@jupyter-widgets/base",
            "overflow": null,
            "_model_module_version": "1.2.0",
            "_view_count": null,
            "flex_flow": null,
            "width": null,
            "min_width": null,
            "border": null,
            "align_items": null,
            "bottom": null,
            "_model_module": "@jupyter-widgets/base",
            "top": null,
            "grid_column": null,
            "overflow_y": null,
            "overflow_x": null,
            "grid_auto_flow": null,
            "grid_area": null,
            "grid_template_columns": null,
            "flex": null,
            "_model_name": "LayoutModel",
            "justify_items": null,
            "grid_row": null,
            "max_height": null,
            "align_content": null,
            "visibility": null,
            "align_self": null,
            "height": null,
            "min_height": null,
            "padding": null,
            "grid_auto_rows": null,
            "grid_gap": null,
            "max_width": null,
            "order": null,
            "_view_module_version": "1.2.0",
            "grid_template_areas": null,
            "object_position": null,
            "object_fit": null,
            "grid_auto_columns": null,
            "margin": null,
            "display": null,
            "left": null
          }
        },
        "e467cd68dcd24750aac901d969cbc8ee": {
          "model_module": "@jupyter-widgets/controls",
          "model_name": "ProgressStyleModel",
          "state": {
            "_view_name": "StyleView",
            "_model_name": "ProgressStyleModel",
            "description_width": "",
            "_view_module": "@jupyter-widgets/base",
            "_model_module_version": "1.5.0",
            "_view_count": null,
            "_view_module_version": "1.2.0",
            "bar_color": null,
            "_model_module": "@jupyter-widgets/controls"
          }
        },
        "f59bc9467fc34da09e3c70e791cf8b78": {
          "model_module": "@jupyter-widgets/base",
          "model_name": "LayoutModel",
          "state": {
            "_view_name": "LayoutView",
            "grid_template_rows": null,
            "right": null,
            "justify_content": null,
            "_view_module": "@jupyter-widgets/base",
            "overflow": null,
            "_model_module_version": "1.2.0",
            "_view_count": null,
            "flex_flow": null,
            "width": null,
            "min_width": null,
            "border": null,
            "align_items": null,
            "bottom": null,
            "_model_module": "@jupyter-widgets/base",
            "top": null,
            "grid_column": null,
            "overflow_y": null,
            "overflow_x": null,
            "grid_auto_flow": null,
            "grid_area": null,
            "grid_template_columns": null,
            "flex": null,
            "_model_name": "LayoutModel",
            "justify_items": null,
            "grid_row": null,
            "max_height": null,
            "align_content": null,
            "visibility": null,
            "align_self": null,
            "height": null,
            "min_height": null,
            "padding": null,
            "grid_auto_rows": null,
            "grid_gap": null,
            "max_width": null,
            "order": null,
            "_view_module_version": "1.2.0",
            "grid_template_areas": null,
            "object_position": null,
            "object_fit": null,
            "grid_auto_columns": null,
            "margin": null,
            "display": null,
            "left": null
          }
        },
        "ebedd7f9515044a3a873667020f8a023": {
          "model_module": "@jupyter-widgets/controls",
          "model_name": "VBoxModel",
          "state": {
            "_view_name": "VBoxView",
            "_dom_classes": [],
            "_model_name": "VBoxModel",
            "_view_module": "@jupyter-widgets/controls",
            "_model_module_version": "1.5.0",
            "_view_count": null,
            "_view_module_version": "1.5.0",
            "box_style": "",
            "layout": "IPY_MODEL_3340e26ab64c49f5b2354002e138835e",
            "_model_module": "@jupyter-widgets/controls",
            "children": [
              "IPY_MODEL_ce95c917e6e94748a93ce3c4442d1080",
              "IPY_MODEL_58c6ea56372346bc8d3ef22247b875b6"
            ]
          }
        },
        "3340e26ab64c49f5b2354002e138835e": {
          "model_module": "@jupyter-widgets/base",
          "model_name": "LayoutModel",
          "state": {
            "_view_name": "LayoutView",
            "grid_template_rows": null,
            "right": null,
            "justify_content": null,
            "_view_module": "@jupyter-widgets/base",
            "overflow": null,
            "_model_module_version": "1.2.0",
            "_view_count": null,
            "flex_flow": null,
            "width": null,
            "min_width": null,
            "border": null,
            "align_items": null,
            "bottom": null,
            "_model_module": "@jupyter-widgets/base",
            "top": null,
            "grid_column": null,
            "overflow_y": null,
            "overflow_x": null,
            "grid_auto_flow": null,
            "grid_area": null,
            "grid_template_columns": null,
            "flex": null,
            "_model_name": "LayoutModel",
            "justify_items": null,
            "grid_row": null,
            "max_height": null,
            "align_content": null,
            "visibility": null,
            "align_self": null,
            "height": null,
            "min_height": null,
            "padding": null,
            "grid_auto_rows": null,
            "grid_gap": null,
            "max_width": null,
            "order": null,
            "_view_module_version": "1.2.0",
            "grid_template_areas": null,
            "object_position": null,
            "object_fit": null,
            "grid_auto_columns": null,
            "margin": null,
            "display": null,
            "left": null
          }
        },
        "ce95c917e6e94748a93ce3c4442d1080": {
          "model_module": "@jupyter-widgets/controls",
          "model_name": "LabelModel",
          "state": {
            "_view_name": "LabelView",
            "style": "IPY_MODEL_2bf60894afe14a1ea91356971be73267",
            "_dom_classes": [],
            "description": "",
            "_model_name": "LabelModel",
            "placeholder": "​",
            "_view_module": "@jupyter-widgets/controls",
            "_model_module_version": "1.5.0",
            "value": " 0.01MB of 0.01MB uploaded (0.00MB deduped)\r",
            "_view_count": null,
            "_view_module_version": "1.5.0",
            "description_tooltip": null,
            "_model_module": "@jupyter-widgets/controls",
            "layout": "IPY_MODEL_956e9a0903294650b19dae0db2df797a"
          }
        },
        "58c6ea56372346bc8d3ef22247b875b6": {
          "model_module": "@jupyter-widgets/controls",
          "model_name": "FloatProgressModel",
          "state": {
            "_view_name": "ProgressView",
            "style": "IPY_MODEL_450be7e7584a4b51874a24a72bf5a95c",
            "_dom_classes": [],
            "description": "",
            "_model_name": "FloatProgressModel",
            "bar_style": "",
            "max": 1,
            "_view_module": "@jupyter-widgets/controls",
            "_model_module_version": "1.5.0",
            "value": 1,
            "_view_count": null,
            "_view_module_version": "1.5.0",
            "orientation": "horizontal",
            "min": 0,
            "description_tooltip": null,
            "_model_module": "@jupyter-widgets/controls",
            "layout": "IPY_MODEL_b5e579e480154cfb8e074dd7fdfb94dd"
          }
        },
        "2bf60894afe14a1ea91356971be73267": {
          "model_module": "@jupyter-widgets/controls",
          "model_name": "DescriptionStyleModel",
          "state": {
            "_view_name": "StyleView",
            "_model_name": "DescriptionStyleModel",
            "description_width": "",
            "_view_module": "@jupyter-widgets/base",
            "_model_module_version": "1.5.0",
            "_view_count": null,
            "_view_module_version": "1.2.0",
            "_model_module": "@jupyter-widgets/controls"
          }
        },
        "956e9a0903294650b19dae0db2df797a": {
          "model_module": "@jupyter-widgets/base",
          "model_name": "LayoutModel",
          "state": {
            "_view_name": "LayoutView",
            "grid_template_rows": null,
            "right": null,
            "justify_content": null,
            "_view_module": "@jupyter-widgets/base",
            "overflow": null,
            "_model_module_version": "1.2.0",
            "_view_count": null,
            "flex_flow": null,
            "width": null,
            "min_width": null,
            "border": null,
            "align_items": null,
            "bottom": null,
            "_model_module": "@jupyter-widgets/base",
            "top": null,
            "grid_column": null,
            "overflow_y": null,
            "overflow_x": null,
            "grid_auto_flow": null,
            "grid_area": null,
            "grid_template_columns": null,
            "flex": null,
            "_model_name": "LayoutModel",
            "justify_items": null,
            "grid_row": null,
            "max_height": null,
            "align_content": null,
            "visibility": null,
            "align_self": null,
            "height": null,
            "min_height": null,
            "padding": null,
            "grid_auto_rows": null,
            "grid_gap": null,
            "max_width": null,
            "order": null,
            "_view_module_version": "1.2.0",
            "grid_template_areas": null,
            "object_position": null,
            "object_fit": null,
            "grid_auto_columns": null,
            "margin": null,
            "display": null,
            "left": null
          }
        },
        "450be7e7584a4b51874a24a72bf5a95c": {
          "model_module": "@jupyter-widgets/controls",
          "model_name": "ProgressStyleModel",
          "state": {
            "_view_name": "StyleView",
            "_model_name": "ProgressStyleModel",
            "description_width": "",
            "_view_module": "@jupyter-widgets/base",
            "_model_module_version": "1.5.0",
            "_view_count": null,
            "_view_module_version": "1.2.0",
            "bar_color": null,
            "_model_module": "@jupyter-widgets/controls"
          }
        },
        "b5e579e480154cfb8e074dd7fdfb94dd": {
          "model_module": "@jupyter-widgets/base",
          "model_name": "LayoutModel",
          "state": {
            "_view_name": "LayoutView",
            "grid_template_rows": null,
            "right": null,
            "justify_content": null,
            "_view_module": "@jupyter-widgets/base",
            "overflow": null,
            "_model_module_version": "1.2.0",
            "_view_count": null,
            "flex_flow": null,
            "width": null,
            "min_width": null,
            "border": null,
            "align_items": null,
            "bottom": null,
            "_model_module": "@jupyter-widgets/base",
            "top": null,
            "grid_column": null,
            "overflow_y": null,
            "overflow_x": null,
            "grid_auto_flow": null,
            "grid_area": null,
            "grid_template_columns": null,
            "flex": null,
            "_model_name": "LayoutModel",
            "justify_items": null,
            "grid_row": null,
            "max_height": null,
            "align_content": null,
            "visibility": null,
            "align_self": null,
            "height": null,
            "min_height": null,
            "padding": null,
            "grid_auto_rows": null,
            "grid_gap": null,
            "max_width": null,
            "order": null,
            "_view_module_version": "1.2.0",
            "grid_template_areas": null,
            "object_position": null,
            "object_fit": null,
            "grid_auto_columns": null,
            "margin": null,
            "display": null,
            "left": null
          }
        },
        "b2278ce5447c47609339ea2db009e11b": {
          "model_module": "@jupyter-widgets/controls",
          "model_name": "VBoxModel",
          "state": {
            "_view_name": "VBoxView",
            "_dom_classes": [],
            "_model_name": "VBoxModel",
            "_view_module": "@jupyter-widgets/controls",
            "_model_module_version": "1.5.0",
            "_view_count": null,
            "_view_module_version": "1.5.0",
            "box_style": "",
            "layout": "IPY_MODEL_770602dc12634d66bfb8403a0f570231",
            "_model_module": "@jupyter-widgets/controls",
            "children": [
              "IPY_MODEL_9b69495f719646d8acd3ae3e9e5d867f",
              "IPY_MODEL_68656e75dac14612a39d5bbea1102260"
            ]
          }
        },
        "770602dc12634d66bfb8403a0f570231": {
          "model_module": "@jupyter-widgets/base",
          "model_name": "LayoutModel",
          "state": {
            "_view_name": "LayoutView",
            "grid_template_rows": null,
            "right": null,
            "justify_content": null,
            "_view_module": "@jupyter-widgets/base",
            "overflow": null,
            "_model_module_version": "1.2.0",
            "_view_count": null,
            "flex_flow": null,
            "width": null,
            "min_width": null,
            "border": null,
            "align_items": null,
            "bottom": null,
            "_model_module": "@jupyter-widgets/base",
            "top": null,
            "grid_column": null,
            "overflow_y": null,
            "overflow_x": null,
            "grid_auto_flow": null,
            "grid_area": null,
            "grid_template_columns": null,
            "flex": null,
            "_model_name": "LayoutModel",
            "justify_items": null,
            "grid_row": null,
            "max_height": null,
            "align_content": null,
            "visibility": null,
            "align_self": null,
            "height": null,
            "min_height": null,
            "padding": null,
            "grid_auto_rows": null,
            "grid_gap": null,
            "max_width": null,
            "order": null,
            "_view_module_version": "1.2.0",
            "grid_template_areas": null,
            "object_position": null,
            "object_fit": null,
            "grid_auto_columns": null,
            "margin": null,
            "display": null,
            "left": null
          }
        },
        "9b69495f719646d8acd3ae3e9e5d867f": {
          "model_module": "@jupyter-widgets/controls",
          "model_name": "LabelModel",
          "state": {
            "_view_name": "LabelView",
            "style": "IPY_MODEL_68a654f5ee8240dd8ea472aefef076cc",
            "_dom_classes": [],
            "description": "",
            "_model_name": "LabelModel",
            "placeholder": "​",
            "_view_module": "@jupyter-widgets/controls",
            "_model_module_version": "1.5.0",
            "value": " 0.01MB of 0.01MB uploaded (0.00MB deduped)\r",
            "_view_count": null,
            "_view_module_version": "1.5.0",
            "description_tooltip": null,
            "_model_module": "@jupyter-widgets/controls",
            "layout": "IPY_MODEL_8dba3e2b60f24b9083cd7f648d99a2ca"
          }
        },
        "68656e75dac14612a39d5bbea1102260": {
          "model_module": "@jupyter-widgets/controls",
          "model_name": "FloatProgressModel",
          "state": {
            "_view_name": "ProgressView",
            "style": "IPY_MODEL_acc22c36221a4473b79e753b688daeb6",
            "_dom_classes": [],
            "description": "",
            "_model_name": "FloatProgressModel",
            "bar_style": "",
            "max": 1,
            "_view_module": "@jupyter-widgets/controls",
            "_model_module_version": "1.5.0",
            "value": 1,
            "_view_count": null,
            "_view_module_version": "1.5.0",
            "orientation": "horizontal",
            "min": 0,
            "description_tooltip": null,
            "_model_module": "@jupyter-widgets/controls",
            "layout": "IPY_MODEL_b627974cb262473a84d890477b7b97a5"
          }
        },
        "68a654f5ee8240dd8ea472aefef076cc": {
          "model_module": "@jupyter-widgets/controls",
          "model_name": "DescriptionStyleModel",
          "state": {
            "_view_name": "StyleView",
            "_model_name": "DescriptionStyleModel",
            "description_width": "",
            "_view_module": "@jupyter-widgets/base",
            "_model_module_version": "1.5.0",
            "_view_count": null,
            "_view_module_version": "1.2.0",
            "_model_module": "@jupyter-widgets/controls"
          }
        },
        "8dba3e2b60f24b9083cd7f648d99a2ca": {
          "model_module": "@jupyter-widgets/base",
          "model_name": "LayoutModel",
          "state": {
            "_view_name": "LayoutView",
            "grid_template_rows": null,
            "right": null,
            "justify_content": null,
            "_view_module": "@jupyter-widgets/base",
            "overflow": null,
            "_model_module_version": "1.2.0",
            "_view_count": null,
            "flex_flow": null,
            "width": null,
            "min_width": null,
            "border": null,
            "align_items": null,
            "bottom": null,
            "_model_module": "@jupyter-widgets/base",
            "top": null,
            "grid_column": null,
            "overflow_y": null,
            "overflow_x": null,
            "grid_auto_flow": null,
            "grid_area": null,
            "grid_template_columns": null,
            "flex": null,
            "_model_name": "LayoutModel",
            "justify_items": null,
            "grid_row": null,
            "max_height": null,
            "align_content": null,
            "visibility": null,
            "align_self": null,
            "height": null,
            "min_height": null,
            "padding": null,
            "grid_auto_rows": null,
            "grid_gap": null,
            "max_width": null,
            "order": null,
            "_view_module_version": "1.2.0",
            "grid_template_areas": null,
            "object_position": null,
            "object_fit": null,
            "grid_auto_columns": null,
            "margin": null,
            "display": null,
            "left": null
          }
        },
        "acc22c36221a4473b79e753b688daeb6": {
          "model_module": "@jupyter-widgets/controls",
          "model_name": "ProgressStyleModel",
          "state": {
            "_view_name": "StyleView",
            "_model_name": "ProgressStyleModel",
            "description_width": "",
            "_view_module": "@jupyter-widgets/base",
            "_model_module_version": "1.5.0",
            "_view_count": null,
            "_view_module_version": "1.2.0",
            "bar_color": null,
            "_model_module": "@jupyter-widgets/controls"
          }
        },
        "b627974cb262473a84d890477b7b97a5": {
          "model_module": "@jupyter-widgets/base",
          "model_name": "LayoutModel",
          "state": {
            "_view_name": "LayoutView",
            "grid_template_rows": null,
            "right": null,
            "justify_content": null,
            "_view_module": "@jupyter-widgets/base",
            "overflow": null,
            "_model_module_version": "1.2.0",
            "_view_count": null,
            "flex_flow": null,
            "width": null,
            "min_width": null,
            "border": null,
            "align_items": null,
            "bottom": null,
            "_model_module": "@jupyter-widgets/base",
            "top": null,
            "grid_column": null,
            "overflow_y": null,
            "overflow_x": null,
            "grid_auto_flow": null,
            "grid_area": null,
            "grid_template_columns": null,
            "flex": null,
            "_model_name": "LayoutModel",
            "justify_items": null,
            "grid_row": null,
            "max_height": null,
            "align_content": null,
            "visibility": null,
            "align_self": null,
            "height": null,
            "min_height": null,
            "padding": null,
            "grid_auto_rows": null,
            "grid_gap": null,
            "max_width": null,
            "order": null,
            "_view_module_version": "1.2.0",
            "grid_template_areas": null,
            "object_position": null,
            "object_fit": null,
            "grid_auto_columns": null,
            "margin": null,
            "display": null,
            "left": null
          }
        },
        "2c916776b9444be0a0d53a6aec9c115c": {
          "model_module": "@jupyter-widgets/controls",
          "model_name": "VBoxModel",
          "state": {
            "_view_name": "VBoxView",
            "_dom_classes": [],
            "_model_name": "VBoxModel",
            "_view_module": "@jupyter-widgets/controls",
            "_model_module_version": "1.5.0",
            "_view_count": null,
            "_view_module_version": "1.5.0",
            "box_style": "",
            "layout": "IPY_MODEL_19c68eecc8534f1e8526c7d9f158339c",
            "_model_module": "@jupyter-widgets/controls",
            "children": [
              "IPY_MODEL_9d57fa12a61b450c814384d95b6d87c3",
              "IPY_MODEL_177c996c6f274d1885c740e22429e42b"
            ]
          }
        },
        "19c68eecc8534f1e8526c7d9f158339c": {
          "model_module": "@jupyter-widgets/base",
          "model_name": "LayoutModel",
          "state": {
            "_view_name": "LayoutView",
            "grid_template_rows": null,
            "right": null,
            "justify_content": null,
            "_view_module": "@jupyter-widgets/base",
            "overflow": null,
            "_model_module_version": "1.2.0",
            "_view_count": null,
            "flex_flow": null,
            "width": null,
            "min_width": null,
            "border": null,
            "align_items": null,
            "bottom": null,
            "_model_module": "@jupyter-widgets/base",
            "top": null,
            "grid_column": null,
            "overflow_y": null,
            "overflow_x": null,
            "grid_auto_flow": null,
            "grid_area": null,
            "grid_template_columns": null,
            "flex": null,
            "_model_name": "LayoutModel",
            "justify_items": null,
            "grid_row": null,
            "max_height": null,
            "align_content": null,
            "visibility": null,
            "align_self": null,
            "height": null,
            "min_height": null,
            "padding": null,
            "grid_auto_rows": null,
            "grid_gap": null,
            "max_width": null,
            "order": null,
            "_view_module_version": "1.2.0",
            "grid_template_areas": null,
            "object_position": null,
            "object_fit": null,
            "grid_auto_columns": null,
            "margin": null,
            "display": null,
            "left": null
          }
        },
        "9d57fa12a61b450c814384d95b6d87c3": {
          "model_module": "@jupyter-widgets/controls",
          "model_name": "LabelModel",
          "state": {
            "_view_name": "LabelView",
            "style": "IPY_MODEL_8631ac6474904bc0a031530b66c6e060",
            "_dom_classes": [],
            "description": "",
            "_model_name": "LabelModel",
            "placeholder": "​",
            "_view_module": "@jupyter-widgets/controls",
            "_model_module_version": "1.5.0",
            "value": " 0.01MB of 0.01MB uploaded (0.00MB deduped)\r",
            "_view_count": null,
            "_view_module_version": "1.5.0",
            "description_tooltip": null,
            "_model_module": "@jupyter-widgets/controls",
            "layout": "IPY_MODEL_e692f47cf98e40e18ae67343a83ffa9b"
          }
        },
        "177c996c6f274d1885c740e22429e42b": {
          "model_module": "@jupyter-widgets/controls",
          "model_name": "FloatProgressModel",
          "state": {
            "_view_name": "ProgressView",
            "style": "IPY_MODEL_86431fe27c9841f8bfc6e52c8da91776",
            "_dom_classes": [],
            "description": "",
            "_model_name": "FloatProgressModel",
            "bar_style": "",
            "max": 1,
            "_view_module": "@jupyter-widgets/controls",
            "_model_module_version": "1.5.0",
            "value": 1,
            "_view_count": null,
            "_view_module_version": "1.5.0",
            "orientation": "horizontal",
            "min": 0,
            "description_tooltip": null,
            "_model_module": "@jupyter-widgets/controls",
            "layout": "IPY_MODEL_abf92d7e475340abb298e567bb0a5dce"
          }
        },
        "8631ac6474904bc0a031530b66c6e060": {
          "model_module": "@jupyter-widgets/controls",
          "model_name": "DescriptionStyleModel",
          "state": {
            "_view_name": "StyleView",
            "_model_name": "DescriptionStyleModel",
            "description_width": "",
            "_view_module": "@jupyter-widgets/base",
            "_model_module_version": "1.5.0",
            "_view_count": null,
            "_view_module_version": "1.2.0",
            "_model_module": "@jupyter-widgets/controls"
          }
        },
        "e692f47cf98e40e18ae67343a83ffa9b": {
          "model_module": "@jupyter-widgets/base",
          "model_name": "LayoutModel",
          "state": {
            "_view_name": "LayoutView",
            "grid_template_rows": null,
            "right": null,
            "justify_content": null,
            "_view_module": "@jupyter-widgets/base",
            "overflow": null,
            "_model_module_version": "1.2.0",
            "_view_count": null,
            "flex_flow": null,
            "width": null,
            "min_width": null,
            "border": null,
            "align_items": null,
            "bottom": null,
            "_model_module": "@jupyter-widgets/base",
            "top": null,
            "grid_column": null,
            "overflow_y": null,
            "overflow_x": null,
            "grid_auto_flow": null,
            "grid_area": null,
            "grid_template_columns": null,
            "flex": null,
            "_model_name": "LayoutModel",
            "justify_items": null,
            "grid_row": null,
            "max_height": null,
            "align_content": null,
            "visibility": null,
            "align_self": null,
            "height": null,
            "min_height": null,
            "padding": null,
            "grid_auto_rows": null,
            "grid_gap": null,
            "max_width": null,
            "order": null,
            "_view_module_version": "1.2.0",
            "grid_template_areas": null,
            "object_position": null,
            "object_fit": null,
            "grid_auto_columns": null,
            "margin": null,
            "display": null,
            "left": null
          }
        },
        "86431fe27c9841f8bfc6e52c8da91776": {
          "model_module": "@jupyter-widgets/controls",
          "model_name": "ProgressStyleModel",
          "state": {
            "_view_name": "StyleView",
            "_model_name": "ProgressStyleModel",
            "description_width": "",
            "_view_module": "@jupyter-widgets/base",
            "_model_module_version": "1.5.0",
            "_view_count": null,
            "_view_module_version": "1.2.0",
            "bar_color": null,
            "_model_module": "@jupyter-widgets/controls"
          }
        },
        "abf92d7e475340abb298e567bb0a5dce": {
          "model_module": "@jupyter-widgets/base",
          "model_name": "LayoutModel",
          "state": {
            "_view_name": "LayoutView",
            "grid_template_rows": null,
            "right": null,
            "justify_content": null,
            "_view_module": "@jupyter-widgets/base",
            "overflow": null,
            "_model_module_version": "1.2.0",
            "_view_count": null,
            "flex_flow": null,
            "width": null,
            "min_width": null,
            "border": null,
            "align_items": null,
            "bottom": null,
            "_model_module": "@jupyter-widgets/base",
            "top": null,
            "grid_column": null,
            "overflow_y": null,
            "overflow_x": null,
            "grid_auto_flow": null,
            "grid_area": null,
            "grid_template_columns": null,
            "flex": null,
            "_model_name": "LayoutModel",
            "justify_items": null,
            "grid_row": null,
            "max_height": null,
            "align_content": null,
            "visibility": null,
            "align_self": null,
            "height": null,
            "min_height": null,
            "padding": null,
            "grid_auto_rows": null,
            "grid_gap": null,
            "max_width": null,
            "order": null,
            "_view_module_version": "1.2.0",
            "grid_template_areas": null,
            "object_position": null,
            "object_fit": null,
            "grid_auto_columns": null,
            "margin": null,
            "display": null,
            "left": null
          }
        },
        "99f3cf3e67a64251aa96bbcb0b98f9bc": {
          "model_module": "@jupyter-widgets/controls",
          "model_name": "VBoxModel",
          "state": {
            "_view_name": "VBoxView",
            "_dom_classes": [],
            "_model_name": "VBoxModel",
            "_view_module": "@jupyter-widgets/controls",
            "_model_module_version": "1.5.0",
            "_view_count": null,
            "_view_module_version": "1.5.0",
            "box_style": "",
            "layout": "IPY_MODEL_00d18127471242518d30766c3f23358f",
            "_model_module": "@jupyter-widgets/controls",
            "children": [
              "IPY_MODEL_9089647e79804ff99eca2d56d4d8a918",
              "IPY_MODEL_49e0975700c145b8afc70d81d65c869d"
            ]
          }
        },
        "00d18127471242518d30766c3f23358f": {
          "model_module": "@jupyter-widgets/base",
          "model_name": "LayoutModel",
          "state": {
            "_view_name": "LayoutView",
            "grid_template_rows": null,
            "right": null,
            "justify_content": null,
            "_view_module": "@jupyter-widgets/base",
            "overflow": null,
            "_model_module_version": "1.2.0",
            "_view_count": null,
            "flex_flow": null,
            "width": null,
            "min_width": null,
            "border": null,
            "align_items": null,
            "bottom": null,
            "_model_module": "@jupyter-widgets/base",
            "top": null,
            "grid_column": null,
            "overflow_y": null,
            "overflow_x": null,
            "grid_auto_flow": null,
            "grid_area": null,
            "grid_template_columns": null,
            "flex": null,
            "_model_name": "LayoutModel",
            "justify_items": null,
            "grid_row": null,
            "max_height": null,
            "align_content": null,
            "visibility": null,
            "align_self": null,
            "height": null,
            "min_height": null,
            "padding": null,
            "grid_auto_rows": null,
            "grid_gap": null,
            "max_width": null,
            "order": null,
            "_view_module_version": "1.2.0",
            "grid_template_areas": null,
            "object_position": null,
            "object_fit": null,
            "grid_auto_columns": null,
            "margin": null,
            "display": null,
            "left": null
          }
        },
        "9089647e79804ff99eca2d56d4d8a918": {
          "model_module": "@jupyter-widgets/controls",
          "model_name": "LabelModel",
          "state": {
            "_view_name": "LabelView",
            "style": "IPY_MODEL_a244e94662d44391afa7f632fc439b24",
            "_dom_classes": [],
            "description": "",
            "_model_name": "LabelModel",
            "placeholder": "​",
            "_view_module": "@jupyter-widgets/controls",
            "_model_module_version": "1.5.0",
            "value": " 0.01MB of 0.01MB uploaded (0.00MB deduped)\r",
            "_view_count": null,
            "_view_module_version": "1.5.0",
            "description_tooltip": null,
            "_model_module": "@jupyter-widgets/controls",
            "layout": "IPY_MODEL_b69390d73a0c4c5cab40bfd578af4463"
          }
        },
        "49e0975700c145b8afc70d81d65c869d": {
          "model_module": "@jupyter-widgets/controls",
          "model_name": "FloatProgressModel",
          "state": {
            "_view_name": "ProgressView",
            "style": "IPY_MODEL_69a1d0bb34e04eda9560e70a68d9ee47",
            "_dom_classes": [],
            "description": "",
            "_model_name": "FloatProgressModel",
            "bar_style": "",
            "max": 1,
            "_view_module": "@jupyter-widgets/controls",
            "_model_module_version": "1.5.0",
            "value": 1,
            "_view_count": null,
            "_view_module_version": "1.5.0",
            "orientation": "horizontal",
            "min": 0,
            "description_tooltip": null,
            "_model_module": "@jupyter-widgets/controls",
            "layout": "IPY_MODEL_e146a89132704a4cb658d7f30e3f0e26"
          }
        },
        "a244e94662d44391afa7f632fc439b24": {
          "model_module": "@jupyter-widgets/controls",
          "model_name": "DescriptionStyleModel",
          "state": {
            "_view_name": "StyleView",
            "_model_name": "DescriptionStyleModel",
            "description_width": "",
            "_view_module": "@jupyter-widgets/base",
            "_model_module_version": "1.5.0",
            "_view_count": null,
            "_view_module_version": "1.2.0",
            "_model_module": "@jupyter-widgets/controls"
          }
        },
        "b69390d73a0c4c5cab40bfd578af4463": {
          "model_module": "@jupyter-widgets/base",
          "model_name": "LayoutModel",
          "state": {
            "_view_name": "LayoutView",
            "grid_template_rows": null,
            "right": null,
            "justify_content": null,
            "_view_module": "@jupyter-widgets/base",
            "overflow": null,
            "_model_module_version": "1.2.0",
            "_view_count": null,
            "flex_flow": null,
            "width": null,
            "min_width": null,
            "border": null,
            "align_items": null,
            "bottom": null,
            "_model_module": "@jupyter-widgets/base",
            "top": null,
            "grid_column": null,
            "overflow_y": null,
            "overflow_x": null,
            "grid_auto_flow": null,
            "grid_area": null,
            "grid_template_columns": null,
            "flex": null,
            "_model_name": "LayoutModel",
            "justify_items": null,
            "grid_row": null,
            "max_height": null,
            "align_content": null,
            "visibility": null,
            "align_self": null,
            "height": null,
            "min_height": null,
            "padding": null,
            "grid_auto_rows": null,
            "grid_gap": null,
            "max_width": null,
            "order": null,
            "_view_module_version": "1.2.0",
            "grid_template_areas": null,
            "object_position": null,
            "object_fit": null,
            "grid_auto_columns": null,
            "margin": null,
            "display": null,
            "left": null
          }
        },
        "69a1d0bb34e04eda9560e70a68d9ee47": {
          "model_module": "@jupyter-widgets/controls",
          "model_name": "ProgressStyleModel",
          "state": {
            "_view_name": "StyleView",
            "_model_name": "ProgressStyleModel",
            "description_width": "",
            "_view_module": "@jupyter-widgets/base",
            "_model_module_version": "1.5.0",
            "_view_count": null,
            "_view_module_version": "1.2.0",
            "bar_color": null,
            "_model_module": "@jupyter-widgets/controls"
          }
        },
        "e146a89132704a4cb658d7f30e3f0e26": {
          "model_module": "@jupyter-widgets/base",
          "model_name": "LayoutModel",
          "state": {
            "_view_name": "LayoutView",
            "grid_template_rows": null,
            "right": null,
            "justify_content": null,
            "_view_module": "@jupyter-widgets/base",
            "overflow": null,
            "_model_module_version": "1.2.0",
            "_view_count": null,
            "flex_flow": null,
            "width": null,
            "min_width": null,
            "border": null,
            "align_items": null,
            "bottom": null,
            "_model_module": "@jupyter-widgets/base",
            "top": null,
            "grid_column": null,
            "overflow_y": null,
            "overflow_x": null,
            "grid_auto_flow": null,
            "grid_area": null,
            "grid_template_columns": null,
            "flex": null,
            "_model_name": "LayoutModel",
            "justify_items": null,
            "grid_row": null,
            "max_height": null,
            "align_content": null,
            "visibility": null,
            "align_self": null,
            "height": null,
            "min_height": null,
            "padding": null,
            "grid_auto_rows": null,
            "grid_gap": null,
            "max_width": null,
            "order": null,
            "_view_module_version": "1.2.0",
            "grid_template_areas": null,
            "object_position": null,
            "object_fit": null,
            "grid_auto_columns": null,
            "margin": null,
            "display": null,
            "left": null
          }
        }
      }
    }
  },
  "cells": [
    {
      "cell_type": "markdown",
      "metadata": {
        "id": "view-in-github",
        "colab_type": "text"
      },
      "source": [
        "<a href=\"https://colab.research.google.com/github/theindianwriter/CS6910-assignment_2/blob/main/DL_assignment_2_Part_A.ipynb\" target=\"_parent\"><img src=\"https://colab.research.google.com/assets/colab-badge.svg\" alt=\"Open In Colab\"/></a>"
      ]
    },
    {
      "cell_type": "markdown",
      "metadata": {
        "id": "2JZ8h9A-okJl"
      },
      "source": [
        "#Librabries imported"
      ]
    },
    {
      "cell_type": "code",
      "metadata": {
        "id": "0N1GggAe4er0"
      },
      "source": [
        "import numpy as np #for linear algebra operations\n",
        "import os\n",
        "import shutil\n",
        "import matplotlib.pyplot as plt\n",
        "from PIL import Image #for preprocessing the images\n",
        "import random\n",
        "from sklearn.metrics import confusion_matrix\n",
        "import seaborn as sns"
      ],
      "execution_count": 61,
      "outputs": []
    },
    {
      "cell_type": "code",
      "metadata": {
        "id": "4vIoRdcUHv4T"
      },
      "source": [
        "# PyTorch libraries\n",
        "import torch\n",
        "import torchvision\n",
        "import torchvision.transforms as transforms\n",
        "import torch.nn as nn\n",
        "import torch.optim as optim\n",
        "import torch.nn.functional as F\n",
        "import gc"
      ],
      "execution_count": 2,
      "outputs": []
    },
    {
      "cell_type": "code",
      "metadata": {
        "id": "hBY4eeZl7YAE",
        "colab": {
          "base_uri": "https://localhost:8080/",
          "height": 221
        },
        "outputId": "e9c87f3c-e904-4c06-e6d5-80220c7373a5"
      },
      "source": [
        "!pip install wandb -qqq\n",
        "import wandb\n",
        "wandb.login()"
      ],
      "execution_count": null,
      "outputs": [
        {
          "output_type": "stream",
          "text": [
            "\u001b[K     |████████████████████████████████| 2.1MB 19.9MB/s \n",
            "\u001b[K     |████████████████████████████████| 163kB 57.3MB/s \n",
            "\u001b[K     |████████████████████████████████| 102kB 14.1MB/s \n",
            "\u001b[K     |████████████████████████████████| 133kB 57.2MB/s \n",
            "\u001b[K     |████████████████████████████████| 71kB 10.9MB/s \n",
            "\u001b[?25h  Building wheel for subprocess32 (setup.py) ... \u001b[?25l\u001b[?25hdone\n",
            "  Building wheel for pathtools (setup.py) ... \u001b[?25l\u001b[?25hdone\n"
          ],
          "name": "stdout"
        },
        {
          "output_type": "display_data",
          "data": {
            "application/javascript": [
              "\n",
              "        window._wandbApiKey = new Promise((resolve, reject) => {\n",
              "            function loadScript(url) {\n",
              "            return new Promise(function(resolve, reject) {\n",
              "                let newScript = document.createElement(\"script\");\n",
              "                newScript.onerror = reject;\n",
              "                newScript.onload = resolve;\n",
              "                document.body.appendChild(newScript);\n",
              "                newScript.src = url;\n",
              "            });\n",
              "            }\n",
              "            loadScript(\"https://cdn.jsdelivr.net/npm/postmate/build/postmate.min.js\").then(() => {\n",
              "            const iframe = document.createElement('iframe')\n",
              "            iframe.style.cssText = \"width:0;height:0;border:none\"\n",
              "            document.body.appendChild(iframe)\n",
              "            const handshake = new Postmate({\n",
              "                container: iframe,\n",
              "                url: 'https://wandb.ai/authorize'\n",
              "            });\n",
              "            const timeout = setTimeout(() => reject(\"Couldn't auto authenticate\"), 5000)\n",
              "            handshake.then(function(child) {\n",
              "                child.on('authorize', data => {\n",
              "                    clearTimeout(timeout)\n",
              "                    resolve(data)\n",
              "                });\n",
              "            });\n",
              "            })\n",
              "        });\n",
              "    "
            ],
            "text/plain": [
              "<IPython.core.display.Javascript object>"
            ]
          },
          "metadata": {
            "tags": []
          }
        },
        {
          "output_type": "stream",
          "text": [
            "\u001b[34m\u001b[1mwandb\u001b[0m: You can find your API key in your browser here: https://wandb.ai/authorize\n"
          ],
          "name": "stderr"
        },
        {
          "output_type": "stream",
          "text": [
            "wandb: Paste an API key from your profile and hit enter: ··········\n"
          ],
          "name": "stdout"
        },
        {
          "output_type": "stream",
          "text": [
            "\u001b[34m\u001b[1mwandb\u001b[0m: Appending key for api.wandb.ai to your netrc file: /root/.netrc\n"
          ],
          "name": "stderr"
        },
        {
          "output_type": "execute_result",
          "data": {
            "text/plain": [
              "True"
            ]
          },
          "metadata": {
            "tags": []
          },
          "execution_count": 3
        }
      ]
    },
    {
      "cell_type": "code",
      "metadata": {
        "id": "e-Hsrl6xvjPG"
      },
      "source": [
        "#enabling gpu \n",
        "device = \"cpu\"\n",
        "if (torch.cuda.is_available()):\n",
        "    device = \"cuda\""
      ],
      "execution_count": 3,
      "outputs": []
    },
    {
      "cell_type": "code",
      "metadata": {
        "id": "VltGV369bGI6",
        "colab": {
          "base_uri": "https://localhost:8080/"
        },
        "outputId": "2480b513-60f1-457c-e2cb-cb6e40f3a287"
      },
      "source": [
        "from google.colab import drive\n",
        "drive.mount('/content/drive')"
      ],
      "execution_count": 4,
      "outputs": [
        {
          "output_type": "stream",
          "text": [
            "Drive already mounted at /content/drive; to attempt to forcibly remount, call drive.mount(\"/content/drive\", force_remount=True).\n"
          ],
          "name": "stdout"
        }
      ]
    },
    {
      "cell_type": "code",
      "metadata": {
        "id": "yh4zod8Yu57S"
      },
      "source": [
        "!unzip -uq \"/content/drive/My Drive/nature_12K.zip\" -d \"/content/drive/My Drive/\""
      ],
      "execution_count": null,
      "outputs": []
    },
    {
      "cell_type": "code",
      "metadata": {
        "id": "OnT3TkaIuWMh"
      },
      "source": [
        "training_folder_path = \"/content/drive/MyDrive/inaturalist_12K/train\"\n",
        "test_folder_path = \"/content/drive/MyDrive/inaturalist_12K/test\"\n",
        "#validation_folder_path = \"/content/drive/MyDrive/inaturalist_12K/validation\""
      ],
      "execution_count": 28,
      "outputs": []
    },
    {
      "cell_type": "code",
      "metadata": {
        "colab": {
          "base_uri": "https://localhost:8080/"
        },
        "id": "3Z77LxCosR_K",
        "outputId": "f67b8c93-7ac1-4c8f-f184-1c9910f64f5e"
      },
      "source": [
        "#list down all the classes present in the dataset\n",
        "classes = sorted([folder_name  for folder_name in os.listdir(training_folder_path) if not folder_name.startswith('.')])\n",
        "print(classes)"
      ],
      "execution_count": 6,
      "outputs": [
        {
          "output_type": "stream",
          "text": [
            "['Amphibia', 'Animalia', 'Arachnida', 'Aves', 'Fungi', 'Insecta', 'Mammalia', 'Mollusca', 'Plantae', 'Reptilia']\n"
          ],
          "name": "stdout"
        }
      ]
    },
    {
      "cell_type": "code",
      "metadata": {
        "id": "79Q1gzto7hcc"
      },
      "source": [
        "# function to resize image\n",
        "def resize_image(src_image, size=(128,128), bg_color=\"white\"): \n",
        "    #creating a thumbnail of the image of the given size preserving the aspect ratio\n",
        "    src_image.thumbnail(size,Image.ANTIALIAS)\n",
        "    #creating a background image \n",
        "    new_image = Image.new(\"RGB\", size, bg_color)\n",
        "    #pasting the src image into it \n",
        "    new_image.paste(src_image, (int((size[0] - src_image.size[0]) / 2), int((size[1] - src_image.size[1]) / 2)))\n",
        "    return new_image"
      ],
      "execution_count": 7,
      "outputs": []
    },
    {
      "cell_type": "code",
      "metadata": {
        "id": "DT3LCHBVu9Zp"
      },
      "source": [
        "new_training_folder_path = \"/content/drive/MyDrive/Natural_Dataset256/train\"\n",
        "new_test_folder_path = '/content/drive/MyDrive/Natural_Dataset256/test'\n",
        "#new_validation_folder_path = './Natural_Dataset256/validation'"
      ],
      "execution_count": 25,
      "outputs": []
    },
    {
      "cell_type": "code",
      "metadata": {
        "id": "LcNbZ1vvRNsr"
      },
      "source": [
        "def Resize_all(old_path,new_path,size=(256,256)):\n",
        "\n",
        "    image_size = size\n",
        "\n",
        "    # if os.path.exists(new_path):\n",
        "    #     shutil.rmtree(new_path)\n",
        "    print(\"the new path is \",new_path)\n",
        "    for root,folders,_ in os.walk(old_path):\n",
        "        for folder in folders:\n",
        "            print(\"resizing the images and saving for the folder \",folder)\n",
        "            new_folder = os.path.join(new_path,folder)\n",
        "\n",
        "            if not os.path.exists(new_folder):\n",
        "                os.makedirs(new_folder)\n",
        "\n",
        "            # if os.path.exists(os.path.join(root,folder)):\n",
        "\n",
        "        \n",
        "            file_names = os.listdir(os.path.join(root,folder))\n",
        "\n",
        "            for file_name in file_names:\n",
        "                if file_name.startswith('.'):\n",
        "                    continue\n",
        "                \n",
        "                file_path = os.path.join(root,folder,file_name)\n",
        "                image = Image.open(file_path)\n",
        "                resized_image = resize_image(image,image_size,\"white\")\n",
        "                save_as = os.path.join(new_folder,file_name)\n",
        "                resized_image.save(save_as)\n",
        "\n",
        "    print(\"resizing and saving done\")\n"
      ],
      "execution_count": 9,
      "outputs": []
    },
    {
      "cell_type": "code",
      "metadata": {
        "colab": {
          "base_uri": "https://localhost:8080/"
        },
        "id": "zpRr-t8UeW8-",
        "outputId": "86ab7f9b-d6bf-41a2-a825-628a1f6f4e6a"
      },
      "source": [
        "Resize_all(training_folder_path,new_training_folder_path)\n",
        "#Resize_all(validation_folder_path,new_validation_folder_path)"
      ],
      "execution_count": 13,
      "outputs": [
        {
          "output_type": "stream",
          "text": [
            "the new path is  /content/drive/MyDrive/Natural_Dataset256/train\n",
            "resizing the images and saving for the folder  Reptilia\n",
            "resizing the images and saving for the folder  Mammalia\n",
            "resizing the images and saving for the folder  Arachnida\n",
            "resizing the images and saving for the folder  Plantae\n",
            "resizing the images and saving for the folder  Aves\n",
            "resizing the images and saving for the folder  Amphibia\n",
            "resizing the images and saving for the folder  Insecta\n",
            "resizing the images and saving for the folder  Animalia\n",
            "resizing the images and saving for the folder  Mollusca\n",
            "resizing the images and saving for the folder  Fungi\n",
            "resizing and saving done\n"
          ],
          "name": "stdout"
        }
      ]
    },
    {
      "cell_type": "code",
      "metadata": {
        "colab": {
          "base_uri": "https://localhost:8080/"
        },
        "id": "vJPp7baK-5_g",
        "outputId": "d7a4ca26-e2a6-4abd-ea4c-1175f90cd7e7"
      },
      "source": [
        "Resize_all(test_folder_path,new_test_folder_path)"
      ],
      "execution_count": 29,
      "outputs": [
        {
          "output_type": "stream",
          "text": [
            "the new path is  /content/drive/MyDrive/Natural_Dataset256/test\n",
            "resizing the images and saving for the folder  Amphibia\n",
            "resizing the images and saving for the folder  Aves\n",
            "resizing the images and saving for the folder  Plantae\n",
            "resizing the images and saving for the folder  Insecta\n",
            "resizing the images and saving for the folder  Reptilia\n",
            "resizing the images and saving for the folder  Mammalia\n",
            "resizing the images and saving for the folder  Mollusca\n",
            "resizing the images and saving for the folder  Fungi\n",
            "resizing the images and saving for the folder  Animalia\n",
            "resizing the images and saving for the folder  Arachnida\n",
            "resizing and saving done\n"
          ],
          "name": "stdout"
        }
      ]
    },
    {
      "cell_type": "code",
      "metadata": {
        "id": "NDwkOWVNzhJf"
      },
      "source": [
        "mean = [0.5,0.5,0.5]\n",
        "std = [0.5,0.5,0.5]\n",
        "\n",
        "def load_dataset(dataset_path,data_augmentation = False,batch_size = 50,is_test = False):\n",
        "    if data_augmentation:\n",
        "        transformation = transforms.Compose([\n",
        "            transforms.RandomResizedCrop(256),\n",
        "            transforms.RandomHorizontalFlip(0.5),\n",
        "            transforms.RandomVerticalFlip(0.3),\n",
        "            transforms.ToTensor(),\n",
        "        # Normalize the pixel values (in R, G, and B channels)\n",
        "            transforms.Normalize(mean=mean, std=std)\n",
        "        ])\n",
        "    else:\n",
        "        transformation = transforms.Compose([\n",
        "            transforms.ToTensor(),\n",
        "            transforms.Normalize(mean=mean,std = std)                               \n",
        "        ])\n",
        "\n",
        "    full_dataset = torchvision.datasets.ImageFolder(\n",
        "        root=dataset_path,\n",
        "        transform=transformation\n",
        "    )\n",
        "    if is_test:\n",
        "        test_loader = torch.utils.data.DataLoader(\n",
        "            full_dataset,\n",
        "            batch_size=batch_size,\n",
        "            num_workers=0,\n",
        "            shuffle=False\n",
        "        ) \n",
        "        return test_loader\n",
        "\n",
        "    train_size = int(0.9 * len(full_dataset))\n",
        "    val_size = len(full_dataset) - train_size\n",
        "\n",
        "    train_dataset, val_dataset = torch.utils.data.random_split(full_dataset, [train_size, val_size])\n",
        "\n",
        "    train_loader = torch.utils.data.DataLoader(\n",
        "        train_dataset,\n",
        "        batch_size=batch_size,\n",
        "        num_workers=0,\n",
        "        shuffle=False\n",
        "    )\n",
        "\n",
        "    val_loader = torch.utils.data.DataLoader(\n",
        "        val_dataset,\n",
        "        batch_size=batch_size,\n",
        "        num_workers=0,\n",
        "        shuffle=False\n",
        "    )\n",
        "    return train_loader,val_loader"
      ],
      "execution_count": 31,
      "outputs": []
    },
    {
      "cell_type": "code",
      "metadata": {
        "colab": {
          "base_uri": "https://localhost:8080/"
        },
        "id": "vh2IRxw8v5TR",
        "outputId": "1d4900a2-a4ef-4825-e95a-014f37776d28"
      },
      "source": [
        "print(device)"
      ],
      "execution_count": 15,
      "outputs": [
        {
          "output_type": "stream",
          "text": [
            "cuda\n"
          ],
          "name": "stdout"
        }
      ]
    },
    {
      "cell_type": "code",
      "metadata": {
        "id": "VzGaDYke3z3B"
      },
      "source": [
        "class Network(nn.Module):\n",
        "\n",
        "    def __init__(self,num_of_classes,filters,filter_size,activation_fn,stride_len = 1,batch_norm = True,padding_len = 1,max_pool_kernel_size = 2,max_pool_stride_len = 2,dropdout_ratio = 0.0,dense_neuron_size = 20000,img_size = (256,256)):\n",
        "        super(Network,self).__init__()\n",
        "\n",
        "        self.activation_fn = activation_fn\n",
        "        self.batch_norm = batch_norm\n",
        "\n",
        "        Out_dim_H = img_size[0]\n",
        "        Out_dim_W = img_size[1]\n",
        "\n",
        "        for F in filter_size:\n",
        "            Out_dim_H =  int(((Out_dim_H - F + 2*padding_len)/stride_len)) + 1\n",
        "            Out_dim_W =  int(((Out_dim_W - F + 2*padding_len)/stride_len)) + 1\n",
        "            Out_dim_H =  int(((Out_dim_H - max_pool_kernel_size)/max_pool_stride_len))+ 1\n",
        "            Out_dim_W =  int(((Out_dim_W - max_pool_kernel_size)/max_pool_stride_len)) + 1\n",
        "\n",
        "\n",
        "        self.conv1 = nn.Conv2d(in_channels = 3,out_channels = filters[0],kernel_size = filter_size[0],stride = stride_len,padding = padding_len)\n",
        "        self.conv2 = nn.Conv2d(in_channels = filters[0],out_channels = filters[1],kernel_size = filter_size[1],stride = stride_len,padding = padding_len)\n",
        "        self.conv3 = nn.Conv2d(in_channels = filters[1],out_channels = filters[2],kernel_size = filter_size[2],stride = stride_len,padding = padding_len)\n",
        "        self.conv4 = nn.Conv2d(in_channels = filters[2],out_channels = filters[3],kernel_size = filter_size[3],stride = stride_len,padding = padding_len)\n",
        "        self.conv5 = nn.Conv2d(in_channels = filters[3],out_channels = filters[4],kernel_size = filter_size[4],stride = stride_len,padding = padding_len)\n",
        "\n",
        "        self.pool = nn.MaxPool2d(kernel_size=max_pool_kernel_size,stride = max_pool_stride_len)\n",
        "\n",
        "        self.drop = nn.Dropout2d(p=dropdout_ratio)\n",
        "        \n",
        "        if self.batch_norm:\n",
        "            self.batch_norm1 = nn.BatchNorm2d(num_features=filters[0], eps=1e-05, momentum=0.1, affine=True, track_running_stats=True)\n",
        "            self.batch_norm2 = nn.BatchNorm2d(num_features=filters[1], eps=1e-05, momentum=0.1, affine=True, track_running_stats=True)\n",
        "            self.batch_norm3 = nn.BatchNorm2d(num_features=filters[2], eps=1e-05, momentum=0.1, affine=True, track_running_stats=True)\n",
        "            self.batch_norm4 = nn.BatchNorm2d(num_features=filters[3], eps=1e-05, momentum=0.1, affine=True, track_running_stats=True)\n",
        "            self.batch_norm5 = nn.BatchNorm2d(num_features=filters[4], eps=1e-05, momentum=0.1, affine=True, track_running_stats=True)\n",
        "        \n",
        "\n",
        "        self.post_conv_output_len = Out_dim_H*Out_dim_W*filters[4]\n",
        "        #fully connected layer\n",
        "        self.fc1 = nn.Linear(in_features = Out_dim_H*Out_dim_W*filters[4],out_features = dense_neuron_size)\n",
        "        self.fc2 = nn.Linear(in_features = dense_neuron_size,out_features = num_of_classes)\n",
        "\n",
        "\n",
        "\n",
        "    def perform_activation(self,fn,x):\n",
        "        if fn == 'relu':\n",
        "            return F.relu(x)\n",
        "        elif fn == 'elu':\n",
        "            return F.elu(x)\n",
        "        elif fn == 'leaky_relu':\n",
        "            return F.leaky_relu(x)\n",
        "        elif fn == 'tanh':\n",
        "            return torch.tanh(x)\n",
        "        elif fn == 'sigmoid':\n",
        "            return F.sigmoid(x)\n",
        "\n",
        "    def forward(self,x):\n",
        "        if self.batch_norm:\n",
        "            x = self.batch_norm1(self.conv1(x))\n",
        "        else:\n",
        "            x = self.conv1(x)\n",
        "\n",
        "        x = self.pool(self.perform_activation(self.activation_fn[0],x))\n",
        "\n",
        "        if self.batch_norm:\n",
        "            x = self.batch_norm2(self.conv2(x))\n",
        "        else:\n",
        "            x = self.conv2(x)\n",
        "    \n",
        "        x = self.pool(self.perform_activation(self.activation_fn[1],x))\n",
        "\n",
        "        if self.batch_norm:\n",
        "            x = self.batch_norm3(self.conv3(x))\n",
        "        else:\n",
        "            x = self.conv3(x)\n",
        "\n",
        "\n",
        "        x = self.pool(self.perform_activation(self.activation_fn[2],x))\n",
        "\n",
        "        if self.batch_norm:\n",
        "            x = self.batch_norm4(self.conv4(x))\n",
        "        else:\n",
        "            x = self.conv4(x)\n",
        "\n",
        "        x = self.pool(self.perform_activation(self.activation_fn[3],x))\n",
        "    \n",
        "        if self.batch_norm:\n",
        "            x = self.batch_norm5(self.conv5(x))\n",
        "        else:\n",
        "            x = self.conv5(x)\n",
        "\n",
        "        x = self.pool(self.perform_activation(self.activation_fn[4],x))\n",
        "\n",
        "        x = F.dropout(self.drop(x), training=self.training)\n",
        "\n",
        "        x = x.view(-1, self.post_conv_output_len)\n",
        "\n",
        "        x = F.relu(self.fc1(x))\n",
        "\n",
        "        x = F.dropout(self.drop(x), training=self.training)\n",
        "\n",
        "        x = self.fc2(x)\n",
        "            \n",
        "        return torch.log_softmax(x, dim=1)"
      ],
      "execution_count": 15,
      "outputs": []
    },
    {
      "cell_type": "code",
      "metadata": {
        "id": "BdV_WNLR02JV"
      },
      "source": [
        "def train(model,train_loader,optimizer,epoch,device):\n",
        "\n",
        "    model.train()\n",
        "    training_loss = 0\n",
        "    batch_id = 0\n",
        "    print(\"----------------------IN EPOCH {}--------------------------------\".format(epoch))\n",
        "    for data,target in train_loader:\n",
        "        batch_id += 1\n",
        "        data,target = data.to(device),target.to(device)\n",
        "\n",
        "        optimizer.zero_grad()\n",
        "        output = model(data)\n",
        "\n",
        "        loss = loss_criteria(output,target)\n",
        "        training_loss += loss.item()\n",
        "\n",
        "        loss.backward()\n",
        "        optimizer.step()\n",
        "\n",
        "    print(\"avg training loss is {:.6f}\".format(training_loss/batch_id))\n",
        "    return training_loss\n"
      ],
      "execution_count": 16,
      "outputs": []
    },
    {
      "cell_type": "code",
      "metadata": {
        "id": "JpzIZ4EOknEu"
      },
      "source": [
        "def test(model,test_loader,device):\n",
        "    model.eval()\n",
        "    test_loss = 0\n",
        "    correct = 0\n",
        "    batch_id = 0\n",
        "    with torch.no_grad():\n",
        "        for data,target in test_loader:\n",
        "            batch_id += 1\n",
        "            data,target = data.to(device),target.to(device)\n",
        "            print(target)\n",
        "            output = model(data)\n",
        "            loss = loss_criteria(output,target)\n",
        "            test_loss += loss.item()\n",
        "            _,predicted = torch.max(output.data,1)\n",
        "            correct += torch.sum(target==predicted).item()\n",
        "    accuracy = (100*correct/ len(test_loader.dataset))\n",
        "    print(\"avg val loss is {:.6f} and accuracy is {:.2f}%\".format(test_loss/batch_id,accuracy))\n",
        "    return test_loss,accuracy\n",
        "\n",
        "    \n"
      ],
      "execution_count": 45,
      "outputs": []
    },
    {
      "cell_type": "code",
      "metadata": {
        "colab": {
          "base_uri": "https://localhost:8080/"
        },
        "id": "OhCEzU1ZrTOX",
        "outputId": "cac481a1-6a9b-4cad-e8d3-26ee586a17ad"
      },
      "source": [
        "model = Network(num_of_classes=10,filters = [32,64,128,256,512],filter_size = [5,5,5,5,5],activation_fn=['tanh','tanh','tanh','tanh','tanh'],dropdout_ratio = 0.5,dense_neuron_size = 256,batch_norm = True).to(device)\n",
        "optimizer = optim.Adam(model.parameters(), lr=0.0001)\n",
        "\n",
        "loss_criteria = nn.CrossEntropyLoss()\n",
        "train_loader,val_loader = load_dataset(new_training_folder_path,False,200)\n",
        "epochs = 20\n",
        "print('Training on', device)\n",
        "for epoch in range(1, epochs + 1):\n",
        "        train_loss = train(model, train_loader, optimizer,epoch,device)\n",
        "        test_loss = test(model, val_loader,device)\n",
        "        torch.cuda.empty_cache()\n",
        "        "
      ],
      "execution_count": 19,
      "outputs": [
        {
          "output_type": "stream",
          "text": [
            "Training on cuda\n",
            "----------------------IN EPOCH 1--------------------------------\n",
            "avg training loss is 2.255514\n",
            "avg val loss is 2.092842 and accuracy is 27.40%\n",
            "----------------------IN EPOCH 2--------------------------------\n",
            "avg training loss is 2.157679\n",
            "avg val loss is 2.034590 and accuracy is 28.30%\n",
            "----------------------IN EPOCH 3--------------------------------\n",
            "avg training loss is 2.126044\n",
            "avg val loss is 2.000279 and accuracy is 30.70%\n",
            "----------------------IN EPOCH 4--------------------------------\n",
            "avg training loss is 2.098106\n",
            "avg val loss is 1.988044 and accuracy is 30.80%\n",
            "----------------------IN EPOCH 5--------------------------------\n",
            "avg training loss is 2.074774\n",
            "avg val loss is 1.967815 and accuracy is 31.30%\n",
            "----------------------IN EPOCH 6--------------------------------\n",
            "avg training loss is 2.055943\n",
            "avg val loss is 1.972563 and accuracy is 29.70%\n",
            "----------------------IN EPOCH 7--------------------------------\n",
            "avg training loss is 2.039542\n",
            "avg val loss is 1.939554 and accuracy is 32.60%\n",
            "----------------------IN EPOCH 8--------------------------------\n",
            "avg training loss is 2.016296\n",
            "avg val loss is 1.949014 and accuracy is 31.60%\n",
            "----------------------IN EPOCH 9--------------------------------\n",
            "avg training loss is 2.000418\n",
            "avg val loss is 1.948055 and accuracy is 32.20%\n",
            "----------------------IN EPOCH 10--------------------------------\n",
            "avg training loss is 1.993645\n",
            "avg val loss is 1.921547 and accuracy is 32.60%\n",
            "----------------------IN EPOCH 11--------------------------------\n",
            "avg training loss is 1.972792\n",
            "avg val loss is 1.918895 and accuracy is 31.80%\n",
            "----------------------IN EPOCH 12--------------------------------\n",
            "avg training loss is 1.956053\n",
            "avg val loss is 1.923845 and accuracy is 32.70%\n",
            "----------------------IN EPOCH 13--------------------------------\n",
            "avg training loss is 1.943904\n",
            "avg val loss is 1.909066 and accuracy is 33.40%\n",
            "----------------------IN EPOCH 14--------------------------------\n",
            "avg training loss is 1.927670\n",
            "avg val loss is 1.867521 and accuracy is 34.10%\n",
            "----------------------IN EPOCH 15--------------------------------\n",
            "avg training loss is 1.915153\n",
            "avg val loss is 1.918040 and accuracy is 32.60%\n",
            "----------------------IN EPOCH 16--------------------------------\n",
            "avg training loss is 1.897197\n",
            "avg val loss is 1.882308 and accuracy is 35.10%\n",
            "----------------------IN EPOCH 17--------------------------------\n",
            "avg training loss is 1.887633\n",
            "avg val loss is 1.902429 and accuracy is 31.80%\n",
            "----------------------IN EPOCH 18--------------------------------\n",
            "avg training loss is 1.888858\n",
            "avg val loss is 1.864057 and accuracy is 33.70%\n",
            "----------------------IN EPOCH 19--------------------------------\n",
            "avg training loss is 1.862759\n",
            "avg val loss is 1.849988 and accuracy is 34.50%\n",
            "----------------------IN EPOCH 20--------------------------------\n",
            "avg training loss is 1.850116\n",
            "avg val loss is 1.859843 and accuracy is 35.40%\n"
          ],
          "name": "stdout"
        }
      ]
    },
    {
      "cell_type": "code",
      "metadata": {
        "id": "7G10tCm5Zt2e"
      },
      "source": [
        "torch.save(model,\"/content/drive/MyDrive/Natural_Dataset256/Best_model/1\")"
      ],
      "execution_count": 23,
      "outputs": []
    },
    {
      "cell_type": "code",
      "metadata": {
        "id": "o7zGsBMhLds_"
      },
      "source": [
        "sweep_config = {\n",
        "    'method': 'random', #grid, random\n",
        "    'metric': {\n",
        "      'name': 'accuracy',\n",
        "      'goal': 'maximize'   \n",
        "    },\n",
        "    'parameters': {\n",
        "        'lr': {\n",
        "            'values': [0.0001, 0.0002,0.0004]\n",
        "        },\n",
        "        'activation_fn': {\n",
        "            'values': ['relu', 'tanh','leaky_relu']\n",
        "        },\n",
        "        'num_of_filters': {\n",
        "            'values' : [32,64,128,256]\n",
        "        },\n",
        "        'filter_size' : {\n",
        "            'values' : [3,5,7]\n",
        "        },\n",
        "        'filter_organization':{\n",
        "            'values': [2,1]\n",
        "        },\n",
        "        'batch_size':{\n",
        "            'values': [100,200]\n",
        "        },\n",
        "        'dropdout_ratio': {\n",
        "            'values': [0.2,0.3,0.4,0.5]\n",
        "        },\n",
        "        'dense_neuron_size':{\n",
        "            'values' : [256,128,64]\n",
        "        },\n",
        "        'data_augmentation':{\n",
        "            'values': [True,False]\n",
        "        },\n",
        "        'epochs':{\n",
        "            'values' : [10,5,15]\n",
        "        },\n",
        "        'batch_norm':{\n",
        "            'values' : [True,False]\n",
        "        },\n",
        "\n",
        "\n",
        "    }\n",
        "}"
      ],
      "execution_count": null,
      "outputs": []
    },
    {
      "cell_type": "code",
      "metadata": {
        "id": "QVsvX3RrJ6yS"
      },
      "source": [
        "def experiment():\n",
        "    defaults = dict(\n",
        "        num_of_filter = 32,\n",
        "        filter_size = 5,\n",
        "        filter_organization = 2,\n",
        "        activation_fn='tanh',\n",
        "        dropout_ratio = 0.3,\n",
        "        dense_neuron_size = 64,\n",
        "        lr = 0.0001,\n",
        "        batch_size = 8,\n",
        "        epochs = 10,\n",
        "        data_augmentation = True,\n",
        "        batch_norm = True\n",
        "    )\n",
        "\n",
        "    wandb.init(project=\"cs6910-assignment2-part_a\",config = defaults)\n",
        "    config = wandb.config\n",
        "\n",
        "    filters = []\n",
        "    filter_size = []\n",
        "    activation_fn = []  \n",
        "    rate = 1\n",
        "    for i in range(5):\n",
        "        activation_fn.append(config.activation_fn)\n",
        "        filter_size.append(config.filter_size)\n",
        "        filters.append(config.num_of_filter*rate)\n",
        "        rate *= config.filter_organization\n",
        "\n",
        "    model = Network(num_of_classes=10,filters = filters,filter_size = filter_size,activation_fn=activation_fn,dropdout_ratio = config.dropout_ratio,dense_neuron_size = config.dense_neuron_size,batch_norm = config.batch_norm).to(device)\n",
        "    optimizer = optim.Adam(model.parameters(), lr=config.lr)\n",
        "\n",
        "    loss_criteria = nn.CrossEntropyLoss()\n",
        "    train_loader,val_loader = load_dataset(new_training_folder_path,config.data_augmentation,config.batch_size)\n",
        "    epochs = config.epochs\n",
        "    print('Training on', device)\n",
        "    for epoch in range(1, epochs + 1):\n",
        "        gc.collect()\n",
        "        torch.cuda.empty_cache()\n",
        "        train_loss = train(model, train_loader, optimizer,epoch,device)\n",
        "        val_loss,accuracy = test(model, val_loader,device)\n",
        "        wandb.log({\"epoch\": epoch,\"accuracy\" : accuracy,\"training loss\":train_loss,\"validation loss\": val_loss })\n",
        "        \n",
        "    del model"
      ],
      "execution_count": null,
      "outputs": []
    },
    {
      "cell_type": "code",
      "metadata": {
        "id": "GkqBe3AHh6up",
        "colab": {
          "base_uri": "https://localhost:8080/"
        },
        "outputId": "d014a3c4-dc27-4c22-8f06-fd301ef2bd55"
      },
      "source": [
        "sweep_id = wandb.sweep(sweep_config, entity=\"theindianwriter\", project=\"cs6910-assignment2-part_a\")"
      ],
      "execution_count": null,
      "outputs": [
        {
          "output_type": "stream",
          "text": [
            "\u001b[34m\u001b[1mwandb\u001b[0m: \u001b[33mWARNING\u001b[0m Calling wandb.login() after wandb.init() has no effect.\n"
          ],
          "name": "stderr"
        },
        {
          "output_type": "stream",
          "text": [
            "Create sweep with ID: fm8gabmx\n",
            "Sweep URL: https://wandb.ai/theindianwriter/cs6910-assignment2-part_a/sweeps/fm8gabmx\n"
          ],
          "name": "stdout"
        }
      ]
    },
    {
      "cell_type": "code",
      "metadata": {
        "id": "P2qiHroyjFi-",
        "colab": {
          "base_uri": "https://localhost:8080/",
          "height": 1000,
          "referenced_widgets": [
            "e871fbb80e0e493c9195b7743866e41f",
            "752bd649b69a4b53bcd2eee724cd69e9",
            "238250e10ffb4a58a1b488299d492d2d",
            "2b5a07d33b2b404880898dee91cc5b35",
            "be1b5939a2184609b7ca435d4efe1b6d",
            "7332e4a3a54443d68698a6d2163cf505",
            "24ceece29dc241d796d092051807bffc",
            "a4b518cbbb764b76b5e68e0806c76373",
            "1b1fc5132aa644c1ad4a7ea73f30da4c",
            "b7a9264ca88a4538be3f3f58f7a96b02",
            "653634c1d25346328dd3e4cdfaac692e",
            "b131a62732fa4d40925f2fc11323c52e",
            "c64a3223ccb34043a8f58113b0129e12",
            "d063c90c952147bd937c8895364f8dc5",
            "001d3789f1f64baa93e7b0aefb7a1e73",
            "17ad5cdae5b44030a4cdfa48d496a70d",
            "49b8ff7277f545e2a8600885b738fdf6",
            "5fa611fd92e84f59b89c8992bdbe9a5a",
            "885b2d7b2b70411b9eb410d2e00e6a00",
            "3b46add08c5643f7a66c970533f7daa3",
            "b1e6e6012cdd40078b4b4859297ea1f1",
            "7c93c58af2114af9af1efc31816b5bca",
            "ec2acb917a92478b815befac61ad655a",
            "65bcd55f7ee24fa592a7a3b9231bc746",
            "e15652682fa545aeb2276bf83dad85cf",
            "1dc16a78957c4af7867ac9c3e629394a",
            "cb0f76d2fb61426c9aba00c2f95deea6",
            "cf903991981c4a06b3ff23a4769ec5c0",
            "30f8255b3a6e4ffb8f5736df9bab8081",
            "520e015a86464a2987a9dab9441b9475",
            "4b234af1156c4b649dc7c8766a9712c3",
            "ef8320a37b874c2c88ec13061e074339",
            "bc83bad26e4948029be9456b951d8658",
            "7416f23391e84afe8141c4acb2e7e82a",
            "e159a95de8434f69a0f245adf678f8bf",
            "201ff5cab784476591a73ba83e4ae4a5",
            "9313d53919844bebb18b4e1891c1a4c5",
            "9808c39d19f945628c3c8c22bd67257f",
            "7366721a78af442f9eadb41cda768e52",
            "bfc2f1f915a047c8a596259e8742f6e6",
            "729e304ba5844f5db46cc6437cb4fac6",
            "6dd40066e0114aee83f9ed0e6bcfa9d3",
            "23caacc6ad334e3ab38898e632703726",
            "a73143b675ef497a97445b396929f18e",
            "fb9bfe4f04f346aaa2b89be5c21ef3c9",
            "f5242ac9e955464bb961087f937d4868",
            "32e05effa27d4e309ffa50966e658cdc",
            "01f8be59516346f9aaa0ce8221f7bd1d",
            "c1de6bc64a034dac9d3c938ba19f42ea",
            "31be40a45d3d4ff68b5b01af05078036",
            "905907745c1a4faca7559cf3df5eca83",
            "3f4e5f0f7cea4f13b22bdb1cc2519ae1",
            "59c5e90075d34aa1be4a8a8babdcd66b",
            "bd71f23262724d39862c4d57438028fb",
            "514349e77c964ff4b5030569e05808ee",
            "c195682b471f49f3a80fe37221e1d77b",
            "8961d09ef916420bb77a2a94047d4736",
            "6f4d393faad34faa9f108e7d2983ec38",
            "5e22513b7680451aa127e7a7adacc51a",
            "1da61f3c74854117819715a2c917b100",
            "35b56baf085d480d820c904ed901be8a",
            "78dc6bed38914596a984c0690851f6ed",
            "9c9d3f32eb224dab8975bbba734fd560",
            "10dc44c3f2f6422e9e0468751472b48e",
            "08afdef13697402aaf33991d69977c28",
            "ea9ae636e1014fad95ad08e2ff648f06",
            "0966898075b44475bc3fb09809910b8c",
            "3eeef3e964bc476e8a58ce3858a5b13d",
            "c6d85ebeaa8e4d0fbe9ad922c4a2cf6c",
            "17ad08a8a3f64e80b08af985cde0ade3",
            "48f58f98e5a04eb583799732a639798b",
            "bb6bbdcdb01e46bd9739496da64e3c0c",
            "07cbe7a507074f49a24109f802122c35",
            "c331ddcc418846a3bf8ff8367096618a",
            "88d1801e3e624acf8b7a4cbfba5debf9",
            "f0749d071c124c6495668acb5c10b287",
            "7d53dd50f7314494b64d3b55aba371f6",
            "2b53e19421cb45d5bde25f9a685df5f4",
            "b41e80cd0f0a4cf78bea7601eb815689",
            "e6d5b2c0251440b78c1853f9e743ebb4",
            "4bb4e0dc193344e1aaea8f12d2f67985",
            "514a7042c1b048558d64d0c742d8083c",
            "3e0983b845e445bbb4bd6e2a1eafcaa9",
            "5ec7c1e3f88149229f9a2bc7879e8e5e",
            "b77fbed76bfc41dd9f0b8a30faa123de",
            "92d399c4cfb44e638f6f32a664830957",
            "a0d17dfbc5594918a683ee3d0ac9ecf5",
            "eb73dc9b45484475bcaea4e72c0aa160",
            "18518f62cca642dc9907c3e708fe3505",
            "55a0f4b6b33844c2962917d3f958e316",
            "de2724db4b1f4b6286f6d1e76eb08fb0",
            "f2fdf0cdd0a045029a63aaf2efb15d1d",
            "e72d03ad996845e7a09496de3564f4fb",
            "39ded522c8374f878fc23154b1c00888",
            "88edb58afd71410d9841b30caf76b07b",
            "22034770a969454d972cbbde95499c5c",
            "ae5186be7415429fa3da3d84bd86eb19",
            "41703f2c3cc74d278c3dda4e7e48ee8d",
            "cb68559af7524f6fb9e80673300e4a51",
            "1e4262aa9d58479ca4a6445f4399185c",
            "34439a6440344dc1ae5fa35eb4e15b20",
            "9a9d76369949490e8008998ac7fb6290",
            "77d32008aca4464b8da36873ec9711f2",
            "17f1e26d369844629231ad0ff879143c",
            "55583961ea054681a0b47c55dd66b9de",
            "7fa6e37b9a79417fb68afa003548ee29",
            "8ee6e6c375e1475a85619d22f9768e48",
            "def7fb3f8d7a428eadb62a3365c8c2e2",
            "ee0a0f9bb1014193b3f634c32af6a6ed",
            "4063b0b53dc5415dbe33f22397bcccc3",
            "56dd176ef3a74fe6b907dbfc353d47f6",
            "9771dc283e09444998afb78f0325e593",
            "eb7ed36d1abd48b6bd206e92e4995665",
            "1ef868db65d843299a7e5be9d9dfab5c",
            "13ec0b1b3e3c4a38ad0217d7f9fcba38",
            "603e5830d2334b4da982b70737aba45d",
            "507431853ebf45828175fb6485f7689d",
            "c56e4cc5ce4c47b18de8e0e25b726561",
            "91d45f8315cc45fdb3526d7b6b8108b5",
            "d6f6d09d17ab4f81a81ca43016fce80f",
            "2bbc905f818746a4a54801322aa5c3e7",
            "8244ae17782d41a983059e77cb2ed859",
            "c49783f88f2a40f5bb858b7c38c75925",
            "dbca05b2bcb44664808cfce203e13983",
            "e637112e3ca44e2c82b7f08a3bd53e9f",
            "10ff6613eeb442e5b0c86ace44ffaed9",
            "f88439f51a19425298a4783e72eb50c9",
            "688555cc7485495b88816ed098433ca2",
            "0a3c96d469c04e7482f061ec69d0e8a1",
            "cd7a4ffa441a489992233521b2ce2457",
            "da5fbb14ec0a40c7bebec7e4987e8dec",
            "17db9ef8bedd4332971a64262c277054",
            "6534ec823451479eb0ae1fd3bec9be1f",
            "6c88e1b7ce6547488bdbfefe8a4d704a",
            "d83fc8cb05fc44e7ac3909d6e17d5e53",
            "5c93e33c10ba4d98ba19733433e57445",
            "b9cfbefa79ee4d4ca8e517b54cb49cb7",
            "7b9a71c567224050a0ca41ba9083d180",
            "c0c8576160284676b05f60f3781c113e",
            "64588c7c8be84ed8961ee4086ada3975",
            "2eb2c9fc04884ac38bc69e1d8fe41387",
            "31453faea09841658617a34a341fd62c",
            "bdfe8765690f4c52a2a2434836ebd4f6",
            "f76934df174e4b30ab3d3f16005dc270",
            "69caeeea55a3476d9cd8a65f1e94b671",
            "3c8d31fc338f40559dbf2d185ccb07ca",
            "3e499525ff6c4fd987a711202c14eaa9",
            "c744427ffeaf412786c5fe31849fef50",
            "7ea2566d6b564025a32c0c988a93c2e7",
            "acc21749ae7b4ddeb75fed54fd23dbcd",
            "424152a0120a41fb93be4c2d9b5b5531",
            "21e32fd392074fdfbffe10cb7be230ca",
            "bd9ed053116e4a64a2a469ebdf8716a8",
            "5a0256611b9a417cb18049d7aa52ad85",
            "fb918aceb3b7421cb0a25576f79197c3",
            "ebdc85346c8b40bbb82950a1c8a96d84",
            "99182c7763e54bc99b2bfcdd78a09c5b",
            "dea871389330476f972de37ee28f4eaf",
            "b81c4d58b5c947768ccbf050bb996a5c",
            "8098e1d403534860a01ba402c7e7e892",
            "88f1daa83d6b4aa49d921f03eb22395a",
            "a3e0b2d25bae4aaf85b67dd1ad2db951",
            "fb4b3f54f0d9406487e4185241f30404",
            "c21b9db47def476582b32b457ef422fe",
            "c5b8f84e75084fe69a1243514d2dee52",
            "9be31ea69b464a1e91df81522a8d5e6f",
            "70efa503d42c4f8db6bd1a27ec33e5e9",
            "a8ea25849a4c49099b340f3a51913bf8",
            "bf3927dda3a94375b0857f9dd5eb0dfd",
            "c76a8b3052cf46c49bbb482737c202ff",
            "4e133623eaf144528f8cc46b51e64908",
            "520612acfbbb4c2eaa7a35f3a6f69808",
            "0f26a4f4ed004cd1bac48717d340c00f",
            "3bfd5b29d0494875ad69523cc9585f38",
            "3deb8d1f828f45a79fd1ad3d470f8c6b",
            "c6e367c44b4c40cc9c6795d9a0b48f6a",
            "3e4d9d136bf74e66b431d19705e7e91d",
            "22fad92233524ffe84e66bf562cc566b",
            "11368bed4959440ab58ef96dfc86784a",
            "3f4a437563b2414e95207b9be694277e",
            "fbd487af63f54a64a9c6ef06ef84760c",
            "ebff9a6199f14aa8a177da8a556c4bfd",
            "147bd1afe53948209d4405554be83f8a",
            "e195ce72307c4f8b9ba490d0fab04a10",
            "4ed86d3f199c425089f5235b7d8b3797",
            "57cf4d6b30c14d049a4536f1eedd1878",
            "569ffdf9d71e41528de71a70f2d52c8b",
            "e7897c4844cc487e862de8c885e1f650",
            "5352452d7d034bf6853fdad6fd18cf30",
            "ef92126624334f6094d1efdef9f25360",
            "54c95f1e76f14e72aef8395c3f6e3877",
            "3f8a0fcdca5e47dfb59627056d5b7f9b",
            "c73143669c944f108ea5c4fcba6676ac",
            "1e5fb06e32774e2a95e36dba2a5b5630",
            "67b01c22a5d549ee93f0dab65d803aba",
            "c5cc04598adf46f583857f115029bbc7",
            "9fda1268bdd24a4ab132c41be0d79d14",
            "9b9bdd1139b240c481ae70d41597afce",
            "e467cd68dcd24750aac901d969cbc8ee",
            "f59bc9467fc34da09e3c70e791cf8b78",
            "ebedd7f9515044a3a873667020f8a023",
            "3340e26ab64c49f5b2354002e138835e",
            "ce95c917e6e94748a93ce3c4442d1080",
            "58c6ea56372346bc8d3ef22247b875b6",
            "2bf60894afe14a1ea91356971be73267",
            "956e9a0903294650b19dae0db2df797a",
            "450be7e7584a4b51874a24a72bf5a95c",
            "b5e579e480154cfb8e074dd7fdfb94dd",
            "b2278ce5447c47609339ea2db009e11b",
            "770602dc12634d66bfb8403a0f570231",
            "9b69495f719646d8acd3ae3e9e5d867f",
            "68656e75dac14612a39d5bbea1102260",
            "68a654f5ee8240dd8ea472aefef076cc",
            "8dba3e2b60f24b9083cd7f648d99a2ca",
            "acc22c36221a4473b79e753b688daeb6",
            "b627974cb262473a84d890477b7b97a5",
            "2c916776b9444be0a0d53a6aec9c115c",
            "19c68eecc8534f1e8526c7d9f158339c",
            "9d57fa12a61b450c814384d95b6d87c3",
            "177c996c6f274d1885c740e22429e42b",
            "8631ac6474904bc0a031530b66c6e060",
            "e692f47cf98e40e18ae67343a83ffa9b",
            "86431fe27c9841f8bfc6e52c8da91776",
            "abf92d7e475340abb298e567bb0a5dce",
            "99f3cf3e67a64251aa96bbcb0b98f9bc",
            "00d18127471242518d30766c3f23358f",
            "9089647e79804ff99eca2d56d4d8a918",
            "49e0975700c145b8afc70d81d65c869d",
            "a244e94662d44391afa7f632fc439b24",
            "b69390d73a0c4c5cab40bfd578af4463",
            "69a1d0bb34e04eda9560e70a68d9ee47",
            "e146a89132704a4cb658d7f30e3f0e26"
          ]
        },
        "outputId": "bb0fc588-6a57-4e99-c0a4-b453319487a8"
      },
      "source": [
        "wandb.agent(sweep_id, experiment)"
      ],
      "execution_count": null,
      "outputs": [
        {
          "output_type": "stream",
          "text": [
            "\u001b[34m\u001b[1mwandb\u001b[0m: \u001b[33mWARNING\u001b[0m Calling wandb.login() after wandb.init() has no effect.\n",
            "\u001b[34m\u001b[1mwandb\u001b[0m: Agent Starting Run: kmdlu97u with config:\n",
            "\u001b[34m\u001b[1mwandb\u001b[0m: \tactivation_fn: relu\n",
            "\u001b[34m\u001b[1mwandb\u001b[0m: \tbatch_norm: True\n",
            "\u001b[34m\u001b[1mwandb\u001b[0m: \tbatch_size: 100\n",
            "\u001b[34m\u001b[1mwandb\u001b[0m: \tdata_augmentation: True\n",
            "\u001b[34m\u001b[1mwandb\u001b[0m: \tdense_neuron_size: 64\n",
            "\u001b[34m\u001b[1mwandb\u001b[0m: \tdropdout_ratio: 0.3\n",
            "\u001b[34m\u001b[1mwandb\u001b[0m: \tepochs: 10\n",
            "\u001b[34m\u001b[1mwandb\u001b[0m: \tfilter_organization: 1\n",
            "\u001b[34m\u001b[1mwandb\u001b[0m: \tfilter_size: 5\n",
            "\u001b[34m\u001b[1mwandb\u001b[0m: \tlr: 0.0001\n",
            "\u001b[34m\u001b[1mwandb\u001b[0m: \tnum_of_filters: 256\n",
            "\u001b[34m\u001b[1mwandb\u001b[0m: \u001b[33mWARNING\u001b[0m Ignored wandb.init() arg project when running a sweep\n"
          ],
          "name": "stderr"
        },
        {
          "output_type": "display_data",
          "data": {
            "text/html": [
              "\n",
              "                Tracking run with wandb version 0.10.25<br/>\n",
              "                Syncing run <strong style=\"color:#cdcd00\">wandering-sweep-1</strong> to <a href=\"https://wandb.ai\" target=\"_blank\">Weights & Biases</a> <a href=\"https://docs.wandb.com/integrations/jupyter.html\" target=\"_blank\">(Documentation)</a>.<br/>\n",
              "                Project page: <a href=\"https://wandb.ai/theindianwriter/cs6910-assignment2-part_a\" target=\"_blank\">https://wandb.ai/theindianwriter/cs6910-assignment2-part_a</a><br/>\n",
              "                Sweep page: <a href=\"https://wandb.ai/theindianwriter/cs6910-assignment2-part_a/sweeps/fm8gabmx\" target=\"_blank\">https://wandb.ai/theindianwriter/cs6910-assignment2-part_a/sweeps/fm8gabmx</a><br/>\n",
              "Run page: <a href=\"https://wandb.ai/theindianwriter/cs6910-assignment2-part_a/runs/kmdlu97u\" target=\"_blank\">https://wandb.ai/theindianwriter/cs6910-assignment2-part_a/runs/kmdlu97u</a><br/>\n",
              "                Run data is saved locally in <code>/content/wandb/run-20210413_094153-kmdlu97u</code><br/><br/>\n",
              "            "
            ],
            "text/plain": [
              "<IPython.core.display.HTML object>"
            ]
          },
          "metadata": {
            "tags": []
          }
        },
        {
          "output_type": "stream",
          "text": [
            "Training on cuda\n",
            "----------------------IN EPOCH 1--------------------------------\n",
            "avg training loss is 2.352233\n",
            "avg val loss is 2.280871 and accuracy is 19.70%\n",
            "----------------------IN EPOCH 2--------------------------------\n",
            "avg training loss is 2.288860\n",
            "avg val loss is 2.255837 and accuracy is 21.50%\n",
            "----------------------IN EPOCH 3--------------------------------\n",
            "avg training loss is 2.265626\n",
            "avg val loss is 2.224513 and accuracy is 24.50%\n",
            "----------------------IN EPOCH 4--------------------------------\n",
            "avg training loss is 2.254328\n",
            "avg val loss is 2.204476 and accuracy is 25.40%\n",
            "----------------------IN EPOCH 5--------------------------------\n",
            "avg training loss is 2.239879\n",
            "avg val loss is 2.181257 and accuracy is 24.40%\n",
            "----------------------IN EPOCH 6--------------------------------\n",
            "avg training loss is 2.225736\n",
            "avg val loss is 2.162044 and accuracy is 26.90%\n",
            "----------------------IN EPOCH 7--------------------------------\n",
            "avg training loss is 2.208331\n",
            "avg val loss is 2.148858 and accuracy is 29.90%\n",
            "----------------------IN EPOCH 8--------------------------------\n",
            "avg training loss is 2.203207\n",
            "avg val loss is 2.136731 and accuracy is 27.10%\n",
            "----------------------IN EPOCH 9--------------------------------\n",
            "avg training loss is 2.195817\n",
            "avg val loss is 2.115858 and accuracy is 27.80%\n",
            "----------------------IN EPOCH 10--------------------------------\n",
            "avg training loss is 2.190558\n",
            "avg val loss is 2.112257 and accuracy is 28.50%\n"
          ],
          "name": "stdout"
        },
        {
          "output_type": "display_data",
          "data": {
            "text/html": [
              "<br/>Waiting for W&B process to finish, PID 1703<br/>Program ended successfully."
            ],
            "text/plain": [
              "<IPython.core.display.HTML object>"
            ]
          },
          "metadata": {
            "tags": []
          }
        },
        {
          "output_type": "display_data",
          "data": {
            "application/vnd.jupyter.widget-view+json": {
              "model_id": "e871fbb80e0e493c9195b7743866e41f",
              "version_major": 2,
              "version_minor": 0
            },
            "text/plain": [
              "VBox(children=(Label(value=' 0.00MB of 0.00MB uploaded (0.00MB deduped)\\r'), FloatProgress(value=1.0, max=1.0)…"
            ]
          },
          "metadata": {
            "tags": []
          }
        },
        {
          "output_type": "display_data",
          "data": {
            "text/html": [
              "Find user logs for this run at: <code>/content/wandb/run-20210413_094153-kmdlu97u/logs/debug.log</code>"
            ],
            "text/plain": [
              "<IPython.core.display.HTML object>"
            ]
          },
          "metadata": {
            "tags": []
          }
        },
        {
          "output_type": "display_data",
          "data": {
            "text/html": [
              "Find internal logs for this run at: <code>/content/wandb/run-20210413_094153-kmdlu97u/logs/debug-internal.log</code>"
            ],
            "text/plain": [
              "<IPython.core.display.HTML object>"
            ]
          },
          "metadata": {
            "tags": []
          }
        },
        {
          "output_type": "display_data",
          "data": {
            "text/html": [
              "<h3>Run summary:</h3><br/><style>\n",
              "    table.wandb td:nth-child(1) { padding: 0 10px; text-align: right }\n",
              "    </style><table class=\"wandb\">\n",
              "<tr><td>epoch</td><td>10</td></tr><tr><td>accuracy</td><td>28.5</td></tr><tr><td>training loss</td><td>197.1502</td></tr><tr><td>validation loss</td><td>21.12257</td></tr><tr><td>_runtime</td><td>849</td></tr><tr><td>_timestamp</td><td>1618307762</td></tr><tr><td>_step</td><td>9</td></tr></table>"
            ],
            "text/plain": [
              "<IPython.core.display.HTML object>"
            ]
          },
          "metadata": {
            "tags": []
          }
        },
        {
          "output_type": "display_data",
          "data": {
            "text/html": [
              "<h3>Run history:</h3><br/><style>\n",
              "    table.wandb td:nth-child(1) { padding: 0 10px; text-align: right }\n",
              "    </style><table class=\"wandb\">\n",
              "<tr><td>epoch</td><td>▁▂▃▃▄▅▆▆▇█</td></tr><tr><td>accuracy</td><td>▁▂▄▅▄▆█▆▇▇</td></tr><tr><td>training loss</td><td>█▅▄▄▃▃▂▂▁▁</td></tr><tr><td>validation loss</td><td>█▇▆▅▄▃▃▂▁▁</td></tr><tr><td>_runtime</td><td>▁▂▃▃▄▅▆▆▇█</td></tr><tr><td>_timestamp</td><td>▁▂▃▃▄▅▆▆▇█</td></tr><tr><td>_step</td><td>▁▂▃▃▄▅▆▆▇█</td></tr></table><br/>"
            ],
            "text/plain": [
              "<IPython.core.display.HTML object>"
            ]
          },
          "metadata": {
            "tags": []
          }
        },
        {
          "output_type": "display_data",
          "data": {
            "text/html": [
              "Synced 5 W&B file(s), 0 media file(s), 0 artifact file(s) and 0 other file(s)"
            ],
            "text/plain": [
              "<IPython.core.display.HTML object>"
            ]
          },
          "metadata": {
            "tags": []
          }
        },
        {
          "output_type": "display_data",
          "data": {
            "text/html": [
              "\n",
              "                    <br/>Synced <strong style=\"color:#cdcd00\">wandering-sweep-1</strong>: <a href=\"https://wandb.ai/theindianwriter/cs6910-assignment2-part_a/runs/kmdlu97u\" target=\"_blank\">https://wandb.ai/theindianwriter/cs6910-assignment2-part_a/runs/kmdlu97u</a><br/>\n",
              "                "
            ],
            "text/plain": [
              "<IPython.core.display.HTML object>"
            ]
          },
          "metadata": {
            "tags": []
          }
        },
        {
          "output_type": "stream",
          "text": [
            "\u001b[34m\u001b[1mwandb\u001b[0m: Agent Starting Run: l10mf64o with config:\n",
            "\u001b[34m\u001b[1mwandb\u001b[0m: \tactivation_fn: tanh\n",
            "\u001b[34m\u001b[1mwandb\u001b[0m: \tbatch_norm: True\n",
            "\u001b[34m\u001b[1mwandb\u001b[0m: \tbatch_size: 100\n",
            "\u001b[34m\u001b[1mwandb\u001b[0m: \tdata_augmentation: True\n",
            "\u001b[34m\u001b[1mwandb\u001b[0m: \tdense_neuron_size: 256\n",
            "\u001b[34m\u001b[1mwandb\u001b[0m: \tdropdout_ratio: 0.2\n",
            "\u001b[34m\u001b[1mwandb\u001b[0m: \tepochs: 10\n",
            "\u001b[34m\u001b[1mwandb\u001b[0m: \tfilter_organization: 0.5\n",
            "\u001b[34m\u001b[1mwandb\u001b[0m: \tfilter_size: 3\n",
            "\u001b[34m\u001b[1mwandb\u001b[0m: \tlr: 0.0001\n",
            "\u001b[34m\u001b[1mwandb\u001b[0m: \tnum_of_filters: 256\n",
            "\u001b[34m\u001b[1mwandb\u001b[0m: \u001b[33mWARNING\u001b[0m Ignored wandb.init() arg project when running a sweep\n"
          ],
          "name": "stderr"
        },
        {
          "output_type": "display_data",
          "data": {
            "text/html": [
              "\n",
              "                Tracking run with wandb version 0.10.25<br/>\n",
              "                Syncing run <strong style=\"color:#cdcd00\">honest-sweep-2</strong> to <a href=\"https://wandb.ai\" target=\"_blank\">Weights & Biases</a> <a href=\"https://docs.wandb.com/integrations/jupyter.html\" target=\"_blank\">(Documentation)</a>.<br/>\n",
              "                Project page: <a href=\"https://wandb.ai/theindianwriter/cs6910-assignment2-part_a\" target=\"_blank\">https://wandb.ai/theindianwriter/cs6910-assignment2-part_a</a><br/>\n",
              "                Sweep page: <a href=\"https://wandb.ai/theindianwriter/cs6910-assignment2-part_a/sweeps/fm8gabmx\" target=\"_blank\">https://wandb.ai/theindianwriter/cs6910-assignment2-part_a/sweeps/fm8gabmx</a><br/>\n",
              "Run page: <a href=\"https://wandb.ai/theindianwriter/cs6910-assignment2-part_a/runs/l10mf64o\" target=\"_blank\">https://wandb.ai/theindianwriter/cs6910-assignment2-part_a/runs/l10mf64o</a><br/>\n",
              "                Run data is saved locally in <code>/content/wandb/run-20210413_095608-l10mf64o</code><br/><br/>\n",
              "            "
            ],
            "text/plain": [
              "<IPython.core.display.HTML object>"
            ]
          },
          "metadata": {
            "tags": []
          }
        },
        {
          "output_type": "display_data",
          "data": {
            "text/html": [
              "<br/>Waiting for W&B process to finish, PID 1895<br/>Program failed with code 1.  Press ctrl-c to abort syncing."
            ],
            "text/plain": [
              "<IPython.core.display.HTML object>"
            ]
          },
          "metadata": {
            "tags": []
          }
        },
        {
          "output_type": "display_data",
          "data": {
            "application/vnd.jupyter.widget-view+json": {
              "model_id": "1b1fc5132aa644c1ad4a7ea73f30da4c",
              "version_major": 2,
              "version_minor": 0
            },
            "text/plain": [
              "VBox(children=(Label(value=' 0.00MB of 0.00MB uploaded (0.00MB deduped)\\r'), FloatProgress(value=1.0, max=1.0)…"
            ]
          },
          "metadata": {
            "tags": []
          }
        },
        {
          "output_type": "display_data",
          "data": {
            "text/html": [
              "Find user logs for this run at: <code>/content/wandb/run-20210413_095608-l10mf64o/logs/debug.log</code>"
            ],
            "text/plain": [
              "<IPython.core.display.HTML object>"
            ]
          },
          "metadata": {
            "tags": []
          }
        },
        {
          "output_type": "display_data",
          "data": {
            "text/html": [
              "Find internal logs for this run at: <code>/content/wandb/run-20210413_095608-l10mf64o/logs/debug-internal.log</code>"
            ],
            "text/plain": [
              "<IPython.core.display.HTML object>"
            ]
          },
          "metadata": {
            "tags": []
          }
        },
        {
          "output_type": "display_data",
          "data": {
            "text/html": [
              "Synced 4 W&B file(s), 0 media file(s), 0 artifact file(s) and 0 other file(s)"
            ],
            "text/plain": [
              "<IPython.core.display.HTML object>"
            ]
          },
          "metadata": {
            "tags": []
          }
        },
        {
          "output_type": "display_data",
          "data": {
            "text/html": [
              "\n",
              "                    <br/>Synced <strong style=\"color:#cdcd00\">honest-sweep-2</strong>: <a href=\"https://wandb.ai/theindianwriter/cs6910-assignment2-part_a/runs/l10mf64o\" target=\"_blank\">https://wandb.ai/theindianwriter/cs6910-assignment2-part_a/runs/l10mf64o</a><br/>\n",
              "                "
            ],
            "text/plain": [
              "<IPython.core.display.HTML object>"
            ]
          },
          "metadata": {
            "tags": []
          }
        },
        {
          "output_type": "stream",
          "text": [
            "\u001b[34m\u001b[1mwandb\u001b[0m: \u001b[32m\u001b[41mERROR\u001b[0m Run l10mf64o errored: TypeError('new() received an invalid combination of arguments - got (float, int, int, int), but expected one of:\\n * (*, torch.device device)\\n * (torch.Storage storage)\\n * (Tensor other)\\n * (tuple of ints size, *, torch.device device)\\n * (object data, *, torch.device device)\\n')\n",
            "\u001b[34m\u001b[1mwandb\u001b[0m: Agent Starting Run: u4vytn6y with config:\n",
            "\u001b[34m\u001b[1mwandb\u001b[0m: \tactivation_fn: relu\n",
            "\u001b[34m\u001b[1mwandb\u001b[0m: \tbatch_norm: False\n",
            "\u001b[34m\u001b[1mwandb\u001b[0m: \tbatch_size: 100\n",
            "\u001b[34m\u001b[1mwandb\u001b[0m: \tdata_augmentation: False\n",
            "\u001b[34m\u001b[1mwandb\u001b[0m: \tdense_neuron_size: 128\n",
            "\u001b[34m\u001b[1mwandb\u001b[0m: \tdropdout_ratio: 0.4\n",
            "\u001b[34m\u001b[1mwandb\u001b[0m: \tepochs: 10\n",
            "\u001b[34m\u001b[1mwandb\u001b[0m: \tfilter_organization: 2\n",
            "\u001b[34m\u001b[1mwandb\u001b[0m: \tfilter_size: 3\n",
            "\u001b[34m\u001b[1mwandb\u001b[0m: \tlr: 0.0001\n",
            "\u001b[34m\u001b[1mwandb\u001b[0m: \tnum_of_filters: 32\n",
            "\u001b[34m\u001b[1mwandb\u001b[0m: \u001b[33mWARNING\u001b[0m Ignored wandb.init() arg project when running a sweep\n"
          ],
          "name": "stderr"
        },
        {
          "output_type": "display_data",
          "data": {
            "text/html": [
              "\n",
              "                Tracking run with wandb version 0.10.25<br/>\n",
              "                Syncing run <strong style=\"color:#cdcd00\">silver-sweep-3</strong> to <a href=\"https://wandb.ai\" target=\"_blank\">Weights & Biases</a> <a href=\"https://docs.wandb.com/integrations/jupyter.html\" target=\"_blank\">(Documentation)</a>.<br/>\n",
              "                Project page: <a href=\"https://wandb.ai/theindianwriter/cs6910-assignment2-part_a\" target=\"_blank\">https://wandb.ai/theindianwriter/cs6910-assignment2-part_a</a><br/>\n",
              "                Sweep page: <a href=\"https://wandb.ai/theindianwriter/cs6910-assignment2-part_a/sweeps/fm8gabmx\" target=\"_blank\">https://wandb.ai/theindianwriter/cs6910-assignment2-part_a/sweeps/fm8gabmx</a><br/>\n",
              "Run page: <a href=\"https://wandb.ai/theindianwriter/cs6910-assignment2-part_a/runs/u4vytn6y\" target=\"_blank\">https://wandb.ai/theindianwriter/cs6910-assignment2-part_a/runs/u4vytn6y</a><br/>\n",
              "                Run data is saved locally in <code>/content/wandb/run-20210413_095615-u4vytn6y</code><br/><br/>\n",
              "            "
            ],
            "text/plain": [
              "<IPython.core.display.HTML object>"
            ]
          },
          "metadata": {
            "tags": []
          }
        },
        {
          "output_type": "stream",
          "text": [
            "Training on cuda\n",
            "----------------------IN EPOCH 1--------------------------------\n",
            "avg training loss is 2.291244\n",
            "avg val loss is 2.251093 and accuracy is 23.30%\n",
            "----------------------IN EPOCH 2--------------------------------\n",
            "avg training loss is 2.239224\n",
            "avg val loss is 2.186530 and accuracy is 25.40%\n",
            "----------------------IN EPOCH 3--------------------------------\n",
            "avg training loss is 2.198320\n",
            "avg val loss is 2.144884 and accuracy is 28.70%\n",
            "----------------------IN EPOCH 4--------------------------------\n",
            "avg training loss is 2.172736\n",
            "avg val loss is 2.119184 and accuracy is 29.70%\n",
            "----------------------IN EPOCH 5--------------------------------\n",
            "avg training loss is 2.132574\n",
            "avg val loss is 2.070397 and accuracy is 33.80%\n",
            "----------------------IN EPOCH 6--------------------------------\n",
            "avg training loss is 2.098507\n",
            "avg val loss is 2.031222 and accuracy is 36.20%\n",
            "----------------------IN EPOCH 7--------------------------------\n",
            "avg training loss is 2.067442\n",
            "avg val loss is 1.991646 and accuracy is 35.80%\n",
            "----------------------IN EPOCH 8--------------------------------\n",
            "avg training loss is 2.042937\n",
            "avg val loss is 1.983726 and accuracy is 37.00%\n",
            "----------------------IN EPOCH 9--------------------------------\n",
            "avg training loss is 2.021820\n",
            "avg val loss is 1.948001 and accuracy is 38.60%\n",
            "----------------------IN EPOCH 10--------------------------------\n",
            "avg training loss is 2.000069\n",
            "avg val loss is 1.937280 and accuracy is 39.20%\n"
          ],
          "name": "stdout"
        },
        {
          "output_type": "display_data",
          "data": {
            "text/html": [
              "<br/>Waiting for W&B process to finish, PID 1926<br/>Program ended successfully."
            ],
            "text/plain": [
              "<IPython.core.display.HTML object>"
            ]
          },
          "metadata": {
            "tags": []
          }
        },
        {
          "output_type": "display_data",
          "data": {
            "application/vnd.jupyter.widget-view+json": {
              "model_id": "49b8ff7277f545e2a8600885b738fdf6",
              "version_major": 2,
              "version_minor": 0
            },
            "text/plain": [
              "VBox(children=(Label(value=' 0.00MB of 0.00MB uploaded (0.00MB deduped)\\r'), FloatProgress(value=1.0, max=1.0)…"
            ]
          },
          "metadata": {
            "tags": []
          }
        },
        {
          "output_type": "display_data",
          "data": {
            "text/html": [
              "Find user logs for this run at: <code>/content/wandb/run-20210413_095615-u4vytn6y/logs/debug.log</code>"
            ],
            "text/plain": [
              "<IPython.core.display.HTML object>"
            ]
          },
          "metadata": {
            "tags": []
          }
        },
        {
          "output_type": "display_data",
          "data": {
            "text/html": [
              "Find internal logs for this run at: <code>/content/wandb/run-20210413_095615-u4vytn6y/logs/debug-internal.log</code>"
            ],
            "text/plain": [
              "<IPython.core.display.HTML object>"
            ]
          },
          "metadata": {
            "tags": []
          }
        },
        {
          "output_type": "display_data",
          "data": {
            "text/html": [
              "<h3>Run summary:</h3><br/><style>\n",
              "    table.wandb td:nth-child(1) { padding: 0 10px; text-align: right }\n",
              "    </style><table class=\"wandb\">\n",
              "<tr><td>epoch</td><td>10</td></tr><tr><td>accuracy</td><td>39.2</td></tr><tr><td>training loss</td><td>180.00622</td></tr><tr><td>validation loss</td><td>19.3728</td></tr><tr><td>_runtime</td><td>760</td></tr><tr><td>_timestamp</td><td>1618308535</td></tr><tr><td>_step</td><td>9</td></tr></table>"
            ],
            "text/plain": [
              "<IPython.core.display.HTML object>"
            ]
          },
          "metadata": {
            "tags": []
          }
        },
        {
          "output_type": "display_data",
          "data": {
            "text/html": [
              "<h3>Run history:</h3><br/><style>\n",
              "    table.wandb td:nth-child(1) { padding: 0 10px; text-align: right }\n",
              "    </style><table class=\"wandb\">\n",
              "<tr><td>epoch</td><td>▁▂▃▃▄▅▆▆▇█</td></tr><tr><td>accuracy</td><td>▁▂▃▄▆▇▇▇██</td></tr><tr><td>training loss</td><td>█▇▆▅▄▃▃▂▂▁</td></tr><tr><td>validation loss</td><td>█▇▆▅▄▃▂▂▁▁</td></tr><tr><td>_runtime</td><td>▁▂▂▃▄▅▆▆▇█</td></tr><tr><td>_timestamp</td><td>▁▂▂▃▄▅▆▆▇█</td></tr><tr><td>_step</td><td>▁▂▃▃▄▅▆▆▇█</td></tr></table><br/>"
            ],
            "text/plain": [
              "<IPython.core.display.HTML object>"
            ]
          },
          "metadata": {
            "tags": []
          }
        },
        {
          "output_type": "display_data",
          "data": {
            "text/html": [
              "Synced 5 W&B file(s), 0 media file(s), 0 artifact file(s) and 0 other file(s)"
            ],
            "text/plain": [
              "<IPython.core.display.HTML object>"
            ]
          },
          "metadata": {
            "tags": []
          }
        },
        {
          "output_type": "display_data",
          "data": {
            "text/html": [
              "\n",
              "                    <br/>Synced <strong style=\"color:#cdcd00\">silver-sweep-3</strong>: <a href=\"https://wandb.ai/theindianwriter/cs6910-assignment2-part_a/runs/u4vytn6y\" target=\"_blank\">https://wandb.ai/theindianwriter/cs6910-assignment2-part_a/runs/u4vytn6y</a><br/>\n",
              "                "
            ],
            "text/plain": [
              "<IPython.core.display.HTML object>"
            ]
          },
          "metadata": {
            "tags": []
          }
        },
        {
          "output_type": "stream",
          "text": [
            "\u001b[34m\u001b[1mwandb\u001b[0m: Agent Starting Run: 6qzxukxv with config:\n",
            "\u001b[34m\u001b[1mwandb\u001b[0m: \tactivation_fn: tanh\n",
            "\u001b[34m\u001b[1mwandb\u001b[0m: \tbatch_norm: False\n",
            "\u001b[34m\u001b[1mwandb\u001b[0m: \tbatch_size: 100\n",
            "\u001b[34m\u001b[1mwandb\u001b[0m: \tdata_augmentation: True\n",
            "\u001b[34m\u001b[1mwandb\u001b[0m: \tdense_neuron_size: 256\n",
            "\u001b[34m\u001b[1mwandb\u001b[0m: \tdropdout_ratio: 0.3\n",
            "\u001b[34m\u001b[1mwandb\u001b[0m: \tepochs: 5\n",
            "\u001b[34m\u001b[1mwandb\u001b[0m: \tfilter_organization: 0.5\n",
            "\u001b[34m\u001b[1mwandb\u001b[0m: \tfilter_size: 5\n",
            "\u001b[34m\u001b[1mwandb\u001b[0m: \tlr: 0.0001\n",
            "\u001b[34m\u001b[1mwandb\u001b[0m: \tnum_of_filters: 256\n",
            "\u001b[34m\u001b[1mwandb\u001b[0m: \u001b[33mWARNING\u001b[0m Ignored wandb.init() arg project when running a sweep\n"
          ],
          "name": "stderr"
        },
        {
          "output_type": "display_data",
          "data": {
            "text/html": [
              "\n",
              "                Tracking run with wandb version 0.10.25<br/>\n",
              "                Syncing run <strong style=\"color:#cdcd00\">stilted-sweep-4</strong> to <a href=\"https://wandb.ai\" target=\"_blank\">Weights & Biases</a> <a href=\"https://docs.wandb.com/integrations/jupyter.html\" target=\"_blank\">(Documentation)</a>.<br/>\n",
              "                Project page: <a href=\"https://wandb.ai/theindianwriter/cs6910-assignment2-part_a\" target=\"_blank\">https://wandb.ai/theindianwriter/cs6910-assignment2-part_a</a><br/>\n",
              "                Sweep page: <a href=\"https://wandb.ai/theindianwriter/cs6910-assignment2-part_a/sweeps/fm8gabmx\" target=\"_blank\">https://wandb.ai/theindianwriter/cs6910-assignment2-part_a/sweeps/fm8gabmx</a><br/>\n",
              "Run page: <a href=\"https://wandb.ai/theindianwriter/cs6910-assignment2-part_a/runs/6qzxukxv\" target=\"_blank\">https://wandb.ai/theindianwriter/cs6910-assignment2-part_a/runs/6qzxukxv</a><br/>\n",
              "                Run data is saved locally in <code>/content/wandb/run-20210413_100900-6qzxukxv</code><br/><br/>\n",
              "            "
            ],
            "text/plain": [
              "<IPython.core.display.HTML object>"
            ]
          },
          "metadata": {
            "tags": []
          }
        },
        {
          "output_type": "display_data",
          "data": {
            "text/html": [
              "<br/>Waiting for W&B process to finish, PID 2097<br/>Program failed with code 1.  Press ctrl-c to abort syncing."
            ],
            "text/plain": [
              "<IPython.core.display.HTML object>"
            ]
          },
          "metadata": {
            "tags": []
          }
        },
        {
          "output_type": "display_data",
          "data": {
            "application/vnd.jupyter.widget-view+json": {
              "model_id": "e15652682fa545aeb2276bf83dad85cf",
              "version_major": 2,
              "version_minor": 0
            },
            "text/plain": [
              "VBox(children=(Label(value=' 0.00MB of 0.00MB uploaded (0.00MB deduped)\\r'), FloatProgress(value=1.0, max=1.0)…"
            ]
          },
          "metadata": {
            "tags": []
          }
        },
        {
          "output_type": "display_data",
          "data": {
            "text/html": [
              "Find user logs for this run at: <code>/content/wandb/run-20210413_100900-6qzxukxv/logs/debug.log</code>"
            ],
            "text/plain": [
              "<IPython.core.display.HTML object>"
            ]
          },
          "metadata": {
            "tags": []
          }
        },
        {
          "output_type": "display_data",
          "data": {
            "text/html": [
              "Find internal logs for this run at: <code>/content/wandb/run-20210413_100900-6qzxukxv/logs/debug-internal.log</code>"
            ],
            "text/plain": [
              "<IPython.core.display.HTML object>"
            ]
          },
          "metadata": {
            "tags": []
          }
        },
        {
          "output_type": "display_data",
          "data": {
            "text/html": [
              "Synced 4 W&B file(s), 0 media file(s), 0 artifact file(s) and 0 other file(s)"
            ],
            "text/plain": [
              "<IPython.core.display.HTML object>"
            ]
          },
          "metadata": {
            "tags": []
          }
        },
        {
          "output_type": "display_data",
          "data": {
            "text/html": [
              "\n",
              "                    <br/>Synced <strong style=\"color:#cdcd00\">stilted-sweep-4</strong>: <a href=\"https://wandb.ai/theindianwriter/cs6910-assignment2-part_a/runs/6qzxukxv\" target=\"_blank\">https://wandb.ai/theindianwriter/cs6910-assignment2-part_a/runs/6qzxukxv</a><br/>\n",
              "                "
            ],
            "text/plain": [
              "<IPython.core.display.HTML object>"
            ]
          },
          "metadata": {
            "tags": []
          }
        },
        {
          "output_type": "stream",
          "text": [
            "\u001b[34m\u001b[1mwandb\u001b[0m: \u001b[32m\u001b[41mERROR\u001b[0m Run 6qzxukxv errored: TypeError('new() received an invalid combination of arguments - got (float, int, int, int), but expected one of:\\n * (*, torch.device device)\\n * (torch.Storage storage)\\n * (Tensor other)\\n * (tuple of ints size, *, torch.device device)\\n * (object data, *, torch.device device)\\n')\n",
            "\u001b[34m\u001b[1mwandb\u001b[0m: Agent Starting Run: 9xfpqtlx with config:\n",
            "\u001b[34m\u001b[1mwandb\u001b[0m: \tactivation_fn: tanh\n",
            "\u001b[34m\u001b[1mwandb\u001b[0m: \tbatch_norm: False\n",
            "\u001b[34m\u001b[1mwandb\u001b[0m: \tbatch_size: 100\n",
            "\u001b[34m\u001b[1mwandb\u001b[0m: \tdata_augmentation: True\n",
            "\u001b[34m\u001b[1mwandb\u001b[0m: \tdense_neuron_size: 64\n",
            "\u001b[34m\u001b[1mwandb\u001b[0m: \tdropdout_ratio: 0.3\n",
            "\u001b[34m\u001b[1mwandb\u001b[0m: \tepochs: 5\n",
            "\u001b[34m\u001b[1mwandb\u001b[0m: \tfilter_organization: 1\n",
            "\u001b[34m\u001b[1mwandb\u001b[0m: \tfilter_size: 7\n",
            "\u001b[34m\u001b[1mwandb\u001b[0m: \tlr: 0.0001\n",
            "\u001b[34m\u001b[1mwandb\u001b[0m: \tnum_of_filters: 64\n",
            "\u001b[34m\u001b[1mwandb\u001b[0m: \u001b[33mWARNING\u001b[0m Ignored wandb.init() arg project when running a sweep\n"
          ],
          "name": "stderr"
        },
        {
          "output_type": "display_data",
          "data": {
            "text/html": [
              "\n",
              "                Tracking run with wandb version 0.10.25<br/>\n",
              "                Syncing run <strong style=\"color:#cdcd00\">gallant-sweep-5</strong> to <a href=\"https://wandb.ai\" target=\"_blank\">Weights & Biases</a> <a href=\"https://docs.wandb.com/integrations/jupyter.html\" target=\"_blank\">(Documentation)</a>.<br/>\n",
              "                Project page: <a href=\"https://wandb.ai/theindianwriter/cs6910-assignment2-part_a\" target=\"_blank\">https://wandb.ai/theindianwriter/cs6910-assignment2-part_a</a><br/>\n",
              "                Sweep page: <a href=\"https://wandb.ai/theindianwriter/cs6910-assignment2-part_a/sweeps/fm8gabmx\" target=\"_blank\">https://wandb.ai/theindianwriter/cs6910-assignment2-part_a/sweeps/fm8gabmx</a><br/>\n",
              "Run page: <a href=\"https://wandb.ai/theindianwriter/cs6910-assignment2-part_a/runs/9xfpqtlx\" target=\"_blank\">https://wandb.ai/theindianwriter/cs6910-assignment2-part_a/runs/9xfpqtlx</a><br/>\n",
              "                Run data is saved locally in <code>/content/wandb/run-20210413_100908-9xfpqtlx</code><br/><br/>\n",
              "            "
            ],
            "text/plain": [
              "<IPython.core.display.HTML object>"
            ]
          },
          "metadata": {
            "tags": []
          }
        },
        {
          "output_type": "stream",
          "text": [
            "Training on cuda\n",
            "----------------------IN EPOCH 1--------------------------------\n",
            "avg training loss is 2.291251\n",
            "avg val loss is 2.256816 and accuracy is 20.90%\n",
            "----------------------IN EPOCH 2--------------------------------\n",
            "avg training loss is 2.263626\n",
            "avg val loss is 2.216697 and accuracy is 22.70%\n",
            "----------------------IN EPOCH 3--------------------------------\n",
            "avg training loss is 2.236908\n",
            "avg val loss is 2.212519 and accuracy is 22.20%\n",
            "----------------------IN EPOCH 4--------------------------------\n",
            "avg training loss is 2.239038\n",
            "avg val loss is 2.202577 and accuracy is 22.30%\n",
            "----------------------IN EPOCH 5--------------------------------\n",
            "avg training loss is 2.222248\n",
            "avg val loss is 2.185672 and accuracy is 23.50%\n"
          ],
          "name": "stdout"
        },
        {
          "output_type": "display_data",
          "data": {
            "text/html": [
              "<br/>Waiting for W&B process to finish, PID 2128<br/>Program ended successfully."
            ],
            "text/plain": [
              "<IPython.core.display.HTML object>"
            ]
          },
          "metadata": {
            "tags": []
          }
        },
        {
          "output_type": "display_data",
          "data": {
            "application/vnd.jupyter.widget-view+json": {
              "model_id": "bc83bad26e4948029be9456b951d8658",
              "version_major": 2,
              "version_minor": 0
            },
            "text/plain": [
              "VBox(children=(Label(value=' 0.00MB of 0.00MB uploaded (0.00MB deduped)\\r'), FloatProgress(value=1.0, max=1.0)…"
            ]
          },
          "metadata": {
            "tags": []
          }
        },
        {
          "output_type": "display_data",
          "data": {
            "text/html": [
              "Find user logs for this run at: <code>/content/wandb/run-20210413_100908-9xfpqtlx/logs/debug.log</code>"
            ],
            "text/plain": [
              "<IPython.core.display.HTML object>"
            ]
          },
          "metadata": {
            "tags": []
          }
        },
        {
          "output_type": "display_data",
          "data": {
            "text/html": [
              "Find internal logs for this run at: <code>/content/wandb/run-20210413_100908-9xfpqtlx/logs/debug-internal.log</code>"
            ],
            "text/plain": [
              "<IPython.core.display.HTML object>"
            ]
          },
          "metadata": {
            "tags": []
          }
        },
        {
          "output_type": "display_data",
          "data": {
            "text/html": [
              "<h3>Run summary:</h3><br/><style>\n",
              "    table.wandb td:nth-child(1) { padding: 0 10px; text-align: right }\n",
              "    </style><table class=\"wandb\">\n",
              "<tr><td>epoch</td><td>5</td></tr><tr><td>accuracy</td><td>23.5</td></tr><tr><td>training loss</td><td>200.00228</td></tr><tr><td>validation loss</td><td>21.85672</td></tr><tr><td>_runtime</td><td>474</td></tr><tr><td>_timestamp</td><td>1618309022</td></tr><tr><td>_step</td><td>4</td></tr></table>"
            ],
            "text/plain": [
              "<IPython.core.display.HTML object>"
            ]
          },
          "metadata": {
            "tags": []
          }
        },
        {
          "output_type": "display_data",
          "data": {
            "text/html": [
              "<h3>Run history:</h3><br/><style>\n",
              "    table.wandb td:nth-child(1) { padding: 0 10px; text-align: right }\n",
              "    </style><table class=\"wandb\">\n",
              "<tr><td>epoch</td><td>▁▃▅▆█</td></tr><tr><td>accuracy</td><td>▁▆▅▅█</td></tr><tr><td>training loss</td><td>█▅▂▃▁</td></tr><tr><td>validation loss</td><td>█▄▄▃▁</td></tr><tr><td>_runtime</td><td>▁▃▄▆█</td></tr><tr><td>_timestamp</td><td>▁▃▄▆█</td></tr><tr><td>_step</td><td>▁▃▅▆█</td></tr></table><br/>"
            ],
            "text/plain": [
              "<IPython.core.display.HTML object>"
            ]
          },
          "metadata": {
            "tags": []
          }
        },
        {
          "output_type": "display_data",
          "data": {
            "text/html": [
              "Synced 5 W&B file(s), 0 media file(s), 0 artifact file(s) and 0 other file(s)"
            ],
            "text/plain": [
              "<IPython.core.display.HTML object>"
            ]
          },
          "metadata": {
            "tags": []
          }
        },
        {
          "output_type": "display_data",
          "data": {
            "text/html": [
              "\n",
              "                    <br/>Synced <strong style=\"color:#cdcd00\">gallant-sweep-5</strong>: <a href=\"https://wandb.ai/theindianwriter/cs6910-assignment2-part_a/runs/9xfpqtlx\" target=\"_blank\">https://wandb.ai/theindianwriter/cs6910-assignment2-part_a/runs/9xfpqtlx</a><br/>\n",
              "                "
            ],
            "text/plain": [
              "<IPython.core.display.HTML object>"
            ]
          },
          "metadata": {
            "tags": []
          }
        },
        {
          "output_type": "stream",
          "text": [
            "\u001b[34m\u001b[1mwandb\u001b[0m: Sweep Agent: Waiting for job.\n",
            "\u001b[34m\u001b[1mwandb\u001b[0m: Job received.\n",
            "\u001b[34m\u001b[1mwandb\u001b[0m: Agent Starting Run: 4ooqpvvo with config:\n",
            "\u001b[34m\u001b[1mwandb\u001b[0m: \tactivation_fn: tanh\n",
            "\u001b[34m\u001b[1mwandb\u001b[0m: \tbatch_norm: False\n",
            "\u001b[34m\u001b[1mwandb\u001b[0m: \tbatch_size: 100\n",
            "\u001b[34m\u001b[1mwandb\u001b[0m: \tdata_augmentation: False\n",
            "\u001b[34m\u001b[1mwandb\u001b[0m: \tdense_neuron_size: 256\n",
            "\u001b[34m\u001b[1mwandb\u001b[0m: \tdropdout_ratio: 0.3\n",
            "\u001b[34m\u001b[1mwandb\u001b[0m: \tepochs: 5\n",
            "\u001b[34m\u001b[1mwandb\u001b[0m: \tfilter_organization: 2\n",
            "\u001b[34m\u001b[1mwandb\u001b[0m: \tfilter_size: 3\n",
            "\u001b[34m\u001b[1mwandb\u001b[0m: \tlr: 0.0001\n",
            "\u001b[34m\u001b[1mwandb\u001b[0m: \tnum_of_filters: 256\n",
            "\u001b[34m\u001b[1mwandb\u001b[0m: \u001b[33mWARNING\u001b[0m Ignored wandb.init() arg project when running a sweep\n"
          ],
          "name": "stderr"
        },
        {
          "output_type": "display_data",
          "data": {
            "text/html": [
              "\n",
              "                Tracking run with wandb version 0.10.25<br/>\n",
              "                Syncing run <strong style=\"color:#cdcd00\">sunny-sweep-6</strong> to <a href=\"https://wandb.ai\" target=\"_blank\">Weights & Biases</a> <a href=\"https://docs.wandb.com/integrations/jupyter.html\" target=\"_blank\">(Documentation)</a>.<br/>\n",
              "                Project page: <a href=\"https://wandb.ai/theindianwriter/cs6910-assignment2-part_a\" target=\"_blank\">https://wandb.ai/theindianwriter/cs6910-assignment2-part_a</a><br/>\n",
              "                Sweep page: <a href=\"https://wandb.ai/theindianwriter/cs6910-assignment2-part_a/sweeps/fm8gabmx\" target=\"_blank\">https://wandb.ai/theindianwriter/cs6910-assignment2-part_a/sweeps/fm8gabmx</a><br/>\n",
              "Run page: <a href=\"https://wandb.ai/theindianwriter/cs6910-assignment2-part_a/runs/4ooqpvvo\" target=\"_blank\">https://wandb.ai/theindianwriter/cs6910-assignment2-part_a/runs/4ooqpvvo</a><br/>\n",
              "                Run data is saved locally in <code>/content/wandb/run-20210413_101727-4ooqpvvo</code><br/><br/>\n",
              "            "
            ],
            "text/plain": [
              "<IPython.core.display.HTML object>"
            ]
          },
          "metadata": {
            "tags": []
          }
        },
        {
          "output_type": "stream",
          "text": [
            "Training on cuda\n",
            "----------------------IN EPOCH 1--------------------------------\n",
            "avg training loss is 2.190673\n",
            "avg val loss is 2.109154 and accuracy is 29.90%\n",
            "----------------------IN EPOCH 2--------------------------------\n",
            "avg training loss is 2.065026\n",
            "avg val loss is 2.060793 and accuracy is 32.30%\n",
            "----------------------IN EPOCH 3--------------------------------\n",
            "avg training loss is 2.012148\n",
            "avg val loss is 2.003528 and accuracy is 35.80%\n",
            "----------------------IN EPOCH 4--------------------------------\n",
            "avg training loss is 1.968356\n",
            "avg val loss is 1.979537 and accuracy is 36.20%\n",
            "----------------------IN EPOCH 5--------------------------------\n",
            "avg training loss is 1.939788\n",
            "avg val loss is 1.955355 and accuracy is 36.60%\n"
          ],
          "name": "stdout"
        },
        {
          "output_type": "display_data",
          "data": {
            "text/html": [
              "<br/>Waiting for W&B process to finish, PID 2188<br/>Program ended successfully."
            ],
            "text/plain": [
              "<IPython.core.display.HTML object>"
            ]
          },
          "metadata": {
            "tags": []
          }
        },
        {
          "output_type": "display_data",
          "data": {
            "application/vnd.jupyter.widget-view+json": {
              "model_id": "729e304ba5844f5db46cc6437cb4fac6",
              "version_major": 2,
              "version_minor": 0
            },
            "text/plain": [
              "VBox(children=(Label(value=' 0.00MB of 0.00MB uploaded (0.00MB deduped)\\r'), FloatProgress(value=1.0, max=1.0)…"
            ]
          },
          "metadata": {
            "tags": []
          }
        },
        {
          "output_type": "display_data",
          "data": {
            "text/html": [
              "Find user logs for this run at: <code>/content/wandb/run-20210413_101727-4ooqpvvo/logs/debug.log</code>"
            ],
            "text/plain": [
              "<IPython.core.display.HTML object>"
            ]
          },
          "metadata": {
            "tags": []
          }
        },
        {
          "output_type": "display_data",
          "data": {
            "text/html": [
              "Find internal logs for this run at: <code>/content/wandb/run-20210413_101727-4ooqpvvo/logs/debug-internal.log</code>"
            ],
            "text/plain": [
              "<IPython.core.display.HTML object>"
            ]
          },
          "metadata": {
            "tags": []
          }
        },
        {
          "output_type": "display_data",
          "data": {
            "text/html": [
              "<h3>Run summary:</h3><br/><style>\n",
              "    table.wandb td:nth-child(1) { padding: 0 10px; text-align: right }\n",
              "    </style><table class=\"wandb\">\n",
              "<tr><td>epoch</td><td>5</td></tr><tr><td>accuracy</td><td>36.6</td></tr><tr><td>training loss</td><td>174.58092</td></tr><tr><td>validation loss</td><td>19.55355</td></tr><tr><td>_runtime</td><td>412</td></tr><tr><td>_timestamp</td><td>1618309459</td></tr><tr><td>_step</td><td>4</td></tr></table>"
            ],
            "text/plain": [
              "<IPython.core.display.HTML object>"
            ]
          },
          "metadata": {
            "tags": []
          }
        },
        {
          "output_type": "display_data",
          "data": {
            "text/html": [
              "<h3>Run history:</h3><br/><style>\n",
              "    table.wandb td:nth-child(1) { padding: 0 10px; text-align: right }\n",
              "    </style><table class=\"wandb\">\n",
              "<tr><td>epoch</td><td>▁▃▅▆█</td></tr><tr><td>accuracy</td><td>▁▄▇██</td></tr><tr><td>training loss</td><td>█▄▃▂▁</td></tr><tr><td>validation loss</td><td>█▆▃▂▁</td></tr><tr><td>_runtime</td><td>▁▃▄▆█</td></tr><tr><td>_timestamp</td><td>▁▃▄▆█</td></tr><tr><td>_step</td><td>▁▃▅▆█</td></tr></table><br/>"
            ],
            "text/plain": [
              "<IPython.core.display.HTML object>"
            ]
          },
          "metadata": {
            "tags": []
          }
        },
        {
          "output_type": "display_data",
          "data": {
            "text/html": [
              "Synced 5 W&B file(s), 0 media file(s), 0 artifact file(s) and 0 other file(s)"
            ],
            "text/plain": [
              "<IPython.core.display.HTML object>"
            ]
          },
          "metadata": {
            "tags": []
          }
        },
        {
          "output_type": "display_data",
          "data": {
            "text/html": [
              "\n",
              "                    <br/>Synced <strong style=\"color:#cdcd00\">sunny-sweep-6</strong>: <a href=\"https://wandb.ai/theindianwriter/cs6910-assignment2-part_a/runs/4ooqpvvo\" target=\"_blank\">https://wandb.ai/theindianwriter/cs6910-assignment2-part_a/runs/4ooqpvvo</a><br/>\n",
              "                "
            ],
            "text/plain": [
              "<IPython.core.display.HTML object>"
            ]
          },
          "metadata": {
            "tags": []
          }
        },
        {
          "output_type": "stream",
          "text": [
            "\u001b[34m\u001b[1mwandb\u001b[0m: Agent Starting Run: jgobzppd with config:\n",
            "\u001b[34m\u001b[1mwandb\u001b[0m: \tactivation_fn: relu\n",
            "\u001b[34m\u001b[1mwandb\u001b[0m: \tbatch_norm: False\n",
            "\u001b[34m\u001b[1mwandb\u001b[0m: \tbatch_size: 200\n",
            "\u001b[34m\u001b[1mwandb\u001b[0m: \tdata_augmentation: False\n",
            "\u001b[34m\u001b[1mwandb\u001b[0m: \tdense_neuron_size: 256\n",
            "\u001b[34m\u001b[1mwandb\u001b[0m: \tdropdout_ratio: 0.5\n",
            "\u001b[34m\u001b[1mwandb\u001b[0m: \tepochs: 10\n",
            "\u001b[34m\u001b[1mwandb\u001b[0m: \tfilter_organization: 1\n",
            "\u001b[34m\u001b[1mwandb\u001b[0m: \tfilter_size: 7\n",
            "\u001b[34m\u001b[1mwandb\u001b[0m: \tlr: 0.0001\n",
            "\u001b[34m\u001b[1mwandb\u001b[0m: \tnum_of_filters: 256\n",
            "\u001b[34m\u001b[1mwandb\u001b[0m: \u001b[33mWARNING\u001b[0m Ignored wandb.init() arg project when running a sweep\n"
          ],
          "name": "stderr"
        },
        {
          "output_type": "display_data",
          "data": {
            "text/html": [
              "\n",
              "                Tracking run with wandb version 0.10.25<br/>\n",
              "                Syncing run <strong style=\"color:#cdcd00\">bright-sweep-7</strong> to <a href=\"https://wandb.ai\" target=\"_blank\">Weights & Biases</a> <a href=\"https://docs.wandb.com/integrations/jupyter.html\" target=\"_blank\">(Documentation)</a>.<br/>\n",
              "                Project page: <a href=\"https://wandb.ai/theindianwriter/cs6910-assignment2-part_a\" target=\"_blank\">https://wandb.ai/theindianwriter/cs6910-assignment2-part_a</a><br/>\n",
              "                Sweep page: <a href=\"https://wandb.ai/theindianwriter/cs6910-assignment2-part_a/sweeps/fm8gabmx\" target=\"_blank\">https://wandb.ai/theindianwriter/cs6910-assignment2-part_a/sweeps/fm8gabmx</a><br/>\n",
              "Run page: <a href=\"https://wandb.ai/theindianwriter/cs6910-assignment2-part_a/runs/jgobzppd\" target=\"_blank\">https://wandb.ai/theindianwriter/cs6910-assignment2-part_a/runs/jgobzppd</a><br/>\n",
              "                Run data is saved locally in <code>/content/wandb/run-20210413_102426-jgobzppd</code><br/><br/>\n",
              "            "
            ],
            "text/plain": [
              "<IPython.core.display.HTML object>"
            ]
          },
          "metadata": {
            "tags": []
          }
        },
        {
          "output_type": "stream",
          "text": [
            "Training on cuda\n",
            "----------------------IN EPOCH 1--------------------------------\n",
            "avg training loss is 2.303613\n",
            "avg val loss is 2.303200 and accuracy is 16.20%\n",
            "----------------------IN EPOCH 2--------------------------------\n",
            "avg training loss is 2.298493\n",
            "avg val loss is 2.283747 and accuracy is 19.60%\n",
            "----------------------IN EPOCH 3--------------------------------\n",
            "avg training loss is 2.278867\n",
            "avg val loss is 2.253900 and accuracy is 20.10%\n",
            "----------------------IN EPOCH 4--------------------------------\n",
            "avg training loss is 2.249996\n",
            "avg val loss is 2.235795 and accuracy is 22.70%\n",
            "----------------------IN EPOCH 5--------------------------------\n",
            "avg training loss is 2.224973\n",
            "avg val loss is 2.207725 and accuracy is 23.40%\n",
            "----------------------IN EPOCH 6--------------------------------\n",
            "avg training loss is 2.205457\n",
            "avg val loss is 2.188226 and accuracy is 24.90%\n",
            "----------------------IN EPOCH 7--------------------------------\n",
            "avg training loss is 2.179168\n",
            "avg val loss is 2.168738 and accuracy is 25.40%\n",
            "----------------------IN EPOCH 8--------------------------------\n",
            "avg training loss is 2.165170\n",
            "avg val loss is 2.151125 and accuracy is 26.60%\n",
            "----------------------IN EPOCH 9--------------------------------\n",
            "avg training loss is 2.151508\n",
            "avg val loss is 2.128906 and accuracy is 28.00%\n",
            "----------------------IN EPOCH 10--------------------------------\n",
            "avg training loss is 2.136388\n",
            "avg val loss is 2.119122 and accuracy is 28.50%\n"
          ],
          "name": "stdout"
        },
        {
          "output_type": "display_data",
          "data": {
            "text/html": [
              "<br/>Waiting for W&B process to finish, PID 2240<br/>Program ended successfully."
            ],
            "text/plain": [
              "<IPython.core.display.HTML object>"
            ]
          },
          "metadata": {
            "tags": []
          }
        },
        {
          "output_type": "display_data",
          "data": {
            "application/vnd.jupyter.widget-view+json": {
              "model_id": "c1de6bc64a034dac9d3c938ba19f42ea",
              "version_major": 2,
              "version_minor": 0
            },
            "text/plain": [
              "VBox(children=(Label(value=' 0.00MB of 0.00MB uploaded (0.00MB deduped)\\r'), FloatProgress(value=1.0, max=1.0)…"
            ]
          },
          "metadata": {
            "tags": []
          }
        },
        {
          "output_type": "display_data",
          "data": {
            "text/html": [
              "Find user logs for this run at: <code>/content/wandb/run-20210413_102426-jgobzppd/logs/debug.log</code>"
            ],
            "text/plain": [
              "<IPython.core.display.HTML object>"
            ]
          },
          "metadata": {
            "tags": []
          }
        },
        {
          "output_type": "display_data",
          "data": {
            "text/html": [
              "Find internal logs for this run at: <code>/content/wandb/run-20210413_102426-jgobzppd/logs/debug-internal.log</code>"
            ],
            "text/plain": [
              "<IPython.core.display.HTML object>"
            ]
          },
          "metadata": {
            "tags": []
          }
        },
        {
          "output_type": "display_data",
          "data": {
            "text/html": [
              "<h3>Run summary:</h3><br/><style>\n",
              "    table.wandb td:nth-child(1) { padding: 0 10px; text-align: right }\n",
              "    </style><table class=\"wandb\">\n",
              "<tr><td>epoch</td><td>10</td></tr><tr><td>accuracy</td><td>28.5</td></tr><tr><td>training loss</td><td>96.13744</td></tr><tr><td>validation loss</td><td>10.59561</td></tr><tr><td>_runtime</td><td>1056</td></tr><tr><td>_timestamp</td><td>1618310522</td></tr><tr><td>_step</td><td>9</td></tr></table>"
            ],
            "text/plain": [
              "<IPython.core.display.HTML object>"
            ]
          },
          "metadata": {
            "tags": []
          }
        },
        {
          "output_type": "display_data",
          "data": {
            "text/html": [
              "<h3>Run history:</h3><br/><style>\n",
              "    table.wandb td:nth-child(1) { padding: 0 10px; text-align: right }\n",
              "    </style><table class=\"wandb\">\n",
              "<tr><td>epoch</td><td>▁▂▃▃▄▅▆▆▇█</td></tr><tr><td>accuracy</td><td>▁▃▃▅▅▆▆▇██</td></tr><tr><td>training loss</td><td>██▇▆▅▄▃▂▂▁</td></tr><tr><td>validation loss</td><td>█▇▆▅▄▄▃▂▁▁</td></tr><tr><td>_runtime</td><td>▁▂▃▃▄▅▆▆▇█</td></tr><tr><td>_timestamp</td><td>▁▂▃▃▄▅▆▆▇█</td></tr><tr><td>_step</td><td>▁▂▃▃▄▅▆▆▇█</td></tr></table><br/>"
            ],
            "text/plain": [
              "<IPython.core.display.HTML object>"
            ]
          },
          "metadata": {
            "tags": []
          }
        },
        {
          "output_type": "display_data",
          "data": {
            "text/html": [
              "Synced 5 W&B file(s), 0 media file(s), 0 artifact file(s) and 0 other file(s)"
            ],
            "text/plain": [
              "<IPython.core.display.HTML object>"
            ]
          },
          "metadata": {
            "tags": []
          }
        },
        {
          "output_type": "display_data",
          "data": {
            "text/html": [
              "\n",
              "                    <br/>Synced <strong style=\"color:#cdcd00\">bright-sweep-7</strong>: <a href=\"https://wandb.ai/theindianwriter/cs6910-assignment2-part_a/runs/jgobzppd\" target=\"_blank\">https://wandb.ai/theindianwriter/cs6910-assignment2-part_a/runs/jgobzppd</a><br/>\n",
              "                "
            ],
            "text/plain": [
              "<IPython.core.display.HTML object>"
            ]
          },
          "metadata": {
            "tags": []
          }
        },
        {
          "output_type": "stream",
          "text": [
            "\u001b[34m\u001b[1mwandb\u001b[0m: Agent Starting Run: gg2kuhds with config:\n",
            "\u001b[34m\u001b[1mwandb\u001b[0m: \tactivation_fn: relu\n",
            "\u001b[34m\u001b[1mwandb\u001b[0m: \tbatch_norm: True\n",
            "\u001b[34m\u001b[1mwandb\u001b[0m: \tbatch_size: 100\n",
            "\u001b[34m\u001b[1mwandb\u001b[0m: \tdata_augmentation: True\n",
            "\u001b[34m\u001b[1mwandb\u001b[0m: \tdense_neuron_size: 128\n",
            "\u001b[34m\u001b[1mwandb\u001b[0m: \tdropdout_ratio: 0.2\n",
            "\u001b[34m\u001b[1mwandb\u001b[0m: \tepochs: 5\n",
            "\u001b[34m\u001b[1mwandb\u001b[0m: \tfilter_organization: 1\n",
            "\u001b[34m\u001b[1mwandb\u001b[0m: \tfilter_size: 5\n",
            "\u001b[34m\u001b[1mwandb\u001b[0m: \tlr: 0.0002\n",
            "\u001b[34m\u001b[1mwandb\u001b[0m: \tnum_of_filters: 32\n",
            "\u001b[34m\u001b[1mwandb\u001b[0m: \u001b[33mWARNING\u001b[0m Ignored wandb.init() arg project when running a sweep\n"
          ],
          "name": "stderr"
        },
        {
          "output_type": "display_data",
          "data": {
            "text/html": [
              "\n",
              "                Tracking run with wandb version 0.10.25<br/>\n",
              "                Syncing run <strong style=\"color:#cdcd00\">worthy-sweep-8</strong> to <a href=\"https://wandb.ai\" target=\"_blank\">Weights & Biases</a> <a href=\"https://docs.wandb.com/integrations/jupyter.html\" target=\"_blank\">(Documentation)</a>.<br/>\n",
              "                Project page: <a href=\"https://wandb.ai/theindianwriter/cs6910-assignment2-part_a\" target=\"_blank\">https://wandb.ai/theindianwriter/cs6910-assignment2-part_a</a><br/>\n",
              "                Sweep page: <a href=\"https://wandb.ai/theindianwriter/cs6910-assignment2-part_a/sweeps/fm8gabmx\" target=\"_blank\">https://wandb.ai/theindianwriter/cs6910-assignment2-part_a/sweeps/fm8gabmx</a><br/>\n",
              "Run page: <a href=\"https://wandb.ai/theindianwriter/cs6910-assignment2-part_a/runs/gg2kuhds\" target=\"_blank\">https://wandb.ai/theindianwriter/cs6910-assignment2-part_a/runs/gg2kuhds</a><br/>\n",
              "                Run data is saved locally in <code>/content/wandb/run-20210413_104211-gg2kuhds</code><br/><br/>\n",
              "            "
            ],
            "text/plain": [
              "<IPython.core.display.HTML object>"
            ]
          },
          "metadata": {
            "tags": []
          }
        },
        {
          "output_type": "stream",
          "text": [
            "Training on cuda\n",
            "----------------------IN EPOCH 1--------------------------------\n",
            "avg training loss is 2.316430\n",
            "avg val loss is 2.209257 and accuracy is 24.90%\n",
            "----------------------IN EPOCH 2--------------------------------\n",
            "avg training loss is 2.241686\n",
            "avg val loss is 2.165765 and accuracy is 26.40%\n",
            "----------------------IN EPOCH 3--------------------------------\n",
            "avg training loss is 2.215724\n",
            "avg val loss is 2.137904 and accuracy is 26.90%\n",
            "----------------------IN EPOCH 4--------------------------------\n",
            "avg training loss is 2.193566\n",
            "avg val loss is 2.123254 and accuracy is 27.50%\n",
            "----------------------IN EPOCH 5--------------------------------\n",
            "avg training loss is 2.184399\n",
            "avg val loss is 2.111790 and accuracy is 26.20%\n"
          ],
          "name": "stdout"
        },
        {
          "output_type": "display_data",
          "data": {
            "text/html": [
              "<br/>Waiting for W&B process to finish, PID 2322<br/>Program ended successfully."
            ],
            "text/plain": [
              "<IPython.core.display.HTML object>"
            ]
          },
          "metadata": {
            "tags": []
          }
        },
        {
          "output_type": "display_data",
          "data": {
            "application/vnd.jupyter.widget-view+json": {
              "model_id": "8961d09ef916420bb77a2a94047d4736",
              "version_major": 2,
              "version_minor": 0
            },
            "text/plain": [
              "VBox(children=(Label(value=' 0.00MB of 0.00MB uploaded (0.00MB deduped)\\r'), FloatProgress(value=1.0, max=1.0)…"
            ]
          },
          "metadata": {
            "tags": []
          }
        },
        {
          "output_type": "display_data",
          "data": {
            "text/html": [
              "Find user logs for this run at: <code>/content/wandb/run-20210413_104211-gg2kuhds/logs/debug.log</code>"
            ],
            "text/plain": [
              "<IPython.core.display.HTML object>"
            ]
          },
          "metadata": {
            "tags": []
          }
        },
        {
          "output_type": "display_data",
          "data": {
            "text/html": [
              "Find internal logs for this run at: <code>/content/wandb/run-20210413_104211-gg2kuhds/logs/debug-internal.log</code>"
            ],
            "text/plain": [
              "<IPython.core.display.HTML object>"
            ]
          },
          "metadata": {
            "tags": []
          }
        },
        {
          "output_type": "display_data",
          "data": {
            "text/html": [
              "<h3>Run summary:</h3><br/><style>\n",
              "    table.wandb td:nth-child(1) { padding: 0 10px; text-align: right }\n",
              "    </style><table class=\"wandb\">\n",
              "<tr><td>epoch</td><td>5</td></tr><tr><td>accuracy</td><td>26.2</td></tr><tr><td>training loss</td><td>196.59589</td></tr><tr><td>validation loss</td><td>21.1179</td></tr><tr><td>_runtime</td><td>450</td></tr><tr><td>_timestamp</td><td>1618310982</td></tr><tr><td>_step</td><td>4</td></tr></table>"
            ],
            "text/plain": [
              "<IPython.core.display.HTML object>"
            ]
          },
          "metadata": {
            "tags": []
          }
        },
        {
          "output_type": "display_data",
          "data": {
            "text/html": [
              "<h3>Run history:</h3><br/><style>\n",
              "    table.wandb td:nth-child(1) { padding: 0 10px; text-align: right }\n",
              "    </style><table class=\"wandb\">\n",
              "<tr><td>epoch</td><td>▁▃▅▆█</td></tr><tr><td>accuracy</td><td>▁▅▆█▅</td></tr><tr><td>training loss</td><td>█▄▃▁▁</td></tr><tr><td>validation loss</td><td>█▅▃▂▁</td></tr><tr><td>_runtime</td><td>▁▃▅▆█</td></tr><tr><td>_timestamp</td><td>▁▃▅▆█</td></tr><tr><td>_step</td><td>▁▃▅▆█</td></tr></table><br/>"
            ],
            "text/plain": [
              "<IPython.core.display.HTML object>"
            ]
          },
          "metadata": {
            "tags": []
          }
        },
        {
          "output_type": "display_data",
          "data": {
            "text/html": [
              "Synced 5 W&B file(s), 0 media file(s), 0 artifact file(s) and 0 other file(s)"
            ],
            "text/plain": [
              "<IPython.core.display.HTML object>"
            ]
          },
          "metadata": {
            "tags": []
          }
        },
        {
          "output_type": "display_data",
          "data": {
            "text/html": [
              "\n",
              "                    <br/>Synced <strong style=\"color:#cdcd00\">worthy-sweep-8</strong>: <a href=\"https://wandb.ai/theindianwriter/cs6910-assignment2-part_a/runs/gg2kuhds\" target=\"_blank\">https://wandb.ai/theindianwriter/cs6910-assignment2-part_a/runs/gg2kuhds</a><br/>\n",
              "                "
            ],
            "text/plain": [
              "<IPython.core.display.HTML object>"
            ]
          },
          "metadata": {
            "tags": []
          }
        },
        {
          "output_type": "stream",
          "text": [
            "\u001b[34m\u001b[1mwandb\u001b[0m: Agent Starting Run: dorv81mb with config:\n",
            "\u001b[34m\u001b[1mwandb\u001b[0m: \tactivation_fn: leaky_relu\n",
            "\u001b[34m\u001b[1mwandb\u001b[0m: \tbatch_norm: False\n",
            "\u001b[34m\u001b[1mwandb\u001b[0m: \tbatch_size: 200\n",
            "\u001b[34m\u001b[1mwandb\u001b[0m: \tdata_augmentation: False\n",
            "\u001b[34m\u001b[1mwandb\u001b[0m: \tdense_neuron_size: 256\n",
            "\u001b[34m\u001b[1mwandb\u001b[0m: \tdropdout_ratio: 0.3\n",
            "\u001b[34m\u001b[1mwandb\u001b[0m: \tepochs: 5\n",
            "\u001b[34m\u001b[1mwandb\u001b[0m: \tfilter_organization: 2\n",
            "\u001b[34m\u001b[1mwandb\u001b[0m: \tfilter_size: 7\n",
            "\u001b[34m\u001b[1mwandb\u001b[0m: \tlr: 0.0002\n",
            "\u001b[34m\u001b[1mwandb\u001b[0m: \tnum_of_filters: 64\n",
            "\u001b[34m\u001b[1mwandb\u001b[0m: \u001b[33mWARNING\u001b[0m Ignored wandb.init() arg project when running a sweep\n"
          ],
          "name": "stderr"
        },
        {
          "output_type": "display_data",
          "data": {
            "text/html": [
              "\n",
              "                Tracking run with wandb version 0.10.25<br/>\n",
              "                Syncing run <strong style=\"color:#cdcd00\">revived-sweep-9</strong> to <a href=\"https://wandb.ai\" target=\"_blank\">Weights & Biases</a> <a href=\"https://docs.wandb.com/integrations/jupyter.html\" target=\"_blank\">(Documentation)</a>.<br/>\n",
              "                Project page: <a href=\"https://wandb.ai/theindianwriter/cs6910-assignment2-part_a\" target=\"_blank\">https://wandb.ai/theindianwriter/cs6910-assignment2-part_a</a><br/>\n",
              "                Sweep page: <a href=\"https://wandb.ai/theindianwriter/cs6910-assignment2-part_a/sweeps/fm8gabmx\" target=\"_blank\">https://wandb.ai/theindianwriter/cs6910-assignment2-part_a/sweeps/fm8gabmx</a><br/>\n",
              "Run page: <a href=\"https://wandb.ai/theindianwriter/cs6910-assignment2-part_a/runs/dorv81mb\" target=\"_blank\">https://wandb.ai/theindianwriter/cs6910-assignment2-part_a/runs/dorv81mb</a><br/>\n",
              "                Run data is saved locally in <code>/content/wandb/run-20210413_104947-dorv81mb</code><br/><br/>\n",
              "            "
            ],
            "text/plain": [
              "<IPython.core.display.HTML object>"
            ]
          },
          "metadata": {
            "tags": []
          }
        },
        {
          "output_type": "stream",
          "text": [
            "Training on cuda\n",
            "----------------------IN EPOCH 1--------------------------------\n",
            "avg training loss is 2.273128\n",
            "avg val loss is 2.185134 and accuracy is 23.90%\n",
            "----------------------IN EPOCH 2--------------------------------\n",
            "avg training loss is 2.198257\n",
            "avg val loss is 2.158607 and accuracy is 26.20%\n",
            "----------------------IN EPOCH 3--------------------------------\n",
            "avg training loss is 2.161087\n",
            "avg val loss is 2.131330 and accuracy is 26.10%\n",
            "----------------------IN EPOCH 4--------------------------------\n",
            "avg training loss is 2.125792\n",
            "avg val loss is 2.084427 and accuracy is 28.50%\n",
            "----------------------IN EPOCH 5--------------------------------\n",
            "avg training loss is 2.076392\n",
            "avg val loss is 2.058339 and accuracy is 29.80%\n"
          ],
          "name": "stdout"
        },
        {
          "output_type": "display_data",
          "data": {
            "text/html": [
              "<br/>Waiting for W&B process to finish, PID 2368<br/>Program ended successfully."
            ],
            "text/plain": [
              "<IPython.core.display.HTML object>"
            ]
          },
          "metadata": {
            "tags": []
          }
        },
        {
          "output_type": "display_data",
          "data": {
            "application/vnd.jupyter.widget-view+json": {
              "model_id": "08afdef13697402aaf33991d69977c28",
              "version_major": 2,
              "version_minor": 0
            },
            "text/plain": [
              "VBox(children=(Label(value=' 0.00MB of 0.00MB uploaded (0.00MB deduped)\\r'), FloatProgress(value=1.0, max=1.0)…"
            ]
          },
          "metadata": {
            "tags": []
          }
        },
        {
          "output_type": "display_data",
          "data": {
            "text/html": [
              "Find user logs for this run at: <code>/content/wandb/run-20210413_104947-dorv81mb/logs/debug.log</code>"
            ],
            "text/plain": [
              "<IPython.core.display.HTML object>"
            ]
          },
          "metadata": {
            "tags": []
          }
        },
        {
          "output_type": "display_data",
          "data": {
            "text/html": [
              "Find internal logs for this run at: <code>/content/wandb/run-20210413_104947-dorv81mb/logs/debug-internal.log</code>"
            ],
            "text/plain": [
              "<IPython.core.display.HTML object>"
            ]
          },
          "metadata": {
            "tags": []
          }
        },
        {
          "output_type": "display_data",
          "data": {
            "text/html": [
              "<h3>Run summary:</h3><br/><style>\n",
              "    table.wandb td:nth-child(1) { padding: 0 10px; text-align: right }\n",
              "    </style><table class=\"wandb\">\n",
              "<tr><td>epoch</td><td>5</td></tr><tr><td>accuracy</td><td>29.8</td></tr><tr><td>training loss</td><td>93.43765</td></tr><tr><td>validation loss</td><td>10.2917</td></tr><tr><td>_runtime</td><td>544</td></tr><tr><td>_timestamp</td><td>1618311531</td></tr><tr><td>_step</td><td>4</td></tr></table>"
            ],
            "text/plain": [
              "<IPython.core.display.HTML object>"
            ]
          },
          "metadata": {
            "tags": []
          }
        },
        {
          "output_type": "display_data",
          "data": {
            "text/html": [
              "<h3>Run history:</h3><br/><style>\n",
              "    table.wandb td:nth-child(1) { padding: 0 10px; text-align: right }\n",
              "    </style><table class=\"wandb\">\n",
              "<tr><td>epoch</td><td>▁▃▅▆█</td></tr><tr><td>accuracy</td><td>▁▄▄▆█</td></tr><tr><td>training loss</td><td>█▅▄▃▁</td></tr><tr><td>validation loss</td><td>█▇▅▂▁</td></tr><tr><td>_runtime</td><td>▁▃▄▆█</td></tr><tr><td>_timestamp</td><td>▁▃▄▆█</td></tr><tr><td>_step</td><td>▁▃▅▆█</td></tr></table><br/>"
            ],
            "text/plain": [
              "<IPython.core.display.HTML object>"
            ]
          },
          "metadata": {
            "tags": []
          }
        },
        {
          "output_type": "display_data",
          "data": {
            "text/html": [
              "Synced 5 W&B file(s), 0 media file(s), 0 artifact file(s) and 0 other file(s)"
            ],
            "text/plain": [
              "<IPython.core.display.HTML object>"
            ]
          },
          "metadata": {
            "tags": []
          }
        },
        {
          "output_type": "display_data",
          "data": {
            "text/html": [
              "\n",
              "                    <br/>Synced <strong style=\"color:#cdcd00\">revived-sweep-9</strong>: <a href=\"https://wandb.ai/theindianwriter/cs6910-assignment2-part_a/runs/dorv81mb\" target=\"_blank\">https://wandb.ai/theindianwriter/cs6910-assignment2-part_a/runs/dorv81mb</a><br/>\n",
              "                "
            ],
            "text/plain": [
              "<IPython.core.display.HTML object>"
            ]
          },
          "metadata": {
            "tags": []
          }
        },
        {
          "output_type": "stream",
          "text": [
            "\u001b[34m\u001b[1mwandb\u001b[0m: Agent Starting Run: s0jtfd8t with config:\n",
            "\u001b[34m\u001b[1mwandb\u001b[0m: \tactivation_fn: relu\n",
            "\u001b[34m\u001b[1mwandb\u001b[0m: \tbatch_norm: False\n",
            "\u001b[34m\u001b[1mwandb\u001b[0m: \tbatch_size: 200\n",
            "\u001b[34m\u001b[1mwandb\u001b[0m: \tdata_augmentation: True\n",
            "\u001b[34m\u001b[1mwandb\u001b[0m: \tdense_neuron_size: 64\n",
            "\u001b[34m\u001b[1mwandb\u001b[0m: \tdropdout_ratio: 0.4\n",
            "\u001b[34m\u001b[1mwandb\u001b[0m: \tepochs: 10\n",
            "\u001b[34m\u001b[1mwandb\u001b[0m: \tfilter_organization: 2\n",
            "\u001b[34m\u001b[1mwandb\u001b[0m: \tfilter_size: 5\n",
            "\u001b[34m\u001b[1mwandb\u001b[0m: \tlr: 0.0002\n",
            "\u001b[34m\u001b[1mwandb\u001b[0m: \tnum_of_filters: 64\n",
            "\u001b[34m\u001b[1mwandb\u001b[0m: \u001b[33mWARNING\u001b[0m Ignored wandb.init() arg project when running a sweep\n"
          ],
          "name": "stderr"
        },
        {
          "output_type": "display_data",
          "data": {
            "text/html": [
              "\n",
              "                Tracking run with wandb version 0.10.25<br/>\n",
              "                Syncing run <strong style=\"color:#cdcd00\">helpful-sweep-10</strong> to <a href=\"https://wandb.ai\" target=\"_blank\">Weights & Biases</a> <a href=\"https://docs.wandb.com/integrations/jupyter.html\" target=\"_blank\">(Documentation)</a>.<br/>\n",
              "                Project page: <a href=\"https://wandb.ai/theindianwriter/cs6910-assignment2-part_a\" target=\"_blank\">https://wandb.ai/theindianwriter/cs6910-assignment2-part_a</a><br/>\n",
              "                Sweep page: <a href=\"https://wandb.ai/theindianwriter/cs6910-assignment2-part_a/sweeps/fm8gabmx\" target=\"_blank\">https://wandb.ai/theindianwriter/cs6910-assignment2-part_a/sweeps/fm8gabmx</a><br/>\n",
              "Run page: <a href=\"https://wandb.ai/theindianwriter/cs6910-assignment2-part_a/runs/s0jtfd8t\" target=\"_blank\">https://wandb.ai/theindianwriter/cs6910-assignment2-part_a/runs/s0jtfd8t</a><br/>\n",
              "                Run data is saved locally in <code>/content/wandb/run-20210413_105859-s0jtfd8t</code><br/><br/>\n",
              "            "
            ],
            "text/plain": [
              "<IPython.core.display.HTML object>"
            ]
          },
          "metadata": {
            "tags": []
          }
        },
        {
          "output_type": "stream",
          "text": [
            "Training on cuda\n",
            "----------------------IN EPOCH 1--------------------------------\n",
            "avg training loss is 2.283255\n",
            "avg val loss is 2.230007 and accuracy is 19.50%\n",
            "----------------------IN EPOCH 2--------------------------------\n",
            "avg training loss is 2.245070\n",
            "avg val loss is 2.202514 and accuracy is 23.70%\n",
            "----------------------IN EPOCH 3--------------------------------\n",
            "avg training loss is 2.223548\n",
            "avg val loss is 2.211033 and accuracy is 22.80%\n",
            "----------------------IN EPOCH 4--------------------------------\n",
            "avg training loss is 2.214275\n",
            "avg val loss is 2.180525 and accuracy is 25.30%\n",
            "----------------------IN EPOCH 5--------------------------------\n",
            "avg training loss is 2.195939\n",
            "avg val loss is 2.161033 and accuracy is 26.20%\n",
            "----------------------IN EPOCH 6--------------------------------\n",
            "avg training loss is 2.185948\n",
            "avg val loss is 2.147561 and accuracy is 26.80%\n",
            "----------------------IN EPOCH 7--------------------------------\n",
            "avg training loss is 2.170933\n",
            "avg val loss is 2.111025 and accuracy is 29.90%\n",
            "----------------------IN EPOCH 8--------------------------------\n",
            "avg training loss is 2.160723\n",
            "avg val loss is 2.099932 and accuracy is 28.40%\n",
            "----------------------IN EPOCH 9--------------------------------\n",
            "avg training loss is 2.161881\n",
            "avg val loss is 2.110910 and accuracy is 27.60%\n",
            "----------------------IN EPOCH 10--------------------------------\n",
            "avg training loss is 2.140874\n",
            "avg val loss is 2.091913 and accuracy is 27.70%\n"
          ],
          "name": "stdout"
        },
        {
          "output_type": "display_data",
          "data": {
            "text/html": [
              "<br/>Waiting for W&B process to finish, PID 2418<br/>Program ended successfully."
            ],
            "text/plain": [
              "<IPython.core.display.HTML object>"
            ]
          },
          "metadata": {
            "tags": []
          }
        },
        {
          "output_type": "display_data",
          "data": {
            "application/vnd.jupyter.widget-view+json": {
              "model_id": "07cbe7a507074f49a24109f802122c35",
              "version_major": 2,
              "version_minor": 0
            },
            "text/plain": [
              "VBox(children=(Label(value=' 0.00MB of 0.00MB uploaded (0.00MB deduped)\\r'), FloatProgress(value=1.0, max=1.0)…"
            ]
          },
          "metadata": {
            "tags": []
          }
        },
        {
          "output_type": "display_data",
          "data": {
            "text/html": [
              "Find user logs for this run at: <code>/content/wandb/run-20210413_105859-s0jtfd8t/logs/debug.log</code>"
            ],
            "text/plain": [
              "<IPython.core.display.HTML object>"
            ]
          },
          "metadata": {
            "tags": []
          }
        },
        {
          "output_type": "display_data",
          "data": {
            "text/html": [
              "Find internal logs for this run at: <code>/content/wandb/run-20210413_105859-s0jtfd8t/logs/debug-internal.log</code>"
            ],
            "text/plain": [
              "<IPython.core.display.HTML object>"
            ]
          },
          "metadata": {
            "tags": []
          }
        },
        {
          "output_type": "display_data",
          "data": {
            "text/html": [
              "<h3>Run summary:</h3><br/><style>\n",
              "    table.wandb td:nth-child(1) { padding: 0 10px; text-align: right }\n",
              "    </style><table class=\"wandb\">\n",
              "<tr><td>epoch</td><td>10</td></tr><tr><td>accuracy</td><td>27.7</td></tr><tr><td>training loss</td><td>96.33932</td></tr><tr><td>validation loss</td><td>10.45956</td></tr><tr><td>_runtime</td><td>941</td></tr><tr><td>_timestamp</td><td>1618312480</td></tr><tr><td>_step</td><td>9</td></tr></table>"
            ],
            "text/plain": [
              "<IPython.core.display.HTML object>"
            ]
          },
          "metadata": {
            "tags": []
          }
        },
        {
          "output_type": "display_data",
          "data": {
            "text/html": [
              "<h3>Run history:</h3><br/><style>\n",
              "    table.wandb td:nth-child(1) { padding: 0 10px; text-align: right }\n",
              "    </style><table class=\"wandb\">\n",
              "<tr><td>epoch</td><td>▁▂▃▃▄▅▆▆▇█</td></tr><tr><td>accuracy</td><td>▁▄▃▅▆▆█▇▆▇</td></tr><tr><td>training loss</td><td>█▆▅▅▄▃▂▂▂▁</td></tr><tr><td>validation loss</td><td>█▇▇▅▅▄▂▁▂▁</td></tr><tr><td>_runtime</td><td>▁▂▃▃▄▅▆▆▇█</td></tr><tr><td>_timestamp</td><td>▁▂▃▃▄▅▆▆▇█</td></tr><tr><td>_step</td><td>▁▂▃▃▄▅▆▆▇█</td></tr></table><br/>"
            ],
            "text/plain": [
              "<IPython.core.display.HTML object>"
            ]
          },
          "metadata": {
            "tags": []
          }
        },
        {
          "output_type": "display_data",
          "data": {
            "text/html": [
              "Synced 5 W&B file(s), 0 media file(s), 0 artifact file(s) and 0 other file(s)"
            ],
            "text/plain": [
              "<IPython.core.display.HTML object>"
            ]
          },
          "metadata": {
            "tags": []
          }
        },
        {
          "output_type": "display_data",
          "data": {
            "text/html": [
              "\n",
              "                    <br/>Synced <strong style=\"color:#cdcd00\">helpful-sweep-10</strong>: <a href=\"https://wandb.ai/theindianwriter/cs6910-assignment2-part_a/runs/s0jtfd8t\" target=\"_blank\">https://wandb.ai/theindianwriter/cs6910-assignment2-part_a/runs/s0jtfd8t</a><br/>\n",
              "                "
            ],
            "text/plain": [
              "<IPython.core.display.HTML object>"
            ]
          },
          "metadata": {
            "tags": []
          }
        },
        {
          "output_type": "stream",
          "text": [
            "\u001b[34m\u001b[1mwandb\u001b[0m: Agent Starting Run: efc4u300 with config:\n",
            "\u001b[34m\u001b[1mwandb\u001b[0m: \tactivation_fn: relu\n",
            "\u001b[34m\u001b[1mwandb\u001b[0m: \tbatch_norm: False\n",
            "\u001b[34m\u001b[1mwandb\u001b[0m: \tbatch_size: 100\n",
            "\u001b[34m\u001b[1mwandb\u001b[0m: \tdata_augmentation: False\n",
            "\u001b[34m\u001b[1mwandb\u001b[0m: \tdense_neuron_size: 128\n",
            "\u001b[34m\u001b[1mwandb\u001b[0m: \tdropdout_ratio: 0.3\n",
            "\u001b[34m\u001b[1mwandb\u001b[0m: \tepochs: 5\n",
            "\u001b[34m\u001b[1mwandb\u001b[0m: \tfilter_organization: 1\n",
            "\u001b[34m\u001b[1mwandb\u001b[0m: \tfilter_size: 3\n",
            "\u001b[34m\u001b[1mwandb\u001b[0m: \tlr: 0.0002\n",
            "\u001b[34m\u001b[1mwandb\u001b[0m: \tnum_of_filters: 256\n",
            "\u001b[34m\u001b[1mwandb\u001b[0m: \u001b[33mWARNING\u001b[0m Ignored wandb.init() arg project when running a sweep\n"
          ],
          "name": "stderr"
        },
        {
          "output_type": "display_data",
          "data": {
            "text/html": [
              "\n",
              "                Tracking run with wandb version 0.10.25<br/>\n",
              "                Syncing run <strong style=\"color:#cdcd00\">worldly-sweep-11</strong> to <a href=\"https://wandb.ai\" target=\"_blank\">Weights & Biases</a> <a href=\"https://docs.wandb.com/integrations/jupyter.html\" target=\"_blank\">(Documentation)</a>.<br/>\n",
              "                Project page: <a href=\"https://wandb.ai/theindianwriter/cs6910-assignment2-part_a\" target=\"_blank\">https://wandb.ai/theindianwriter/cs6910-assignment2-part_a</a><br/>\n",
              "                Sweep page: <a href=\"https://wandb.ai/theindianwriter/cs6910-assignment2-part_a/sweeps/fm8gabmx\" target=\"_blank\">https://wandb.ai/theindianwriter/cs6910-assignment2-part_a/sweeps/fm8gabmx</a><br/>\n",
              "Run page: <a href=\"https://wandb.ai/theindianwriter/cs6910-assignment2-part_a/runs/efc4u300\" target=\"_blank\">https://wandb.ai/theindianwriter/cs6910-assignment2-part_a/runs/efc4u300</a><br/>\n",
              "                Run data is saved locally in <code>/content/wandb/run-20210413_111446-efc4u300</code><br/><br/>\n",
              "            "
            ],
            "text/plain": [
              "<IPython.core.display.HTML object>"
            ]
          },
          "metadata": {
            "tags": []
          }
        },
        {
          "output_type": "stream",
          "text": [
            "Training on cuda\n",
            "----------------------IN EPOCH 1--------------------------------\n",
            "avg training loss is 2.303039\n",
            "avg val loss is 2.297846 and accuracy is 17.60%\n",
            "----------------------IN EPOCH 2--------------------------------\n",
            "avg training loss is 2.272655\n",
            "avg val loss is 2.257730 and accuracy is 19.70%\n",
            "----------------------IN EPOCH 3--------------------------------\n",
            "avg training loss is 2.239587\n",
            "avg val loss is 2.248995 and accuracy is 21.40%\n",
            "----------------------IN EPOCH 4--------------------------------\n",
            "avg training loss is 2.214765\n",
            "avg val loss is 2.222513 and accuracy is 23.50%\n",
            "----------------------IN EPOCH 5--------------------------------\n",
            "avg training loss is 2.189327\n",
            "avg val loss is 2.187571 and accuracy is 26.00%\n"
          ],
          "name": "stdout"
        },
        {
          "output_type": "display_data",
          "data": {
            "text/html": [
              "<br/>Waiting for W&B process to finish, PID 2560<br/>Program ended successfully."
            ],
            "text/plain": [
              "<IPython.core.display.HTML object>"
            ]
          },
          "metadata": {
            "tags": []
          }
        },
        {
          "output_type": "display_data",
          "data": {
            "application/vnd.jupyter.widget-view+json": {
              "model_id": "4bb4e0dc193344e1aaea8f12d2f67985",
              "version_major": 2,
              "version_minor": 0
            },
            "text/plain": [
              "VBox(children=(Label(value=' 0.00MB of 0.00MB uploaded (0.00MB deduped)\\r'), FloatProgress(value=1.0, max=1.0)…"
            ]
          },
          "metadata": {
            "tags": []
          }
        },
        {
          "output_type": "display_data",
          "data": {
            "text/html": [
              "Find user logs for this run at: <code>/content/wandb/run-20210413_111446-efc4u300/logs/debug.log</code>"
            ],
            "text/plain": [
              "<IPython.core.display.HTML object>"
            ]
          },
          "metadata": {
            "tags": []
          }
        },
        {
          "output_type": "display_data",
          "data": {
            "text/html": [
              "Find internal logs for this run at: <code>/content/wandb/run-20210413_111446-efc4u300/logs/debug-internal.log</code>"
            ],
            "text/plain": [
              "<IPython.core.display.HTML object>"
            ]
          },
          "metadata": {
            "tags": []
          }
        },
        {
          "output_type": "display_data",
          "data": {
            "text/html": [
              "<h3>Run summary:</h3><br/><style>\n",
              "    table.wandb td:nth-child(1) { padding: 0 10px; text-align: right }\n",
              "    </style><table class=\"wandb\">\n",
              "<tr><td>epoch</td><td>5</td></tr><tr><td>accuracy</td><td>26.0</td></tr><tr><td>training loss</td><td>197.03939</td></tr><tr><td>validation loss</td><td>21.87571</td></tr><tr><td>_runtime</td><td>381</td></tr><tr><td>_timestamp</td><td>1618312867</td></tr><tr><td>_step</td><td>4</td></tr></table>"
            ],
            "text/plain": [
              "<IPython.core.display.HTML object>"
            ]
          },
          "metadata": {
            "tags": []
          }
        },
        {
          "output_type": "display_data",
          "data": {
            "text/html": [
              "<h3>Run history:</h3><br/><style>\n",
              "    table.wandb td:nth-child(1) { padding: 0 10px; text-align: right }\n",
              "    </style><table class=\"wandb\">\n",
              "<tr><td>epoch</td><td>▁▃▅▆█</td></tr><tr><td>accuracy</td><td>▁▃▄▆█</td></tr><tr><td>training loss</td><td>█▆▄▃▁</td></tr><tr><td>validation loss</td><td>█▅▅▃▁</td></tr><tr><td>_runtime</td><td>▁▃▅▆█</td></tr><tr><td>_timestamp</td><td>▁▃▅▆█</td></tr><tr><td>_step</td><td>▁▃▅▆█</td></tr></table><br/>"
            ],
            "text/plain": [
              "<IPython.core.display.HTML object>"
            ]
          },
          "metadata": {
            "tags": []
          }
        },
        {
          "output_type": "display_data",
          "data": {
            "text/html": [
              "Synced 5 W&B file(s), 0 media file(s), 0 artifact file(s) and 0 other file(s)"
            ],
            "text/plain": [
              "<IPython.core.display.HTML object>"
            ]
          },
          "metadata": {
            "tags": []
          }
        },
        {
          "output_type": "display_data",
          "data": {
            "text/html": [
              "\n",
              "                    <br/>Synced <strong style=\"color:#cdcd00\">worldly-sweep-11</strong>: <a href=\"https://wandb.ai/theindianwriter/cs6910-assignment2-part_a/runs/efc4u300\" target=\"_blank\">https://wandb.ai/theindianwriter/cs6910-assignment2-part_a/runs/efc4u300</a><br/>\n",
              "                "
            ],
            "text/plain": [
              "<IPython.core.display.HTML object>"
            ]
          },
          "metadata": {
            "tags": []
          }
        },
        {
          "output_type": "stream",
          "text": [
            "\u001b[34m\u001b[1mwandb\u001b[0m: Agent Starting Run: 2tzwgmey with config:\n",
            "\u001b[34m\u001b[1mwandb\u001b[0m: \tactivation_fn: relu\n",
            "\u001b[34m\u001b[1mwandb\u001b[0m: \tbatch_norm: True\n",
            "\u001b[34m\u001b[1mwandb\u001b[0m: \tbatch_size: 100\n",
            "\u001b[34m\u001b[1mwandb\u001b[0m: \tdata_augmentation: False\n",
            "\u001b[34m\u001b[1mwandb\u001b[0m: \tdense_neuron_size: 256\n",
            "\u001b[34m\u001b[1mwandb\u001b[0m: \tdropdout_ratio: 0.3\n",
            "\u001b[34m\u001b[1mwandb\u001b[0m: \tepochs: 15\n",
            "\u001b[34m\u001b[1mwandb\u001b[0m: \tfilter_organization: 0.5\n",
            "\u001b[34m\u001b[1mwandb\u001b[0m: \tfilter_size: 7\n",
            "\u001b[34m\u001b[1mwandb\u001b[0m: \tlr: 0.0004\n",
            "\u001b[34m\u001b[1mwandb\u001b[0m: \tnum_of_filters: 32\n",
            "\u001b[34m\u001b[1mwandb\u001b[0m: \u001b[33mWARNING\u001b[0m Ignored wandb.init() arg project when running a sweep\n"
          ],
          "name": "stderr"
        },
        {
          "output_type": "display_data",
          "data": {
            "text/html": [
              "\n",
              "                Tracking run with wandb version 0.10.25<br/>\n",
              "                Syncing run <strong style=\"color:#cdcd00\">driven-sweep-12</strong> to <a href=\"https://wandb.ai\" target=\"_blank\">Weights & Biases</a> <a href=\"https://docs.wandb.com/integrations/jupyter.html\" target=\"_blank\">(Documentation)</a>.<br/>\n",
              "                Project page: <a href=\"https://wandb.ai/theindianwriter/cs6910-assignment2-part_a\" target=\"_blank\">https://wandb.ai/theindianwriter/cs6910-assignment2-part_a</a><br/>\n",
              "                Sweep page: <a href=\"https://wandb.ai/theindianwriter/cs6910-assignment2-part_a/sweeps/fm8gabmx\" target=\"_blank\">https://wandb.ai/theindianwriter/cs6910-assignment2-part_a/sweeps/fm8gabmx</a><br/>\n",
              "Run page: <a href=\"https://wandb.ai/theindianwriter/cs6910-assignment2-part_a/runs/2tzwgmey\" target=\"_blank\">https://wandb.ai/theindianwriter/cs6910-assignment2-part_a/runs/2tzwgmey</a><br/>\n",
              "                Run data is saved locally in <code>/content/wandb/run-20210413_112113-2tzwgmey</code><br/><br/>\n",
              "            "
            ],
            "text/plain": [
              "<IPython.core.display.HTML object>"
            ]
          },
          "metadata": {
            "tags": []
          }
        },
        {
          "output_type": "display_data",
          "data": {
            "text/html": [
              "<br/>Waiting for W&B process to finish, PID 2606<br/>Program failed with code 1.  Press ctrl-c to abort syncing."
            ],
            "text/plain": [
              "<IPython.core.display.HTML object>"
            ]
          },
          "metadata": {
            "tags": []
          }
        },
        {
          "output_type": "display_data",
          "data": {
            "application/vnd.jupyter.widget-view+json": {
              "model_id": "18518f62cca642dc9907c3e708fe3505",
              "version_major": 2,
              "version_minor": 0
            },
            "text/plain": [
              "VBox(children=(Label(value=' 0.00MB of 0.00MB uploaded (0.00MB deduped)\\r'), FloatProgress(value=1.0, max=1.0)…"
            ]
          },
          "metadata": {
            "tags": []
          }
        },
        {
          "output_type": "display_data",
          "data": {
            "text/html": [
              "Find user logs for this run at: <code>/content/wandb/run-20210413_112113-2tzwgmey/logs/debug.log</code>"
            ],
            "text/plain": [
              "<IPython.core.display.HTML object>"
            ]
          },
          "metadata": {
            "tags": []
          }
        },
        {
          "output_type": "display_data",
          "data": {
            "text/html": [
              "Find internal logs for this run at: <code>/content/wandb/run-20210413_112113-2tzwgmey/logs/debug-internal.log</code>"
            ],
            "text/plain": [
              "<IPython.core.display.HTML object>"
            ]
          },
          "metadata": {
            "tags": []
          }
        },
        {
          "output_type": "display_data",
          "data": {
            "text/html": [
              "Synced 4 W&B file(s), 0 media file(s), 0 artifact file(s) and 0 other file(s)"
            ],
            "text/plain": [
              "<IPython.core.display.HTML object>"
            ]
          },
          "metadata": {
            "tags": []
          }
        },
        {
          "output_type": "display_data",
          "data": {
            "text/html": [
              "\n",
              "                    <br/>Synced <strong style=\"color:#cdcd00\">driven-sweep-12</strong>: <a href=\"https://wandb.ai/theindianwriter/cs6910-assignment2-part_a/runs/2tzwgmey\" target=\"_blank\">https://wandb.ai/theindianwriter/cs6910-assignment2-part_a/runs/2tzwgmey</a><br/>\n",
              "                "
            ],
            "text/plain": [
              "<IPython.core.display.HTML object>"
            ]
          },
          "metadata": {
            "tags": []
          }
        },
        {
          "output_type": "stream",
          "text": [
            "\u001b[34m\u001b[1mwandb\u001b[0m: \u001b[32m\u001b[41mERROR\u001b[0m Run 2tzwgmey errored: TypeError('new() received an invalid combination of arguments - got (float, int, int, int), but expected one of:\\n * (*, torch.device device)\\n * (torch.Storage storage)\\n * (Tensor other)\\n * (tuple of ints size, *, torch.device device)\\n * (object data, *, torch.device device)\\n')\n",
            "\u001b[34m\u001b[1mwandb\u001b[0m: Agent Starting Run: kakkk9ob with config:\n",
            "\u001b[34m\u001b[1mwandb\u001b[0m: \tactivation_fn: leaky_relu\n",
            "\u001b[34m\u001b[1mwandb\u001b[0m: \tbatch_norm: False\n",
            "\u001b[34m\u001b[1mwandb\u001b[0m: \tbatch_size: 200\n",
            "\u001b[34m\u001b[1mwandb\u001b[0m: \tdata_augmentation: True\n",
            "\u001b[34m\u001b[1mwandb\u001b[0m: \tdense_neuron_size: 64\n",
            "\u001b[34m\u001b[1mwandb\u001b[0m: \tdropdout_ratio: 0.5\n",
            "\u001b[34m\u001b[1mwandb\u001b[0m: \tepochs: 10\n",
            "\u001b[34m\u001b[1mwandb\u001b[0m: \tfilter_organization: 2\n",
            "\u001b[34m\u001b[1mwandb\u001b[0m: \tfilter_size: 5\n",
            "\u001b[34m\u001b[1mwandb\u001b[0m: \tlr: 0.0004\n",
            "\u001b[34m\u001b[1mwandb\u001b[0m: \tnum_of_filters: 256\n",
            "\u001b[34m\u001b[1mwandb\u001b[0m: \u001b[33mWARNING\u001b[0m Ignored wandb.init() arg project when running a sweep\n"
          ],
          "name": "stderr"
        },
        {
          "output_type": "display_data",
          "data": {
            "text/html": [
              "\n",
              "                Tracking run with wandb version 0.10.25<br/>\n",
              "                Syncing run <strong style=\"color:#cdcd00\">northern-sweep-13</strong> to <a href=\"https://wandb.ai\" target=\"_blank\">Weights & Biases</a> <a href=\"https://docs.wandb.com/integrations/jupyter.html\" target=\"_blank\">(Documentation)</a>.<br/>\n",
              "                Project page: <a href=\"https://wandb.ai/theindianwriter/cs6910-assignment2-part_a\" target=\"_blank\">https://wandb.ai/theindianwriter/cs6910-assignment2-part_a</a><br/>\n",
              "                Sweep page: <a href=\"https://wandb.ai/theindianwriter/cs6910-assignment2-part_a/sweeps/fm8gabmx\" target=\"_blank\">https://wandb.ai/theindianwriter/cs6910-assignment2-part_a/sweeps/fm8gabmx</a><br/>\n",
              "Run page: <a href=\"https://wandb.ai/theindianwriter/cs6910-assignment2-part_a/runs/kakkk9ob\" target=\"_blank\">https://wandb.ai/theindianwriter/cs6910-assignment2-part_a/runs/kakkk9ob</a><br/>\n",
              "                Run data is saved locally in <code>/content/wandb/run-20210413_112122-kakkk9ob</code><br/><br/>\n",
              "            "
            ],
            "text/plain": [
              "<IPython.core.display.HTML object>"
            ]
          },
          "metadata": {
            "tags": []
          }
        },
        {
          "output_type": "stream",
          "text": [
            "Training on cuda\n",
            "----------------------IN EPOCH 1--------------------------------\n",
            "avg training loss is 2.295500\n",
            "avg val loss is 2.258808 and accuracy is 22.20%\n",
            "----------------------IN EPOCH 2--------------------------------\n",
            "avg training loss is 2.241839\n",
            "avg val loss is 2.198431 and accuracy is 23.60%\n",
            "----------------------IN EPOCH 3--------------------------------\n",
            "avg training loss is 2.218445\n",
            "avg val loss is 2.177573 and accuracy is 24.80%\n",
            "----------------------IN EPOCH 4--------------------------------\n",
            "avg training loss is 2.204603\n",
            "avg val loss is 2.151892 and accuracy is 24.10%\n",
            "----------------------IN EPOCH 5--------------------------------\n",
            "avg training loss is 2.185744\n",
            "avg val loss is 2.139418 and accuracy is 25.00%\n",
            "----------------------IN EPOCH 6--------------------------------\n",
            "avg training loss is 2.165894\n",
            "avg val loss is 2.125996 and accuracy is 25.20%\n",
            "----------------------IN EPOCH 7--------------------------------\n",
            "avg training loss is 2.153120\n",
            "avg val loss is 2.099962 and accuracy is 26.80%\n",
            "----------------------IN EPOCH 8--------------------------------\n",
            "avg training loss is 2.140674\n",
            "avg val loss is 2.090518 and accuracy is 28.10%\n",
            "----------------------IN EPOCH 9--------------------------------\n",
            "avg training loss is 2.128336\n",
            "avg val loss is 2.092188 and accuracy is 27.10%\n",
            "----------------------IN EPOCH 10--------------------------------\n",
            "avg training loss is 2.126616\n",
            "avg val loss is 2.099954 and accuracy is 26.60%\n"
          ],
          "name": "stdout"
        },
        {
          "output_type": "display_data",
          "data": {
            "text/html": [
              "<br/>Waiting for W&B process to finish, PID 2635<br/>Program ended successfully."
            ],
            "text/plain": [
              "<IPython.core.display.HTML object>"
            ]
          },
          "metadata": {
            "tags": []
          }
        },
        {
          "output_type": "display_data",
          "data": {
            "application/vnd.jupyter.widget-view+json": {
              "model_id": "ae5186be7415429fa3da3d84bd86eb19",
              "version_major": 2,
              "version_minor": 0
            },
            "text/plain": [
              "VBox(children=(Label(value=' 0.00MB of 0.00MB uploaded (0.00MB deduped)\\r'), FloatProgress(value=1.0, max=1.0)…"
            ]
          },
          "metadata": {
            "tags": []
          }
        },
        {
          "output_type": "display_data",
          "data": {
            "text/html": [
              "Find user logs for this run at: <code>/content/wandb/run-20210413_112122-kakkk9ob/logs/debug.log</code>"
            ],
            "text/plain": [
              "<IPython.core.display.HTML object>"
            ]
          },
          "metadata": {
            "tags": []
          }
        },
        {
          "output_type": "display_data",
          "data": {
            "text/html": [
              "Find internal logs for this run at: <code>/content/wandb/run-20210413_112122-kakkk9ob/logs/debug-internal.log</code>"
            ],
            "text/plain": [
              "<IPython.core.display.HTML object>"
            ]
          },
          "metadata": {
            "tags": []
          }
        },
        {
          "output_type": "display_data",
          "data": {
            "text/html": [
              "<h3>Run summary:</h3><br/><style>\n",
              "    table.wandb td:nth-child(1) { padding: 0 10px; text-align: right }\n",
              "    </style><table class=\"wandb\">\n",
              "<tr><td>epoch</td><td>10</td></tr><tr><td>accuracy</td><td>26.6</td></tr><tr><td>training loss</td><td>95.69771</td></tr><tr><td>validation loss</td><td>10.49977</td></tr><tr><td>_runtime</td><td>742</td></tr><tr><td>_timestamp</td><td>1618313624</td></tr><tr><td>_step</td><td>9</td></tr></table>"
            ],
            "text/plain": [
              "<IPython.core.display.HTML object>"
            ]
          },
          "metadata": {
            "tags": []
          }
        },
        {
          "output_type": "display_data",
          "data": {
            "text/html": [
              "<h3>Run history:</h3><br/><style>\n",
              "    table.wandb td:nth-child(1) { padding: 0 10px; text-align: right }\n",
              "    </style><table class=\"wandb\">\n",
              "<tr><td>epoch</td><td>▁▂▃▃▄▅▆▆▇█</td></tr><tr><td>accuracy</td><td>▁▃▄▃▄▅▆█▇▆</td></tr><tr><td>training loss</td><td>█▆▅▄▃▃▂▂▁▁</td></tr><tr><td>validation loss</td><td>█▅▅▄▃▂▁▁▁▁</td></tr><tr><td>_runtime</td><td>▁▂▃▃▄▅▆▆▇█</td></tr><tr><td>_timestamp</td><td>▁▂▃▃▄▅▆▆▇█</td></tr><tr><td>_step</td><td>▁▂▃▃▄▅▆▆▇█</td></tr></table><br/>"
            ],
            "text/plain": [
              "<IPython.core.display.HTML object>"
            ]
          },
          "metadata": {
            "tags": []
          }
        },
        {
          "output_type": "display_data",
          "data": {
            "text/html": [
              "Synced 5 W&B file(s), 0 media file(s), 0 artifact file(s) and 0 other file(s)"
            ],
            "text/plain": [
              "<IPython.core.display.HTML object>"
            ]
          },
          "metadata": {
            "tags": []
          }
        },
        {
          "output_type": "display_data",
          "data": {
            "text/html": [
              "\n",
              "                    <br/>Synced <strong style=\"color:#cdcd00\">northern-sweep-13</strong>: <a href=\"https://wandb.ai/theindianwriter/cs6910-assignment2-part_a/runs/kakkk9ob\" target=\"_blank\">https://wandb.ai/theindianwriter/cs6910-assignment2-part_a/runs/kakkk9ob</a><br/>\n",
              "                "
            ],
            "text/plain": [
              "<IPython.core.display.HTML object>"
            ]
          },
          "metadata": {
            "tags": []
          }
        },
        {
          "output_type": "stream",
          "text": [
            "\u001b[34m\u001b[1mwandb\u001b[0m: Sweep Agent: Waiting for job.\n",
            "\u001b[34m\u001b[1mwandb\u001b[0m: Job received.\n",
            "\u001b[34m\u001b[1mwandb\u001b[0m: Agent Starting Run: o75zxv2o with config:\n",
            "\u001b[34m\u001b[1mwandb\u001b[0m: \tactivation_fn: tanh\n",
            "\u001b[34m\u001b[1mwandb\u001b[0m: \tbatch_norm: False\n",
            "\u001b[34m\u001b[1mwandb\u001b[0m: \tbatch_size: 200\n",
            "\u001b[34m\u001b[1mwandb\u001b[0m: \tdata_augmentation: True\n",
            "\u001b[34m\u001b[1mwandb\u001b[0m: \tdense_neuron_size: 256\n",
            "\u001b[34m\u001b[1mwandb\u001b[0m: \tdropdout_ratio: 0.4\n",
            "\u001b[34m\u001b[1mwandb\u001b[0m: \tepochs: 5\n",
            "\u001b[34m\u001b[1mwandb\u001b[0m: \tfilter_organization: 1\n",
            "\u001b[34m\u001b[1mwandb\u001b[0m: \tfilter_size: 3\n",
            "\u001b[34m\u001b[1mwandb\u001b[0m: \tlr: 0.0001\n",
            "\u001b[34m\u001b[1mwandb\u001b[0m: \tnum_of_filters: 256\n",
            "\u001b[34m\u001b[1mwandb\u001b[0m: \u001b[33mWARNING\u001b[0m Ignored wandb.init() arg project when running a sweep\n"
          ],
          "name": "stderr"
        },
        {
          "output_type": "display_data",
          "data": {
            "text/html": [
              "\n",
              "                Tracking run with wandb version 0.10.25<br/>\n",
              "                Syncing run <strong style=\"color:#cdcd00\">fancy-sweep-14</strong> to <a href=\"https://wandb.ai\" target=\"_blank\">Weights & Biases</a> <a href=\"https://docs.wandb.com/integrations/jupyter.html\" target=\"_blank\">(Documentation)</a>.<br/>\n",
              "                Project page: <a href=\"https://wandb.ai/theindianwriter/cs6910-assignment2-part_a\" target=\"_blank\">https://wandb.ai/theindianwriter/cs6910-assignment2-part_a</a><br/>\n",
              "                Sweep page: <a href=\"https://wandb.ai/theindianwriter/cs6910-assignment2-part_a/sweeps/fm8gabmx\" target=\"_blank\">https://wandb.ai/theindianwriter/cs6910-assignment2-part_a/sweeps/fm8gabmx</a><br/>\n",
              "Run page: <a href=\"https://wandb.ai/theindianwriter/cs6910-assignment2-part_a/runs/o75zxv2o\" target=\"_blank\">https://wandb.ai/theindianwriter/cs6910-assignment2-part_a/runs/o75zxv2o</a><br/>\n",
              "                Run data is saved locally in <code>/content/wandb/run-20210413_113400-o75zxv2o</code><br/><br/>\n",
              "            "
            ],
            "text/plain": [
              "<IPython.core.display.HTML object>"
            ]
          },
          "metadata": {
            "tags": []
          }
        },
        {
          "output_type": "stream",
          "text": [
            "Training on cuda\n",
            "----------------------IN EPOCH 1--------------------------------\n",
            "avg training loss is 2.297341\n",
            "avg val loss is 2.284199 and accuracy is 19.20%\n",
            "----------------------IN EPOCH 2--------------------------------\n",
            "avg training loss is 2.271183\n",
            "avg val loss is 2.241031 and accuracy is 20.20%\n",
            "----------------------IN EPOCH 3--------------------------------\n",
            "avg training loss is 2.243514\n",
            "avg val loss is 2.221759 and accuracy is 22.60%\n",
            "----------------------IN EPOCH 4--------------------------------\n",
            "avg training loss is 2.211171\n",
            "avg val loss is 2.171609 and accuracy is 26.00%\n",
            "----------------------IN EPOCH 5--------------------------------\n",
            "avg training loss is 2.161580\n",
            "avg val loss is 2.137947 and accuracy is 27.40%\n"
          ],
          "name": "stdout"
        },
        {
          "output_type": "display_data",
          "data": {
            "text/html": [
              "<br/>Waiting for W&B process to finish, PID 2775<br/>Program ended successfully."
            ],
            "text/plain": [
              "<IPython.core.display.HTML object>"
            ]
          },
          "metadata": {
            "tags": []
          }
        },
        {
          "output_type": "display_data",
          "data": {
            "application/vnd.jupyter.widget-view+json": {
              "model_id": "55583961ea054681a0b47c55dd66b9de",
              "version_major": 2,
              "version_minor": 0
            },
            "text/plain": [
              "VBox(children=(Label(value=' 0.00MB of 0.00MB uploaded (0.00MB deduped)\\r'), FloatProgress(value=1.0, max=1.0)…"
            ]
          },
          "metadata": {
            "tags": []
          }
        },
        {
          "output_type": "display_data",
          "data": {
            "text/html": [
              "Find user logs for this run at: <code>/content/wandb/run-20210413_113400-o75zxv2o/logs/debug.log</code>"
            ],
            "text/plain": [
              "<IPython.core.display.HTML object>"
            ]
          },
          "metadata": {
            "tags": []
          }
        },
        {
          "output_type": "display_data",
          "data": {
            "text/html": [
              "Find internal logs for this run at: <code>/content/wandb/run-20210413_113400-o75zxv2o/logs/debug-internal.log</code>"
            ],
            "text/plain": [
              "<IPython.core.display.HTML object>"
            ]
          },
          "metadata": {
            "tags": []
          }
        },
        {
          "output_type": "display_data",
          "data": {
            "text/html": [
              "<h3>Run summary:</h3><br/><style>\n",
              "    table.wandb td:nth-child(1) { padding: 0 10px; text-align: right }\n",
              "    </style><table class=\"wandb\">\n",
              "<tr><td>epoch</td><td>5</td></tr><tr><td>accuracy</td><td>27.4</td></tr><tr><td>training loss</td><td>97.27111</td></tr><tr><td>validation loss</td><td>10.68974</td></tr><tr><td>_runtime</td><td>523</td></tr><tr><td>_timestamp</td><td>1618314163</td></tr><tr><td>_step</td><td>4</td></tr></table>"
            ],
            "text/plain": [
              "<IPython.core.display.HTML object>"
            ]
          },
          "metadata": {
            "tags": []
          }
        },
        {
          "output_type": "display_data",
          "data": {
            "text/html": [
              "<h3>Run history:</h3><br/><style>\n",
              "    table.wandb td:nth-child(1) { padding: 0 10px; text-align: right }\n",
              "    </style><table class=\"wandb\">\n",
              "<tr><td>epoch</td><td>▁▃▅▆█</td></tr><tr><td>accuracy</td><td>▁▂▄▇█</td></tr><tr><td>training loss</td><td>█▇▅▄▁</td></tr><tr><td>validation loss</td><td>█▆▅▃▁</td></tr><tr><td>_runtime</td><td>▁▃▅▆█</td></tr><tr><td>_timestamp</td><td>▁▃▅▆█</td></tr><tr><td>_step</td><td>▁▃▅▆█</td></tr></table><br/>"
            ],
            "text/plain": [
              "<IPython.core.display.HTML object>"
            ]
          },
          "metadata": {
            "tags": []
          }
        },
        {
          "output_type": "display_data",
          "data": {
            "text/html": [
              "Synced 5 W&B file(s), 0 media file(s), 0 artifact file(s) and 0 other file(s)"
            ],
            "text/plain": [
              "<IPython.core.display.HTML object>"
            ]
          },
          "metadata": {
            "tags": []
          }
        },
        {
          "output_type": "display_data",
          "data": {
            "text/html": [
              "\n",
              "                    <br/>Synced <strong style=\"color:#cdcd00\">fancy-sweep-14</strong>: <a href=\"https://wandb.ai/theindianwriter/cs6910-assignment2-part_a/runs/o75zxv2o\" target=\"_blank\">https://wandb.ai/theindianwriter/cs6910-assignment2-part_a/runs/o75zxv2o</a><br/>\n",
              "                "
            ],
            "text/plain": [
              "<IPython.core.display.HTML object>"
            ]
          },
          "metadata": {
            "tags": []
          }
        },
        {
          "output_type": "stream",
          "text": [
            "\u001b[34m\u001b[1mwandb\u001b[0m: Agent Starting Run: 15mlh6k5 with config:\n",
            "\u001b[34m\u001b[1mwandb\u001b[0m: \tactivation_fn: relu\n",
            "\u001b[34m\u001b[1mwandb\u001b[0m: \tbatch_norm: True\n",
            "\u001b[34m\u001b[1mwandb\u001b[0m: \tbatch_size: 200\n",
            "\u001b[34m\u001b[1mwandb\u001b[0m: \tdata_augmentation: False\n",
            "\u001b[34m\u001b[1mwandb\u001b[0m: \tdense_neuron_size: 64\n",
            "\u001b[34m\u001b[1mwandb\u001b[0m: \tdropdout_ratio: 0.3\n",
            "\u001b[34m\u001b[1mwandb\u001b[0m: \tepochs: 10\n",
            "\u001b[34m\u001b[1mwandb\u001b[0m: \tfilter_organization: 0.5\n",
            "\u001b[34m\u001b[1mwandb\u001b[0m: \tfilter_size: 3\n",
            "\u001b[34m\u001b[1mwandb\u001b[0m: \tlr: 0.0002\n",
            "\u001b[34m\u001b[1mwandb\u001b[0m: \tnum_of_filters: 256\n",
            "\u001b[34m\u001b[1mwandb\u001b[0m: \u001b[33mWARNING\u001b[0m Ignored wandb.init() arg project when running a sweep\n"
          ],
          "name": "stderr"
        },
        {
          "output_type": "display_data",
          "data": {
            "text/html": [
              "\n",
              "                Tracking run with wandb version 0.10.25<br/>\n",
              "                Syncing run <strong style=\"color:#cdcd00\">neat-sweep-15</strong> to <a href=\"https://wandb.ai\" target=\"_blank\">Weights & Biases</a> <a href=\"https://docs.wandb.com/integrations/jupyter.html\" target=\"_blank\">(Documentation)</a>.<br/>\n",
              "                Project page: <a href=\"https://wandb.ai/theindianwriter/cs6910-assignment2-part_a\" target=\"_blank\">https://wandb.ai/theindianwriter/cs6910-assignment2-part_a</a><br/>\n",
              "                Sweep page: <a href=\"https://wandb.ai/theindianwriter/cs6910-assignment2-part_a/sweeps/fm8gabmx\" target=\"_blank\">https://wandb.ai/theindianwriter/cs6910-assignment2-part_a/sweeps/fm8gabmx</a><br/>\n",
              "Run page: <a href=\"https://wandb.ai/theindianwriter/cs6910-assignment2-part_a/runs/15mlh6k5\" target=\"_blank\">https://wandb.ai/theindianwriter/cs6910-assignment2-part_a/runs/15mlh6k5</a><br/>\n",
              "                Run data is saved locally in <code>/content/wandb/run-20210413_114255-15mlh6k5</code><br/><br/>\n",
              "            "
            ],
            "text/plain": [
              "<IPython.core.display.HTML object>"
            ]
          },
          "metadata": {
            "tags": []
          }
        },
        {
          "output_type": "display_data",
          "data": {
            "text/html": [
              "<br/>Waiting for W&B process to finish, PID 2825<br/>Program failed with code 1.  Press ctrl-c to abort syncing."
            ],
            "text/plain": [
              "<IPython.core.display.HTML object>"
            ]
          },
          "metadata": {
            "tags": []
          }
        },
        {
          "output_type": "display_data",
          "data": {
            "application/vnd.jupyter.widget-view+json": {
              "model_id": "eb7ed36d1abd48b6bd206e92e4995665",
              "version_major": 2,
              "version_minor": 0
            },
            "text/plain": [
              "VBox(children=(Label(value=' 0.00MB of 0.00MB uploaded (0.00MB deduped)\\r'), FloatProgress(value=1.0, max=1.0)…"
            ]
          },
          "metadata": {
            "tags": []
          }
        },
        {
          "output_type": "display_data",
          "data": {
            "text/html": [
              "Find user logs for this run at: <code>/content/wandb/run-20210413_114255-15mlh6k5/logs/debug.log</code>"
            ],
            "text/plain": [
              "<IPython.core.display.HTML object>"
            ]
          },
          "metadata": {
            "tags": []
          }
        },
        {
          "output_type": "display_data",
          "data": {
            "text/html": [
              "Find internal logs for this run at: <code>/content/wandb/run-20210413_114255-15mlh6k5/logs/debug-internal.log</code>"
            ],
            "text/plain": [
              "<IPython.core.display.HTML object>"
            ]
          },
          "metadata": {
            "tags": []
          }
        },
        {
          "output_type": "display_data",
          "data": {
            "text/html": [
              "Synced 4 W&B file(s), 0 media file(s), 0 artifact file(s) and 0 other file(s)"
            ],
            "text/plain": [
              "<IPython.core.display.HTML object>"
            ]
          },
          "metadata": {
            "tags": []
          }
        },
        {
          "output_type": "display_data",
          "data": {
            "text/html": [
              "\n",
              "                    <br/>Synced <strong style=\"color:#cdcd00\">neat-sweep-15</strong>: <a href=\"https://wandb.ai/theindianwriter/cs6910-assignment2-part_a/runs/15mlh6k5\" target=\"_blank\">https://wandb.ai/theindianwriter/cs6910-assignment2-part_a/runs/15mlh6k5</a><br/>\n",
              "                "
            ],
            "text/plain": [
              "<IPython.core.display.HTML object>"
            ]
          },
          "metadata": {
            "tags": []
          }
        },
        {
          "output_type": "stream",
          "text": [
            "\u001b[34m\u001b[1mwandb\u001b[0m: \u001b[32m\u001b[41mERROR\u001b[0m Run 15mlh6k5 errored: TypeError('new() received an invalid combination of arguments - got (float, int, int, int), but expected one of:\\n * (*, torch.device device)\\n * (torch.Storage storage)\\n * (Tensor other)\\n * (tuple of ints size, *, torch.device device)\\n * (object data, *, torch.device device)\\n')\n",
            "\u001b[34m\u001b[1mwandb\u001b[0m: Agent Starting Run: v1hctzht with config:\n",
            "\u001b[34m\u001b[1mwandb\u001b[0m: \tactivation_fn: tanh\n",
            "\u001b[34m\u001b[1mwandb\u001b[0m: \tbatch_norm: False\n",
            "\u001b[34m\u001b[1mwandb\u001b[0m: \tbatch_size: 100\n",
            "\u001b[34m\u001b[1mwandb\u001b[0m: \tdata_augmentation: True\n",
            "\u001b[34m\u001b[1mwandb\u001b[0m: \tdense_neuron_size: 128\n",
            "\u001b[34m\u001b[1mwandb\u001b[0m: \tdropdout_ratio: 0.4\n",
            "\u001b[34m\u001b[1mwandb\u001b[0m: \tepochs: 15\n",
            "\u001b[34m\u001b[1mwandb\u001b[0m: \tfilter_organization: 1\n",
            "\u001b[34m\u001b[1mwandb\u001b[0m: \tfilter_size: 7\n",
            "\u001b[34m\u001b[1mwandb\u001b[0m: \tlr: 0.0001\n",
            "\u001b[34m\u001b[1mwandb\u001b[0m: \tnum_of_filters: 32\n",
            "\u001b[34m\u001b[1mwandb\u001b[0m: \u001b[33mWARNING\u001b[0m Ignored wandb.init() arg project when running a sweep\n"
          ],
          "name": "stderr"
        },
        {
          "output_type": "display_data",
          "data": {
            "text/html": [
              "\n",
              "                Tracking run with wandb version 0.10.25<br/>\n",
              "                Syncing run <strong style=\"color:#cdcd00\">rosy-sweep-16</strong> to <a href=\"https://wandb.ai\" target=\"_blank\">Weights & Biases</a> <a href=\"https://docs.wandb.com/integrations/jupyter.html\" target=\"_blank\">(Documentation)</a>.<br/>\n",
              "                Project page: <a href=\"https://wandb.ai/theindianwriter/cs6910-assignment2-part_a\" target=\"_blank\">https://wandb.ai/theindianwriter/cs6910-assignment2-part_a</a><br/>\n",
              "                Sweep page: <a href=\"https://wandb.ai/theindianwriter/cs6910-assignment2-part_a/sweeps/fm8gabmx\" target=\"_blank\">https://wandb.ai/theindianwriter/cs6910-assignment2-part_a/sweeps/fm8gabmx</a><br/>\n",
              "Run page: <a href=\"https://wandb.ai/theindianwriter/cs6910-assignment2-part_a/runs/v1hctzht\" target=\"_blank\">https://wandb.ai/theindianwriter/cs6910-assignment2-part_a/runs/v1hctzht</a><br/>\n",
              "                Run data is saved locally in <code>/content/wandb/run-20210413_114303-v1hctzht</code><br/><br/>\n",
              "            "
            ],
            "text/plain": [
              "<IPython.core.display.HTML object>"
            ]
          },
          "metadata": {
            "tags": []
          }
        },
        {
          "output_type": "stream",
          "text": [
            "Training on cuda\n",
            "----------------------IN EPOCH 1--------------------------------\n",
            "avg training loss is 2.300585\n",
            "avg val loss is 2.271266 and accuracy is 22.30%\n",
            "----------------------IN EPOCH 2--------------------------------\n",
            "avg training loss is 2.241571\n",
            "avg val loss is 2.199274 and accuracy is 22.60%\n",
            "----------------------IN EPOCH 3--------------------------------\n",
            "avg training loss is 2.216340\n",
            "avg val loss is 2.177773 and accuracy is 24.30%\n",
            "----------------------IN EPOCH 4--------------------------------\n",
            "avg training loss is 2.205773\n",
            "avg val loss is 2.176045 and accuracy is 23.70%\n",
            "----------------------IN EPOCH 5--------------------------------\n",
            "avg training loss is 2.201763\n",
            "avg val loss is 2.167935 and accuracy is 22.20%\n",
            "----------------------IN EPOCH 6--------------------------------\n",
            "avg training loss is 2.185145\n",
            "avg val loss is 2.134853 and accuracy is 24.70%\n",
            "----------------------IN EPOCH 7--------------------------------\n",
            "avg training loss is 2.176655\n",
            "avg val loss is 2.138687 and accuracy is 27.50%\n",
            "----------------------IN EPOCH 8--------------------------------\n",
            "avg training loss is 2.171016\n",
            "avg val loss is 2.133648 and accuracy is 26.90%\n",
            "----------------------IN EPOCH 9--------------------------------\n",
            "avg training loss is 2.163113\n",
            "avg val loss is 2.134315 and accuracy is 26.50%\n",
            "----------------------IN EPOCH 10--------------------------------\n",
            "avg training loss is 2.153957\n",
            "avg val loss is 2.113160 and accuracy is 27.90%\n",
            "----------------------IN EPOCH 11--------------------------------\n",
            "avg training loss is 2.152163\n",
            "avg val loss is 2.125711 and accuracy is 26.80%\n",
            "----------------------IN EPOCH 12--------------------------------\n",
            "avg training loss is 2.138789\n",
            "avg val loss is 2.106167 and accuracy is 29.30%\n",
            "----------------------IN EPOCH 13--------------------------------\n",
            "avg training loss is 2.144958\n",
            "avg val loss is 2.105177 and accuracy is 28.20%\n",
            "----------------------IN EPOCH 14--------------------------------\n",
            "avg training loss is 2.137636\n",
            "avg val loss is 2.102436 and accuracy is 28.20%\n",
            "----------------------IN EPOCH 15--------------------------------\n",
            "avg training loss is 2.132596\n",
            "avg val loss is 2.092695 and accuracy is 30.60%\n"
          ],
          "name": "stdout"
        },
        {
          "output_type": "display_data",
          "data": {
            "text/html": [
              "<br/>Waiting for W&B process to finish, PID 2854<br/>Program ended successfully."
            ],
            "text/plain": [
              "<IPython.core.display.HTML object>"
            ]
          },
          "metadata": {
            "tags": []
          }
        },
        {
          "output_type": "display_data",
          "data": {
            "application/vnd.jupyter.widget-view+json": {
              "model_id": "2bbc905f818746a4a54801322aa5c3e7",
              "version_major": 2,
              "version_minor": 0
            },
            "text/plain": [
              "VBox(children=(Label(value=' 0.00MB of 0.00MB uploaded (0.00MB deduped)\\r'), FloatProgress(value=1.0, max=1.0)…"
            ]
          },
          "metadata": {
            "tags": []
          }
        },
        {
          "output_type": "display_data",
          "data": {
            "text/html": [
              "Find user logs for this run at: <code>/content/wandb/run-20210413_114303-v1hctzht/logs/debug.log</code>"
            ],
            "text/plain": [
              "<IPython.core.display.HTML object>"
            ]
          },
          "metadata": {
            "tags": []
          }
        },
        {
          "output_type": "display_data",
          "data": {
            "text/html": [
              "Find internal logs for this run at: <code>/content/wandb/run-20210413_114303-v1hctzht/logs/debug-internal.log</code>"
            ],
            "text/plain": [
              "<IPython.core.display.HTML object>"
            ]
          },
          "metadata": {
            "tags": []
          }
        },
        {
          "output_type": "display_data",
          "data": {
            "text/html": [
              "<h3>Run summary:</h3><br/><style>\n",
              "    table.wandb td:nth-child(1) { padding: 0 10px; text-align: right }\n",
              "    </style><table class=\"wandb\">\n",
              "<tr><td>epoch</td><td>15</td></tr><tr><td>accuracy</td><td>30.6</td></tr><tr><td>training loss</td><td>191.93366</td></tr><tr><td>validation loss</td><td>20.92695</td></tr><tr><td>_runtime</td><td>1414</td></tr><tr><td>_timestamp</td><td>1618315597</td></tr><tr><td>_step</td><td>14</td></tr></table>"
            ],
            "text/plain": [
              "<IPython.core.display.HTML object>"
            ]
          },
          "metadata": {
            "tags": []
          }
        },
        {
          "output_type": "display_data",
          "data": {
            "text/html": [
              "<h3>Run history:</h3><br/><style>\n",
              "    table.wandb td:nth-child(1) { padding: 0 10px; text-align: right }\n",
              "    </style><table class=\"wandb\">\n",
              "<tr><td>epoch</td><td>▁▁▂▃▃▃▄▅▅▅▆▇▇▇█</td></tr><tr><td>accuracy</td><td>▁▁▃▂▁▃▅▅▅▆▅▇▆▆█</td></tr><tr><td>training loss</td><td>█▆▄▄▄▃▃▃▂▂▂▁▂▁▁</td></tr><tr><td>validation loss</td><td>█▅▄▄▄▃▃▃▃▂▂▂▁▁▁</td></tr><tr><td>_runtime</td><td>▁▁▂▃▃▄▄▄▅▅▆▆▇▇█</td></tr><tr><td>_timestamp</td><td>▁▁▂▃▃▄▄▄▅▅▆▆▇▇█</td></tr><tr><td>_step</td><td>▁▁▂▃▃▃▄▅▅▅▆▇▇▇█</td></tr></table><br/>"
            ],
            "text/plain": [
              "<IPython.core.display.HTML object>"
            ]
          },
          "metadata": {
            "tags": []
          }
        },
        {
          "output_type": "display_data",
          "data": {
            "text/html": [
              "Synced 5 W&B file(s), 0 media file(s), 0 artifact file(s) and 0 other file(s)"
            ],
            "text/plain": [
              "<IPython.core.display.HTML object>"
            ]
          },
          "metadata": {
            "tags": []
          }
        },
        {
          "output_type": "display_data",
          "data": {
            "text/html": [
              "\n",
              "                    <br/>Synced <strong style=\"color:#cdcd00\">rosy-sweep-16</strong>: <a href=\"https://wandb.ai/theindianwriter/cs6910-assignment2-part_a/runs/v1hctzht\" target=\"_blank\">https://wandb.ai/theindianwriter/cs6910-assignment2-part_a/runs/v1hctzht</a><br/>\n",
              "                "
            ],
            "text/plain": [
              "<IPython.core.display.HTML object>"
            ]
          },
          "metadata": {
            "tags": []
          }
        },
        {
          "output_type": "stream",
          "text": [
            "\u001b[34m\u001b[1mwandb\u001b[0m: Agent Starting Run: v3nos34v with config:\n",
            "\u001b[34m\u001b[1mwandb\u001b[0m: \tactivation_fn: leaky_relu\n",
            "\u001b[34m\u001b[1mwandb\u001b[0m: \tbatch_norm: False\n",
            "\u001b[34m\u001b[1mwandb\u001b[0m: \tbatch_size: 200\n",
            "\u001b[34m\u001b[1mwandb\u001b[0m: \tdata_augmentation: False\n",
            "\u001b[34m\u001b[1mwandb\u001b[0m: \tdense_neuron_size: 64\n",
            "\u001b[34m\u001b[1mwandb\u001b[0m: \tdropdout_ratio: 0.2\n",
            "\u001b[34m\u001b[1mwandb\u001b[0m: \tepochs: 5\n",
            "\u001b[34m\u001b[1mwandb\u001b[0m: \tfilter_organization: 0.5\n",
            "\u001b[34m\u001b[1mwandb\u001b[0m: \tfilter_size: 5\n",
            "\u001b[34m\u001b[1mwandb\u001b[0m: \tlr: 0.0004\n",
            "\u001b[34m\u001b[1mwandb\u001b[0m: \tnum_of_filters: 32\n",
            "\u001b[34m\u001b[1mwandb\u001b[0m: \u001b[33mWARNING\u001b[0m Ignored wandb.init() arg project when running a sweep\n"
          ],
          "name": "stderr"
        },
        {
          "output_type": "display_data",
          "data": {
            "text/html": [
              "\n",
              "                Tracking run with wandb version 0.10.25<br/>\n",
              "                Syncing run <strong style=\"color:#cdcd00\">sleek-sweep-17</strong> to <a href=\"https://wandb.ai\" target=\"_blank\">Weights & Biases</a> <a href=\"https://docs.wandb.com/integrations/jupyter.html\" target=\"_blank\">(Documentation)</a>.<br/>\n",
              "                Project page: <a href=\"https://wandb.ai/theindianwriter/cs6910-assignment2-part_a\" target=\"_blank\">https://wandb.ai/theindianwriter/cs6910-assignment2-part_a</a><br/>\n",
              "                Sweep page: <a href=\"https://wandb.ai/theindianwriter/cs6910-assignment2-part_a/sweeps/fm8gabmx\" target=\"_blank\">https://wandb.ai/theindianwriter/cs6910-assignment2-part_a/sweeps/fm8gabmx</a><br/>\n",
              "Run page: <a href=\"https://wandb.ai/theindianwriter/cs6910-assignment2-part_a/runs/v3nos34v\" target=\"_blank\">https://wandb.ai/theindianwriter/cs6910-assignment2-part_a/runs/v3nos34v</a><br/>\n",
              "                Run data is saved locally in <code>/content/wandb/run-20210413_120648-v3nos34v</code><br/><br/>\n",
              "            "
            ],
            "text/plain": [
              "<IPython.core.display.HTML object>"
            ]
          },
          "metadata": {
            "tags": []
          }
        },
        {
          "output_type": "display_data",
          "data": {
            "text/html": [
              "<br/>Waiting for W&B process to finish, PID 2934<br/>Program failed with code 1.  Press ctrl-c to abort syncing."
            ],
            "text/plain": [
              "<IPython.core.display.HTML object>"
            ]
          },
          "metadata": {
            "tags": []
          }
        },
        {
          "output_type": "display_data",
          "data": {
            "application/vnd.jupyter.widget-view+json": {
              "model_id": "0a3c96d469c04e7482f061ec69d0e8a1",
              "version_major": 2,
              "version_minor": 0
            },
            "text/plain": [
              "VBox(children=(Label(value=' 0.00MB of 0.00MB uploaded (0.00MB deduped)\\r'), FloatProgress(value=1.0, max=1.0)…"
            ]
          },
          "metadata": {
            "tags": []
          }
        },
        {
          "output_type": "display_data",
          "data": {
            "text/html": [
              "Find user logs for this run at: <code>/content/wandb/run-20210413_120648-v3nos34v/logs/debug.log</code>"
            ],
            "text/plain": [
              "<IPython.core.display.HTML object>"
            ]
          },
          "metadata": {
            "tags": []
          }
        },
        {
          "output_type": "display_data",
          "data": {
            "text/html": [
              "Find internal logs for this run at: <code>/content/wandb/run-20210413_120648-v3nos34v/logs/debug-internal.log</code>"
            ],
            "text/plain": [
              "<IPython.core.display.HTML object>"
            ]
          },
          "metadata": {
            "tags": []
          }
        },
        {
          "output_type": "display_data",
          "data": {
            "text/html": [
              "Synced 4 W&B file(s), 0 media file(s), 0 artifact file(s) and 0 other file(s)"
            ],
            "text/plain": [
              "<IPython.core.display.HTML object>"
            ]
          },
          "metadata": {
            "tags": []
          }
        },
        {
          "output_type": "display_data",
          "data": {
            "text/html": [
              "\n",
              "                    <br/>Synced <strong style=\"color:#cdcd00\">sleek-sweep-17</strong>: <a href=\"https://wandb.ai/theindianwriter/cs6910-assignment2-part_a/runs/v3nos34v\" target=\"_blank\">https://wandb.ai/theindianwriter/cs6910-assignment2-part_a/runs/v3nos34v</a><br/>\n",
              "                "
            ],
            "text/plain": [
              "<IPython.core.display.HTML object>"
            ]
          },
          "metadata": {
            "tags": []
          }
        },
        {
          "output_type": "stream",
          "text": [
            "\u001b[34m\u001b[1mwandb\u001b[0m: \u001b[32m\u001b[41mERROR\u001b[0m Run v3nos34v errored: TypeError('new() received an invalid combination of arguments - got (float, int, int, int), but expected one of:\\n * (*, torch.device device)\\n * (torch.Storage storage)\\n * (Tensor other)\\n * (tuple of ints size, *, torch.device device)\\n * (object data, *, torch.device device)\\n')\n",
            "\u001b[34m\u001b[1mwandb\u001b[0m: Agent Starting Run: ha32xois with config:\n",
            "\u001b[34m\u001b[1mwandb\u001b[0m: \tactivation_fn: tanh\n",
            "\u001b[34m\u001b[1mwandb\u001b[0m: \tbatch_norm: True\n",
            "\u001b[34m\u001b[1mwandb\u001b[0m: \tbatch_size: 100\n",
            "\u001b[34m\u001b[1mwandb\u001b[0m: \tdata_augmentation: False\n",
            "\u001b[34m\u001b[1mwandb\u001b[0m: \tdense_neuron_size: 64\n",
            "\u001b[34m\u001b[1mwandb\u001b[0m: \tdropdout_ratio: 0.5\n",
            "\u001b[34m\u001b[1mwandb\u001b[0m: \tepochs: 15\n",
            "\u001b[34m\u001b[1mwandb\u001b[0m: \tfilter_organization: 0.5\n",
            "\u001b[34m\u001b[1mwandb\u001b[0m: \tfilter_size: 7\n",
            "\u001b[34m\u001b[1mwandb\u001b[0m: \tlr: 0.0004\n",
            "\u001b[34m\u001b[1mwandb\u001b[0m: \tnum_of_filters: 256\n",
            "\u001b[34m\u001b[1mwandb\u001b[0m: \u001b[33mWARNING\u001b[0m Ignored wandb.init() arg project when running a sweep\n"
          ],
          "name": "stderr"
        },
        {
          "output_type": "display_data",
          "data": {
            "text/html": [
              "\n",
              "                Tracking run with wandb version 0.10.25<br/>\n",
              "                Syncing run <strong style=\"color:#cdcd00\">solar-sweep-18</strong> to <a href=\"https://wandb.ai\" target=\"_blank\">Weights & Biases</a> <a href=\"https://docs.wandb.com/integrations/jupyter.html\" target=\"_blank\">(Documentation)</a>.<br/>\n",
              "                Project page: <a href=\"https://wandb.ai/theindianwriter/cs6910-assignment2-part_a\" target=\"_blank\">https://wandb.ai/theindianwriter/cs6910-assignment2-part_a</a><br/>\n",
              "                Sweep page: <a href=\"https://wandb.ai/theindianwriter/cs6910-assignment2-part_a/sweeps/fm8gabmx\" target=\"_blank\">https://wandb.ai/theindianwriter/cs6910-assignment2-part_a/sweeps/fm8gabmx</a><br/>\n",
              "Run page: <a href=\"https://wandb.ai/theindianwriter/cs6910-assignment2-part_a/runs/ha32xois\" target=\"_blank\">https://wandb.ai/theindianwriter/cs6910-assignment2-part_a/runs/ha32xois</a><br/>\n",
              "                Run data is saved locally in <code>/content/wandb/run-20210413_120700-ha32xois</code><br/><br/>\n",
              "            "
            ],
            "text/plain": [
              "<IPython.core.display.HTML object>"
            ]
          },
          "metadata": {
            "tags": []
          }
        },
        {
          "output_type": "display_data",
          "data": {
            "text/html": [
              "<br/>Waiting for W&B process to finish, PID 2965<br/>Program failed with code 1.  Press ctrl-c to abort syncing."
            ],
            "text/plain": [
              "<IPython.core.display.HTML object>"
            ]
          },
          "metadata": {
            "tags": []
          }
        },
        {
          "output_type": "display_data",
          "data": {
            "application/vnd.jupyter.widget-view+json": {
              "model_id": "b9cfbefa79ee4d4ca8e517b54cb49cb7",
              "version_major": 2,
              "version_minor": 0
            },
            "text/plain": [
              "VBox(children=(Label(value=' 0.00MB of 0.00MB uploaded (0.00MB deduped)\\r'), FloatProgress(value=0.0, max=1.0)…"
            ]
          },
          "metadata": {
            "tags": []
          }
        },
        {
          "output_type": "display_data",
          "data": {
            "text/html": [
              "Find user logs for this run at: <code>/content/wandb/run-20210413_120700-ha32xois/logs/debug.log</code>"
            ],
            "text/plain": [
              "<IPython.core.display.HTML object>"
            ]
          },
          "metadata": {
            "tags": []
          }
        },
        {
          "output_type": "display_data",
          "data": {
            "text/html": [
              "Find internal logs for this run at: <code>/content/wandb/run-20210413_120700-ha32xois/logs/debug-internal.log</code>"
            ],
            "text/plain": [
              "<IPython.core.display.HTML object>"
            ]
          },
          "metadata": {
            "tags": []
          }
        },
        {
          "output_type": "display_data",
          "data": {
            "text/html": [
              "Synced 4 W&B file(s), 0 media file(s), 0 artifact file(s) and 0 other file(s)"
            ],
            "text/plain": [
              "<IPython.core.display.HTML object>"
            ]
          },
          "metadata": {
            "tags": []
          }
        },
        {
          "output_type": "display_data",
          "data": {
            "text/html": [
              "\n",
              "                    <br/>Synced <strong style=\"color:#cdcd00\">solar-sweep-18</strong>: <a href=\"https://wandb.ai/theindianwriter/cs6910-assignment2-part_a/runs/ha32xois\" target=\"_blank\">https://wandb.ai/theindianwriter/cs6910-assignment2-part_a/runs/ha32xois</a><br/>\n",
              "                "
            ],
            "text/plain": [
              "<IPython.core.display.HTML object>"
            ]
          },
          "metadata": {
            "tags": []
          }
        },
        {
          "output_type": "stream",
          "text": [
            "\u001b[34m\u001b[1mwandb\u001b[0m: \u001b[32m\u001b[41mERROR\u001b[0m Run ha32xois errored: TypeError('new() received an invalid combination of arguments - got (float, int, int, int), but expected one of:\\n * (*, torch.device device)\\n * (torch.Storage storage)\\n * (Tensor other)\\n * (tuple of ints size, *, torch.device device)\\n * (object data, *, torch.device device)\\n')\n",
            "\u001b[34m\u001b[1mwandb\u001b[0m: Agent Starting Run: 244x41cn with config:\n",
            "\u001b[34m\u001b[1mwandb\u001b[0m: \tactivation_fn: relu\n",
            "\u001b[34m\u001b[1mwandb\u001b[0m: \tbatch_norm: False\n",
            "\u001b[34m\u001b[1mwandb\u001b[0m: \tbatch_size: 200\n",
            "\u001b[34m\u001b[1mwandb\u001b[0m: \tdata_augmentation: False\n",
            "\u001b[34m\u001b[1mwandb\u001b[0m: \tdense_neuron_size: 128\n",
            "\u001b[34m\u001b[1mwandb\u001b[0m: \tdropdout_ratio: 0.3\n",
            "\u001b[34m\u001b[1mwandb\u001b[0m: \tepochs: 15\n",
            "\u001b[34m\u001b[1mwandb\u001b[0m: \tfilter_organization: 2\n",
            "\u001b[34m\u001b[1mwandb\u001b[0m: \tfilter_size: 3\n",
            "\u001b[34m\u001b[1mwandb\u001b[0m: \tlr: 0.0002\n",
            "\u001b[34m\u001b[1mwandb\u001b[0m: \tnum_of_filters: 32\n",
            "\u001b[34m\u001b[1mwandb\u001b[0m: \u001b[33mWARNING\u001b[0m Ignored wandb.init() arg project when running a sweep\n"
          ],
          "name": "stderr"
        },
        {
          "output_type": "display_data",
          "data": {
            "text/html": [
              "\n",
              "                Tracking run with wandb version 0.10.25<br/>\n",
              "                Syncing run <strong style=\"color:#cdcd00\">smooth-sweep-19</strong> to <a href=\"https://wandb.ai\" target=\"_blank\">Weights & Biases</a> <a href=\"https://docs.wandb.com/integrations/jupyter.html\" target=\"_blank\">(Documentation)</a>.<br/>\n",
              "                Project page: <a href=\"https://wandb.ai/theindianwriter/cs6910-assignment2-part_a\" target=\"_blank\">https://wandb.ai/theindianwriter/cs6910-assignment2-part_a</a><br/>\n",
              "                Sweep page: <a href=\"https://wandb.ai/theindianwriter/cs6910-assignment2-part_a/sweeps/fm8gabmx\" target=\"_blank\">https://wandb.ai/theindianwriter/cs6910-assignment2-part_a/sweeps/fm8gabmx</a><br/>\n",
              "Run page: <a href=\"https://wandb.ai/theindianwriter/cs6910-assignment2-part_a/runs/244x41cn\" target=\"_blank\">https://wandb.ai/theindianwriter/cs6910-assignment2-part_a/runs/244x41cn</a><br/>\n",
              "                Run data is saved locally in <code>/content/wandb/run-20210413_120710-244x41cn</code><br/><br/>\n",
              "            "
            ],
            "text/plain": [
              "<IPython.core.display.HTML object>"
            ]
          },
          "metadata": {
            "tags": []
          }
        },
        {
          "output_type": "stream",
          "text": [
            "Training on cuda\n",
            "----------------------IN EPOCH 1--------------------------------\n",
            "avg training loss is 2.292504\n",
            "avg val loss is 2.238723 and accuracy is 23.50%\n",
            "----------------------IN EPOCH 2--------------------------------\n",
            "avg training loss is 2.225593\n",
            "avg val loss is 2.172996 and accuracy is 29.00%\n",
            "----------------------IN EPOCH 3--------------------------------\n",
            "avg training loss is 2.165176\n",
            "avg val loss is 2.092014 and accuracy is 31.80%\n",
            "----------------------IN EPOCH 4--------------------------------\n",
            "avg training loss is 2.118240\n",
            "avg val loss is 2.048013 and accuracy is 32.40%\n",
            "----------------------IN EPOCH 5--------------------------------\n",
            "avg training loss is 2.085661\n",
            "avg val loss is 2.015599 and accuracy is 34.40%\n",
            "----------------------IN EPOCH 6--------------------------------\n",
            "avg training loss is 2.045647\n",
            "avg val loss is 1.959761 and accuracy is 36.10%\n",
            "----------------------IN EPOCH 7--------------------------------\n",
            "avg training loss is 2.038994\n",
            "avg val loss is 1.959750 and accuracy is 36.10%\n",
            "----------------------IN EPOCH 8--------------------------------\n",
            "avg training loss is 2.009286\n",
            "avg val loss is 1.960837 and accuracy is 37.10%\n",
            "----------------------IN EPOCH 9--------------------------------\n",
            "avg training loss is 1.993423\n",
            "avg val loss is 1.917961 and accuracy is 39.40%\n",
            "----------------------IN EPOCH 10--------------------------------\n",
            "avg training loss is 1.973828\n",
            "avg val loss is 1.890581 and accuracy is 40.80%\n",
            "----------------------IN EPOCH 11--------------------------------\n",
            "avg training loss is 1.949419\n",
            "avg val loss is 1.887311 and accuracy is 40.20%\n",
            "----------------------IN EPOCH 12--------------------------------\n",
            "avg training loss is 1.936585\n",
            "avg val loss is 1.871750 and accuracy is 40.90%\n",
            "----------------------IN EPOCH 13--------------------------------\n",
            "avg training loss is 1.931085\n",
            "avg val loss is 1.879307 and accuracy is 40.80%\n",
            "----------------------IN EPOCH 14--------------------------------\n",
            "avg training loss is 1.903346\n",
            "avg val loss is 1.855775 and accuracy is 40.10%\n",
            "----------------------IN EPOCH 15--------------------------------\n",
            "avg training loss is 1.891449\n",
            "avg val loss is 1.850611 and accuracy is 40.50%\n"
          ],
          "name": "stdout"
        },
        {
          "output_type": "display_data",
          "data": {
            "text/html": [
              "<br/>Waiting for W&B process to finish, PID 2994<br/>Program ended successfully."
            ],
            "text/plain": [
              "<IPython.core.display.HTML object>"
            ]
          },
          "metadata": {
            "tags": []
          }
        },
        {
          "output_type": "display_data",
          "data": {
            "application/vnd.jupyter.widget-view+json": {
              "model_id": "69caeeea55a3476d9cd8a65f1e94b671",
              "version_major": 2,
              "version_minor": 0
            },
            "text/plain": [
              "VBox(children=(Label(value=' 0.00MB of 0.00MB uploaded (0.00MB deduped)\\r'), FloatProgress(value=1.0, max=1.0)…"
            ]
          },
          "metadata": {
            "tags": []
          }
        },
        {
          "output_type": "display_data",
          "data": {
            "text/html": [
              "Find user logs for this run at: <code>/content/wandb/run-20210413_120710-244x41cn/logs/debug.log</code>"
            ],
            "text/plain": [
              "<IPython.core.display.HTML object>"
            ]
          },
          "metadata": {
            "tags": []
          }
        },
        {
          "output_type": "display_data",
          "data": {
            "text/html": [
              "Find internal logs for this run at: <code>/content/wandb/run-20210413_120710-244x41cn/logs/debug-internal.log</code>"
            ],
            "text/plain": [
              "<IPython.core.display.HTML object>"
            ]
          },
          "metadata": {
            "tags": []
          }
        },
        {
          "output_type": "display_data",
          "data": {
            "text/html": [
              "<h3>Run summary:</h3><br/><style>\n",
              "    table.wandb td:nth-child(1) { padding: 0 10px; text-align: right }\n",
              "    </style><table class=\"wandb\">\n",
              "<tr><td>epoch</td><td>15</td></tr><tr><td>accuracy</td><td>40.5</td></tr><tr><td>training loss</td><td>85.11518</td></tr><tr><td>validation loss</td><td>9.25305</td></tr><tr><td>_runtime</td><td>1335</td></tr><tr><td>_timestamp</td><td>1618316965</td></tr><tr><td>_step</td><td>14</td></tr></table>"
            ],
            "text/plain": [
              "<IPython.core.display.HTML object>"
            ]
          },
          "metadata": {
            "tags": []
          }
        },
        {
          "output_type": "display_data",
          "data": {
            "text/html": [
              "<h3>Run history:</h3><br/><style>\n",
              "    table.wandb td:nth-child(1) { padding: 0 10px; text-align: right }\n",
              "    </style><table class=\"wandb\">\n",
              "<tr><td>epoch</td><td>▁▁▂▃▃▃▄▅▅▅▆▇▇▇█</td></tr><tr><td>accuracy</td><td>▁▃▄▅▅▆▆▆▇██████</td></tr><tr><td>training loss</td><td>█▇▆▅▄▄▄▃▃▂▂▂▂▁▁</td></tr><tr><td>validation loss</td><td>█▇▅▅▄▃▃▃▂▂▂▁▂▁▁</td></tr><tr><td>_runtime</td><td>▁▂▂▃▃▄▄▅▅▆▆▇▇██</td></tr><tr><td>_timestamp</td><td>▁▂▂▃▃▄▄▅▅▆▆▇▇██</td></tr><tr><td>_step</td><td>▁▁▂▃▃▃▄▅▅▅▆▇▇▇█</td></tr></table><br/>"
            ],
            "text/plain": [
              "<IPython.core.display.HTML object>"
            ]
          },
          "metadata": {
            "tags": []
          }
        },
        {
          "output_type": "display_data",
          "data": {
            "text/html": [
              "Synced 5 W&B file(s), 0 media file(s), 0 artifact file(s) and 0 other file(s)"
            ],
            "text/plain": [
              "<IPython.core.display.HTML object>"
            ]
          },
          "metadata": {
            "tags": []
          }
        },
        {
          "output_type": "display_data",
          "data": {
            "text/html": [
              "\n",
              "                    <br/>Synced <strong style=\"color:#cdcd00\">smooth-sweep-19</strong>: <a href=\"https://wandb.ai/theindianwriter/cs6910-assignment2-part_a/runs/244x41cn\" target=\"_blank\">https://wandb.ai/theindianwriter/cs6910-assignment2-part_a/runs/244x41cn</a><br/>\n",
              "                "
            ],
            "text/plain": [
              "<IPython.core.display.HTML object>"
            ]
          },
          "metadata": {
            "tags": []
          }
        },
        {
          "output_type": "stream",
          "text": [
            "\u001b[34m\u001b[1mwandb\u001b[0m: Sweep Agent: Waiting for job.\n",
            "\u001b[34m\u001b[1mwandb\u001b[0m: Job received.\n",
            "\u001b[34m\u001b[1mwandb\u001b[0m: Agent Starting Run: ux9mfd78 with config:\n",
            "\u001b[34m\u001b[1mwandb\u001b[0m: \tactivation_fn: leaky_relu\n",
            "\u001b[34m\u001b[1mwandb\u001b[0m: \tbatch_norm: False\n",
            "\u001b[34m\u001b[1mwandb\u001b[0m: \tbatch_size: 200\n",
            "\u001b[34m\u001b[1mwandb\u001b[0m: \tdata_augmentation: False\n",
            "\u001b[34m\u001b[1mwandb\u001b[0m: \tdense_neuron_size: 128\n",
            "\u001b[34m\u001b[1mwandb\u001b[0m: \tdropdout_ratio: 0.2\n",
            "\u001b[34m\u001b[1mwandb\u001b[0m: \tepochs: 5\n",
            "\u001b[34m\u001b[1mwandb\u001b[0m: \tfilter_organization: 1\n",
            "\u001b[34m\u001b[1mwandb\u001b[0m: \tfilter_size: 5\n",
            "\u001b[34m\u001b[1mwandb\u001b[0m: \tlr: 0.0004\n",
            "\u001b[34m\u001b[1mwandb\u001b[0m: \tnum_of_filters: 64\n",
            "\u001b[34m\u001b[1mwandb\u001b[0m: \u001b[33mWARNING\u001b[0m Ignored wandb.init() arg project when running a sweep\n"
          ],
          "name": "stderr"
        },
        {
          "output_type": "display_data",
          "data": {
            "text/html": [
              "\n",
              "                Tracking run with wandb version 0.10.25<br/>\n",
              "                Syncing run <strong style=\"color:#cdcd00\">apricot-sweep-20</strong> to <a href=\"https://wandb.ai\" target=\"_blank\">Weights & Biases</a> <a href=\"https://docs.wandb.com/integrations/jupyter.html\" target=\"_blank\">(Documentation)</a>.<br/>\n",
              "                Project page: <a href=\"https://wandb.ai/theindianwriter/cs6910-assignment2-part_a\" target=\"_blank\">https://wandb.ai/theindianwriter/cs6910-assignment2-part_a</a><br/>\n",
              "                Sweep page: <a href=\"https://wandb.ai/theindianwriter/cs6910-assignment2-part_a/sweeps/fm8gabmx\" target=\"_blank\">https://wandb.ai/theindianwriter/cs6910-assignment2-part_a/sweeps/fm8gabmx</a><br/>\n",
              "Run page: <a href=\"https://wandb.ai/theindianwriter/cs6910-assignment2-part_a/runs/ux9mfd78\" target=\"_blank\">https://wandb.ai/theindianwriter/cs6910-assignment2-part_a/runs/ux9mfd78</a><br/>\n",
              "                Run data is saved locally in <code>/content/wandb/run-20210413_122941-ux9mfd78</code><br/><br/>\n",
              "            "
            ],
            "text/plain": [
              "<IPython.core.display.HTML object>"
            ]
          },
          "metadata": {
            "tags": []
          }
        },
        {
          "output_type": "stream",
          "text": [
            "Training on cuda\n",
            "----------------------IN EPOCH 1--------------------------------\n",
            "avg training loss is 2.302183\n",
            "avg val loss is 2.292896 and accuracy is 18.00%\n",
            "----------------------IN EPOCH 2--------------------------------\n",
            "avg training loss is 2.277664\n",
            "avg val loss is 2.239941 and accuracy is 19.10%\n",
            "----------------------IN EPOCH 3--------------------------------\n",
            "avg training loss is 2.238695\n",
            "avg val loss is 2.203944 and accuracy is 21.70%\n",
            "----------------------IN EPOCH 4--------------------------------\n",
            "avg training loss is 2.217265\n",
            "avg val loss is 2.172551 and accuracy is 22.90%\n",
            "----------------------IN EPOCH 5--------------------------------\n",
            "avg training loss is 2.182240\n",
            "avg val loss is 2.109181 and accuracy is 27.60%\n"
          ],
          "name": "stdout"
        },
        {
          "output_type": "display_data",
          "data": {
            "text/html": [
              "<br/>Waiting for W&B process to finish, PID 3072<br/>Program ended successfully."
            ],
            "text/plain": [
              "<IPython.core.display.HTML object>"
            ]
          },
          "metadata": {
            "tags": []
          }
        },
        {
          "output_type": "display_data",
          "data": {
            "application/vnd.jupyter.widget-view+json": {
              "model_id": "bd9ed053116e4a64a2a469ebdf8716a8",
              "version_major": 2,
              "version_minor": 0
            },
            "text/plain": [
              "VBox(children=(Label(value=' 0.00MB of 0.00MB uploaded (0.00MB deduped)\\r'), FloatProgress(value=1.0, max=1.0)…"
            ]
          },
          "metadata": {
            "tags": []
          }
        },
        {
          "output_type": "display_data",
          "data": {
            "text/html": [
              "Find user logs for this run at: <code>/content/wandb/run-20210413_122941-ux9mfd78/logs/debug.log</code>"
            ],
            "text/plain": [
              "<IPython.core.display.HTML object>"
            ]
          },
          "metadata": {
            "tags": []
          }
        },
        {
          "output_type": "display_data",
          "data": {
            "text/html": [
              "Find internal logs for this run at: <code>/content/wandb/run-20210413_122941-ux9mfd78/logs/debug-internal.log</code>"
            ],
            "text/plain": [
              "<IPython.core.display.HTML object>"
            ]
          },
          "metadata": {
            "tags": []
          }
        },
        {
          "output_type": "display_data",
          "data": {
            "text/html": [
              "<h3>Run summary:</h3><br/><style>\n",
              "    table.wandb td:nth-child(1) { padding: 0 10px; text-align: right }\n",
              "    </style><table class=\"wandb\">\n",
              "<tr><td>epoch</td><td>5</td></tr><tr><td>accuracy</td><td>27.6</td></tr><tr><td>training loss</td><td>98.20082</td></tr><tr><td>validation loss</td><td>10.54591</td></tr><tr><td>_runtime</td><td>384</td></tr><tr><td>_timestamp</td><td>1618317365</td></tr><tr><td>_step</td><td>4</td></tr></table>"
            ],
            "text/plain": [
              "<IPython.core.display.HTML object>"
            ]
          },
          "metadata": {
            "tags": []
          }
        },
        {
          "output_type": "display_data",
          "data": {
            "text/html": [
              "<h3>Run history:</h3><br/><style>\n",
              "    table.wandb td:nth-child(1) { padding: 0 10px; text-align: right }\n",
              "    </style><table class=\"wandb\">\n",
              "<tr><td>epoch</td><td>▁▃▅▆█</td></tr><tr><td>accuracy</td><td>▁▂▄▅█</td></tr><tr><td>training loss</td><td>█▇▄▃▁</td></tr><tr><td>validation loss</td><td>█▆▅▃▁</td></tr><tr><td>_runtime</td><td>▁▃▅▆█</td></tr><tr><td>_timestamp</td><td>▁▃▅▆█</td></tr><tr><td>_step</td><td>▁▃▅▆█</td></tr></table><br/>"
            ],
            "text/plain": [
              "<IPython.core.display.HTML object>"
            ]
          },
          "metadata": {
            "tags": []
          }
        },
        {
          "output_type": "display_data",
          "data": {
            "text/html": [
              "Synced 5 W&B file(s), 0 media file(s), 0 artifact file(s) and 0 other file(s)"
            ],
            "text/plain": [
              "<IPython.core.display.HTML object>"
            ]
          },
          "metadata": {
            "tags": []
          }
        },
        {
          "output_type": "display_data",
          "data": {
            "text/html": [
              "\n",
              "                    <br/>Synced <strong style=\"color:#cdcd00\">apricot-sweep-20</strong>: <a href=\"https://wandb.ai/theindianwriter/cs6910-assignment2-part_a/runs/ux9mfd78\" target=\"_blank\">https://wandb.ai/theindianwriter/cs6910-assignment2-part_a/runs/ux9mfd78</a><br/>\n",
              "                "
            ],
            "text/plain": [
              "<IPython.core.display.HTML object>"
            ]
          },
          "metadata": {
            "tags": []
          }
        },
        {
          "output_type": "stream",
          "text": [
            "\u001b[34m\u001b[1mwandb\u001b[0m: Sweep Agent: Waiting for job.\n",
            "\u001b[34m\u001b[1mwandb\u001b[0m: Job received.\n",
            "\u001b[34m\u001b[1mwandb\u001b[0m: Agent Starting Run: xvst1sy2 with config:\n",
            "\u001b[34m\u001b[1mwandb\u001b[0m: \tactivation_fn: relu\n",
            "\u001b[34m\u001b[1mwandb\u001b[0m: \tbatch_norm: True\n",
            "\u001b[34m\u001b[1mwandb\u001b[0m: \tbatch_size: 100\n",
            "\u001b[34m\u001b[1mwandb\u001b[0m: \tdata_augmentation: False\n",
            "\u001b[34m\u001b[1mwandb\u001b[0m: \tdense_neuron_size: 64\n",
            "\u001b[34m\u001b[1mwandb\u001b[0m: \tdropdout_ratio: 0.5\n",
            "\u001b[34m\u001b[1mwandb\u001b[0m: \tepochs: 15\n",
            "\u001b[34m\u001b[1mwandb\u001b[0m: \tfilter_organization: 1\n",
            "\u001b[34m\u001b[1mwandb\u001b[0m: \tfilter_size: 5\n",
            "\u001b[34m\u001b[1mwandb\u001b[0m: \tlr: 0.0004\n",
            "\u001b[34m\u001b[1mwandb\u001b[0m: \tnum_of_filters: 256\n",
            "\u001b[34m\u001b[1mwandb\u001b[0m: \u001b[33mWARNING\u001b[0m Ignored wandb.init() arg project when running a sweep\n"
          ],
          "name": "stderr"
        },
        {
          "output_type": "display_data",
          "data": {
            "text/html": [
              "\n",
              "                Tracking run with wandb version 0.10.25<br/>\n",
              "                Syncing run <strong style=\"color:#cdcd00\">peachy-sweep-21</strong> to <a href=\"https://wandb.ai\" target=\"_blank\">Weights & Biases</a> <a href=\"https://docs.wandb.com/integrations/jupyter.html\" target=\"_blank\">(Documentation)</a>.<br/>\n",
              "                Project page: <a href=\"https://wandb.ai/theindianwriter/cs6910-assignment2-part_a\" target=\"_blank\">https://wandb.ai/theindianwriter/cs6910-assignment2-part_a</a><br/>\n",
              "                Sweep page: <a href=\"https://wandb.ai/theindianwriter/cs6910-assignment2-part_a/sweeps/fm8gabmx\" target=\"_blank\">https://wandb.ai/theindianwriter/cs6910-assignment2-part_a/sweeps/fm8gabmx</a><br/>\n",
              "Run page: <a href=\"https://wandb.ai/theindianwriter/cs6910-assignment2-part_a/runs/xvst1sy2\" target=\"_blank\">https://wandb.ai/theindianwriter/cs6910-assignment2-part_a/runs/xvst1sy2</a><br/>\n",
              "                Run data is saved locally in <code>/content/wandb/run-20210413_123621-xvst1sy2</code><br/><br/>\n",
              "            "
            ],
            "text/plain": [
              "<IPython.core.display.HTML object>"
            ]
          },
          "metadata": {
            "tags": []
          }
        },
        {
          "output_type": "stream",
          "text": [
            "Training on cuda\n",
            "----------------------IN EPOCH 1--------------------------------\n",
            "avg training loss is 2.291587\n",
            "avg val loss is 2.205623 and accuracy is 26.70%\n",
            "----------------------IN EPOCH 2--------------------------------\n",
            "avg training loss is 2.220689\n",
            "avg val loss is 2.162759 and accuracy is 28.70%\n",
            "----------------------IN EPOCH 3--------------------------------\n",
            "avg training loss is 2.188727\n",
            "avg val loss is 2.097799 and accuracy is 29.70%\n",
            "----------------------IN EPOCH 4--------------------------------\n",
            "avg training loss is 2.155106\n",
            "avg val loss is 2.093971 and accuracy is 29.90%\n",
            "----------------------IN EPOCH 5--------------------------------\n",
            "avg training loss is 2.130436\n",
            "avg val loss is 2.032857 and accuracy is 31.60%\n",
            "----------------------IN EPOCH 6--------------------------------\n",
            "avg training loss is 2.115407\n",
            "avg val loss is 2.007602 and accuracy is 33.40%\n",
            "----------------------IN EPOCH 7--------------------------------\n",
            "avg training loss is 2.070184\n",
            "avg val loss is 1.993297 and accuracy is 35.60%\n",
            "----------------------IN EPOCH 8--------------------------------\n",
            "avg training loss is 2.072585\n",
            "avg val loss is 2.018004 and accuracy is 32.10%\n",
            "----------------------IN EPOCH 9--------------------------------\n",
            "avg training loss is 2.038471\n",
            "avg val loss is 1.932862 and accuracy is 36.10%\n",
            "----------------------IN EPOCH 10--------------------------------\n",
            "avg training loss is 2.021471\n",
            "avg val loss is 1.914098 and accuracy is 36.90%\n",
            "----------------------IN EPOCH 11--------------------------------\n",
            "avg training loss is 2.012354\n",
            "avg val loss is 1.888772 and accuracy is 37.90%\n",
            "----------------------IN EPOCH 12--------------------------------\n",
            "avg training loss is 1.994508\n",
            "avg val loss is 1.878010 and accuracy is 38.50%\n",
            "----------------------IN EPOCH 13--------------------------------\n",
            "avg training loss is 1.981982\n",
            "avg val loss is 1.856774 and accuracy is 37.70%\n",
            "----------------------IN EPOCH 14--------------------------------\n",
            "avg training loss is 1.959586\n",
            "avg val loss is 1.851629 and accuracy is 38.60%\n",
            "----------------------IN EPOCH 15--------------------------------\n",
            "avg training loss is 1.954659\n",
            "avg val loss is 1.834325 and accuracy is 39.40%\n"
          ],
          "name": "stdout"
        },
        {
          "output_type": "display_data",
          "data": {
            "text/html": [
              "<br/>Waiting for W&B process to finish, PID 3116<br/>Program ended successfully."
            ],
            "text/plain": [
              "<IPython.core.display.HTML object>"
            ]
          },
          "metadata": {
            "tags": []
          }
        },
        {
          "output_type": "display_data",
          "data": {
            "application/vnd.jupyter.widget-view+json": {
              "model_id": "88f1daa83d6b4aa49d921f03eb22395a",
              "version_major": 2,
              "version_minor": 0
            },
            "text/plain": [
              "VBox(children=(Label(value=' 0.00MB of 0.00MB uploaded (0.00MB deduped)\\r'), FloatProgress(value=1.0, max=1.0)…"
            ]
          },
          "metadata": {
            "tags": []
          }
        },
        {
          "output_type": "display_data",
          "data": {
            "text/html": [
              "Find user logs for this run at: <code>/content/wandb/run-20210413_123621-xvst1sy2/logs/debug.log</code>"
            ],
            "text/plain": [
              "<IPython.core.display.HTML object>"
            ]
          },
          "metadata": {
            "tags": []
          }
        },
        {
          "output_type": "display_data",
          "data": {
            "text/html": [
              "Find internal logs for this run at: <code>/content/wandb/run-20210413_123621-xvst1sy2/logs/debug-internal.log</code>"
            ],
            "text/plain": [
              "<IPython.core.display.HTML object>"
            ]
          },
          "metadata": {
            "tags": []
          }
        },
        {
          "output_type": "display_data",
          "data": {
            "text/html": [
              "<h3>Run summary:</h3><br/><style>\n",
              "    table.wandb td:nth-child(1) { padding: 0 10px; text-align: right }\n",
              "    </style><table class=\"wandb\">\n",
              "<tr><td>epoch</td><td>15</td></tr><tr><td>accuracy</td><td>39.4</td></tr><tr><td>training loss</td><td>175.91934</td></tr><tr><td>validation loss</td><td>18.34325</td></tr><tr><td>_runtime</td><td>516</td></tr><tr><td>_timestamp</td><td>1618317897</td></tr><tr><td>_step</td><td>14</td></tr></table>"
            ],
            "text/plain": [
              "<IPython.core.display.HTML object>"
            ]
          },
          "metadata": {
            "tags": []
          }
        },
        {
          "output_type": "display_data",
          "data": {
            "text/html": [
              "<h3>Run history:</h3><br/><style>\n",
              "    table.wandb td:nth-child(1) { padding: 0 10px; text-align: right }\n",
              "    </style><table class=\"wandb\">\n",
              "<tr><td>epoch</td><td>▁▁▂▃▃▃▄▅▅▅▆▇▇▇█</td></tr><tr><td>accuracy</td><td>▁▂▃▃▄▅▆▄▆▇▇█▇██</td></tr><tr><td>training loss</td><td>█▇▆▅▅▄▃▃▃▂▂▂▂▁▁</td></tr><tr><td>validation loss</td><td>█▇▆▆▅▄▄▄▃▃▂▂▁▁▁</td></tr><tr><td>_runtime</td><td>▁▁▂▃▃▄▄▅▅▆▆▇▇██</td></tr><tr><td>_timestamp</td><td>▁▁▂▃▃▄▄▅▅▆▆▇▇██</td></tr><tr><td>_step</td><td>▁▁▂▃▃▃▄▅▅▅▆▇▇▇█</td></tr></table><br/>"
            ],
            "text/plain": [
              "<IPython.core.display.HTML object>"
            ]
          },
          "metadata": {
            "tags": []
          }
        },
        {
          "output_type": "display_data",
          "data": {
            "text/html": [
              "Synced 5 W&B file(s), 0 media file(s), 0 artifact file(s) and 0 other file(s)"
            ],
            "text/plain": [
              "<IPython.core.display.HTML object>"
            ]
          },
          "metadata": {
            "tags": []
          }
        },
        {
          "output_type": "display_data",
          "data": {
            "text/html": [
              "\n",
              "                    <br/>Synced <strong style=\"color:#cdcd00\">peachy-sweep-21</strong>: <a href=\"https://wandb.ai/theindianwriter/cs6910-assignment2-part_a/runs/xvst1sy2\" target=\"_blank\">https://wandb.ai/theindianwriter/cs6910-assignment2-part_a/runs/xvst1sy2</a><br/>\n",
              "                "
            ],
            "text/plain": [
              "<IPython.core.display.HTML object>"
            ]
          },
          "metadata": {
            "tags": []
          }
        },
        {
          "output_type": "stream",
          "text": [
            "\u001b[34m\u001b[1mwandb\u001b[0m: Agent Starting Run: tgazgnpq with config:\n",
            "\u001b[34m\u001b[1mwandb\u001b[0m: \tactivation_fn: relu\n",
            "\u001b[34m\u001b[1mwandb\u001b[0m: \tbatch_norm: False\n",
            "\u001b[34m\u001b[1mwandb\u001b[0m: \tbatch_size: 200\n",
            "\u001b[34m\u001b[1mwandb\u001b[0m: \tdata_augmentation: True\n",
            "\u001b[34m\u001b[1mwandb\u001b[0m: \tdense_neuron_size: 64\n",
            "\u001b[34m\u001b[1mwandb\u001b[0m: \tdropdout_ratio: 0.2\n",
            "\u001b[34m\u001b[1mwandb\u001b[0m: \tepochs: 5\n",
            "\u001b[34m\u001b[1mwandb\u001b[0m: \tfilter_organization: 2\n",
            "\u001b[34m\u001b[1mwandb\u001b[0m: \tfilter_size: 3\n",
            "\u001b[34m\u001b[1mwandb\u001b[0m: \tlr: 0.0002\n",
            "\u001b[34m\u001b[1mwandb\u001b[0m: \tnum_of_filters: 256\n",
            "\u001b[34m\u001b[1mwandb\u001b[0m: \u001b[33mWARNING\u001b[0m Ignored wandb.init() arg project when running a sweep\n"
          ],
          "name": "stderr"
        },
        {
          "output_type": "display_data",
          "data": {
            "text/html": [
              "\n",
              "                Tracking run with wandb version 0.10.25<br/>\n",
              "                Syncing run <strong style=\"color:#cdcd00\">dutiful-sweep-22</strong> to <a href=\"https://wandb.ai\" target=\"_blank\">Weights & Biases</a> <a href=\"https://docs.wandb.com/integrations/jupyter.html\" target=\"_blank\">(Documentation)</a>.<br/>\n",
              "                Project page: <a href=\"https://wandb.ai/theindianwriter/cs6910-assignment2-part_a\" target=\"_blank\">https://wandb.ai/theindianwriter/cs6910-assignment2-part_a</a><br/>\n",
              "                Sweep page: <a href=\"https://wandb.ai/theindianwriter/cs6910-assignment2-part_a/sweeps/fm8gabmx\" target=\"_blank\">https://wandb.ai/theindianwriter/cs6910-assignment2-part_a/sweeps/fm8gabmx</a><br/>\n",
              "Run page: <a href=\"https://wandb.ai/theindianwriter/cs6910-assignment2-part_a/runs/tgazgnpq\" target=\"_blank\">https://wandb.ai/theindianwriter/cs6910-assignment2-part_a/runs/tgazgnpq</a><br/>\n",
              "                Run data is saved locally in <code>/content/wandb/run-20210413_124504-tgazgnpq</code><br/><br/>\n",
              "            "
            ],
            "text/plain": [
              "<IPython.core.display.HTML object>"
            ]
          },
          "metadata": {
            "tags": []
          }
        },
        {
          "output_type": "stream",
          "text": [
            "Training on cuda\n",
            "----------------------IN EPOCH 1--------------------------------\n",
            "avg training loss is 2.294346\n",
            "avg val loss is 2.264228 and accuracy is 20.90%\n",
            "----------------------IN EPOCH 2--------------------------------\n",
            "avg training loss is 2.248408\n",
            "avg val loss is 2.220116 and accuracy is 22.30%\n",
            "----------------------IN EPOCH 3--------------------------------\n",
            "avg training loss is 2.227235\n",
            "avg val loss is 2.200730 and accuracy is 23.90%\n",
            "----------------------IN EPOCH 4--------------------------------\n",
            "avg training loss is 2.213986\n",
            "avg val loss is 2.168675 and accuracy is 25.30%\n",
            "----------------------IN EPOCH 5--------------------------------\n",
            "avg training loss is 2.200250\n",
            "avg val loss is 2.175187 and accuracy is 24.50%\n"
          ],
          "name": "stdout"
        },
        {
          "output_type": "display_data",
          "data": {
            "text/html": [
              "<br/>Waiting for W&B process to finish, PID 3166<br/>Program ended successfully."
            ],
            "text/plain": [
              "<IPython.core.display.HTML object>"
            ]
          },
          "metadata": {
            "tags": []
          }
        },
        {
          "output_type": "display_data",
          "data": {
            "application/vnd.jupyter.widget-view+json": {
              "model_id": "bf3927dda3a94375b0857f9dd5eb0dfd",
              "version_major": 2,
              "version_minor": 0
            },
            "text/plain": [
              "VBox(children=(Label(value=' 0.00MB of 0.00MB uploaded (0.00MB deduped)\\r'), FloatProgress(value=1.0, max=1.0)…"
            ]
          },
          "metadata": {
            "tags": []
          }
        },
        {
          "output_type": "display_data",
          "data": {
            "text/html": [
              "Find user logs for this run at: <code>/content/wandb/run-20210413_124504-tgazgnpq/logs/debug.log</code>"
            ],
            "text/plain": [
              "<IPython.core.display.HTML object>"
            ]
          },
          "metadata": {
            "tags": []
          }
        },
        {
          "output_type": "display_data",
          "data": {
            "text/html": [
              "Find internal logs for this run at: <code>/content/wandb/run-20210413_124504-tgazgnpq/logs/debug-internal.log</code>"
            ],
            "text/plain": [
              "<IPython.core.display.HTML object>"
            ]
          },
          "metadata": {
            "tags": []
          }
        },
        {
          "output_type": "display_data",
          "data": {
            "text/html": [
              "<h3>Run summary:</h3><br/><style>\n",
              "    table.wandb td:nth-child(1) { padding: 0 10px; text-align: right }\n",
              "    </style><table class=\"wandb\">\n",
              "<tr><td>epoch</td><td>5</td></tr><tr><td>accuracy</td><td>24.5</td></tr><tr><td>training loss</td><td>99.01126</td></tr><tr><td>validation loss</td><td>10.87594</td></tr><tr><td>_runtime</td><td>416</td></tr><tr><td>_timestamp</td><td>1618318320</td></tr><tr><td>_step</td><td>4</td></tr></table>"
            ],
            "text/plain": [
              "<IPython.core.display.HTML object>"
            ]
          },
          "metadata": {
            "tags": []
          }
        },
        {
          "output_type": "display_data",
          "data": {
            "text/html": [
              "<h3>Run history:</h3><br/><style>\n",
              "    table.wandb td:nth-child(1) { padding: 0 10px; text-align: right }\n",
              "    </style><table class=\"wandb\">\n",
              "<tr><td>epoch</td><td>▁▃▅▆█</td></tr><tr><td>accuracy</td><td>▁▃▆█▇</td></tr><tr><td>training loss</td><td>█▅▃▂▁</td></tr><tr><td>validation loss</td><td>█▅▃▁▁</td></tr><tr><td>_runtime</td><td>▁▃▅▆█</td></tr><tr><td>_timestamp</td><td>▁▃▅▆█</td></tr><tr><td>_step</td><td>▁▃▅▆█</td></tr></table><br/>"
            ],
            "text/plain": [
              "<IPython.core.display.HTML object>"
            ]
          },
          "metadata": {
            "tags": []
          }
        },
        {
          "output_type": "display_data",
          "data": {
            "text/html": [
              "Synced 5 W&B file(s), 0 media file(s), 0 artifact file(s) and 0 other file(s)"
            ],
            "text/plain": [
              "<IPython.core.display.HTML object>"
            ]
          },
          "metadata": {
            "tags": []
          }
        },
        {
          "output_type": "display_data",
          "data": {
            "text/html": [
              "\n",
              "                    <br/>Synced <strong style=\"color:#cdcd00\">dutiful-sweep-22</strong>: <a href=\"https://wandb.ai/theindianwriter/cs6910-assignment2-part_a/runs/tgazgnpq\" target=\"_blank\">https://wandb.ai/theindianwriter/cs6910-assignment2-part_a/runs/tgazgnpq</a><br/>\n",
              "                "
            ],
            "text/plain": [
              "<IPython.core.display.HTML object>"
            ]
          },
          "metadata": {
            "tags": []
          }
        },
        {
          "output_type": "stream",
          "text": [
            "\u001b[34m\u001b[1mwandb\u001b[0m: Agent Starting Run: luxo8df9 with config:\n",
            "\u001b[34m\u001b[1mwandb\u001b[0m: \tactivation_fn: leaky_relu\n",
            "\u001b[34m\u001b[1mwandb\u001b[0m: \tbatch_norm: True\n",
            "\u001b[34m\u001b[1mwandb\u001b[0m: \tbatch_size: 100\n",
            "\u001b[34m\u001b[1mwandb\u001b[0m: \tdata_augmentation: True\n",
            "\u001b[34m\u001b[1mwandb\u001b[0m: \tdense_neuron_size: 128\n",
            "\u001b[34m\u001b[1mwandb\u001b[0m: \tdropdout_ratio: 0.2\n",
            "\u001b[34m\u001b[1mwandb\u001b[0m: \tepochs: 15\n",
            "\u001b[34m\u001b[1mwandb\u001b[0m: \tfilter_organization: 0.5\n",
            "\u001b[34m\u001b[1mwandb\u001b[0m: \tfilter_size: 5\n",
            "\u001b[34m\u001b[1mwandb\u001b[0m: \tlr: 0.0001\n",
            "\u001b[34m\u001b[1mwandb\u001b[0m: \tnum_of_filters: 32\n",
            "\u001b[34m\u001b[1mwandb\u001b[0m: \u001b[33mWARNING\u001b[0m Ignored wandb.init() arg project when running a sweep\n"
          ],
          "name": "stderr"
        },
        {
          "output_type": "display_data",
          "data": {
            "text/html": [
              "\n",
              "                Tracking run with wandb version 0.10.25<br/>\n",
              "                Syncing run <strong style=\"color:#cdcd00\">rare-sweep-23</strong> to <a href=\"https://wandb.ai\" target=\"_blank\">Weights & Biases</a> <a href=\"https://docs.wandb.com/integrations/jupyter.html\" target=\"_blank\">(Documentation)</a>.<br/>\n",
              "                Project page: <a href=\"https://wandb.ai/theindianwriter/cs6910-assignment2-part_a\" target=\"_blank\">https://wandb.ai/theindianwriter/cs6910-assignment2-part_a</a><br/>\n",
              "                Sweep page: <a href=\"https://wandb.ai/theindianwriter/cs6910-assignment2-part_a/sweeps/fm8gabmx\" target=\"_blank\">https://wandb.ai/theindianwriter/cs6910-assignment2-part_a/sweeps/fm8gabmx</a><br/>\n",
              "Run page: <a href=\"https://wandb.ai/theindianwriter/cs6910-assignment2-part_a/runs/luxo8df9\" target=\"_blank\">https://wandb.ai/theindianwriter/cs6910-assignment2-part_a/runs/luxo8df9</a><br/>\n",
              "                Run data is saved locally in <code>/content/wandb/run-20210413_125208-luxo8df9</code><br/><br/>\n",
              "            "
            ],
            "text/plain": [
              "<IPython.core.display.HTML object>"
            ]
          },
          "metadata": {
            "tags": []
          }
        },
        {
          "output_type": "display_data",
          "data": {
            "text/html": [
              "<br/>Waiting for W&B process to finish, PID 3210<br/>Program failed with code 1.  Press ctrl-c to abort syncing."
            ],
            "text/plain": [
              "<IPython.core.display.HTML object>"
            ]
          },
          "metadata": {
            "tags": []
          }
        },
        {
          "output_type": "display_data",
          "data": {
            "application/vnd.jupyter.widget-view+json": {
              "model_id": "3e4d9d136bf74e66b431d19705e7e91d",
              "version_major": 2,
              "version_minor": 0
            },
            "text/plain": [
              "VBox(children=(Label(value=' 0.00MB of 0.00MB uploaded (0.00MB deduped)\\r'), FloatProgress(value=1.0, max=1.0)…"
            ]
          },
          "metadata": {
            "tags": []
          }
        },
        {
          "output_type": "display_data",
          "data": {
            "text/html": [
              "Find user logs for this run at: <code>/content/wandb/run-20210413_125208-luxo8df9/logs/debug.log</code>"
            ],
            "text/plain": [
              "<IPython.core.display.HTML object>"
            ]
          },
          "metadata": {
            "tags": []
          }
        },
        {
          "output_type": "display_data",
          "data": {
            "text/html": [
              "Find internal logs for this run at: <code>/content/wandb/run-20210413_125208-luxo8df9/logs/debug-internal.log</code>"
            ],
            "text/plain": [
              "<IPython.core.display.HTML object>"
            ]
          },
          "metadata": {
            "tags": []
          }
        },
        {
          "output_type": "display_data",
          "data": {
            "text/html": [
              "Synced 4 W&B file(s), 0 media file(s), 0 artifact file(s) and 0 other file(s)"
            ],
            "text/plain": [
              "<IPython.core.display.HTML object>"
            ]
          },
          "metadata": {
            "tags": []
          }
        },
        {
          "output_type": "display_data",
          "data": {
            "text/html": [
              "\n",
              "                    <br/>Synced <strong style=\"color:#cdcd00\">rare-sweep-23</strong>: <a href=\"https://wandb.ai/theindianwriter/cs6910-assignment2-part_a/runs/luxo8df9\" target=\"_blank\">https://wandb.ai/theindianwriter/cs6910-assignment2-part_a/runs/luxo8df9</a><br/>\n",
              "                "
            ],
            "text/plain": [
              "<IPython.core.display.HTML object>"
            ]
          },
          "metadata": {
            "tags": []
          }
        },
        {
          "output_type": "stream",
          "text": [
            "\u001b[34m\u001b[1mwandb\u001b[0m: \u001b[32m\u001b[41mERROR\u001b[0m Run luxo8df9 errored: TypeError('new() received an invalid combination of arguments - got (float, int, int, int), but expected one of:\\n * (*, torch.device device)\\n * (torch.Storage storage)\\n * (Tensor other)\\n * (tuple of ints size, *, torch.device device)\\n * (object data, *, torch.device device)\\n')\n",
            "\u001b[34m\u001b[1mwandb\u001b[0m: Agent Starting Run: wmadui6w with config:\n",
            "\u001b[34m\u001b[1mwandb\u001b[0m: \tactivation_fn: tanh\n",
            "\u001b[34m\u001b[1mwandb\u001b[0m: \tbatch_norm: True\n",
            "\u001b[34m\u001b[1mwandb\u001b[0m: \tbatch_size: 200\n",
            "\u001b[34m\u001b[1mwandb\u001b[0m: \tdata_augmentation: True\n",
            "\u001b[34m\u001b[1mwandb\u001b[0m: \tdense_neuron_size: 64\n",
            "\u001b[34m\u001b[1mwandb\u001b[0m: \tdropdout_ratio: 0.3\n",
            "\u001b[34m\u001b[1mwandb\u001b[0m: \tepochs: 15\n",
            "\u001b[34m\u001b[1mwandb\u001b[0m: \tfilter_organization: 2\n",
            "\u001b[34m\u001b[1mwandb\u001b[0m: \tfilter_size: 3\n",
            "\u001b[34m\u001b[1mwandb\u001b[0m: \tlr: 0.0004\n",
            "\u001b[34m\u001b[1mwandb\u001b[0m: \tnum_of_filters: 256\n",
            "\u001b[34m\u001b[1mwandb\u001b[0m: \u001b[33mWARNING\u001b[0m Ignored wandb.init() arg project when running a sweep\n"
          ],
          "name": "stderr"
        },
        {
          "output_type": "display_data",
          "data": {
            "text/html": [
              "\n",
              "                Tracking run with wandb version 0.10.25<br/>\n",
              "                Syncing run <strong style=\"color:#cdcd00\">twilight-sweep-24</strong> to <a href=\"https://wandb.ai\" target=\"_blank\">Weights & Biases</a> <a href=\"https://docs.wandb.com/integrations/jupyter.html\" target=\"_blank\">(Documentation)</a>.<br/>\n",
              "                Project page: <a href=\"https://wandb.ai/theindianwriter/cs6910-assignment2-part_a\" target=\"_blank\">https://wandb.ai/theindianwriter/cs6910-assignment2-part_a</a><br/>\n",
              "                Sweep page: <a href=\"https://wandb.ai/theindianwriter/cs6910-assignment2-part_a/sweeps/fm8gabmx\" target=\"_blank\">https://wandb.ai/theindianwriter/cs6910-assignment2-part_a/sweeps/fm8gabmx</a><br/>\n",
              "Run page: <a href=\"https://wandb.ai/theindianwriter/cs6910-assignment2-part_a/runs/wmadui6w\" target=\"_blank\">https://wandb.ai/theindianwriter/cs6910-assignment2-part_a/runs/wmadui6w</a><br/>\n",
              "                Run data is saved locally in <code>/content/wandb/run-20210413_125223-wmadui6w</code><br/><br/>\n",
              "            "
            ],
            "text/plain": [
              "<IPython.core.display.HTML object>"
            ]
          },
          "metadata": {
            "tags": []
          }
        },
        {
          "output_type": "stream",
          "text": [
            "Training on cuda\n",
            "----------------------IN EPOCH 1--------------------------------\n",
            "avg training loss is 2.313680\n",
            "avg val loss is 2.258379 and accuracy is 19.90%\n",
            "----------------------IN EPOCH 2--------------------------------\n",
            "avg training loss is 2.285157\n",
            "avg val loss is 2.246898 and accuracy is 20.70%\n",
            "----------------------IN EPOCH 3--------------------------------\n",
            "avg training loss is 2.287952\n",
            "avg val loss is 2.272845 and accuracy is 19.10%\n",
            "----------------------IN EPOCH 4--------------------------------\n",
            "avg training loss is 2.285490\n",
            "avg val loss is 2.254629 and accuracy is 19.60%\n",
            "----------------------IN EPOCH 5--------------------------------\n",
            "avg training loss is 2.281961\n",
            "avg val loss is 2.247322 and accuracy is 20.20%\n",
            "----------------------IN EPOCH 6--------------------------------\n",
            "avg training loss is 2.281203\n",
            "avg val loss is 2.247546 and accuracy is 21.50%\n",
            "----------------------IN EPOCH 7--------------------------------\n",
            "avg training loss is 2.275156\n",
            "avg val loss is 2.200133 and accuracy is 23.50%\n",
            "----------------------IN EPOCH 8--------------------------------\n",
            "avg training loss is 2.280149\n",
            "avg val loss is 2.235928 and accuracy is 20.80%\n",
            "----------------------IN EPOCH 9--------------------------------\n",
            "avg training loss is 2.274623\n",
            "avg val loss is 2.224467 and accuracy is 22.00%\n",
            "----------------------IN EPOCH 10--------------------------------\n",
            "avg training loss is 2.271253\n",
            "avg val loss is 2.215967 and accuracy is 21.30%\n",
            "----------------------IN EPOCH 11--------------------------------\n",
            "avg training loss is 2.267895\n",
            "avg val loss is 2.199477 and accuracy is 21.80%\n",
            "----------------------IN EPOCH 12--------------------------------\n",
            "avg training loss is 2.254183\n",
            "avg val loss is 2.206120 and accuracy is 21.00%\n",
            "----------------------IN EPOCH 13--------------------------------\n",
            "avg training loss is 2.265356\n",
            "avg val loss is 2.224044 and accuracy is 20.50%\n",
            "----------------------IN EPOCH 14--------------------------------\n",
            "avg training loss is 2.259294\n",
            "avg val loss is 2.213928 and accuracy is 20.80%\n",
            "----------------------IN EPOCH 15--------------------------------\n",
            "avg training loss is 2.254777\n",
            "avg val loss is 2.202212 and accuracy is 22.90%\n"
          ],
          "name": "stdout"
        },
        {
          "output_type": "display_data",
          "data": {
            "text/html": [
              "<br/>Waiting for W&B process to finish, PID 3241<br/>Program ended successfully."
            ],
            "text/plain": [
              "<IPython.core.display.HTML object>"
            ]
          },
          "metadata": {
            "tags": []
          }
        },
        {
          "output_type": "display_data",
          "data": {
            "application/vnd.jupyter.widget-view+json": {
              "model_id": "4ed86d3f199c425089f5235b7d8b3797",
              "version_major": 2,
              "version_minor": 0
            },
            "text/plain": [
              "VBox(children=(Label(value=' 0.00MB of 0.00MB uploaded (0.00MB deduped)\\r'), FloatProgress(value=1.0, max=1.0)…"
            ]
          },
          "metadata": {
            "tags": []
          }
        },
        {
          "output_type": "display_data",
          "data": {
            "text/html": [
              "Find user logs for this run at: <code>/content/wandb/run-20210413_125223-wmadui6w/logs/debug.log</code>"
            ],
            "text/plain": [
              "<IPython.core.display.HTML object>"
            ]
          },
          "metadata": {
            "tags": []
          }
        },
        {
          "output_type": "display_data",
          "data": {
            "text/html": [
              "Find internal logs for this run at: <code>/content/wandb/run-20210413_125223-wmadui6w/logs/debug-internal.log</code>"
            ],
            "text/plain": [
              "<IPython.core.display.HTML object>"
            ]
          },
          "metadata": {
            "tags": []
          }
        },
        {
          "output_type": "display_data",
          "data": {
            "text/html": [
              "<h3>Run summary:</h3><br/><style>\n",
              "    table.wandb td:nth-child(1) { padding: 0 10px; text-align: right }\n",
              "    </style><table class=\"wandb\">\n",
              "<tr><td>epoch</td><td>15</td></tr><tr><td>accuracy</td><td>22.9</td></tr><tr><td>training loss</td><td>101.46494</td></tr><tr><td>validation loss</td><td>11.01106</td></tr><tr><td>_runtime</td><td>1124</td></tr><tr><td>_timestamp</td><td>1618319467</td></tr><tr><td>_step</td><td>14</td></tr></table>"
            ],
            "text/plain": [
              "<IPython.core.display.HTML object>"
            ]
          },
          "metadata": {
            "tags": []
          }
        },
        {
          "output_type": "display_data",
          "data": {
            "text/html": [
              "<h3>Run history:</h3><br/><style>\n",
              "    table.wandb td:nth-child(1) { padding: 0 10px; text-align: right }\n",
              "    </style><table class=\"wandb\">\n",
              "<tr><td>epoch</td><td>▁▁▂▃▃▃▄▅▅▅▆▇▇▇█</td></tr><tr><td>accuracy</td><td>▂▄▁▂▃▅█▄▆▄▅▄▃▄▇</td></tr><tr><td>training loss</td><td>█▅▅▅▄▄▃▄▃▃▃▁▂▂▁</td></tr><tr><td>validation loss</td><td>▇▆█▆▆▆▁▄▃▃▁▂▃▂▁</td></tr><tr><td>_runtime</td><td>▁▂▂▃▃▄▄▅▅▆▆▇▇██</td></tr><tr><td>_timestamp</td><td>▁▂▂▃▃▄▄▅▅▆▆▇▇██</td></tr><tr><td>_step</td><td>▁▁▂▃▃▃▄▅▅▅▆▇▇▇█</td></tr></table><br/>"
            ],
            "text/plain": [
              "<IPython.core.display.HTML object>"
            ]
          },
          "metadata": {
            "tags": []
          }
        },
        {
          "output_type": "display_data",
          "data": {
            "text/html": [
              "Synced 5 W&B file(s), 0 media file(s), 0 artifact file(s) and 0 other file(s)"
            ],
            "text/plain": [
              "<IPython.core.display.HTML object>"
            ]
          },
          "metadata": {
            "tags": []
          }
        },
        {
          "output_type": "display_data",
          "data": {
            "text/html": [
              "\n",
              "                    <br/>Synced <strong style=\"color:#cdcd00\">twilight-sweep-24</strong>: <a href=\"https://wandb.ai/theindianwriter/cs6910-assignment2-part_a/runs/wmadui6w\" target=\"_blank\">https://wandb.ai/theindianwriter/cs6910-assignment2-part_a/runs/wmadui6w</a><br/>\n",
              "                "
            ],
            "text/plain": [
              "<IPython.core.display.HTML object>"
            ]
          },
          "metadata": {
            "tags": []
          }
        },
        {
          "output_type": "stream",
          "text": [
            "\u001b[34m\u001b[1mwandb\u001b[0m: Agent Starting Run: 5xcaiiee with config:\n",
            "\u001b[34m\u001b[1mwandb\u001b[0m: \tactivation_fn: leaky_relu\n",
            "\u001b[34m\u001b[1mwandb\u001b[0m: \tbatch_norm: False\n",
            "\u001b[34m\u001b[1mwandb\u001b[0m: \tbatch_size: 100\n",
            "\u001b[34m\u001b[1mwandb\u001b[0m: \tdata_augmentation: False\n",
            "\u001b[34m\u001b[1mwandb\u001b[0m: \tdense_neuron_size: 128\n",
            "\u001b[34m\u001b[1mwandb\u001b[0m: \tdropdout_ratio: 0.3\n",
            "\u001b[34m\u001b[1mwandb\u001b[0m: \tepochs: 15\n",
            "\u001b[34m\u001b[1mwandb\u001b[0m: \tfilter_organization: 1\n",
            "\u001b[34m\u001b[1mwandb\u001b[0m: \tfilter_size: 3\n",
            "\u001b[34m\u001b[1mwandb\u001b[0m: \tlr: 0.0001\n",
            "\u001b[34m\u001b[1mwandb\u001b[0m: \tnum_of_filters: 64\n",
            "\u001b[34m\u001b[1mwandb\u001b[0m: \u001b[33mWARNING\u001b[0m Ignored wandb.init() arg project when running a sweep\n"
          ],
          "name": "stderr"
        },
        {
          "output_type": "display_data",
          "data": {
            "text/html": [
              "\n",
              "                Tracking run with wandb version 0.10.25<br/>\n",
              "                Syncing run <strong style=\"color:#cdcd00\">hearty-sweep-25</strong> to <a href=\"https://wandb.ai\" target=\"_blank\">Weights & Biases</a> <a href=\"https://docs.wandb.com/integrations/jupyter.html\" target=\"_blank\">(Documentation)</a>.<br/>\n",
              "                Project page: <a href=\"https://wandb.ai/theindianwriter/cs6910-assignment2-part_a\" target=\"_blank\">https://wandb.ai/theindianwriter/cs6910-assignment2-part_a</a><br/>\n",
              "                Sweep page: <a href=\"https://wandb.ai/theindianwriter/cs6910-assignment2-part_a/sweeps/fm8gabmx\" target=\"_blank\">https://wandb.ai/theindianwriter/cs6910-assignment2-part_a/sweeps/fm8gabmx</a><br/>\n",
              "Run page: <a href=\"https://wandb.ai/theindianwriter/cs6910-assignment2-part_a/runs/5xcaiiee\" target=\"_blank\">https://wandb.ai/theindianwriter/cs6910-assignment2-part_a/runs/5xcaiiee</a><br/>\n",
              "                Run data is saved locally in <code>/content/wandb/run-20210413_131114-5xcaiiee</code><br/><br/>\n",
              "            "
            ],
            "text/plain": [
              "<IPython.core.display.HTML object>"
            ]
          },
          "metadata": {
            "tags": []
          }
        },
        {
          "output_type": "stream",
          "text": [
            "Training on cuda\n",
            "----------------------IN EPOCH 1--------------------------------\n",
            "avg training loss is 2.302751\n",
            "avg val loss is 2.299314 and accuracy is 19.00%\n",
            "----------------------IN EPOCH 2--------------------------------\n",
            "avg training loss is 2.288924\n",
            "avg val loss is 2.262475 and accuracy is 22.10%\n",
            "----------------------IN EPOCH 3--------------------------------\n",
            "avg training loss is 2.253072\n",
            "avg val loss is 2.220930 and accuracy is 23.80%\n",
            "----------------------IN EPOCH 4--------------------------------\n",
            "avg training loss is 2.227845\n",
            "avg val loss is 2.203357 and accuracy is 24.70%\n",
            "----------------------IN EPOCH 5--------------------------------\n",
            "avg training loss is 2.207721\n",
            "avg val loss is 2.182979 and accuracy is 25.60%\n",
            "----------------------IN EPOCH 6--------------------------------\n",
            "avg training loss is 2.185128\n",
            "avg val loss is 2.167045 and accuracy is 27.40%\n",
            "----------------------IN EPOCH 7--------------------------------\n",
            "avg training loss is 2.172035\n",
            "avg val loss is 2.155161 and accuracy is 28.10%\n",
            "----------------------IN EPOCH 8--------------------------------\n",
            "avg training loss is 2.152705\n",
            "avg val loss is 2.134075 and accuracy is 29.50%\n",
            "----------------------IN EPOCH 9--------------------------------\n",
            "avg training loss is 2.143271\n",
            "avg val loss is 2.120893 and accuracy is 31.70%\n",
            "----------------------IN EPOCH 10--------------------------------\n",
            "avg training loss is 2.117034\n",
            "avg val loss is 2.084959 and accuracy is 32.90%\n",
            "----------------------IN EPOCH 11--------------------------------\n",
            "avg training loss is 2.092099\n",
            "avg val loss is 2.058507 and accuracy is 33.70%\n",
            "----------------------IN EPOCH 12--------------------------------\n",
            "avg training loss is 2.064119\n",
            "avg val loss is 2.040043 and accuracy is 34.30%\n",
            "----------------------IN EPOCH 13--------------------------------\n",
            "avg training loss is 2.055985\n",
            "avg val loss is 2.021678 and accuracy is 34.80%\n",
            "----------------------IN EPOCH 14--------------------------------\n",
            "avg training loss is 2.047163\n",
            "avg val loss is 2.023936 and accuracy is 34.50%\n",
            "----------------------IN EPOCH 15--------------------------------\n",
            "avg training loss is 2.036027\n",
            "avg val loss is 2.009184 and accuracy is 35.10%\n"
          ],
          "name": "stdout"
        },
        {
          "output_type": "display_data",
          "data": {
            "text/html": [
              "<br/>Waiting for W&B process to finish, PID 3361<br/>Program ended successfully."
            ],
            "text/plain": [
              "<IPython.core.display.HTML object>"
            ]
          },
          "metadata": {
            "tags": []
          }
        },
        {
          "output_type": "display_data",
          "data": {
            "application/vnd.jupyter.widget-view+json": {
              "model_id": "c73143669c944f108ea5c4fcba6676ac",
              "version_major": 2,
              "version_minor": 0
            },
            "text/plain": [
              "VBox(children=(Label(value=' 0.00MB of 0.00MB uploaded (0.00MB deduped)\\r'), FloatProgress(value=1.0, max=1.0)…"
            ]
          },
          "metadata": {
            "tags": []
          }
        },
        {
          "output_type": "display_data",
          "data": {
            "text/html": [
              "Find user logs for this run at: <code>/content/wandb/run-20210413_131114-5xcaiiee/logs/debug.log</code>"
            ],
            "text/plain": [
              "<IPython.core.display.HTML object>"
            ]
          },
          "metadata": {
            "tags": []
          }
        },
        {
          "output_type": "display_data",
          "data": {
            "text/html": [
              "Find internal logs for this run at: <code>/content/wandb/run-20210413_131114-5xcaiiee/logs/debug-internal.log</code>"
            ],
            "text/plain": [
              "<IPython.core.display.HTML object>"
            ]
          },
          "metadata": {
            "tags": []
          }
        },
        {
          "output_type": "display_data",
          "data": {
            "text/html": [
              "<h3>Run summary:</h3><br/><style>\n",
              "    table.wandb td:nth-child(1) { padding: 0 10px; text-align: right }\n",
              "    </style><table class=\"wandb\">\n",
              "<tr><td>epoch</td><td>15</td></tr><tr><td>accuracy</td><td>35.1</td></tr><tr><td>training loss</td><td>183.24243</td></tr><tr><td>validation loss</td><td>20.09184</td></tr><tr><td>_runtime</td><td>477</td></tr><tr><td>_timestamp</td><td>1618319951</td></tr><tr><td>_step</td><td>14</td></tr></table>"
            ],
            "text/plain": [
              "<IPython.core.display.HTML object>"
            ]
          },
          "metadata": {
            "tags": []
          }
        },
        {
          "output_type": "display_data",
          "data": {
            "text/html": [
              "<h3>Run history:</h3><br/><style>\n",
              "    table.wandb td:nth-child(1) { padding: 0 10px; text-align: right }\n",
              "    </style><table class=\"wandb\">\n",
              "<tr><td>epoch</td><td>▁▁▂▃▃▃▄▅▅▅▆▇▇▇█</td></tr><tr><td>accuracy</td><td>▁▂▃▃▄▅▅▆▇▇▇████</td></tr><tr><td>training loss</td><td>██▇▆▆▅▅▄▄▃▂▂▂▁▁</td></tr><tr><td>validation loss</td><td>█▇▆▆▅▅▅▄▄▃▂▂▁▁▁</td></tr><tr><td>_runtime</td><td>▁▂▂▂▃▃▄▄▅▆▆▆▇██</td></tr><tr><td>_timestamp</td><td>▁▂▂▂▃▃▄▄▅▆▆▆▇██</td></tr><tr><td>_step</td><td>▁▁▂▃▃▃▄▅▅▅▆▇▇▇█</td></tr></table><br/>"
            ],
            "text/plain": [
              "<IPython.core.display.HTML object>"
            ]
          },
          "metadata": {
            "tags": []
          }
        },
        {
          "output_type": "display_data",
          "data": {
            "text/html": [
              "Synced 5 W&B file(s), 0 media file(s), 0 artifact file(s) and 0 other file(s)"
            ],
            "text/plain": [
              "<IPython.core.display.HTML object>"
            ]
          },
          "metadata": {
            "tags": []
          }
        },
        {
          "output_type": "display_data",
          "data": {
            "text/html": [
              "\n",
              "                    <br/>Synced <strong style=\"color:#cdcd00\">hearty-sweep-25</strong>: <a href=\"https://wandb.ai/theindianwriter/cs6910-assignment2-part_a/runs/5xcaiiee\" target=\"_blank\">https://wandb.ai/theindianwriter/cs6910-assignment2-part_a/runs/5xcaiiee</a><br/>\n",
              "                "
            ],
            "text/plain": [
              "<IPython.core.display.HTML object>"
            ]
          },
          "metadata": {
            "tags": []
          }
        },
        {
          "output_type": "stream",
          "text": [
            "\u001b[34m\u001b[1mwandb\u001b[0m: Agent Starting Run: mjtq1z5t with config:\n",
            "\u001b[34m\u001b[1mwandb\u001b[0m: \tactivation_fn: tanh\n",
            "\u001b[34m\u001b[1mwandb\u001b[0m: \tbatch_norm: True\n",
            "\u001b[34m\u001b[1mwandb\u001b[0m: \tbatch_size: 200\n",
            "\u001b[34m\u001b[1mwandb\u001b[0m: \tdata_augmentation: False\n",
            "\u001b[34m\u001b[1mwandb\u001b[0m: \tdense_neuron_size: 256\n",
            "\u001b[34m\u001b[1mwandb\u001b[0m: \tdropdout_ratio: 0.5\n",
            "\u001b[34m\u001b[1mwandb\u001b[0m: \tepochs: 15\n",
            "\u001b[34m\u001b[1mwandb\u001b[0m: \tfilter_organization: 2\n",
            "\u001b[34m\u001b[1mwandb\u001b[0m: \tfilter_size: 5\n",
            "\u001b[34m\u001b[1mwandb\u001b[0m: \tlr: 0.0001\n",
            "\u001b[34m\u001b[1mwandb\u001b[0m: \tnum_of_filters: 32\n",
            "\u001b[34m\u001b[1mwandb\u001b[0m: \u001b[33mWARNING\u001b[0m Ignored wandb.init() arg project when running a sweep\n"
          ],
          "name": "stderr"
        },
        {
          "output_type": "display_data",
          "data": {
            "text/html": [
              "\n",
              "                Tracking run with wandb version 0.10.25<br/>\n",
              "                Syncing run <strong style=\"color:#cdcd00\">elated-sweep-26</strong> to <a href=\"https://wandb.ai\" target=\"_blank\">Weights & Biases</a> <a href=\"https://docs.wandb.com/integrations/jupyter.html\" target=\"_blank\">(Documentation)</a>.<br/>\n",
              "                Project page: <a href=\"https://wandb.ai/theindianwriter/cs6910-assignment2-part_a\" target=\"_blank\">https://wandb.ai/theindianwriter/cs6910-assignment2-part_a</a><br/>\n",
              "                Sweep page: <a href=\"https://wandb.ai/theindianwriter/cs6910-assignment2-part_a/sweeps/fm8gabmx\" target=\"_blank\">https://wandb.ai/theindianwriter/cs6910-assignment2-part_a/sweeps/fm8gabmx</a><br/>\n",
              "Run page: <a href=\"https://wandb.ai/theindianwriter/cs6910-assignment2-part_a/runs/mjtq1z5t\" target=\"_blank\">https://wandb.ai/theindianwriter/cs6910-assignment2-part_a/runs/mjtq1z5t</a><br/>\n",
              "                Run data is saved locally in <code>/content/wandb/run-20210413_131918-mjtq1z5t</code><br/><br/>\n",
              "            "
            ],
            "text/plain": [
              "<IPython.core.display.HTML object>"
            ]
          },
          "metadata": {
            "tags": []
          }
        },
        {
          "output_type": "stream",
          "text": [
            "Training on cuda\n",
            "----------------------IN EPOCH 1--------------------------------\n",
            "avg training loss is 2.160845\n",
            "avg val loss is 2.042415 and accuracy is 33.90%\n",
            "----------------------IN EPOCH 2--------------------------------\n",
            "avg training loss is 2.055795\n",
            "avg val loss is 1.992800 and accuracy is 36.30%\n",
            "----------------------IN EPOCH 3--------------------------------\n",
            "avg training loss is 2.025609\n",
            "avg val loss is 1.970401 and accuracy is 37.60%\n",
            "----------------------IN EPOCH 4--------------------------------\n",
            "avg training loss is 1.994413\n",
            "avg val loss is 1.939607 and accuracy is 37.80%\n",
            "----------------------IN EPOCH 5--------------------------------\n",
            "avg training loss is 1.963128\n",
            "avg val loss is 1.955894 and accuracy is 38.70%\n",
            "----------------------IN EPOCH 6--------------------------------\n",
            "avg training loss is 1.950838\n",
            "avg val loss is 1.948011 and accuracy is 39.00%\n",
            "----------------------IN EPOCH 7--------------------------------\n",
            "avg training loss is 1.918650\n",
            "avg val loss is 1.912416 and accuracy is 40.10%\n",
            "----------------------IN EPOCH 8--------------------------------\n",
            "avg training loss is 1.890457\n",
            "avg val loss is 1.904348 and accuracy is 40.00%\n",
            "----------------------IN EPOCH 9--------------------------------\n",
            "avg training loss is 1.862296\n",
            "avg val loss is 1.887888 and accuracy is 40.10%\n",
            "----------------------IN EPOCH 10--------------------------------\n",
            "avg training loss is 1.841033\n",
            "avg val loss is 1.871924 and accuracy is 41.10%\n",
            "----------------------IN EPOCH 11--------------------------------\n",
            "avg training loss is 1.823678\n",
            "avg val loss is 1.829298 and accuracy is 42.10%\n",
            "----------------------IN EPOCH 12--------------------------------\n",
            "avg training loss is 1.807175\n",
            "avg val loss is 1.845273 and accuracy is 42.60%\n",
            "----------------------IN EPOCH 13--------------------------------\n",
            "avg training loss is 1.774544\n",
            "avg val loss is 1.851309 and accuracy is 41.30%\n",
            "----------------------IN EPOCH 14--------------------------------\n",
            "avg training loss is 1.745265\n",
            "avg val loss is 1.795470 and accuracy is 43.60%\n",
            "----------------------IN EPOCH 15--------------------------------\n",
            "avg training loss is 1.729345\n",
            "avg val loss is 1.806312 and accuracy is 42.70%\n"
          ],
          "name": "stdout"
        },
        {
          "output_type": "display_data",
          "data": {
            "text/html": [
              "<br/>Waiting for W&B process to finish, PID 3477<br/>Program ended successfully."
            ],
            "text/plain": [
              "<IPython.core.display.HTML object>"
            ]
          },
          "metadata": {
            "tags": []
          }
        },
        {
          "output_type": "display_data",
          "data": {
            "application/vnd.jupyter.widget-view+json": {
              "model_id": "ebedd7f9515044a3a873667020f8a023",
              "version_major": 2,
              "version_minor": 0
            },
            "text/plain": [
              "VBox(children=(Label(value=' 0.00MB of 0.00MB uploaded (0.00MB deduped)\\r'), FloatProgress(value=1.0, max=1.0)…"
            ]
          },
          "metadata": {
            "tags": []
          }
        },
        {
          "output_type": "display_data",
          "data": {
            "text/html": [
              "Find user logs for this run at: <code>/content/wandb/run-20210413_131918-mjtq1z5t/logs/debug.log</code>"
            ],
            "text/plain": [
              "<IPython.core.display.HTML object>"
            ]
          },
          "metadata": {
            "tags": []
          }
        },
        {
          "output_type": "display_data",
          "data": {
            "text/html": [
              "Find internal logs for this run at: <code>/content/wandb/run-20210413_131918-mjtq1z5t/logs/debug-internal.log</code>"
            ],
            "text/plain": [
              "<IPython.core.display.HTML object>"
            ]
          },
          "metadata": {
            "tags": []
          }
        },
        {
          "output_type": "display_data",
          "data": {
            "text/html": [
              "<h3>Run summary:</h3><br/><style>\n",
              "    table.wandb td:nth-child(1) { padding: 0 10px; text-align: right }\n",
              "    </style><table class=\"wandb\">\n",
              "<tr><td>epoch</td><td>15</td></tr><tr><td>accuracy</td><td>42.7</td></tr><tr><td>training loss</td><td>77.82053</td></tr><tr><td>validation loss</td><td>9.03156</td></tr><tr><td>_runtime</td><td>1164</td></tr><tr><td>_timestamp</td><td>1618321123</td></tr><tr><td>_step</td><td>14</td></tr></table>"
            ],
            "text/plain": [
              "<IPython.core.display.HTML object>"
            ]
          },
          "metadata": {
            "tags": []
          }
        },
        {
          "output_type": "display_data",
          "data": {
            "text/html": [
              "<h3>Run history:</h3><br/><style>\n",
              "    table.wandb td:nth-child(1) { padding: 0 10px; text-align: right }\n",
              "    </style><table class=\"wandb\">\n",
              "<tr><td>epoch</td><td>▁▁▂▃▃▃▄▅▅▅▆▇▇▇█</td></tr><tr><td>accuracy</td><td>▁▃▄▄▄▅▅▅▅▆▇▇▆█▇</td></tr><tr><td>training loss</td><td>█▆▆▅▅▅▄▄▃▃▃▂▂▁▁</td></tr><tr><td>validation loss</td><td>█▇▆▅▆▅▄▄▄▃▂▂▃▁▁</td></tr><tr><td>_runtime</td><td>▁▂▂▃▃▄▄▅▅▆▆▇▇██</td></tr><tr><td>_timestamp</td><td>▁▂▂▃▃▄▄▅▅▆▆▇▇██</td></tr><tr><td>_step</td><td>▁▁▂▃▃▃▄▅▅▅▆▇▇▇█</td></tr></table><br/>"
            ],
            "text/plain": [
              "<IPython.core.display.HTML object>"
            ]
          },
          "metadata": {
            "tags": []
          }
        },
        {
          "output_type": "display_data",
          "data": {
            "text/html": [
              "Synced 5 W&B file(s), 0 media file(s), 0 artifact file(s) and 0 other file(s)"
            ],
            "text/plain": [
              "<IPython.core.display.HTML object>"
            ]
          },
          "metadata": {
            "tags": []
          }
        },
        {
          "output_type": "display_data",
          "data": {
            "text/html": [
              "\n",
              "                    <br/>Synced <strong style=\"color:#cdcd00\">elated-sweep-26</strong>: <a href=\"https://wandb.ai/theindianwriter/cs6910-assignment2-part_a/runs/mjtq1z5t\" target=\"_blank\">https://wandb.ai/theindianwriter/cs6910-assignment2-part_a/runs/mjtq1z5t</a><br/>\n",
              "                "
            ],
            "text/plain": [
              "<IPython.core.display.HTML object>"
            ]
          },
          "metadata": {
            "tags": []
          }
        },
        {
          "output_type": "stream",
          "text": [
            "\u001b[34m\u001b[1mwandb\u001b[0m: Agent Starting Run: xe9heyh9 with config:\n",
            "\u001b[34m\u001b[1mwandb\u001b[0m: \tactivation_fn: tanh\n",
            "\u001b[34m\u001b[1mwandb\u001b[0m: \tbatch_norm: True\n",
            "\u001b[34m\u001b[1mwandb\u001b[0m: \tbatch_size: 200\n",
            "\u001b[34m\u001b[1mwandb\u001b[0m: \tdata_augmentation: True\n",
            "\u001b[34m\u001b[1mwandb\u001b[0m: \tdense_neuron_size: 256\n",
            "\u001b[34m\u001b[1mwandb\u001b[0m: \tdropdout_ratio: 0.4\n",
            "\u001b[34m\u001b[1mwandb\u001b[0m: \tepochs: 10\n",
            "\u001b[34m\u001b[1mwandb\u001b[0m: \tfilter_organization: 2\n",
            "\u001b[34m\u001b[1mwandb\u001b[0m: \tfilter_size: 3\n",
            "\u001b[34m\u001b[1mwandb\u001b[0m: \tlr: 0.0001\n",
            "\u001b[34m\u001b[1mwandb\u001b[0m: \tnum_of_filters: 32\n",
            "\u001b[34m\u001b[1mwandb\u001b[0m: \u001b[33mWARNING\u001b[0m Ignored wandb.init() arg project when running a sweep\n"
          ],
          "name": "stderr"
        },
        {
          "output_type": "display_data",
          "data": {
            "text/html": [
              "\n",
              "                Tracking run with wandb version 0.10.25<br/>\n",
              "                Syncing run <strong style=\"color:#cdcd00\">peachy-sweep-27</strong> to <a href=\"https://wandb.ai\" target=\"_blank\">Weights & Biases</a> <a href=\"https://docs.wandb.com/integrations/jupyter.html\" target=\"_blank\">(Documentation)</a>.<br/>\n",
              "                Project page: <a href=\"https://wandb.ai/theindianwriter/cs6910-assignment2-part_a\" target=\"_blank\">https://wandb.ai/theindianwriter/cs6910-assignment2-part_a</a><br/>\n",
              "                Sweep page: <a href=\"https://wandb.ai/theindianwriter/cs6910-assignment2-part_a/sweeps/fm8gabmx\" target=\"_blank\">https://wandb.ai/theindianwriter/cs6910-assignment2-part_a/sweeps/fm8gabmx</a><br/>\n",
              "Run page: <a href=\"https://wandb.ai/theindianwriter/cs6910-assignment2-part_a/runs/xe9heyh9\" target=\"_blank\">https://wandb.ai/theindianwriter/cs6910-assignment2-part_a/runs/xe9heyh9</a><br/>\n",
              "                Run data is saved locally in <code>/content/wandb/run-20210413_133850-xe9heyh9</code><br/><br/>\n",
              "            "
            ],
            "text/plain": [
              "<IPython.core.display.HTML object>"
            ]
          },
          "metadata": {
            "tags": []
          }
        },
        {
          "output_type": "stream",
          "text": [
            "Training on cuda\n",
            "----------------------IN EPOCH 1--------------------------------\n",
            "avg training loss is 2.231876\n",
            "avg val loss is 2.152219 and accuracy is 26.30%\n",
            "----------------------IN EPOCH 2--------------------------------\n",
            "avg training loss is 2.173987\n",
            "avg val loss is 2.120145 and accuracy is 28.50%\n",
            "----------------------IN EPOCH 3--------------------------------\n",
            "avg training loss is 2.165165\n",
            "avg val loss is 2.106981 and accuracy is 28.20%\n",
            "----------------------IN EPOCH 4--------------------------------\n",
            "avg training loss is 2.152576\n",
            "avg val loss is 2.109889 and accuracy is 29.50%\n",
            "----------------------IN EPOCH 5--------------------------------\n",
            "avg training loss is 2.143122\n",
            "avg val loss is 2.105241 and accuracy is 28.90%\n",
            "----------------------IN EPOCH 6--------------------------------\n",
            "avg training loss is 2.130803\n",
            "avg val loss is 2.078359 and accuracy is 30.40%\n",
            "----------------------IN EPOCH 7--------------------------------\n",
            "avg training loss is 2.129621\n",
            "avg val loss is 2.089213 and accuracy is 30.30%\n",
            "----------------------IN EPOCH 8--------------------------------\n",
            "avg training loss is 2.110239\n",
            "avg val loss is 2.080604 and accuracy is 29.40%\n",
            "----------------------IN EPOCH 9--------------------------------\n",
            "avg training loss is 2.108381\n",
            "avg val loss is 2.056146 and accuracy is 32.60%\n",
            "----------------------IN EPOCH 10--------------------------------\n",
            "avg training loss is 2.098465\n",
            "avg val loss is 2.075649 and accuracy is 31.80%\n"
          ],
          "name": "stdout"
        },
        {
          "output_type": "display_data",
          "data": {
            "text/html": [
              "<br/>Waiting for W&B process to finish, PID 3711<br/>Program ended successfully."
            ],
            "text/plain": [
              "<IPython.core.display.HTML object>"
            ]
          },
          "metadata": {
            "tags": []
          }
        },
        {
          "output_type": "display_data",
          "data": {
            "application/vnd.jupyter.widget-view+json": {
              "model_id": "b2278ce5447c47609339ea2db009e11b",
              "version_major": 2,
              "version_minor": 0
            },
            "text/plain": [
              "VBox(children=(Label(value=' 0.00MB of 0.00MB uploaded (0.00MB deduped)\\r'), FloatProgress(value=1.0, max=1.0)…"
            ]
          },
          "metadata": {
            "tags": []
          }
        },
        {
          "output_type": "display_data",
          "data": {
            "text/html": [
              "Find user logs for this run at: <code>/content/wandb/run-20210413_133850-xe9heyh9/logs/debug.log</code>"
            ],
            "text/plain": [
              "<IPython.core.display.HTML object>"
            ]
          },
          "metadata": {
            "tags": []
          }
        },
        {
          "output_type": "display_data",
          "data": {
            "text/html": [
              "Find internal logs for this run at: <code>/content/wandb/run-20210413_133850-xe9heyh9/logs/debug-internal.log</code>"
            ],
            "text/plain": [
              "<IPython.core.display.HTML object>"
            ]
          },
          "metadata": {
            "tags": []
          }
        },
        {
          "output_type": "display_data",
          "data": {
            "text/html": [
              "<h3>Run summary:</h3><br/><style>\n",
              "    table.wandb td:nth-child(1) { padding: 0 10px; text-align: right }\n",
              "    </style><table class=\"wandb\">\n",
              "<tr><td>epoch</td><td>10</td></tr><tr><td>accuracy</td><td>31.8</td></tr><tr><td>training loss</td><td>94.43091</td></tr><tr><td>validation loss</td><td>10.37824</td></tr><tr><td>_runtime</td><td>853</td></tr><tr><td>_timestamp</td><td>1618321983</td></tr><tr><td>_step</td><td>9</td></tr></table>"
            ],
            "text/plain": [
              "<IPython.core.display.HTML object>"
            ]
          },
          "metadata": {
            "tags": []
          }
        },
        {
          "output_type": "display_data",
          "data": {
            "text/html": [
              "<h3>Run history:</h3><br/><style>\n",
              "    table.wandb td:nth-child(1) { padding: 0 10px; text-align: right }\n",
              "    </style><table class=\"wandb\">\n",
              "<tr><td>epoch</td><td>▁▂▃▃▄▅▆▆▇█</td></tr><tr><td>accuracy</td><td>▁▃▃▅▄▆▅▄█▇</td></tr><tr><td>training loss</td><td>█▅▄▄▃▃▃▂▂▁</td></tr><tr><td>validation loss</td><td>█▆▅▅▅▃▃▃▁▂</td></tr><tr><td>_runtime</td><td>▁▂▃▃▄▅▆▆▇█</td></tr><tr><td>_timestamp</td><td>▁▂▃▃▄▅▆▆▇█</td></tr><tr><td>_step</td><td>▁▂▃▃▄▅▆▆▇█</td></tr></table><br/>"
            ],
            "text/plain": [
              "<IPython.core.display.HTML object>"
            ]
          },
          "metadata": {
            "tags": []
          }
        },
        {
          "output_type": "display_data",
          "data": {
            "text/html": [
              "Synced 5 W&B file(s), 0 media file(s), 0 artifact file(s) and 0 other file(s)"
            ],
            "text/plain": [
              "<IPython.core.display.HTML object>"
            ]
          },
          "metadata": {
            "tags": []
          }
        },
        {
          "output_type": "display_data",
          "data": {
            "text/html": [
              "\n",
              "                    <br/>Synced <strong style=\"color:#cdcd00\">peachy-sweep-27</strong>: <a href=\"https://wandb.ai/theindianwriter/cs6910-assignment2-part_a/runs/xe9heyh9\" target=\"_blank\">https://wandb.ai/theindianwriter/cs6910-assignment2-part_a/runs/xe9heyh9</a><br/>\n",
              "                "
            ],
            "text/plain": [
              "<IPython.core.display.HTML object>"
            ]
          },
          "metadata": {
            "tags": []
          }
        },
        {
          "output_type": "stream",
          "text": [
            "\u001b[34m\u001b[1mwandb\u001b[0m: Agent Starting Run: wcb3f3o9 with config:\n",
            "\u001b[34m\u001b[1mwandb\u001b[0m: \tactivation_fn: relu\n",
            "\u001b[34m\u001b[1mwandb\u001b[0m: \tbatch_norm: True\n",
            "\u001b[34m\u001b[1mwandb\u001b[0m: \tbatch_size: 200\n",
            "\u001b[34m\u001b[1mwandb\u001b[0m: \tdata_augmentation: False\n",
            "\u001b[34m\u001b[1mwandb\u001b[0m: \tdense_neuron_size: 128\n",
            "\u001b[34m\u001b[1mwandb\u001b[0m: \tdropdout_ratio: 0.3\n",
            "\u001b[34m\u001b[1mwandb\u001b[0m: \tepochs: 15\n",
            "\u001b[34m\u001b[1mwandb\u001b[0m: \tfilter_organization: 2\n",
            "\u001b[34m\u001b[1mwandb\u001b[0m: \tfilter_size: 5\n",
            "\u001b[34m\u001b[1mwandb\u001b[0m: \tlr: 0.0002\n",
            "\u001b[34m\u001b[1mwandb\u001b[0m: \tnum_of_filters: 64\n",
            "\u001b[34m\u001b[1mwandb\u001b[0m: \u001b[33mWARNING\u001b[0m Ignored wandb.init() arg project when running a sweep\n"
          ],
          "name": "stderr"
        },
        {
          "output_type": "display_data",
          "data": {
            "text/html": [
              "\n",
              "                Tracking run with wandb version 0.10.25<br/>\n",
              "                Syncing run <strong style=\"color:#cdcd00\">jumping-sweep-28</strong> to <a href=\"https://wandb.ai\" target=\"_blank\">Weights & Biases</a> <a href=\"https://docs.wandb.com/integrations/jupyter.html\" target=\"_blank\">(Documentation)</a>.<br/>\n",
              "                Project page: <a href=\"https://wandb.ai/theindianwriter/cs6910-assignment2-part_a\" target=\"_blank\">https://wandb.ai/theindianwriter/cs6910-assignment2-part_a</a><br/>\n",
              "                Sweep page: <a href=\"https://wandb.ai/theindianwriter/cs6910-assignment2-part_a/sweeps/fm8gabmx\" target=\"_blank\">https://wandb.ai/theindianwriter/cs6910-assignment2-part_a/sweeps/fm8gabmx</a><br/>\n",
              "Run page: <a href=\"https://wandb.ai/theindianwriter/cs6910-assignment2-part_a/runs/wcb3f3o9\" target=\"_blank\">https://wandb.ai/theindianwriter/cs6910-assignment2-part_a/runs/wcb3f3o9</a><br/>\n",
              "                Run data is saved locally in <code>/content/wandb/run-20210413_135313-wcb3f3o9</code><br/><br/>\n",
              "            "
            ],
            "text/plain": [
              "<IPython.core.display.HTML object>"
            ]
          },
          "metadata": {
            "tags": []
          }
        },
        {
          "output_type": "stream",
          "text": [
            "Training on cuda\n",
            "----------------------IN EPOCH 1--------------------------------\n",
            "avg training loss is 2.292898\n",
            "avg val loss is 2.217557 and accuracy is 21.80%\n",
            "----------------------IN EPOCH 2--------------------------------\n",
            "avg training loss is 2.215668\n",
            "avg val loss is 2.123142 and accuracy is 32.70%\n",
            "----------------------IN EPOCH 3--------------------------------\n",
            "avg training loss is 2.173750\n",
            "avg val loss is 2.122191 and accuracy is 29.70%\n",
            "----------------------IN EPOCH 4--------------------------------\n",
            "avg training loss is 2.146505\n",
            "avg val loss is 2.075632 and accuracy is 30.40%\n",
            "----------------------IN EPOCH 5--------------------------------\n",
            "avg training loss is 2.122576\n",
            "avg val loss is 2.050438 and accuracy is 32.60%\n",
            "----------------------IN EPOCH 6--------------------------------\n",
            "avg training loss is 2.099583\n",
            "avg val loss is 2.012125 and accuracy is 33.60%\n",
            "----------------------IN EPOCH 7--------------------------------\n",
            "avg training loss is 2.081176\n",
            "avg val loss is 1.976271 and accuracy is 36.00%\n",
            "----------------------IN EPOCH 8--------------------------------\n",
            "avg training loss is 2.053425\n",
            "avg val loss is 1.995453 and accuracy is 36.60%\n",
            "----------------------IN EPOCH 9--------------------------------\n",
            "avg training loss is 2.037961\n",
            "avg val loss is 1.914516 and accuracy is 38.50%\n",
            "----------------------IN EPOCH 10--------------------------------\n",
            "avg training loss is 2.013667\n",
            "avg val loss is 1.936837 and accuracy is 36.20%\n",
            "----------------------IN EPOCH 11--------------------------------\n",
            "avg training loss is 1.994012\n",
            "avg val loss is 1.869042 and accuracy is 38.40%\n",
            "----------------------IN EPOCH 12--------------------------------\n",
            "avg training loss is 1.987939\n",
            "avg val loss is 1.920367 and accuracy is 36.90%\n",
            "----------------------IN EPOCH 13--------------------------------\n",
            "avg training loss is 1.957612\n",
            "avg val loss is 1.830243 and accuracy is 39.30%\n",
            "----------------------IN EPOCH 14--------------------------------\n",
            "avg training loss is 1.936186\n",
            "avg val loss is 1.939670 and accuracy is 37.90%\n",
            "----------------------IN EPOCH 15--------------------------------\n",
            "avg training loss is 1.930591\n",
            "avg val loss is 1.869692 and accuracy is 39.80%\n"
          ],
          "name": "stdout"
        },
        {
          "output_type": "display_data",
          "data": {
            "text/html": [
              "<br/>Waiting for W&B process to finish, PID 3881<br/>Program ended successfully."
            ],
            "text/plain": [
              "<IPython.core.display.HTML object>"
            ]
          },
          "metadata": {
            "tags": []
          }
        },
        {
          "output_type": "display_data",
          "data": {
            "application/vnd.jupyter.widget-view+json": {
              "model_id": "2c916776b9444be0a0d53a6aec9c115c",
              "version_minor": 0,
              "version_major": 2
            },
            "text/plain": [
              "VBox(children=(Label(value=' 0.00MB of 0.00MB uploaded (0.00MB deduped)\\r'), FloatProgress(value=1.0, max=1.0)…"
            ]
          },
          "metadata": {
            "tags": []
          }
        },
        {
          "output_type": "display_data",
          "data": {
            "text/html": [
              "Find user logs for this run at: <code>/content/wandb/run-20210413_135313-wcb3f3o9/logs/debug.log</code>"
            ],
            "text/plain": [
              "<IPython.core.display.HTML object>"
            ]
          },
          "metadata": {
            "tags": []
          }
        },
        {
          "output_type": "display_data",
          "data": {
            "text/html": [
              "Find internal logs for this run at: <code>/content/wandb/run-20210413_135313-wcb3f3o9/logs/debug-internal.log</code>"
            ],
            "text/plain": [
              "<IPython.core.display.HTML object>"
            ]
          },
          "metadata": {
            "tags": []
          }
        },
        {
          "output_type": "display_data",
          "data": {
            "text/html": [
              "<h3>Run summary:</h3><br/><style>\n",
              "    table.wandb td:nth-child(1) { padding: 0 10px; text-align: right }\n",
              "    </style><table class=\"wandb\">\n",
              "<tr><td>epoch</td><td>15</td></tr><tr><td>accuracy</td><td>39.8</td></tr><tr><td>training loss</td><td>86.87661</td></tr><tr><td>validation loss</td><td>9.34846</td></tr><tr><td>_runtime</td><td>1126</td></tr><tr><td>_timestamp</td><td>1618323119</td></tr><tr><td>_step</td><td>14</td></tr></table>"
            ],
            "text/plain": [
              "<IPython.core.display.HTML object>"
            ]
          },
          "metadata": {
            "tags": []
          }
        },
        {
          "output_type": "display_data",
          "data": {
            "text/html": [
              "<h3>Run history:</h3><br/><style>\n",
              "    table.wandb td:nth-child(1) { padding: 0 10px; text-align: right }\n",
              "    </style><table class=\"wandb\">\n",
              "<tr><td>epoch</td><td>▁▁▂▃▃▃▄▅▅▅▆▇▇▇█</td></tr><tr><td>accuracy</td><td>▁▅▄▄▅▆▇▇▇▇▇▇█▇█</td></tr><tr><td>training loss</td><td>█▇▆▅▅▄▄▃▃▃▂▂▂▁▁</td></tr><tr><td>validation loss</td><td>█▆▆▅▅▄▄▄▃▃▂▃▁▃▂</td></tr><tr><td>_runtime</td><td>▁▁▂▂▃▃▄▅▅▆▆▇▇██</td></tr><tr><td>_timestamp</td><td>▁▁▂▂▃▃▄▅▅▆▆▇▇██</td></tr><tr><td>_step</td><td>▁▁▂▃▃▃▄▅▅▅▆▇▇▇█</td></tr></table><br/>"
            ],
            "text/plain": [
              "<IPython.core.display.HTML object>"
            ]
          },
          "metadata": {
            "tags": []
          }
        },
        {
          "output_type": "display_data",
          "data": {
            "text/html": [
              "Synced 5 W&B file(s), 0 media file(s), 0 artifact file(s) and 0 other file(s)"
            ],
            "text/plain": [
              "<IPython.core.display.HTML object>"
            ]
          },
          "metadata": {
            "tags": []
          }
        },
        {
          "output_type": "display_data",
          "data": {
            "text/html": [
              "\n",
              "                    <br/>Synced <strong style=\"color:#cdcd00\">jumping-sweep-28</strong>: <a href=\"https://wandb.ai/theindianwriter/cs6910-assignment2-part_a/runs/wcb3f3o9\" target=\"_blank\">https://wandb.ai/theindianwriter/cs6910-assignment2-part_a/runs/wcb3f3o9</a><br/>\n",
              "                "
            ],
            "text/plain": [
              "<IPython.core.display.HTML object>"
            ]
          },
          "metadata": {
            "tags": []
          }
        },
        {
          "output_type": "stream",
          "text": [
            "\u001b[34m\u001b[1mwandb\u001b[0m: Sweep Agent: Waiting for job.\n",
            "\u001b[34m\u001b[1mwandb\u001b[0m: Job received.\n",
            "\u001b[34m\u001b[1mwandb\u001b[0m: Agent Starting Run: 72vsfb6x with config:\n",
            "\u001b[34m\u001b[1mwandb\u001b[0m: \tactivation_fn: tanh\n",
            "\u001b[34m\u001b[1mwandb\u001b[0m: \tbatch_norm: False\n",
            "\u001b[34m\u001b[1mwandb\u001b[0m: \tbatch_size: 100\n",
            "\u001b[34m\u001b[1mwandb\u001b[0m: \tdata_augmentation: True\n",
            "\u001b[34m\u001b[1mwandb\u001b[0m: \tdense_neuron_size: 64\n",
            "\u001b[34m\u001b[1mwandb\u001b[0m: \tdropdout_ratio: 0.4\n",
            "\u001b[34m\u001b[1mwandb\u001b[0m: \tepochs: 15\n",
            "\u001b[34m\u001b[1mwandb\u001b[0m: \tfilter_organization: 0.5\n",
            "\u001b[34m\u001b[1mwandb\u001b[0m: \tfilter_size: 5\n",
            "\u001b[34m\u001b[1mwandb\u001b[0m: \tlr: 0.0001\n",
            "\u001b[34m\u001b[1mwandb\u001b[0m: \tnum_of_filters: 64\n",
            "\u001b[34m\u001b[1mwandb\u001b[0m: \u001b[33mWARNING\u001b[0m Ignored wandb.init() arg project when running a sweep\n"
          ],
          "name": "stderr"
        },
        {
          "output_type": "display_data",
          "data": {
            "text/html": [
              "\n",
              "                Tracking run with wandb version 0.10.25<br/>\n",
              "                Syncing run <strong style=\"color:#cdcd00\">eager-sweep-29</strong> to <a href=\"https://wandb.ai\" target=\"_blank\">Weights & Biases</a> <a href=\"https://docs.wandb.com/integrations/jupyter.html\" target=\"_blank\">(Documentation)</a>.<br/>\n",
              "                Project page: <a href=\"https://wandb.ai/theindianwriter/cs6910-assignment2-part_a\" target=\"_blank\">https://wandb.ai/theindianwriter/cs6910-assignment2-part_a</a><br/>\n",
              "                Sweep page: <a href=\"https://wandb.ai/theindianwriter/cs6910-assignment2-part_a/sweeps/fm8gabmx\" target=\"_blank\">https://wandb.ai/theindianwriter/cs6910-assignment2-part_a/sweeps/fm8gabmx</a><br/>\n",
              "Run page: <a href=\"https://wandb.ai/theindianwriter/cs6910-assignment2-part_a/runs/72vsfb6x\" target=\"_blank\">https://wandb.ai/theindianwriter/cs6910-assignment2-part_a/runs/72vsfb6x</a><br/>\n",
              "                Run data is saved locally in <code>/content/wandb/run-20210413_141217-72vsfb6x</code><br/><br/>\n",
              "            "
            ],
            "text/plain": [
              "<IPython.core.display.HTML object>"
            ]
          },
          "metadata": {
            "tags": []
          }
        },
        {
          "output_type": "display_data",
          "data": {
            "text/html": [
              "<br/>Waiting for W&B process to finish, PID 3963<br/>Program failed with code 1.  Press ctrl-c to abort syncing."
            ],
            "text/plain": [
              "<IPython.core.display.HTML object>"
            ]
          },
          "metadata": {
            "tags": []
          }
        },
        {
          "output_type": "display_data",
          "data": {
            "application/vnd.jupyter.widget-view+json": {
              "model_id": "99f3cf3e67a64251aa96bbcb0b98f9bc",
              "version_minor": 0,
              "version_major": 2
            },
            "text/plain": [
              "VBox(children=(Label(value=' 0.00MB of 0.00MB uploaded (0.00MB deduped)\\r'), FloatProgress(value=1.0, max=1.0)…"
            ]
          },
          "metadata": {
            "tags": []
          }
        },
        {
          "output_type": "display_data",
          "data": {
            "text/html": [
              "Find user logs for this run at: <code>/content/wandb/run-20210413_141217-72vsfb6x/logs/debug.log</code>"
            ],
            "text/plain": [
              "<IPython.core.display.HTML object>"
            ]
          },
          "metadata": {
            "tags": []
          }
        },
        {
          "output_type": "display_data",
          "data": {
            "text/html": [
              "Find internal logs for this run at: <code>/content/wandb/run-20210413_141217-72vsfb6x/logs/debug-internal.log</code>"
            ],
            "text/plain": [
              "<IPython.core.display.HTML object>"
            ]
          },
          "metadata": {
            "tags": []
          }
        },
        {
          "output_type": "display_data",
          "data": {
            "text/html": [
              "Synced 4 W&B file(s), 0 media file(s), 0 artifact file(s) and 0 other file(s)"
            ],
            "text/plain": [
              "<IPython.core.display.HTML object>"
            ]
          },
          "metadata": {
            "tags": []
          }
        },
        {
          "output_type": "display_data",
          "data": {
            "text/html": [
              "\n",
              "                    <br/>Synced <strong style=\"color:#cdcd00\">eager-sweep-29</strong>: <a href=\"https://wandb.ai/theindianwriter/cs6910-assignment2-part_a/runs/72vsfb6x\" target=\"_blank\">https://wandb.ai/theindianwriter/cs6910-assignment2-part_a/runs/72vsfb6x</a><br/>\n",
              "                "
            ],
            "text/plain": [
              "<IPython.core.display.HTML object>"
            ]
          },
          "metadata": {
            "tags": []
          }
        },
        {
          "output_type": "stream",
          "text": [
            "\u001b[34m\u001b[1mwandb\u001b[0m: \u001b[32m\u001b[41mERROR\u001b[0m Run 72vsfb6x errored: TypeError('new() received an invalid combination of arguments - got (float, int, int, int), but expected one of:\\n * (*, torch.device device)\\n * (torch.Storage storage)\\n * (Tensor other)\\n * (tuple of ints size, *, torch.device device)\\n * (object data, *, torch.device device)\\n')\n",
            "\u001b[34m\u001b[1mwandb\u001b[0m: Agent Starting Run: dkse6hmd with config:\n",
            "\u001b[34m\u001b[1mwandb\u001b[0m: \tactivation_fn: relu\n",
            "\u001b[34m\u001b[1mwandb\u001b[0m: \tbatch_norm: True\n",
            "\u001b[34m\u001b[1mwandb\u001b[0m: \tbatch_size: 100\n",
            "\u001b[34m\u001b[1mwandb\u001b[0m: \tdata_augmentation: True\n",
            "\u001b[34m\u001b[1mwandb\u001b[0m: \tdense_neuron_size: 128\n",
            "\u001b[34m\u001b[1mwandb\u001b[0m: \tdropdout_ratio: 0.4\n",
            "\u001b[34m\u001b[1mwandb\u001b[0m: \tepochs: 5\n",
            "\u001b[34m\u001b[1mwandb\u001b[0m: \tfilter_organization: 2\n",
            "\u001b[34m\u001b[1mwandb\u001b[0m: \tfilter_size: 7\n",
            "\u001b[34m\u001b[1mwandb\u001b[0m: \tlr: 0.0001\n",
            "\u001b[34m\u001b[1mwandb\u001b[0m: \tnum_of_filters: 64\n",
            "\u001b[34m\u001b[1mwandb\u001b[0m: \u001b[33mWARNING\u001b[0m Ignored wandb.init() arg project when running a sweep\n"
          ],
          "name": "stderr"
        },
        {
          "output_type": "display_data",
          "data": {
            "text/html": [
              "\n",
              "                Tracking run with wandb version 0.10.25<br/>\n",
              "                Syncing run <strong style=\"color:#cdcd00\">eternal-sweep-30</strong> to <a href=\"https://wandb.ai\" target=\"_blank\">Weights & Biases</a> <a href=\"https://docs.wandb.com/integrations/jupyter.html\" target=\"_blank\">(Documentation)</a>.<br/>\n",
              "                Project page: <a href=\"https://wandb.ai/theindianwriter/cs6910-assignment2-part_a\" target=\"_blank\">https://wandb.ai/theindianwriter/cs6910-assignment2-part_a</a><br/>\n",
              "                Sweep page: <a href=\"https://wandb.ai/theindianwriter/cs6910-assignment2-part_a/sweeps/fm8gabmx\" target=\"_blank\">https://wandb.ai/theindianwriter/cs6910-assignment2-part_a/sweeps/fm8gabmx</a><br/>\n",
              "Run page: <a href=\"https://wandb.ai/theindianwriter/cs6910-assignment2-part_a/runs/dkse6hmd\" target=\"_blank\">https://wandb.ai/theindianwriter/cs6910-assignment2-part_a/runs/dkse6hmd</a><br/>\n",
              "                Run data is saved locally in <code>/content/wandb/run-20210413_141231-dkse6hmd</code><br/><br/>\n",
              "            "
            ],
            "text/plain": [
              "<IPython.core.display.HTML object>"
            ]
          },
          "metadata": {
            "tags": []
          }
        },
        {
          "output_type": "stream",
          "text": [
            "Training on cuda\n",
            "----------------------IN EPOCH 1--------------------------------\n"
          ],
          "name": "stdout"
        }
      ]
    },
    {
      "cell_type": "code",
      "metadata": {
        "id": "ctPDYGtvwYMR"
      },
      "source": [
        "\n",
        "\n",
        "def test_model(model,test_loader,device,nb_classes):\n",
        "\n",
        "    from sklearn.metrics import confusion_matrix\n",
        "\n",
        "    predlist=torch.zeros(0,dtype=torch.long, device='cpu')\n",
        "    lbllist=torch.zeros(0,dtype=torch.long, device='cpu')\n",
        "    model.eval()\n",
        "    test_loss = 0\n",
        "    correct = 0\n",
        "    batch_id = 0\n",
        "    with torch.no_grad():\n",
        "        for data,target in test_loader:\n",
        "            batch_id += 1\n",
        "            data,target = data.to(device),target.to(device)\n",
        "            \n",
        "            output = model(data)\n",
        "            loss = loss_criteria(output,target)\n",
        "            test_loss += loss.item()\n",
        "            _,predicted = torch.max(output.data,1)\n",
        "\n",
        "            predlist=torch.cat([predlist,predicted.view(-1).cpu()])\n",
        "            lbllist=torch.cat([lbllist,target.view(-1).cpu()])\n",
        "\n",
        "            correct += torch.sum(target==predicted).item()\n",
        "\n",
        "\n",
        "    accuracy = (100*correct/ len(test_loader.dataset))\n",
        "\n",
        "    conf_mat=confusion_matrix(lbllist.numpy(), predlist.numpy())\n",
        "\n",
        "    class_accuracy=100*conf_mat.diagonal()/conf_mat.sum(1)\n",
        "\n",
        "    print(\"avg val loss is {:.6f} and accuracy is {:.2f}%\".format(test_loss/batch_id,accuracy))\n",
        "    return test_loss,accuracy,conf_mat,class_accuracy"
      ],
      "execution_count": 57,
      "outputs": []
    },
    {
      "cell_type": "code",
      "metadata": {
        "colab": {
          "base_uri": "https://localhost:8080/"
        },
        "id": "TRQxKQFSqD5H",
        "outputId": "b4b9b5c0-5f17-4a0f-d480-910afadabcfa"
      },
      "source": [
        "test_loader = load_dataset(new_test_folder_path,batch_size=200,is_test=True)\n",
        "test_loss,accuracy,conf_matrix,class_accuracy = test_model(model,test_loader,device,10)\n"
      ],
      "execution_count": 58,
      "outputs": [
        {
          "output_type": "stream",
          "text": [
            "avg val loss is 1.852087 and accuracy is 36.10%\n"
          ],
          "name": "stdout"
        }
      ]
    },
    {
      "cell_type": "code",
      "metadata": {
        "colab": {
          "base_uri": "https://localhost:8080/"
        },
        "id": "ndm0JWAEyOSe",
        "outputId": "ca493510-c7d2-4d83-e0c9-1b22ff6fafec"
      },
      "source": [
        "print(conf_matrix)\n",
        "print(class_accuracy)"
      ],
      "execution_count": 59,
      "outputs": [
        {
          "output_type": "stream",
          "text": [
            "[[ 46  11  15  23  15  18  38   7  12  15]\n",
            " [ 22  38   9  19  30   7  33  16  12  14]\n",
            " [ 17  15  83  20   8  15  16   5  13   8]\n",
            " [  2   3  15 109   1  10  43   4   7   6]\n",
            " [  8   9   8  10  82   5  29  17  26   6]\n",
            " [ 10   8  37  26   7  66  11  11  15   9]\n",
            " [  8   7   3  36   8   5 109   3   8  13]\n",
            " [ 24  19  17  11  29   6  33  45   5  11]\n",
            " [  6   4  18   8   9  12  29   4 105   5]\n",
            " [ 32  15  10  17  15  10  41   5  16  39]]\n",
            "[23.  19.  41.5 54.5 41.  33.  54.5 22.5 52.5 19.5]\n"
          ],
          "name": "stdout"
        }
      ]
    },
    {
      "cell_type": "code",
      "metadata": {
        "colab": {
          "base_uri": "https://localhost:8080/",
          "height": 254
        },
        "id": "LPv1wPK_sLSL",
        "outputId": "20c76374-6746-48d6-d0e3-0103d2696ee1"
      },
      "source": [
        "ax = sns.heatmap(conf_matrix/np.sum(conf_matrix), annot=True, fmt='.2%', cmap='Blues')\n",
        "plt.title('Heatmap of confusion matrix', fontsize = 20)\n",
        "plt.xlabel('Predicted', fontsize = 15)\n",
        "plt.ylabel('Actual', fontsize = 15) \n",
        "plt.rcParams[\"figure.figsize\"] = (30,4)\n",
        "plt.show()"
      ],
      "execution_count": 63,
      "outputs": [
        {
          "output_type": "display_data",
          "data": {
            "image/png": "[encoded data removed]",
            "text/plain": [
              "<Figure size 2160x288 with 2 Axes>"
            ]
          },
          "metadata": {
            "tags": [],
            "needs_background": "light"
          }
        }
      ]
    }
  ]
}
{
  "nbformat": 4,
  "nbformat_minor": 0,
  "metadata": {
    "colab": {
      "name": "DL assignment 2 Part A.ipynb",
      "provenance": [],
      "mount_file_id": "1yBwQxhZYw9UwQKB6m5B6UEjQDTjhCM-l",
      "authorship_tag": "ABX9TyMm21TXauv4eNdOrrbDY0TW",
      "include_colab_link": true
    },
    "kernelspec": {
      "name": "python3",
      "display_name": "Python 3"
    },
    "language_info": {
      "name": "python"
    }
  },
  "cells": [
    {
      "cell_type": "markdown",
      "metadata": {
        "id": "view-in-github",
        "colab_type": "text"
      },
      "source": [
        "<a href=\"https://colab.research.google.com/github/theindianwriter/CS6910-assignment_2/blob/main/DL_assignment_2_Part_A.ipynb\" target=\"_parent\"><img src=\"https://colab.research.google.com/assets/colab-badge.svg\" alt=\"Open In Colab\"/></a>"
      ]
    },
    {
      "cell_type": "code",
      "metadata": {
        "id": "0N1GggAe4er0"
      },
      "source": [
        "import numpy as np #for linear algebra operations\n",
        "import os\n",
        "import shutil\n",
        "import matplotlib.pyplot as plt\n",
        "from PIL import Image #for preprocessing the images"
      ],
      "execution_count": null,
      "outputs": []
    },
    {
      "cell_type": "code",
      "metadata": {
        "id": "4vIoRdcUHv4T"
      },
      "source": [
        "# PyTorch libraries\n",
        "import torch\n",
        "import torchvision\n",
        "import torchvision.transforms as transforms\n",
        "import torch.nn as nn\n",
        "import torch.optim as optim\n",
        "import torch.nn.functional as F"
      ],
      "execution_count": null,
      "outputs": []
    },
    {
      "cell_type": "code",
      "metadata": {
        "id": "VltGV369bGI6",
        "colab": {
          "base_uri": "https://localhost:8080/"
        },
        "outputId": "25eedafa-cb70-46eb-f31c-e7241c13dcfa"
      },
      "source": [
        "from google.colab import drive\n",
        "drive.mount('/content/drive')"
      ],
      "execution_count": null,
      "outputs": [
        {
          "output_type": "stream",
          "text": [
            "Drive already mounted at /content/drive; to attempt to forcibly remount, call drive.mount(\"/content/drive\", force_remount=True).\n"
          ],
          "name": "stdout"
        }
      ]
    },
    {
      "cell_type": "code",
      "metadata": {
        "id": "yh4zod8Yu57S"
      },
      "source": [
        "!unzip -uq \"/content/drive/My Drive/nature_12K.zip\" -d \"/content/drive/My Drive/\""
      ],
      "execution_count": null,
      "outputs": []
    },
    {
      "cell_type": "code",
      "metadata": {
        "id": "OnT3TkaIuWMh"
      },
      "source": [
        "training_folder_path = \"/content/drive/MyDrive/inaturalist_12K/train\""
      ],
      "execution_count": null,
      "outputs": []
    },
    {
      "cell_type": "code",
      "metadata": {
        "colab": {
          "base_uri": "https://localhost:8080/"
        },
        "id": "3Z77LxCosR_K",
        "outputId": "08f0ebc1-cf3f-431e-ef3c-11fed81b1c8d"
      },
      "source": [
        "#list down all the classes present in the dataset\n",
        "classes = sorted([folder_name  for folder_name in os.listdir(training_folder_path) if not folder_name.startswith('.')])\n",
        "print(classes)"
      ],
      "execution_count": null,
      "outputs": [
        {
          "output_type": "stream",
          "text": [
            "['Amphibia', 'Animalia', 'Arachnida', 'Aves', 'Fungi', 'Insecta', 'Mammalia', 'Mollusca', 'Plantae', 'Reptilia']\n"
          ],
          "name": "stdout"
        }
      ]
    },
    {
      "cell_type": "code",
      "metadata": {
        "id": "79Q1gzto7hcc"
      },
      "source": [
        "# function to resize image\n",
        "def resize_image(src_image, size=(128,128), bg_color=\"white\"): \n",
        "    #creating a thumbnail of the image of the given size preserving the aspect ratio\n",
        "    src_image.thumbnail(size)\n",
        "    #creating a background image \n",
        "    new_image = Image.new(\"RGB\", size, bg_color)\n",
        "    #pasting the src image into it \n",
        "    new_image.paste(src_image, (int((size[0] - src_image.size[0]) / 2), int((size[1] - src_image.size[1]) / 2)))\n",
        "    return new_image"
      ],
      "execution_count": null,
      "outputs": []
    },
    {
      "cell_type": "code",
      "metadata": {
        "colab": {
          "base_uri": "https://localhost:8080/"
        },
        "id": "LcNbZ1vvRNsr",
        "outputId": "33950cac-3f75-4316-a24f-d79ca9018a63"
      },
      "source": [
        "new_training_folder_path = \"/content/drive/MyDrive/Natural_Dataset/train\"\n",
        "image_size = (128,128)\n",
        "#if os.path.exists(new_training_folder_path):\n",
        "    #shutil.rmtree(new_training_folder_path)\n",
        "\n",
        "for root,folders,_ in os.walk(training_folder_name):\n",
        "    for folder in folders:\n",
        "        print(\"resizing the images and saving for the folder \",folder)\n",
        "        new_folder = os.path.join(new_training_folder_path,folder)\n",
        "\n",
        "        if not os.path.exists(new_folder):\n",
        "            #os.makedirs(new_folder)\n",
        "        \n",
        "        file_names = os.listdir(os.path.join(root,folder))\n",
        "        \n",
        "        for file_name in file_names:\n",
        "\n",
        "            file_path = os.path.join(root,folder,file_name)\n",
        "            image = Image.open(file_path)\n",
        "            resized_image = resize_image(image,image_size,\"black\")\n",
        "            save_as = os.path.join(new_folder,file_name)\n",
        "            resized_image.save(save_as)\n",
        "\n",
        "print(\"resizing and saving done\")\n",
        "\n",
        "        \n"
      ],
      "execution_count": null,
      "outputs": [
        {
          "output_type": "stream",
          "text": [
            "resizing the images and saving for the folder  Reptilia\n",
            "resizing the images and saving for the folder  Mammalia\n",
            "resizing the images and saving for the folder  Arachnida\n",
            "resizing the images and saving for the folder  Plantae\n",
            "resizing the images and saving for the folder  Aves\n",
            "resizing the images and saving for the folder  Amphibia\n",
            "resizing the images and saving for the folder  Insecta\n",
            "resizing the images and saving for the folder  Animalia\n",
            "resizing the images and saving for the folder  Mollusca\n",
            "resizing the images and saving for the folder  Fungi\n",
            "resizing and saving done\n"
          ],
          "name": "stdout"
        }
      ]
    },
    {
      "cell_type": "code",
      "metadata": {
        "id": "VzGaDYke3z3B"
      },
      "source": [
        "class Network(nn.Module):\n",
        "\n",
        "    def __init__(self,num_of_classes,filters,filter_size,activation_fn,stride_len = 1,padding_len = 1,max_pool_kernel_size = 2,dropdout_ratio = 0.0,dense_neuron_size):\n",
        "        super(Network,self).__init__()\n",
        "\n",
        "        self.activation_fn = activation_fn\n",
        "        self.dense_neuron_size = dense_neuron_size\n",
        "\n",
        "        self.conv1 = nn.Conv2d(in_channels = 3,out_channels = filters[0],kernel_size = filter_size[0],stride = stride_len,padding = padding_len)\n",
        "        self.conv2 = nn.Conv2d(in_channels = filters[0],out_channels = filters[1],kernel_size = filter_size[1],stride = stride_len,padding = padding_len)\n",
        "        self.conv3 = nn.Conv2d(in_channels = filters[1],out_channels = filters[2],kernel_size = filter_size[2],stride = stride_len,padding = padding_len)\n",
        "        self.conv4 = nn.Conv2d(in_channels = filters[2],out_channels = filters[3],kernel_size = filter_size[3],stride = stride_len,padding = padding_len)\n",
        "        self.conv5 = nn.Conv2d(in_channels = filters[3],out_channels = filters[4],kernel_size = filter_size[4],stride = stride_len,padding = padding_len)\n",
        "\n",
        "        self.pool = nn.MaxPool2d(kernel_size=max_pool_kernel_size)\n",
        "\n",
        "        self.drop = nn.Dropout2d(p=dropdout_ratio)\n",
        "\n",
        "        self.fc1 = nn.Linear(in_features = ,out_features = dense_neuron_size)\n",
        "        self.fc2 = nn.Linear(in_features = dense_neuron_size,out_features = num_of_classes)\n",
        "\n",
        "        def perform_activation(self,fn,x):\n",
        "            if fn == 'relu':\n",
        "                return F.relu(x)\n",
        "            elif fn == 'elu':\n",
        "                return F.elu(x)\n",
        "            elif fn == 'leaky_relu';\n",
        "                return F.leaky_relu(x)\n",
        "            elif fn == 'tanh':\n",
        "                return F.tanh(x)\n",
        "            elif fn == 'sigmoid':\n",
        "                return F.sigmoid(x)\n",
        "\n",
        "        def forward(self,x):\n",
        "\n",
        "            x = self.perform_activation(self.activation_fn[0],self.pool(self.conv1(x)))\n",
        "            x = self.perform_activation(self.activation_fn[1],self.pool(self.conv2(x)))\n",
        "            x = self.perform_activation(self.activation_fn[2],self.pool(self.conv3(x)))\n",
        "            x = self.perform_activation(self.activation_fn[3],self.pool(self.conv4(x)))\n",
        "            x = self.perform_activation(self.activation_fn[4],self.pool(self.conv5(x)))\n",
        "\n",
        "            x = F.dropout(self.drop(x), training=self.training)\n",
        "\n",
        "            x = x.view(-1, ...)\n",
        "\n",
        "            x = self.fc1(x)\n",
        "            x = self.fc2(x)\n",
        "            \n",
        "            return torch.log_softmax(x, dim=1)"
      ],
      "execution_count": null,
      "outputs": []
    }
  ]
}
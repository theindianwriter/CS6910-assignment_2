{
  "nbformat": 4,
  "nbformat_minor": 0,
  "metadata": {
    "colab": {
      "name": "DL assignment 2 Part A.ipynb",
      "provenance": [],
      "mount_file_id": "1yBwQxhZYw9UwQKB6m5B6UEjQDTjhCM-l",
      "authorship_tag": "ABX9TyNHEpEsyhszCHnXwb6xOG5O",
      "include_colab_link": true
    },
    "kernelspec": {
      "name": "python3",
      "display_name": "Python 3"
    },
    "language_info": {
      "name": "python"
    },
    "accelerator": "GPU",
    "widgets": {
      "application/vnd.jupyter.widget-state+json": {
        "b49f7963a0364e689dd360f15ede3f46": {
          "model_module": "@jupyter-widgets/controls",
          "model_name": "VBoxModel",
          "state": {
            "_view_name": "VBoxView",
            "_dom_classes": [],
            "_model_name": "VBoxModel",
            "_view_module": "@jupyter-widgets/controls",
            "_model_module_version": "1.5.0",
            "_view_count": null,
            "_view_module_version": "1.5.0",
            "box_style": "",
            "layout": "IPY_MODEL_f95f986558ec4d959af119bfa2477682",
            "_model_module": "@jupyter-widgets/controls",
            "children": [
              "IPY_MODEL_eaa73843c81b4913a13ff375acd1dc67",
              "IPY_MODEL_048e755f18454822bad43e51acfd58fc"
            ]
          }
        },
        "f95f986558ec4d959af119bfa2477682": {
          "model_module": "@jupyter-widgets/base",
          "model_name": "LayoutModel",
          "state": {
            "_view_name": "LayoutView",
            "grid_template_rows": null,
            "right": null,
            "justify_content": null,
            "_view_module": "@jupyter-widgets/base",
            "overflow": null,
            "_model_module_version": "1.2.0",
            "_view_count": null,
            "flex_flow": null,
            "width": null,
            "min_width": null,
            "border": null,
            "align_items": null,
            "bottom": null,
            "_model_module": "@jupyter-widgets/base",
            "top": null,
            "grid_column": null,
            "overflow_y": null,
            "overflow_x": null,
            "grid_auto_flow": null,
            "grid_area": null,
            "grid_template_columns": null,
            "flex": null,
            "_model_name": "LayoutModel",
            "justify_items": null,
            "grid_row": null,
            "max_height": null,
            "align_content": null,
            "visibility": null,
            "align_self": null,
            "height": null,
            "min_height": null,
            "padding": null,
            "grid_auto_rows": null,
            "grid_gap": null,
            "max_width": null,
            "order": null,
            "_view_module_version": "1.2.0",
            "grid_template_areas": null,
            "object_position": null,
            "object_fit": null,
            "grid_auto_columns": null,
            "margin": null,
            "display": null,
            "left": null
          }
        },
        "eaa73843c81b4913a13ff375acd1dc67": {
          "model_module": "@jupyter-widgets/controls",
          "model_name": "LabelModel",
          "state": {
            "_view_name": "LabelView",
            "style": "IPY_MODEL_6e3bca7e1f294a37934638a8766b05df",
            "_dom_classes": [],
            "description": "",
            "_model_name": "LabelModel",
            "placeholder": "​",
            "_view_module": "@jupyter-widgets/controls",
            "_model_module_version": "1.5.0",
            "value": " 0.01MB of 0.01MB uploaded (0.00MB deduped)\r",
            "_view_count": null,
            "_view_module_version": "1.5.0",
            "description_tooltip": null,
            "_model_module": "@jupyter-widgets/controls",
            "layout": "IPY_MODEL_552c0932304c4289a0ea844a7d7f5924"
          }
        },
        "048e755f18454822bad43e51acfd58fc": {
          "model_module": "@jupyter-widgets/controls",
          "model_name": "FloatProgressModel",
          "state": {
            "_view_name": "ProgressView",
            "style": "IPY_MODEL_04754c8a5c64427abe890004a35c128d",
            "_dom_classes": [],
            "description": "",
            "_model_name": "FloatProgressModel",
            "bar_style": "",
            "max": 1,
            "_view_module": "@jupyter-widgets/controls",
            "_model_module_version": "1.5.0",
            "value": 1,
            "_view_count": null,
            "_view_module_version": "1.5.0",
            "orientation": "horizontal",
            "min": 0,
            "description_tooltip": null,
            "_model_module": "@jupyter-widgets/controls",
            "layout": "IPY_MODEL_d9f644b67f5e4422a0d1956f37ae1d58"
          }
        },
        "6e3bca7e1f294a37934638a8766b05df": {
          "model_module": "@jupyter-widgets/controls",
          "model_name": "DescriptionStyleModel",
          "state": {
            "_view_name": "StyleView",
            "_model_name": "DescriptionStyleModel",
            "description_width": "",
            "_view_module": "@jupyter-widgets/base",
            "_model_module_version": "1.5.0",
            "_view_count": null,
            "_view_module_version": "1.2.0",
            "_model_module": "@jupyter-widgets/controls"
          }
        },
        "552c0932304c4289a0ea844a7d7f5924": {
          "model_module": "@jupyter-widgets/base",
          "model_name": "LayoutModel",
          "state": {
            "_view_name": "LayoutView",
            "grid_template_rows": null,
            "right": null,
            "justify_content": null,
            "_view_module": "@jupyter-widgets/base",
            "overflow": null,
            "_model_module_version": "1.2.0",
            "_view_count": null,
            "flex_flow": null,
            "width": null,
            "min_width": null,
            "border": null,
            "align_items": null,
            "bottom": null,
            "_model_module": "@jupyter-widgets/base",
            "top": null,
            "grid_column": null,
            "overflow_y": null,
            "overflow_x": null,
            "grid_auto_flow": null,
            "grid_area": null,
            "grid_template_columns": null,
            "flex": null,
            "_model_name": "LayoutModel",
            "justify_items": null,
            "grid_row": null,
            "max_height": null,
            "align_content": null,
            "visibility": null,
            "align_self": null,
            "height": null,
            "min_height": null,
            "padding": null,
            "grid_auto_rows": null,
            "grid_gap": null,
            "max_width": null,
            "order": null,
            "_view_module_version": "1.2.0",
            "grid_template_areas": null,
            "object_position": null,
            "object_fit": null,
            "grid_auto_columns": null,
            "margin": null,
            "display": null,
            "left": null
          }
        },
        "04754c8a5c64427abe890004a35c128d": {
          "model_module": "@jupyter-widgets/controls",
          "model_name": "ProgressStyleModel",
          "state": {
            "_view_name": "StyleView",
            "_model_name": "ProgressStyleModel",
            "description_width": "",
            "_view_module": "@jupyter-widgets/base",
            "_model_module_version": "1.5.0",
            "_view_count": null,
            "_view_module_version": "1.2.0",
            "bar_color": null,
            "_model_module": "@jupyter-widgets/controls"
          }
        },
        "d9f644b67f5e4422a0d1956f37ae1d58": {
          "model_module": "@jupyter-widgets/base",
          "model_name": "LayoutModel",
          "state": {
            "_view_name": "LayoutView",
            "grid_template_rows": null,
            "right": null,
            "justify_content": null,
            "_view_module": "@jupyter-widgets/base",
            "overflow": null,
            "_model_module_version": "1.2.0",
            "_view_count": null,
            "flex_flow": null,
            "width": null,
            "min_width": null,
            "border": null,
            "align_items": null,
            "bottom": null,
            "_model_module": "@jupyter-widgets/base",
            "top": null,
            "grid_column": null,
            "overflow_y": null,
            "overflow_x": null,
            "grid_auto_flow": null,
            "grid_area": null,
            "grid_template_columns": null,
            "flex": null,
            "_model_name": "LayoutModel",
            "justify_items": null,
            "grid_row": null,
            "max_height": null,
            "align_content": null,
            "visibility": null,
            "align_self": null,
            "height": null,
            "min_height": null,
            "padding": null,
            "grid_auto_rows": null,
            "grid_gap": null,
            "max_width": null,
            "order": null,
            "_view_module_version": "1.2.0",
            "grid_template_areas": null,
            "object_position": null,
            "object_fit": null,
            "grid_auto_columns": null,
            "margin": null,
            "display": null,
            "left": null
          }
        }
      }
    }
  },
  "cells": [
    {
      "cell_type": "markdown",
      "metadata": {
        "id": "view-in-github",
        "colab_type": "text"
      },
      "source": [
        "<a href=\"https://colab.research.google.com/github/theindianwriter/CS6910-assignment_2/blob/main/DL_assignment_2_Part_A.ipynb\" target=\"_parent\"><img src=\"https://colab.research.google.com/assets/colab-badge.svg\" alt=\"Open In Colab\"/></a>"
      ]
    },
    {
      "cell_type": "code",
      "metadata": {
        "id": "0N1GggAe4er0"
      },
      "source": [
        "import numpy as np #for linear algebra operations\n",
        "import os\n",
        "import shutil\n",
        "import matplotlib.pyplot as plt\n",
        "from PIL import Image #for preprocessing the images"
      ],
      "execution_count": 3,
      "outputs": []
    },
    {
      "cell_type": "code",
      "metadata": {
        "id": "4vIoRdcUHv4T"
      },
      "source": [
        "# PyTorch libraries\n",
        "import torch\n",
        "import torchvision\n",
        "import torchvision.transforms as transforms\n",
        "import torch.nn as nn\n",
        "import torch.optim as optim\n",
        "import torch.nn.functional as F"
      ],
      "execution_count": 4,
      "outputs": []
    },
    {
      "cell_type": "code",
      "metadata": {
        "id": "hBY4eeZl7YAE",
        "colab": {
          "base_uri": "https://localhost:8080/"
        },
        "outputId": "f0fecbcb-2885-45b6-c5c1-5c4ba0655bc7"
      },
      "source": [
        "!pip install wandb -qqq\n",
        "import wandb\n",
        "wandb.login()"
      ],
      "execution_count": 5,
      "outputs": [
        {
          "output_type": "stream",
          "text": [
            "\u001b[34m\u001b[1mwandb\u001b[0m: Currently logged in as: \u001b[33mtheindianwriter\u001b[0m (use `wandb login --relogin` to force relogin)\n"
          ],
          "name": "stderr"
        },
        {
          "output_type": "execute_result",
          "data": {
            "text/plain": [
              "True"
            ]
          },
          "metadata": {
            "tags": []
          },
          "execution_count": 5
        }
      ]
    },
    {
      "cell_type": "code",
      "metadata": {
        "id": "e-Hsrl6xvjPG"
      },
      "source": [
        "#enabling gpu \n",
        "device = \"cpu\"\n",
        "if (torch.cuda.is_available()):\n",
        "    device = \"cuda\""
      ],
      "execution_count": 6,
      "outputs": []
    },
    {
      "cell_type": "code",
      "metadata": {
        "id": "VltGV369bGI6",
        "colab": {
          "base_uri": "https://localhost:8080/"
        },
        "outputId": "4cbb677f-15b0-4564-b113-579262dafffa"
      },
      "source": [
        "from google.colab import drive\n",
        "drive.mount('/content/drive')"
      ],
      "execution_count": 16,
      "outputs": [
        {
          "output_type": "stream",
          "text": [
            "Drive already mounted at /content/drive; to attempt to forcibly remount, call drive.mount(\"/content/drive\", force_remount=True).\n"
          ],
          "name": "stdout"
        }
      ]
    },
    {
      "cell_type": "code",
      "metadata": {
        "id": "yh4zod8Yu57S"
      },
      "source": [
        "!unzip -uq \"/content/drive/My Drive/nature_12K.zip\" -d \"/content/drive/My Drive/\""
      ],
      "execution_count": null,
      "outputs": []
    },
    {
      "cell_type": "code",
      "metadata": {
        "id": "OnT3TkaIuWMh"
      },
      "source": [
        "training_folder_path = \"/content/drive/MyDrive/inaturalist_12K/train\""
      ],
      "execution_count": 17,
      "outputs": []
    },
    {
      "cell_type": "code",
      "metadata": {
        "colab": {
          "base_uri": "https://localhost:8080/"
        },
        "id": "3Z77LxCosR_K",
        "outputId": "7dedd357-1f07-4ed3-f135-aaefd290d3ab"
      },
      "source": [
        "#list down all the classes present in the dataset\n",
        "classes = sorted([folder_name  for folder_name in os.listdir(training_folder_path) if not folder_name.startswith('.')])\n",
        "print(classes)"
      ],
      "execution_count": 18,
      "outputs": [
        {
          "output_type": "stream",
          "text": [
            "['Amphibia', 'Animalia', 'Arachnida', 'Aves', 'Fungi', 'Insecta', 'Mammalia', 'Mollusca', 'Plantae', 'Reptilia']\n"
          ],
          "name": "stdout"
        }
      ]
    },
    {
      "cell_type": "code",
      "metadata": {
        "id": "79Q1gzto7hcc"
      },
      "source": [
        "# function to resize image\n",
        "def resize_image(src_image, size=(128,128), bg_color=\"white\"): \n",
        "    #creating a thumbnail of the image of the given size preserving the aspect ratio\n",
        "    src_image.thumbnail(size,Image.ANTIALIAS)\n",
        "    #creating a background image \n",
        "    new_image = Image.new(\"RGB\", size, bg_color)\n",
        "    #pasting the src image into it \n",
        "    new_image.paste(src_image, (int((size[0] - src_image.size[0]) / 2), int((size[1] - src_image.size[1]) / 2)))\n",
        "    return new_image"
      ],
      "execution_count": 19,
      "outputs": []
    },
    {
      "cell_type": "code",
      "metadata": {
        "id": "DT3LCHBVu9Zp"
      },
      "source": [
        "new_training_folder_path = \"../Natural_Dataset/train\""
      ],
      "execution_count": 7,
      "outputs": []
    },
    {
      "cell_type": "code",
      "metadata": {
        "colab": {
          "base_uri": "https://localhost:8080/"
        },
        "id": "LcNbZ1vvRNsr",
        "outputId": "142484a9-1ec9-45dc-b6c0-f665cbff1cfd"
      },
      "source": [
        "image_size = (128,128)\n",
        "\n",
        "if os.path.exists(new_training_folder_path):\n",
        "    #shutil.rmtree(new_training_folder_path)\n",
        "\n",
        "for root,folders,_ in os.walk(training_folder_path):\n",
        "    for folder in folders:\n",
        "        print(\"resizing the images and saving for the folder \",folder)\n",
        "        new_folder = os.path.join(new_training_folder_path,folder)\n",
        "\n",
        "        if not os.path.exists(new_folder):\n",
        "            os.makedirs(new_folder)\n",
        "        \n",
        "        file_names = os.listdir(os.path.join(root,folder))\n",
        "        \n",
        "        for file_name in file_names:\n",
        "            if file_name.startswith('.'):\n",
        "                continue\n",
        "            file_path = os.path.join(root,folder,file_name)\n",
        "            image = Image.open(file_path)\n",
        "            resized_image = resize_image(image,image_size,\"black\")\n",
        "            save_as = os.path.join(new_folder,file_name)\n",
        "            resized_image.save(save_as)\n",
        "\n",
        "print(\"resizing and saving done\")\n",
        "\n",
        "        \n"
      ],
      "execution_count": 21,
      "outputs": [
        {
          "output_type": "stream",
          "text": [
            "resizing the images and saving for the folder  Reptilia\n",
            "resizing the images and saving for the folder  Mammalia\n",
            "resizing the images and saving for the folder  Arachnida\n",
            "resizing the images and saving for the folder  Plantae\n",
            "resizing the images and saving for the folder  Aves\n",
            "resizing the images and saving for the folder  Amphibia\n",
            "resizing the images and saving for the folder  Insecta\n",
            "resizing the images and saving for the folder  Animalia\n",
            "resizing the images and saving for the folder  Mollusca\n",
            "resizing the images and saving for the folder  Fungi\n",
            "resizing and saving done\n"
          ],
          "name": "stdout"
        }
      ]
    },
    {
      "cell_type": "code",
      "metadata": {
        "id": "ckAjSb-Prbw9"
      },
      "source": [
        "mean = [0.5,0.5,0.5]\n",
        "std = [0.5,0.5,0.5]\n",
        "\n",
        "def load_dataset(dataset_path,data_augmentation = False,batch_size = 50):\n",
        "    if data_augmentation:\n",
        "        transformation = transforms.Compose([\n",
        "            transforms.RandomHorizontalFlip(0.5),\n",
        "            transforms.RandomVerticalFlip(0.3),\n",
        "            transforms.ToTensor(),\n",
        "        # Normalize the pixel values (in R, G, and B channels)\n",
        "            transforms.Normalize(mean=mean, std=std)\n",
        "        ])\n",
        "    else:\n",
        "        transformation = transforms.Compose([\n",
        "            transforms.ToTensor(),\n",
        "            transforms.Normalize(mean=mean,std = std)                               \n",
        "        ])\n",
        "\n",
        "    full_dataset = torchvision.datasets.ImageFolder(\n",
        "        root=dataset_path,\n",
        "        transform=transformation\n",
        "    )\n",
        "\n",
        "    train_size = int(0.9 * len(full_dataset))\n",
        "    test_size = len(full_dataset) - train_size\n",
        "\n",
        "    train_dataset, test_dataset = torch.utils.data.random_split(full_dataset, [train_size, test_size])\n",
        "\n",
        "    train_loader = torch.utils.data.DataLoader(\n",
        "        train_dataset,\n",
        "        batch_size=batch_size,\n",
        "        num_workers=0,\n",
        "        shuffle=False\n",
        "    )\n",
        "\n",
        "    test_loader = torch.utils.data.DataLoader(\n",
        "        test_dataset,\n",
        "        batch_size=batch_size,\n",
        "        num_workers=0,\n",
        "        shuffle=False\n",
        "    )\n",
        "    return train_loader,test_loader"
      ],
      "execution_count": 8,
      "outputs": []
    },
    {
      "cell_type": "code",
      "metadata": {
        "colab": {
          "base_uri": "https://localhost:8080/"
        },
        "id": "vh2IRxw8v5TR",
        "outputId": "93e96e7e-51bf-42e2-e9b0-a7772688d83d"
      },
      "source": [
        "print(device)"
      ],
      "execution_count": 9,
      "outputs": [
        {
          "output_type": "stream",
          "text": [
            "cuda\n"
          ],
          "name": "stdout"
        }
      ]
    },
    {
      "cell_type": "code",
      "metadata": {
        "id": "VzGaDYke3z3B"
      },
      "source": [
        "class Network(nn.Module):\n",
        "\n",
        "    def __init__(self,num_of_classes,filters,filter_size,activation_fn,stride_len = 1,padding_len = 1,max_pool_kernel_size = 2,max_pool_stride_len = 2,dropdout_ratio = 0.0,dense_neuron_size = 20000,img_size = (128,128)):\n",
        "        super(Network,self).__init__()\n",
        "\n",
        "        self.activation_fn = activation_fn\n",
        "        \n",
        "\n",
        "        Out_dim_H = img_size[0]\n",
        "        Out_dim_W = img_size[1]\n",
        "\n",
        "        for F in filter_size:\n",
        "            Out_dim_H =  int(((Out_dim_H - F + 2*padding_len)/stride_len)) + 1\n",
        "            Out_dim_W =  int(((Out_dim_W - F + 2*padding_len)/stride_len)) + 1\n",
        "            Out_dim_H =  int(((Out_dim_H - max_pool_kernel_size)/max_pool_stride_len))+ 1\n",
        "            Out_dim_W =  int(((Out_dim_W - max_pool_kernel_size)/max_pool_stride_len)) + 1\n",
        "\n",
        "\n",
        "        self.conv1 = nn.Conv2d(in_channels = 3,out_channels = filters[0],kernel_size = filter_size[0],stride = stride_len,padding = padding_len)\n",
        "        self.conv2 = nn.Conv2d(in_channels = filters[0],out_channels = filters[1],kernel_size = filter_size[1],stride = stride_len,padding = padding_len)\n",
        "        self.conv3 = nn.Conv2d(in_channels = filters[1],out_channels = filters[2],kernel_size = filter_size[2],stride = stride_len,padding = padding_len)\n",
        "        self.conv4 = nn.Conv2d(in_channels = filters[2],out_channels = filters[3],kernel_size = filter_size[3],stride = stride_len,padding = padding_len)\n",
        "        self.conv5 = nn.Conv2d(in_channels = filters[3],out_channels = filters[4],kernel_size = filter_size[4],stride = stride_len,padding = padding_len)\n",
        "\n",
        "        self.pool = nn.MaxPool2d(kernel_size=max_pool_kernel_size,stride = max_pool_stride_len)\n",
        "\n",
        "        self.drop = nn.Dropout2d(p=dropdout_ratio)\n",
        "\n",
        "\n",
        "        self.post_conv_output_len = Out_dim_H*Out_dim_W*filters[4]\n",
        "        #fully connected layer\n",
        "        self.fc1 = nn.Linear(in_features = Out_dim_H*Out_dim_W*filters[4],out_features = dense_neuron_size)\n",
        "        self.fc2 = nn.Linear(in_features = dense_neuron_size,out_features = num_of_classes)\n",
        "\n",
        "\n",
        "\n",
        "    def perform_activation(self,fn,x):\n",
        "        if fn == 'relu':\n",
        "            return F.relu(x)\n",
        "        elif fn == 'elu':\n",
        "            return F.elu(x)\n",
        "        elif fn == 'leaky_relu':\n",
        "            return F.leaky_relu(x)\n",
        "        elif fn == 'tanh':\n",
        "            return F.tanh(x)\n",
        "        elif fn == 'sigmoid':\n",
        "            return F.sigmoid(x)\n",
        "\n",
        "    def forward(self,x):\n",
        "\n",
        "        x = self.perform_activation(self.activation_fn[0],self.pool(self.conv1(x)))\n",
        "        x = self.perform_activation(self.activation_fn[1],self.pool(self.conv2(x)))\n",
        "        x = self.perform_activation(self.activation_fn[2],self.pool(self.conv3(x)))\n",
        "        x = self.perform_activation(self.activation_fn[3],self.pool(self.conv4(x)))\n",
        "        x = self.perform_activation(self.activation_fn[4],self.pool(self.conv5(x)))\n",
        "\n",
        "        x = F.dropout(self.drop(x), training=self.training)\n",
        "\n",
        "        x = x.view(-1, self.post_conv_output_len)\n",
        "\n",
        "        x = F.relu(self.fc1(x))\n",
        "        x = self.fc2(x)\n",
        "            \n",
        "        return torch.log_softmax(x, dim=1)"
      ],
      "execution_count": 10,
      "outputs": []
    },
    {
      "cell_type": "code",
      "metadata": {
        "id": "BdV_WNLR02JV"
      },
      "source": [
        "def train(model,train_loader,optimizer,epoch,device):\n",
        "\n",
        "    model.train()\n",
        "    training_loss = 0\n",
        "    batch_id = 0\n",
        "    print(\"----------------------IN EPOCH {}--------------------------------\".format(epoch))\n",
        "    for data,target in train_loader:\n",
        "        batch_id += 1\n",
        "        data,target = data.to(device),target.to(device)\n",
        "\n",
        "        output = model(data)\n",
        "\n",
        "        loss = loss_criteria(output,target)\n",
        "        training_loss += loss.item()\n",
        "\n",
        "        loss.backward()\n",
        "        optimizer.step()\n",
        "\n",
        "    print(\"avg training loss is {:.6f}\".format(training_loss/batch_id))\n",
        "    return training_loss\n"
      ],
      "execution_count": 11,
      "outputs": []
    },
    {
      "cell_type": "code",
      "metadata": {
        "id": "JpzIZ4EOknEu"
      },
      "source": [
        "def test(model,test_loader,device):\n",
        "    model.eval()\n",
        "    test_loss = 0\n",
        "    correct = 0\n",
        "    batch_id = 0\n",
        "    with torch.no_grad():\n",
        "        for data,target in test_loader:\n",
        "            batch_id += 1\n",
        "            data,target = data.to(device),target.to(device)\n",
        "            output = model(data)\n",
        "            loss = loss_criteria(output,target)\n",
        "            test_loss += loss.item()\n",
        "            _,predicted = torch.max(output.data,1)\n",
        "            correct += torch.sum(target==predicted).item()\n",
        "    accuracy = 100*correct/ len(test_loader.dataset)\n",
        "    print(\"avg val loss is {:.6f} and accuracy is {:.2f}%\".format(test_loss/batch_id,accuracy))\n",
        "    return test_loss,accuracy\n",
        "\n",
        "    \n"
      ],
      "execution_count": 12,
      "outputs": []
    },
    {
      "cell_type": "code",
      "metadata": {
        "colab": {
          "base_uri": "https://localhost:8080/"
        },
        "id": "OhCEzU1ZrTOX",
        "outputId": "14cce920-0636-42c1-a69b-8936cbb3ba32"
      },
      "source": [
        "\n",
        "model = Network(num_of_classes=10,filters = [16,32,64,128,256],filter_size = [3,3,3,3,3],activation_fn=['relu','relu','relu','relu','relu'],dropdout_ratio = 0.3,dense_neuron_size = 500).to(device)\n",
        "optimizer = optim.Adam(model.parameters(), lr=0.00005)\n",
        "\n",
        "loss_criteria = nn.CrossEntropyLoss()\n",
        "train_loader,val_loader = load_dataset(new_training_folder_path,True,200)\n",
        "epochs = 10\n",
        "print('Training on', device)\n",
        "for epoch in range(1, epochs + 1):\n",
        "        train_loss = train(model, train_loader, optimizer,epoch,device)\n",
        "        test_loss = test(model, val_loader,device)\n",
        "        "
      ],
      "execution_count": 59,
      "outputs": [
        {
          "output_type": "stream",
          "text": [
            "Training on cuda\n",
            "----------------------IN EPOCH 1--------------------------------\n",
            "avg training loss is 2.302326\n",
            "avg val loss is 2.298337 and accuracy is 14.60%\n",
            "----------------------IN EPOCH 2--------------------------------\n",
            "avg training loss is 2.282254\n",
            "avg val loss is 2.314365 and accuracy is 11.80%\n",
            "----------------------IN EPOCH 3--------------------------------\n",
            "avg training loss is 2.312177\n",
            "avg val loss is 2.303867 and accuracy is 11.00%\n",
            "----------------------IN EPOCH 4--------------------------------\n",
            "avg training loss is 2.304247\n",
            "avg val loss is 2.302002 and accuracy is 11.40%\n",
            "----------------------IN EPOCH 5--------------------------------\n",
            "avg training loss is 2.302029\n",
            "avg val loss is 2.300619 and accuracy is 8.90%\n",
            "----------------------IN EPOCH 6--------------------------------\n",
            "avg training loss is 2.299365\n",
            "avg val loss is 2.291414 and accuracy is 12.60%\n",
            "----------------------IN EPOCH 7--------------------------------\n",
            "avg training loss is 2.292457\n",
            "avg val loss is 2.265293 and accuracy is 15.30%\n",
            "----------------------IN EPOCH 8--------------------------------\n",
            "avg training loss is 2.289847\n",
            "avg val loss is 2.278552 and accuracy is 14.70%\n",
            "----------------------IN EPOCH 9--------------------------------\n",
            "avg training loss is 2.289643\n",
            "avg val loss is 2.281594 and accuracy is 14.30%\n",
            "----------------------IN EPOCH 10--------------------------------\n",
            "avg training loss is 2.282897\n",
            "avg val loss is 2.266554 and accuracy is 15.90%\n"
          ],
          "name": "stdout"
        }
      ]
    },
    {
      "cell_type": "code",
      "metadata": {
        "id": "jpjCFt8b7wHk",
        "colab": {
          "base_uri": "https://localhost:8080/",
          "height": 736,
          "referenced_widgets": [
            "b49f7963a0364e689dd360f15ede3f46",
            "f95f986558ec4d959af119bfa2477682",
            "eaa73843c81b4913a13ff375acd1dc67",
            "048e755f18454822bad43e51acfd58fc",
            "6e3bca7e1f294a37934638a8766b05df",
            "552c0932304c4289a0ea844a7d7f5924",
            "04754c8a5c64427abe890004a35c128d",
            "d9f644b67f5e4422a0d1956f37ae1d58"
          ]
        },
        "outputId": "46293636-f894-4f1a-c8c2-0f3f6f294fff"
      },
      "source": [
        "defaults = dict(\n",
        "  num_of_filter = 16,\n",
        "  filter_size = 3,\n",
        "  filter_organization = 2,\n",
        "  activation_fn='relu',\n",
        "  dropout_ratio = 0.3,\n",
        "  dense_neuron_size = 64,\n",
        "  lr = 0.0001,\n",
        "  batch_size = 100,\n",
        "  epochs = 10,\n",
        "  data_augmentation = True\n",
        ")\n",
        "\n",
        "wandb.init(project=\"cs6910-assignment2\",config = defaults)\n",
        "config = wandb.config"
      ],
      "execution_count": 23,
      "outputs": [
        {
          "output_type": "display_data",
          "data": {
            "text/html": [
              "Finishing last run (ID:1ulzy9lt) before initializing another..."
            ],
            "text/plain": [
              "<IPython.core.display.HTML object>"
            ]
          },
          "metadata": {
            "tags": []
          }
        },
        {
          "output_type": "display_data",
          "data": {
            "text/html": [
              "<br/>Waiting for W&B process to finish, PID 2539<br/>Program ended successfully."
            ],
            "text/plain": [
              "<IPython.core.display.HTML object>"
            ]
          },
          "metadata": {
            "tags": []
          }
        },
        {
          "output_type": "display_data",
          "data": {
            "application/vnd.jupyter.widget-view+json": {
              "model_id": "b49f7963a0364e689dd360f15ede3f46",
              "version_minor": 0,
              "version_major": 2
            },
            "text/plain": [
              "VBox(children=(Label(value=' 0.00MB of 0.00MB uploaded (0.00MB deduped)\\r'), FloatProgress(value=1.0, max=1.0)…"
            ]
          },
          "metadata": {
            "tags": []
          }
        },
        {
          "output_type": "display_data",
          "data": {
            "text/html": [
              "Find user logs for this run at: <code>/content/wandb/run-20210411_195931-1ulzy9lt/logs/debug.log</code>"
            ],
            "text/plain": [
              "<IPython.core.display.HTML object>"
            ]
          },
          "metadata": {
            "tags": []
          }
        },
        {
          "output_type": "display_data",
          "data": {
            "text/html": [
              "Find internal logs for this run at: <code>/content/wandb/run-20210411_195931-1ulzy9lt/logs/debug-internal.log</code>"
            ],
            "text/plain": [
              "<IPython.core.display.HTML object>"
            ]
          },
          "metadata": {
            "tags": []
          }
        },
        {
          "output_type": "display_data",
          "data": {
            "text/html": [
              "<h3>Run summary:</h3><br/><style>\n",
              "    table.wandb td:nth-child(1) { padding: 0 10px; text-align: right }\n",
              "    </style><table class=\"wandb\">\n",
              "<tr><td>epoch</td><td>10</td></tr><tr><td>accuracy</td><td>11.6</td></tr><tr><td>training loss</td><td>41.34839</td></tr><tr><td>validation loss</td><td>4.56385</td></tr><tr><td>_runtime</td><td>229</td></tr><tr><td>_timestamp</td><td>1618171404</td></tr><tr><td>_step</td><td>9</td></tr></table>"
            ],
            "text/plain": [
              "<IPython.core.display.HTML object>"
            ]
          },
          "metadata": {
            "tags": []
          }
        },
        {
          "output_type": "display_data",
          "data": {
            "text/html": [
              "<h3>Run history:</h3><br/><style>\n",
              "    table.wandb td:nth-child(1) { padding: 0 10px; text-align: right }\n",
              "    </style><table class=\"wandb\">\n",
              "<tr><td>epoch</td><td>▁▂▃▃▄▅▆▆▇█</td></tr><tr><td>accuracy</td><td>▃▁█▂▄▃▃▅▃▃</td></tr><tr><td>training loss</td><td>▅▁█▅▄▄▃▃▄▄</td></tr><tr><td>validation loss</td><td>▃█▃▄▄▃▁▃▃▂</td></tr><tr><td>_runtime</td><td>▁▂▃▃▄▅▆▆▇█</td></tr><tr><td>_timestamp</td><td>▁▂▃▃▄▅▆▆▇█</td></tr><tr><td>_step</td><td>▁▂▃▃▄▅▆▆▇█</td></tr></table><br/>"
            ],
            "text/plain": [
              "<IPython.core.display.HTML object>"
            ]
          },
          "metadata": {
            "tags": []
          }
        },
        {
          "output_type": "display_data",
          "data": {
            "text/html": [
              "Synced 5 W&B file(s), 0 media file(s), 0 artifact file(s) and 0 other file(s)"
            ],
            "text/plain": [
              "<IPython.core.display.HTML object>"
            ]
          },
          "metadata": {
            "tags": []
          }
        },
        {
          "output_type": "display_data",
          "data": {
            "text/html": [
              "\n",
              "                    <br/>Synced <strong style=\"color:#cdcd00\">polished-cosmos-6</strong>: <a href=\"https://wandb.ai/theindianwriter/cs6910-assignment2/runs/1ulzy9lt\" target=\"_blank\">https://wandb.ai/theindianwriter/cs6910-assignment2/runs/1ulzy9lt</a><br/>\n",
              "                "
            ],
            "text/plain": [
              "<IPython.core.display.HTML object>"
            ]
          },
          "metadata": {
            "tags": []
          }
        },
        {
          "output_type": "display_data",
          "data": {
            "text/html": [
              "...Successfully finished last run (ID:1ulzy9lt). Initializing new run:<br/><br/>"
            ],
            "text/plain": [
              "<IPython.core.display.HTML object>"
            ]
          },
          "metadata": {
            "tags": []
          }
        },
        {
          "output_type": "display_data",
          "data": {
            "text/html": [
              "\n",
              "                Tracking run with wandb version 0.10.25<br/>\n",
              "                Syncing run <strong style=\"color:#cdcd00\">deep-morning-7</strong> to <a href=\"https://wandb.ai\" target=\"_blank\">Weights & Biases</a> <a href=\"https://docs.wandb.com/integrations/jupyter.html\" target=\"_blank\">(Documentation)</a>.<br/>\n",
              "                Project page: <a href=\"https://wandb.ai/theindianwriter/cs6910-assignment2\" target=\"_blank\">https://wandb.ai/theindianwriter/cs6910-assignment2</a><br/>\n",
              "                Run page: <a href=\"https://wandb.ai/theindianwriter/cs6910-assignment2/runs/19as7gd1\" target=\"_blank\">https://wandb.ai/theindianwriter/cs6910-assignment2/runs/19as7gd1</a><br/>\n",
              "                Run data is saved locally in <code>/content/wandb/run-20210411_200431-19as7gd1</code><br/><br/>\n",
              "            "
            ],
            "text/plain": [
              "<IPython.core.display.HTML object>"
            ]
          },
          "metadata": {
            "tags": []
          }
        }
      ]
    },
    {
      "cell_type": "code",
      "metadata": {
        "id": "5YMo9_Kp8gNY",
        "colab": {
          "base_uri": "https://localhost:8080/"
        },
        "outputId": "e07def04-81ee-472e-d8b0-eb0016fa6e10"
      },
      "source": [
        "filters = []\n",
        "filter_size = []\n",
        "activation_fn = []  \n",
        "rate = 1\n",
        "for i in range(5):\n",
        "    activation_fn.append(config.activation_fn)\n",
        "    filter_size.append(config.filter_size)\n",
        "    filters.append(config.num_of_filter*rate)\n",
        "    rate *= config.filter_organization\n",
        "\n",
        "model = Network(num_of_classes=10,filters = filters,filter_size = filter_size,activation_fn=activation_fn,dropdout_ratio = config.dropout_ratio,dense_neuron_size = config.dense_neuron_size).to(device)\n",
        "optimizer = optim.Adam(model.parameters(), lr=config.lr)\n",
        "\n",
        "loss_criteria = nn.CrossEntropyLoss()\n",
        "train_loader,val_loader = load_dataset(new_training_folder_path,config.data_augmentation,config.batch_size)\n",
        "epochs = config.epochs\n",
        "print('Training on', device)\n",
        "for epoch in range(1, epochs + 1):\n",
        "        train_loss = train(model, train_loader, optimizer,epoch,device)\n",
        "        val_loss,accuracy = test(model, val_loader,device)\n",
        "        wandb.log({\"epoch\": epoch,\"accuracy\" : accuracy,\"training loss\":train_loss,\"validation loss\": val_loss })"
      ],
      "execution_count": 24,
      "outputs": [
        {
          "output_type": "stream",
          "text": [
            "Training on cuda\n",
            "----------------------IN EPOCH 1--------------------------------\n",
            "avg training loss is 2.293269\n",
            "avg val loss is 2.295170 and accuracy is 11.70%\n",
            "----------------------IN EPOCH 2--------------------------------\n",
            "avg training loss is 2.300692\n",
            "avg val loss is 2.302420 and accuracy is 9.70%\n",
            "----------------------IN EPOCH 3--------------------------------\n",
            "avg training loss is 2.299068\n",
            "avg val loss is 2.305819 and accuracy is 9.70%\n",
            "----------------------IN EPOCH 4--------------------------------\n",
            "avg training loss is 2.304449\n",
            "avg val loss is 2.300377 and accuracy is 10.90%\n",
            "----------------------IN EPOCH 5--------------------------------\n",
            "avg training loss is 2.300467\n",
            "avg val loss is 2.294081 and accuracy is 11.20%\n",
            "----------------------IN EPOCH 6--------------------------------\n",
            "avg training loss is 2.294249\n",
            "avg val loss is 2.286899 and accuracy is 11.80%\n",
            "----------------------IN EPOCH 7--------------------------------\n",
            "avg training loss is 2.285019\n",
            "avg val loss is 2.269874 and accuracy is 16.60%\n",
            "----------------------IN EPOCH 8--------------------------------\n",
            "avg training loss is 2.272220\n",
            "avg val loss is 2.258089 and accuracy is 16.00%\n",
            "----------------------IN EPOCH 9--------------------------------\n",
            "avg training loss is 2.269652\n",
            "avg val loss is 2.246535 and accuracy is 18.60%\n",
            "----------------------IN EPOCH 10--------------------------------\n",
            "avg training loss is 2.252533\n",
            "avg val loss is 2.244711 and accuracy is 17.60%\n"
          ],
          "name": "stdout"
        }
      ]
    },
    {
      "cell_type": "code",
      "metadata": {
        "id": "o7zGsBMhLds_"
      },
      "source": [
        "sweep_config = {\n",
        "    'method': 'random', #grid, random\n",
        "    'metric': {\n",
        "      'name': 'accuracy',\n",
        "      'goal': 'maximize'   \n",
        "    },\n",
        "    'parameters': {\n",
        "        'lr': {\n",
        "            'values': [0.0001, 0.0005,0.0008]\n",
        "        },\n",
        "        'activation_fn': {\n",
        "            'values': ['relu', 'tanh']\n",
        "        },\n",
        "        'num_of_filters': {\n",
        "            'values' : [32,64]\n",
        "        },\n",
        "        'filter_size' : {\n",
        "            'values' : [3,5]\n",
        "        },\n",
        "        'filter_organization':{\n",
        "            'values': [2,1]\n",
        "        },\n",
        "        'batch_size':{\n",
        "            'values': [100,200]\n",
        "        },\n",
        "        'dropdout_ratio': {\n",
        "            'values': [0.2,0.3,0.4]\n",
        "        },\n",
        "        'dense_neuron_size':{\n",
        "            'values' : [200,100]\n",
        "        },\n",
        "        'data_augmentation':{\n",
        "            'values': [True,False]\n",
        "        },\n",
        "        'epochs':{\n",
        "            'values' : [10,5,15]\n",
        "        },\n",
        "\n",
        "    }\n",
        "}"
      ],
      "execution_count": 25,
      "outputs": []
    },
    {
      "cell_type": "code",
      "metadata": {
        "id": "QVsvX3RrJ6yS"
      },
      "source": [
        "def experiment():\n",
        "    defaults = dict(\n",
        "    num_of_filters = 32,\n",
        "    filter_size = 3,\n",
        "    filter_organization = 2\n",
        "    activation_fn='relu',\n",
        "    dropdout_ratio = 0.03,\n",
        "    dense_neuron_size = 20000,\n",
        "    lr = 0.01\n",
        "    batch_size = 50,\n",
        "    epochs = 10,\n",
        "    data_augmentation = True\n",
        "    )\n",
        "\n",
        "    wandb.init(project=\"cs6910-assignment2\",config = defaults)\n",
        "    config = wandb.config\n",
        "\n",
        "    filters = []\n",
        "    filter_size = []\n",
        "    activation_fn = []  \n",
        "    rate = 1\n",
        "    for i in range(5):\n",
        "        activation_fn.append(config.activation_fn)\n",
        "        filter_size.append(config.filter_size)\n",
        "        filters.append(config.num_of_filter*rate)\n",
        "        rate *= config.filter_organization\n",
        "\n",
        "    model = Network(num_of_classes=10,filters = filters,filter_size = filter_size,activation_fn=activation_fn,dropdout_ratio = config.dropout_ratio,dense_neuron_size = config.dense_neuron_size).to(device)\n",
        "    optimizer = optim.Adam(model.parameters(), lr=config.lr)\n",
        "\n",
        "    loss_criteria = nn.CrossEntropyLoss()\n",
        "    train_loader,val_loader = load_dataset(new_training_folder_path,config.data_augmentation,config.batch_size)\n",
        "    epochs = config.epochs\n",
        "    print('Training on', device)\n",
        "    for epoch in range(1, epochs + 1):\n",
        "        train_loss = train(model, train_loader, optimizer,epoch,device)\n",
        "        val_loss,accuracy = test(model, val_loader,device)\n",
        "        wandb.log({\"epoch\": epoch,\"accuracy\" : accuracy,\"training loss\":train_loss,\"validation loss\": val_loss })"
      ],
      "execution_count": null,
      "outputs": []
    },
    {
      "cell_type": "code",
      "metadata": {
        "id": "GkqBe3AHh6up"
      },
      "source": [
        "sweep_id = wandb.sweep(sweep_config, entity=\"theindianwriter\", project=\"cs6910-assignment2\")"
      ],
      "execution_count": null,
      "outputs": []
    },
    {
      "cell_type": "code",
      "metadata": {
        "id": "P2qiHroyjFi-"
      },
      "source": [
        "wandb.agent(sweep_id, experiment)"
      ],
      "execution_count": null,
      "outputs": []
    }
  ]
}
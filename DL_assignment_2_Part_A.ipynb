{
  "nbformat": 4,
  "nbformat_minor": 0,
  "metadata": {
    "colab": {
      "name": "DL assignment 2 Part A.ipynb",
      "provenance": [],
      "mount_file_id": "1yBwQxhZYw9UwQKB6m5B6UEjQDTjhCM-l",
      "authorship_tag": "ABX9TyN5P9Szj/0JBDdtnF/0F1DY",
      "include_colab_link": true
    },
    "kernelspec": {
      "name": "python3",
      "display_name": "Python 3"
    },
    "language_info": {
      "name": "python"
    },
    "accelerator": "GPU",
    "widgets": {
      "application/vnd.jupyter.widget-state+json": {
        "155be9619d0b4d8f9532857a035c078a": {
          "model_module": "@jupyter-widgets/controls",
          "model_name": "VBoxModel",
          "state": {
            "_view_name": "VBoxView",
            "_dom_classes": [],
            "_model_name": "VBoxModel",
            "_view_module": "@jupyter-widgets/controls",
            "_model_module_version": "1.5.0",
            "_view_count": null,
            "_view_module_version": "1.5.0",
            "box_style": "",
            "layout": "IPY_MODEL_035b3f06276d4d9d86df5d02d9f9dd4e",
            "_model_module": "@jupyter-widgets/controls",
            "children": [
              "IPY_MODEL_2f6d1a2c1ce94c27b2a518c9a972d539",
              "IPY_MODEL_8d8f1df014ea48ceaf39eefec9abd3d9"
            ]
          }
        },
        "035b3f06276d4d9d86df5d02d9f9dd4e": {
          "model_module": "@jupyter-widgets/base",
          "model_name": "LayoutModel",
          "state": {
            "_view_name": "LayoutView",
            "grid_template_rows": null,
            "right": null,
            "justify_content": null,
            "_view_module": "@jupyter-widgets/base",
            "overflow": null,
            "_model_module_version": "1.2.0",
            "_view_count": null,
            "flex_flow": null,
            "width": null,
            "min_width": null,
            "border": null,
            "align_items": null,
            "bottom": null,
            "_model_module": "@jupyter-widgets/base",
            "top": null,
            "grid_column": null,
            "overflow_y": null,
            "overflow_x": null,
            "grid_auto_flow": null,
            "grid_area": null,
            "grid_template_columns": null,
            "flex": null,
            "_model_name": "LayoutModel",
            "justify_items": null,
            "grid_row": null,
            "max_height": null,
            "align_content": null,
            "visibility": null,
            "align_self": null,
            "height": null,
            "min_height": null,
            "padding": null,
            "grid_auto_rows": null,
            "grid_gap": null,
            "max_width": null,
            "order": null,
            "_view_module_version": "1.2.0",
            "grid_template_areas": null,
            "object_position": null,
            "object_fit": null,
            "grid_auto_columns": null,
            "margin": null,
            "display": null,
            "left": null
          }
        },
        "2f6d1a2c1ce94c27b2a518c9a972d539": {
          "model_module": "@jupyter-widgets/controls",
          "model_name": "LabelModel",
          "state": {
            "_view_name": "LabelView",
            "style": "IPY_MODEL_7f984927712f41f39612e3d49c37408f",
            "_dom_classes": [],
            "description": "",
            "_model_name": "LabelModel",
            "placeholder": "​",
            "_view_module": "@jupyter-widgets/controls",
            "_model_module_version": "1.5.0",
            "value": " 0.01MB of 0.01MB uploaded (0.00MB deduped)\r",
            "_view_count": null,
            "_view_module_version": "1.5.0",
            "description_tooltip": null,
            "_model_module": "@jupyter-widgets/controls",
            "layout": "IPY_MODEL_123f543b99bf44229f01cd52b7c611fa"
          }
        },
        "8d8f1df014ea48ceaf39eefec9abd3d9": {
          "model_module": "@jupyter-widgets/controls",
          "model_name": "FloatProgressModel",
          "state": {
            "_view_name": "ProgressView",
            "style": "IPY_MODEL_c418867b9b5c4e4cb5e42ed34da7cc1a",
            "_dom_classes": [],
            "description": "",
            "_model_name": "FloatProgressModel",
            "bar_style": "",
            "max": 1,
            "_view_module": "@jupyter-widgets/controls",
            "_model_module_version": "1.5.0",
            "value": 1,
            "_view_count": null,
            "_view_module_version": "1.5.0",
            "orientation": "horizontal",
            "min": 0,
            "description_tooltip": null,
            "_model_module": "@jupyter-widgets/controls",
            "layout": "IPY_MODEL_1070e59aa5f942dfbcb75891caee6f3d"
          }
        },
        "7f984927712f41f39612e3d49c37408f": {
          "model_module": "@jupyter-widgets/controls",
          "model_name": "DescriptionStyleModel",
          "state": {
            "_view_name": "StyleView",
            "_model_name": "DescriptionStyleModel",
            "description_width": "",
            "_view_module": "@jupyter-widgets/base",
            "_model_module_version": "1.5.0",
            "_view_count": null,
            "_view_module_version": "1.2.0",
            "_model_module": "@jupyter-widgets/controls"
          }
        },
        "123f543b99bf44229f01cd52b7c611fa": {
          "model_module": "@jupyter-widgets/base",
          "model_name": "LayoutModel",
          "state": {
            "_view_name": "LayoutView",
            "grid_template_rows": null,
            "right": null,
            "justify_content": null,
            "_view_module": "@jupyter-widgets/base",
            "overflow": null,
            "_model_module_version": "1.2.0",
            "_view_count": null,
            "flex_flow": null,
            "width": null,
            "min_width": null,
            "border": null,
            "align_items": null,
            "bottom": null,
            "_model_module": "@jupyter-widgets/base",
            "top": null,
            "grid_column": null,
            "overflow_y": null,
            "overflow_x": null,
            "grid_auto_flow": null,
            "grid_area": null,
            "grid_template_columns": null,
            "flex": null,
            "_model_name": "LayoutModel",
            "justify_items": null,
            "grid_row": null,
            "max_height": null,
            "align_content": null,
            "visibility": null,
            "align_self": null,
            "height": null,
            "min_height": null,
            "padding": null,
            "grid_auto_rows": null,
            "grid_gap": null,
            "max_width": null,
            "order": null,
            "_view_module_version": "1.2.0",
            "grid_template_areas": null,
            "object_position": null,
            "object_fit": null,
            "grid_auto_columns": null,
            "margin": null,
            "display": null,
            "left": null
          }
        },
        "c418867b9b5c4e4cb5e42ed34da7cc1a": {
          "model_module": "@jupyter-widgets/controls",
          "model_name": "ProgressStyleModel",
          "state": {
            "_view_name": "StyleView",
            "_model_name": "ProgressStyleModel",
            "description_width": "",
            "_view_module": "@jupyter-widgets/base",
            "_model_module_version": "1.5.0",
            "_view_count": null,
            "_view_module_version": "1.2.0",
            "bar_color": null,
            "_model_module": "@jupyter-widgets/controls"
          }
        },
        "1070e59aa5f942dfbcb75891caee6f3d": {
          "model_module": "@jupyter-widgets/base",
          "model_name": "LayoutModel",
          "state": {
            "_view_name": "LayoutView",
            "grid_template_rows": null,
            "right": null,
            "justify_content": null,
            "_view_module": "@jupyter-widgets/base",
            "overflow": null,
            "_model_module_version": "1.2.0",
            "_view_count": null,
            "flex_flow": null,
            "width": null,
            "min_width": null,
            "border": null,
            "align_items": null,
            "bottom": null,
            "_model_module": "@jupyter-widgets/base",
            "top": null,
            "grid_column": null,
            "overflow_y": null,
            "overflow_x": null,
            "grid_auto_flow": null,
            "grid_area": null,
            "grid_template_columns": null,
            "flex": null,
            "_model_name": "LayoutModel",
            "justify_items": null,
            "grid_row": null,
            "max_height": null,
            "align_content": null,
            "visibility": null,
            "align_self": null,
            "height": null,
            "min_height": null,
            "padding": null,
            "grid_auto_rows": null,
            "grid_gap": null,
            "max_width": null,
            "order": null,
            "_view_module_version": "1.2.0",
            "grid_template_areas": null,
            "object_position": null,
            "object_fit": null,
            "grid_auto_columns": null,
            "margin": null,
            "display": null,
            "left": null
          }
        }
      }
    }
  },
  "cells": [
    {
      "cell_type": "markdown",
      "metadata": {
        "id": "view-in-github",
        "colab_type": "text"
      },
      "source": [
        "<a href=\"https://colab.research.google.com/github/theindianwriter/CS6910-assignment_2/blob/main/DL_assignment_2_Part_A.ipynb\" target=\"_parent\"><img src=\"https://colab.research.google.com/assets/colab-badge.svg\" alt=\"Open In Colab\"/></a>"
      ]
    },
    {
      "cell_type": "code",
      "metadata": {
        "id": "0N1GggAe4er0"
      },
      "source": [
        "import numpy as np #for linear algebra operations\n",
        "import os\n",
        "import shutil\n",
        "import matplotlib.pyplot as plt\n",
        "from PIL import Image #for preprocessing the images"
      ],
      "execution_count": 1,
      "outputs": []
    },
    {
      "cell_type": "code",
      "metadata": {
        "id": "4vIoRdcUHv4T"
      },
      "source": [
        "# PyTorch libraries\n",
        "import torch\n",
        "import torchvision\n",
        "import torchvision.transforms as transforms\n",
        "import torch.nn as nn\n",
        "import torch.optim as optim\n",
        "import torch.nn.functional as F"
      ],
      "execution_count": 2,
      "outputs": []
    },
    {
      "cell_type": "code",
      "metadata": {
        "id": "hBY4eeZl7YAE",
        "colab": {
          "base_uri": "https://localhost:8080/",
          "height": 221
        },
        "outputId": "e9c87f3c-e904-4c06-e6d5-80220c7373a5"
      },
      "source": [
        "!pip install wandb -qqq\n",
        "import wandb\n",
        "wandb.login()"
      ],
      "execution_count": 3,
      "outputs": [
        {
          "output_type": "stream",
          "text": [
            "\u001b[K     |████████████████████████████████| 2.1MB 19.9MB/s \n",
            "\u001b[K     |████████████████████████████████| 163kB 57.3MB/s \n",
            "\u001b[K     |████████████████████████████████| 102kB 14.1MB/s \n",
            "\u001b[K     |████████████████████████████████| 133kB 57.2MB/s \n",
            "\u001b[K     |████████████████████████████████| 71kB 10.9MB/s \n",
            "\u001b[?25h  Building wheel for subprocess32 (setup.py) ... \u001b[?25l\u001b[?25hdone\n",
            "  Building wheel for pathtools (setup.py) ... \u001b[?25l\u001b[?25hdone\n"
          ],
          "name": "stdout"
        },
        {
          "output_type": "display_data",
          "data": {
            "application/javascript": [
              "\n",
              "        window._wandbApiKey = new Promise((resolve, reject) => {\n",
              "            function loadScript(url) {\n",
              "            return new Promise(function(resolve, reject) {\n",
              "                let newScript = document.createElement(\"script\");\n",
              "                newScript.onerror = reject;\n",
              "                newScript.onload = resolve;\n",
              "                document.body.appendChild(newScript);\n",
              "                newScript.src = url;\n",
              "            });\n",
              "            }\n",
              "            loadScript(\"https://cdn.jsdelivr.net/npm/postmate/build/postmate.min.js\").then(() => {\n",
              "            const iframe = document.createElement('iframe')\n",
              "            iframe.style.cssText = \"width:0;height:0;border:none\"\n",
              "            document.body.appendChild(iframe)\n",
              "            const handshake = new Postmate({\n",
              "                container: iframe,\n",
              "                url: 'https://wandb.ai/authorize'\n",
              "            });\n",
              "            const timeout = setTimeout(() => reject(\"Couldn't auto authenticate\"), 5000)\n",
              "            handshake.then(function(child) {\n",
              "                child.on('authorize', data => {\n",
              "                    clearTimeout(timeout)\n",
              "                    resolve(data)\n",
              "                });\n",
              "            });\n",
              "            })\n",
              "        });\n",
              "    "
            ],
            "text/plain": [
              "<IPython.core.display.Javascript object>"
            ]
          },
          "metadata": {
            "tags": []
          }
        },
        {
          "output_type": "stream",
          "text": [
            "\u001b[34m\u001b[1mwandb\u001b[0m: You can find your API key in your browser here: https://wandb.ai/authorize\n"
          ],
          "name": "stderr"
        },
        {
          "output_type": "stream",
          "text": [
            "wandb: Paste an API key from your profile and hit enter: ··········\n"
          ],
          "name": "stdout"
        },
        {
          "output_type": "stream",
          "text": [
            "\u001b[34m\u001b[1mwandb\u001b[0m: Appending key for api.wandb.ai to your netrc file: /root/.netrc\n"
          ],
          "name": "stderr"
        },
        {
          "output_type": "execute_result",
          "data": {
            "text/plain": [
              "True"
            ]
          },
          "metadata": {
            "tags": []
          },
          "execution_count": 3
        }
      ]
    },
    {
      "cell_type": "code",
      "metadata": {
        "id": "e-Hsrl6xvjPG"
      },
      "source": [
        "#enabling gpu \n",
        "device = \"cpu\"\n",
        "if (torch.cuda.is_available()):\n",
        "    device = \"cuda\""
      ],
      "execution_count": 4,
      "outputs": []
    },
    {
      "cell_type": "code",
      "metadata": {
        "id": "VltGV369bGI6",
        "colab": {
          "base_uri": "https://localhost:8080/"
        },
        "outputId": "4cbb677f-15b0-4564-b113-579262dafffa"
      },
      "source": [
        "from google.colab import drive\n",
        "drive.mount('/content/drive')"
      ],
      "execution_count": null,
      "outputs": [
        {
          "output_type": "stream",
          "text": [
            "Drive already mounted at /content/drive; to attempt to forcibly remount, call drive.mount(\"/content/drive\", force_remount=True).\n"
          ],
          "name": "stdout"
        }
      ]
    },
    {
      "cell_type": "code",
      "metadata": {
        "id": "yh4zod8Yu57S"
      },
      "source": [
        "!unzip -uq \"/content/drive/My Drive/nature_12K.zip\" -d \"/content/drive/My Drive/\""
      ],
      "execution_count": null,
      "outputs": []
    },
    {
      "cell_type": "code",
      "metadata": {
        "id": "OnT3TkaIuWMh"
      },
      "source": [
        "training_folder_path = \"/content/drive/MyDrive/inaturalist_12K/train\""
      ],
      "execution_count": 5,
      "outputs": []
    },
    {
      "cell_type": "code",
      "metadata": {
        "colab": {
          "base_uri": "https://localhost:8080/"
        },
        "id": "3Z77LxCosR_K",
        "outputId": "d2c524d4-dd2b-424b-a111-3630fb8549cc"
      },
      "source": [
        "#list down all the classes present in the dataset\n",
        "classes = sorted([folder_name  for folder_name in os.listdir(training_folder_path) if not folder_name.startswith('.')])\n",
        "print(classes)"
      ],
      "execution_count": 6,
      "outputs": [
        {
          "output_type": "stream",
          "text": [
            "['Amphibia', 'Animalia', 'Arachnida', 'Aves', 'Fungi', 'Insecta', 'Mammalia', 'Mollusca', 'Plantae', 'Reptilia']\n"
          ],
          "name": "stdout"
        }
      ]
    },
    {
      "cell_type": "code",
      "metadata": {
        "id": "79Q1gzto7hcc"
      },
      "source": [
        "# function to resize image\n",
        "def resize_image(src_image, size=(128,128), bg_color=\"white\"): \n",
        "    #creating a thumbnail of the image of the given size preserving the aspect ratio\n",
        "    src_image.thumbnail(size,Image.ANTIALIAS)\n",
        "    #creating a background image \n",
        "    new_image = Image.new(\"RGB\", size, bg_color)\n",
        "    #pasting the src image into it \n",
        "    new_image.paste(src_image, (int((size[0] - src_image.size[0]) / 2), int((size[1] - src_image.size[1]) / 2)))\n",
        "    return new_image"
      ],
      "execution_count": 7,
      "outputs": []
    },
    {
      "cell_type": "code",
      "metadata": {
        "id": "DT3LCHBVu9Zp"
      },
      "source": [
        "new_training_folder_path = \"./Natural_Dataset256/train\""
      ],
      "execution_count": 8,
      "outputs": []
    },
    {
      "cell_type": "code",
      "metadata": {
        "colab": {
          "base_uri": "https://localhost:8080/"
        },
        "id": "LcNbZ1vvRNsr",
        "outputId": "bd7ca9b0-af14-49b2-8daf-349f288bc132"
      },
      "source": [
        "image_size = (256,256)\n",
        "\n",
        "if os.path.exists(new_training_folder_path):\n",
        "    shutil.rmtree(new_training_folder_path)\n",
        "\n",
        "for root,folders,_ in os.walk(training_folder_path):\n",
        "    for folder in folders:\n",
        "        print(\"resizing the images and saving for the folder \",folder)\n",
        "        new_folder = os.path.join(new_training_folder_path,folder)\n",
        "\n",
        "        if not os.path.exists(new_folder):\n",
        "            os.makedirs(new_folder)\n",
        "        \n",
        "        file_names = os.listdir(os.path.join(root,folder))\n",
        "        \n",
        "        for file_name in file_names:\n",
        "            if file_name.startswith('.'):\n",
        "                continue\n",
        "            file_path = os.path.join(root,folder,file_name)\n",
        "            image = Image.open(file_path)\n",
        "            resized_image = resize_image(image,image_size,\"black\")\n",
        "            save_as = os.path.join(new_folder,file_name)\n",
        "            resized_image.save(save_as)\n",
        "\n",
        "print(\"resizing and saving done\")\n",
        "\n",
        "        \n"
      ],
      "execution_count": 10,
      "outputs": [
        {
          "output_type": "stream",
          "text": [
            "resizing the images and saving for the folder  Reptilia\n",
            "resizing the images and saving for the folder  Mammalia\n",
            "resizing the images and saving for the folder  Arachnida\n",
            "resizing the images and saving for the folder  Plantae\n",
            "resizing the images and saving for the folder  Aves\n",
            "resizing the images and saving for the folder  Amphibia\n",
            "resizing the images and saving for the folder  Insecta\n",
            "resizing the images and saving for the folder  Animalia\n",
            "resizing the images and saving for the folder  Mollusca\n",
            "resizing the images and saving for the folder  Fungi\n",
            "resizing and saving done\n"
          ],
          "name": "stdout"
        }
      ]
    },
    {
      "cell_type": "code",
      "metadata": {
        "id": "ckAjSb-Prbw9"
      },
      "source": [
        "mean = [0.5,0.5,0.5]\n",
        "std = [0.5,0.5,0.5]\n",
        "\n",
        "def load_dataset(dataset_path,data_augmentation = False,batch_size = 50):\n",
        "    if data_augmentation:\n",
        "        transformation = transforms.Compose([\n",
        "            transforms.RandomResizedCrop(256),\n",
        "            transforms.RandomHorizontalFlip(0.5),\n",
        "            transforms.RandomVerticalFlip(0.3),\n",
        "            transforms.ToTensor(),\n",
        "        # Normalize the pixel values (in R, G, and B channels)\n",
        "            transforms.Normalize(mean=mean, std=std)\n",
        "        ])\n",
        "    else:\n",
        "        transformation = transforms.Compose([\n",
        "            transforms.ToTensor(),\n",
        "            transforms.Normalize(mean=mean,std = std)                               \n",
        "        ])\n",
        "\n",
        "    full_dataset = torchvision.datasets.ImageFolder(\n",
        "        root=dataset_path,\n",
        "        transform=transformation\n",
        "    )\n",
        "\n",
        "    train_size = int(0.9 * len(full_dataset))\n",
        "    test_size = len(full_dataset) - train_size\n",
        "\n",
        "    train_dataset, test_dataset = torch.utils.data.random_split(full_dataset, [train_size, test_size])\n",
        "\n",
        "    train_loader = torch.utils.data.DataLoader(\n",
        "        train_dataset,\n",
        "        batch_size=batch_size,\n",
        "        num_workers=0,\n",
        "        shuffle=False\n",
        "    )\n",
        "\n",
        "    test_loader = torch.utils.data.DataLoader(\n",
        "        test_dataset,\n",
        "        batch_size=batch_size,\n",
        "        num_workers=0,\n",
        "        shuffle=False\n",
        "    )\n",
        "    return train_loader,test_loader"
      ],
      "execution_count": 11,
      "outputs": []
    },
    {
      "cell_type": "code",
      "metadata": {
        "colab": {
          "base_uri": "https://localhost:8080/"
        },
        "id": "vh2IRxw8v5TR",
        "outputId": "4ac90310-8bb7-4250-adad-0fe8ee19c2f2"
      },
      "source": [
        "print(device)"
      ],
      "execution_count": 12,
      "outputs": [
        {
          "output_type": "stream",
          "text": [
            "cuda\n"
          ],
          "name": "stdout"
        }
      ]
    },
    {
      "cell_type": "code",
      "metadata": {
        "id": "VzGaDYke3z3B"
      },
      "source": [
        "class Network(nn.Module):\n",
        "\n",
        "    def __init__(self,num_of_classes,filters,filter_size,activation_fn,stride_len = 1,batch_norm = True,padding_len = 1,max_pool_kernel_size = 2,max_pool_stride_len = 2,dropdout_ratio = 0.0,dense_neuron_size = 20000,img_size = (256,256)):\n",
        "        super(Network,self).__init__()\n",
        "\n",
        "        self.activation_fn = activation_fn\n",
        "        self.batch_norm = batch_norm\n",
        "\n",
        "        Out_dim_H = img_size[0]\n",
        "        Out_dim_W = img_size[1]\n",
        "\n",
        "        for F in filter_size:\n",
        "            Out_dim_H =  int(((Out_dim_H - F + 2*padding_len)/stride_len)) + 1\n",
        "            Out_dim_W =  int(((Out_dim_W - F + 2*padding_len)/stride_len)) + 1\n",
        "            Out_dim_H =  int(((Out_dim_H - max_pool_kernel_size)/max_pool_stride_len))+ 1\n",
        "            Out_dim_W =  int(((Out_dim_W - max_pool_kernel_size)/max_pool_stride_len)) + 1\n",
        "\n",
        "\n",
        "        self.conv1 = nn.Conv2d(in_channels = 3,out_channels = filters[0],kernel_size = filter_size[0],stride = stride_len,padding = padding_len)\n",
        "        self.conv2 = nn.Conv2d(in_channels = filters[0],out_channels = filters[1],kernel_size = filter_size[1],stride = stride_len,padding = padding_len)\n",
        "        self.conv3 = nn.Conv2d(in_channels = filters[1],out_channels = filters[2],kernel_size = filter_size[2],stride = stride_len,padding = padding_len)\n",
        "        self.conv4 = nn.Conv2d(in_channels = filters[2],out_channels = filters[3],kernel_size = filter_size[3],stride = stride_len,padding = padding_len)\n",
        "        self.conv5 = nn.Conv2d(in_channels = filters[3],out_channels = filters[4],kernel_size = filter_size[4],stride = stride_len,padding = padding_len)\n",
        "\n",
        "        self.pool = nn.MaxPool2d(kernel_size=max_pool_kernel_size,stride = max_pool_stride_len)\n",
        "\n",
        "        self.drop = nn.Dropout2d(p=dropdout_ratio)\n",
        "        \n",
        "        if self.batch_norm:\n",
        "            self.batch_norm1 = nn.BatchNorm2d(num_features=filters[0], eps=1e-05, momentum=0.1, affine=True, track_running_stats=True)\n",
        "            self.batch_norm2 = nn.BatchNorm2d(num_features=filters[1], eps=1e-05, momentum=0.1, affine=True, track_running_stats=True)\n",
        "            self.batch_norm3 = nn.BatchNorm2d(num_features=filters[2], eps=1e-05, momentum=0.1, affine=True, track_running_stats=True)\n",
        "            self.batch_norm4 = nn.BatchNorm2d(num_features=filters[3], eps=1e-05, momentum=0.1, affine=True, track_running_stats=True)\n",
        "            self.batch_norm5 = nn.BatchNorm2d(num_features=filters[4], eps=1e-05, momentum=0.1, affine=True, track_running_stats=True)\n",
        "        \n",
        "\n",
        "        self.post_conv_output_len = Out_dim_H*Out_dim_W*filters[4]\n",
        "        #fully connected layer\n",
        "        self.fc1 = nn.Linear(in_features = Out_dim_H*Out_dim_W*filters[4],out_features = dense_neuron_size)\n",
        "        self.fc2 = nn.Linear(in_features = dense_neuron_size,out_features = num_of_classes)\n",
        "\n",
        "\n",
        "\n",
        "    def perform_activation(self,fn,x):\n",
        "        if fn == 'relu':\n",
        "            return F.relu(x)\n",
        "        elif fn == 'elu':\n",
        "            return F.elu(x)\n",
        "        elif fn == 'leaky_relu':\n",
        "            return F.leaky_relu(x)\n",
        "        elif fn == 'tanh':\n",
        "            return F.tanh(x)\n",
        "        elif fn == 'sigmoid':\n",
        "            return F.sigmoid(x)\n",
        "\n",
        "    def forward(self,x):\n",
        "        if self.batch_norm:\n",
        "            x = self.batch_norm1(self.conv1(x))\n",
        "        else:\n",
        "            x = self.conv1(x)\n",
        "\n",
        "        x = self.pool(self.perform_activation(self.activation_fn[0],x))\n",
        "\n",
        "        if self.batch_norm:\n",
        "            x = self.batch_norm2(self.conv2(x))\n",
        "        else:\n",
        "            x = self.conv2(x)\n",
        "    \n",
        "        x = self.pool(self.perform_activation(self.activation_fn[1],x))\n",
        "\n",
        "        if self.batch_norm:\n",
        "            x = self.batch_norm3(self.conv3(x))\n",
        "        else:\n",
        "            x = self.conv3(x)\n",
        "\n",
        "\n",
        "        x = self.pool(self.perform_activation(self.activation_fn[2],x))\n",
        "\n",
        "        if self.batch_norm:\n",
        "            x = self.batch_norm4(self.conv4(x))\n",
        "        else:\n",
        "            x = self.conv4(x)\n",
        "\n",
        "        x = self.pool(self.perform_activation(self.activation_fn[3],x))\n",
        "    \n",
        "        if self.batch_norm:\n",
        "            x = self.batch_norm5(self.conv5(x))\n",
        "        else:\n",
        "            x = self.conv5(x)\n",
        "\n",
        "        x = self.pool(self.perform_activation(self.activation_fn[4],x))\n",
        "\n",
        "        x = F.dropout(self.drop(x), training=self.training)\n",
        "\n",
        "        x = x.view(-1, self.post_conv_output_len)\n",
        "\n",
        "        x = F.relu(self.fc1(x))\n",
        "\n",
        "        x = F.dropout(self.drop(x), training=self.training)\n",
        "\n",
        "        x = self.fc2(x)\n",
        "            \n",
        "        return torch.log_softmax(x, dim=1)"
      ],
      "execution_count": 13,
      "outputs": []
    },
    {
      "cell_type": "code",
      "metadata": {
        "id": "BdV_WNLR02JV"
      },
      "source": [
        "def train(model,train_loader,optimizer,epoch,device):\n",
        "\n",
        "    model.train()\n",
        "    training_loss = 0\n",
        "    batch_id = 0\n",
        "    print(\"----------------------IN EPOCH {}--------------------------------\".format(epoch))\n",
        "    for data,target in train_loader:\n",
        "        batch_id += 1\n",
        "        data,target = data.to(device),target.to(device)\n",
        "\n",
        "        optimizer.zero_grad()\n",
        "        output = model(data)\n",
        "\n",
        "        loss = loss_criteria(output,target)\n",
        "        training_loss += loss.item()\n",
        "\n",
        "        loss.backward()\n",
        "        optimizer.step()\n",
        "\n",
        "    print(\"avg training loss is {:.6f}\".format(training_loss/batch_id))\n",
        "    return training_loss\n"
      ],
      "execution_count": 14,
      "outputs": []
    },
    {
      "cell_type": "code",
      "metadata": {
        "id": "JpzIZ4EOknEu"
      },
      "source": [
        "def test(model,test_loader,device):\n",
        "    model.eval()\n",
        "    test_loss = 0\n",
        "    correct = 0\n",
        "    batch_id = 0\n",
        "    with torch.no_grad():\n",
        "        for data,target in test_loader:\n",
        "            batch_id += 1\n",
        "            data,target = data.to(device),target.to(device)\n",
        "            output = model(data)\n",
        "            loss = loss_criteria(output,target)\n",
        "            test_loss += loss.item()\n",
        "            _,predicted = torch.max(output.data,1)\n",
        "            correct += torch.sum(target==predicted).item()\n",
        "    accuracy = 100*correct/ len(test_loader.dataset)\n",
        "    print(\"avg val loss is {:.6f} and accuracy is {:.2f}%\".format(test_loss/batch_id,accuracy))\n",
        "    return test_loss,accuracy\n",
        "\n",
        "    \n"
      ],
      "execution_count": 15,
      "outputs": []
    },
    {
      "cell_type": "code",
      "metadata": {
        "colab": {
          "base_uri": "https://localhost:8080/"
        },
        "id": "OhCEzU1ZrTOX",
        "outputId": "7cc12075-9297-4058-ae1a-f107d7bff54a"
      },
      "source": [
        "model = Network(num_of_classes=10,filters = [32,64,128,128,128],filter_size = [3,3,3,3,3],activation_fn=['relu','relu','relu','relu','relu'],dropdout_ratio = 0.5,dense_neuron_size = 128,batch_norm = False).to(device)\n",
        "optimizer = optim.Adam(model.parameters(), lr=0.0002)\n",
        "\n",
        "loss_criteria = nn.CrossEntropyLoss()\n",
        "train_loader,val_loader = load_dataset(new_training_folder_path,True,100)\n",
        "epochs = 10\n",
        "print('Training on', device)\n",
        "for epoch in range(1, epochs + 1):\n",
        "        train_loss = train(model, train_loader, optimizer,epoch,device)\n",
        "        test_loss = test(model, val_loader,device)\n",
        "        torch.cuda.empty_cache()\n",
        "        "
      ],
      "execution_count": 29,
      "outputs": [
        {
          "output_type": "stream",
          "text": [
            "Training on cuda\n",
            "----------------------IN EPOCH 1--------------------------------\n",
            "avg training loss is 2.300061\n",
            "avg val loss is 2.274428 and accuracy is 16.20%\n",
            "----------------------IN EPOCH 2--------------------------------\n",
            "avg training loss is 2.278487\n",
            "avg val loss is 2.231518 and accuracy is 18.80%\n",
            "----------------------IN EPOCH 3--------------------------------\n",
            "avg training loss is 2.228630\n",
            "avg val loss is 2.163601 and accuracy is 20.10%\n",
            "----------------------IN EPOCH 4--------------------------------\n",
            "avg training loss is 2.203314\n",
            "avg val loss is 2.131405 and accuracy is 22.00%\n",
            "----------------------IN EPOCH 5--------------------------------\n",
            "avg training loss is 2.194650\n",
            "avg val loss is 2.111873 and accuracy is 22.90%\n",
            "----------------------IN EPOCH 6--------------------------------\n",
            "avg training loss is 2.176996\n",
            "avg val loss is 2.114474 and accuracy is 23.20%\n",
            "----------------------IN EPOCH 7--------------------------------\n",
            "avg training loss is 2.162044\n",
            "avg val loss is 2.093028 and accuracy is 23.30%\n",
            "----------------------IN EPOCH 8--------------------------------\n",
            "avg training loss is 2.156202\n",
            "avg val loss is 2.076885 and accuracy is 24.40%\n",
            "----------------------IN EPOCH 9--------------------------------\n",
            "avg training loss is 2.138469\n",
            "avg val loss is 2.073265 and accuracy is 24.80%\n",
            "----------------------IN EPOCH 10--------------------------------\n",
            "avg training loss is 2.137461\n",
            "avg val loss is 2.045852 and accuracy is 28.00%\n"
          ],
          "name": "stdout"
        }
      ]
    },
    {
      "cell_type": "code",
      "metadata": {
        "id": "7G10tCm5Zt2e",
        "colab": {
          "base_uri": "https://localhost:8080/",
          "height": 188
        },
        "outputId": "3df83cd2-992a-4d40-c67c-0b37b532687f"
      },
      "source": [
        "  torch.cuda.memory_summary(device=None, abbreviated=False)"
      ],
      "execution_count": 19,
      "outputs": [
        {
          "output_type": "execute_result",
          "data": {
            "application/vnd.google.colaboratory.intrinsic+json": {
              "type": "string"
            },
            "text/plain": [
              "'|===========================================================================|\\n|                  PyTorch CUDA memory summary, device ID 0                 |\\n|---------------------------------------------------------------------------|\\n|            CUDA OOMs: 0            |        cudaMalloc retries: 0         |\\n|===========================================================================|\\n|        Metric         | Cur Usage  | Peak Usage | Tot Alloc  | Tot Freed  |\\n|---------------------------------------------------------------------------|\\n| Allocated memory      |   24746 KB |    3295 MB |   15232 GB |   15232 GB |\\n|       from large pool |   23168 KB |    3294 MB |   15062 GB |   15062 GB |\\n|       from small pool |    1578 KB |      10 MB |     170 GB |     170 GB |\\n|---------------------------------------------------------------------------|\\n| Active memory         |   24746 KB |    3295 MB |   15232 GB |   15232 GB |\\n|       from large pool |   23168 KB |    3294 MB |   15062 GB |   15062 GB |\\n|       from small pool |    1578 KB |      10 MB |     170 GB |     170 GB |\\n|---------------------------------------------------------------------------|\\n| GPU reserved memory   |    4290 MB |    4290 MB |    4290 MB |       0 B  |\\n|       from large pool |    4278 MB |    4278 MB |    4278 MB |       0 B  |\\n|       from small pool |      12 MB |      12 MB |      12 MB |       0 B  |\\n|---------------------------------------------------------------------------|\\n| Non-releasable memory |  126805 KB |  429646 KB |    3056 GB |    3056 GB |\\n|       from large pool |  120192 KB |  423040 KB |    2870 GB |    2870 GB |\\n|       from small pool |    6613 KB |    7791 KB |     185 GB |     185 GB |\\n|---------------------------------------------------------------------------|\\n| Allocations           |     111    |     161    |    1574 K  |    1574 K  |\\n|       from large pool |       8    |      37    |     500 K  |     500 K  |\\n|       from small pool |     103    |     126    |    1073 K  |    1073 K  |\\n|---------------------------------------------------------------------------|\\n| Active allocs         |     111    |     161    |    1574 K  |    1574 K  |\\n|       from large pool |       8    |      37    |     500 K  |     500 K  |\\n|       from small pool |     103    |     126    |    1073 K  |    1073 K  |\\n|---------------------------------------------------------------------------|\\n| GPU reserved segments |      37    |      37    |      37    |       0    |\\n|       from large pool |      31    |      31    |      31    |       0    |\\n|       from small pool |       6    |       6    |       6    |       0    |\\n|---------------------------------------------------------------------------|\\n| Non-releasable allocs |      18    |      27    |     796 K  |     796 K  |\\n|       from large pool |       4    |      17    |     210 K  |     210 K  |\\n|       from small pool |      14    |      19    |     586 K  |     586 K  |\\n|===========================================================================|\\n'"
            ]
          },
          "metadata": {
            "tags": []
          },
          "execution_count": 19
        }
      ]
    },
    {
      "cell_type": "code",
      "metadata": {
        "id": "jpjCFt8b7wHk",
        "colab": {
          "base_uri": "https://localhost:8080/",
          "height": 136
        },
        "outputId": "8087182d-690c-4174-af4b-be1dc02b2f54"
      },
      "source": [
        "defaults = dict(\n",
        "  num_of_filter = 16,\n",
        "  filter_size = 3,\n",
        "  filter_organization = 2,\n",
        "  activation_fn='relu',\n",
        "  dropout_ratio = 0.3,\n",
        "  dense_neuron_size = 64,\n",
        "  lr = 0.0001,\n",
        "  batch_size = 100,\n",
        "  epochs = 10,\n",
        "  data_augmentation = True,\n",
        "  batch_norm = True\n",
        ")\n",
        "\n",
        "wandb.init(project=\"cs6910-assignment2-part_a\",config = defaults)\n",
        "config = wandb.config"
      ],
      "execution_count": 17,
      "outputs": [
        {
          "output_type": "stream",
          "text": [
            "\u001b[34m\u001b[1mwandb\u001b[0m: Currently logged in as: \u001b[33mtheindianwriter\u001b[0m (use `wandb login --relogin` to force relogin)\n"
          ],
          "name": "stderr"
        },
        {
          "output_type": "display_data",
          "data": {
            "text/html": [
              "\n",
              "                Tracking run with wandb version 0.10.25<br/>\n",
              "                Syncing run <strong style=\"color:#cdcd00\">ancient-monkey-9</strong> to <a href=\"https://wandb.ai\" target=\"_blank\">Weights & Biases</a> <a href=\"https://docs.wandb.com/integrations/jupyter.html\" target=\"_blank\">(Documentation)</a>.<br/>\n",
              "                Project page: <a href=\"https://wandb.ai/theindianwriter/cs6910-assignment2-part_a\" target=\"_blank\">https://wandb.ai/theindianwriter/cs6910-assignment2-part_a</a><br/>\n",
              "                Run page: <a href=\"https://wandb.ai/theindianwriter/cs6910-assignment2-part_a/runs/2xjsrp73\" target=\"_blank\">https://wandb.ai/theindianwriter/cs6910-assignment2-part_a/runs/2xjsrp73</a><br/>\n",
              "                Run data is saved locally in <code>/content/wandb/run-20210413_082900-2xjsrp73</code><br/><br/>\n",
              "            "
            ],
            "text/plain": [
              "<IPython.core.display.HTML object>"
            ]
          },
          "metadata": {
            "tags": []
          }
        }
      ]
    },
    {
      "cell_type": "code",
      "metadata": {
        "id": "5YMo9_Kp8gNY",
        "colab": {
          "base_uri": "https://localhost:8080/"
        },
        "outputId": "a26b2c9b-52df-40c2-b743-7d6dac711c12"
      },
      "source": [
        "filters = []\n",
        "filter_size = []\n",
        "activation_fn = []  \n",
        "rate = 1\n",
        "for i in range(5):\n",
        "    activation_fn.append(config.activation_fn)\n",
        "    filter_size.append(config.filter_size)\n",
        "    filters.append(config.num_of_filter*rate)\n",
        "    rate *= config.filter_organization\n",
        "\n",
        "model = Network(num_of_classes=10,filters = filters,filter_size = filter_size,activation_fn=activation_fn,dropdout_ratio = config.dropout_ratio,dense_neuron_size = config.dense_neuron_size,batch_norm = config.batch_norm).to(device)\n",
        "optimizer = optim.Adam(model.parameters(), lr=config.lr)\n",
        "\n",
        "loss_criteria = nn.CrossEntropyLoss()\n",
        "train_loader,val_loader = load_dataset(new_training_folder_path,config.data_augmentation,config.batch_size)\n",
        "epochs = config.epochs\n",
        "print('Training on', device)\n",
        "for epoch in range(1, epochs + 1):\n",
        "        train_loss = train(model, train_loader, optimizer,epoch,device)\n",
        "        val_loss,accuracy = test(model, val_loader,device)\n",
        "        wandb.log({\"epoch\": epoch,\"accuracy\" : accuracy,\"training loss\":train_loss,\"validation loss\": val_loss })"
      ],
      "execution_count": 18,
      "outputs": [
        {
          "output_type": "stream",
          "text": [
            "Training on cuda\n",
            "----------------------IN EPOCH 1--------------------------------\n",
            "avg training loss is 2.303739\n",
            "avg val loss is 2.257631 and accuracy is 15.40%\n",
            "----------------------IN EPOCH 2--------------------------------\n",
            "avg training loss is 2.269994\n",
            "avg val loss is 2.210450 and accuracy is 21.10%\n",
            "----------------------IN EPOCH 3--------------------------------\n",
            "avg training loss is 2.262568\n",
            "avg val loss is 2.247485 and accuracy is 16.20%\n",
            "----------------------IN EPOCH 4--------------------------------\n",
            "avg training loss is 2.247239\n",
            "avg val loss is 2.189405 and accuracy is 18.40%\n",
            "----------------------IN EPOCH 5--------------------------------\n",
            "avg training loss is 2.252020\n",
            "avg val loss is 2.192552 and accuracy is 17.40%\n",
            "----------------------IN EPOCH 6--------------------------------\n",
            "avg training loss is 2.249447\n",
            "avg val loss is 2.170791 and accuracy is 17.50%\n",
            "----------------------IN EPOCH 7--------------------------------\n",
            "avg training loss is 2.231398\n",
            "avg val loss is 2.171901 and accuracy is 18.90%\n",
            "----------------------IN EPOCH 8--------------------------------\n",
            "avg training loss is 2.233291\n",
            "avg val loss is 2.179023 and accuracy is 19.20%\n",
            "----------------------IN EPOCH 9--------------------------------\n",
            "avg training loss is 2.226357\n",
            "avg val loss is 2.156320 and accuracy is 18.10%\n",
            "----------------------IN EPOCH 10--------------------------------\n",
            "avg training loss is 2.220808\n",
            "avg val loss is 2.166861 and accuracy is 19.70%\n"
          ],
          "name": "stdout"
        }
      ]
    },
    {
      "cell_type": "code",
      "metadata": {
        "id": "o7zGsBMhLds_"
      },
      "source": [
        "sweep_config = {\n",
        "    'method': 'random', #grid, random\n",
        "    'metric': {\n",
        "      'name': 'accuracy',\n",
        "      'goal': 'maximize'   \n",
        "    },\n",
        "    'parameters': {\n",
        "        'lr': {\n",
        "            'values': [0.0001, 0.0002,0.0004]\n",
        "        },\n",
        "        'activation_fn': {\n",
        "            'values': ['relu', 'tanh','leaky_relu']\n",
        "        },\n",
        "        'num_of_filters': {\n",
        "            'values' : [32,64,256]\n",
        "        },\n",
        "        'filter_size' : {\n",
        "            'values' : [3,5,7]\n",
        "        },\n",
        "        'filter_organization':{\n",
        "            'values': [2,1,0.5]\n",
        "        },\n",
        "        'batch_size':{\n",
        "            'values': [100,200]\n",
        "        },\n",
        "        'dropdout_ratio': {\n",
        "            'values': [0.2,0.3,0.4,0.5]\n",
        "        },\n",
        "        'dense_neuron_size':{\n",
        "            'values' : [256,128,64]\n",
        "        },\n",
        "        'data_augmentation':{\n",
        "            'values': [True,False]\n",
        "        },\n",
        "        'epochs':{\n",
        "            'values' : [10,5,15]\n",
        "        },\n",
        "        'batch_norm':{\n",
        "            'values' : [True,False]\n",
        "        },\n",
        "\n",
        "\n",
        "    }\n",
        "}"
      ],
      "execution_count": null,
      "outputs": []
    },
    {
      "cell_type": "code",
      "metadata": {
        "id": "QVsvX3RrJ6yS"
      },
      "source": [
        "def experiment():\n",
        "    defaults = dict(\n",
        "        num_of_filter = 16,\n",
        "        filter_size = 5,\n",
        "        filter_organization = 2,\n",
        "        activation_fn='leaky_relu',\n",
        "        dropout_ratio = 0.3,\n",
        "        dense_neuron_size = 64,\n",
        "        lr = 0.0001,\n",
        "        batch_size = 8,\n",
        "        epochs = 10,\n",
        "        data_augmentation = True,\n",
        "        batch_norm = True\n",
        "    )\n",
        "\n",
        "    wandb.init(project=\"cs6910-assignment2-part_a\",config = defaults)\n",
        "    config = wandb.config\n",
        "\n",
        "    filters = []\n",
        "    filter_size = []\n",
        "    activation_fn = []  \n",
        "    if config.num_of_filters >= 256 and config.filter_organization == 2:\n",
        "        config.filter_organization = 0.5\n",
        "    rate = 1\n",
        "    for i in range(5):\n",
        "        activation_fn.append(config.activation_fn)\n",
        "        filter_size.append(config.filter_size)\n",
        "        filters.append(config.num_of_filter*rate)\n",
        "        rate *= config.filter_organization\n",
        "\n",
        "    model = Network(num_of_classes=10,filters = filters,filter_size = filter_size,activation_fn=activation_fn,dropdout_ratio = config.dropout_ratio,dense_neuron_size = config.dense_neuron_size,batch_norm = config.batch_norm).to(device)\n",
        "    optimizer = optim.Adam(model.parameters(), lr=config.lr)\n",
        "\n",
        "    loss_criteria = nn.CrossEntropyLoss()\n",
        "    train_loader,val_loader = load_dataset(new_training_folder_path,config.data_augmentation,config.batch_size)\n",
        "    epochs = config.epochs\n",
        "    print('Training on', device)\n",
        "    for epoch in range(1, epochs + 1):\n",
        "        train_loss = train(model, train_loader, optimizer,epoch,device)\n",
        "        val_loss,accuracy = test(model, val_loader,device)\n",
        "        wandb.log({\"epoch\": epoch,\"accuracy\" : accuracy,\"training loss\":train_loss,\"validation loss\": val_loss })\n",
        "        torch.cuda.empty_cache()"
      ],
      "execution_count": 26,
      "outputs": []
    },
    {
      "cell_type": "code",
      "metadata": {
        "colab": {
          "base_uri": "https://localhost:8080/",
          "height": 1000,
          "referenced_widgets": [
            "155be9619d0b4d8f9532857a035c078a",
            "035b3f06276d4d9d86df5d02d9f9dd4e",
            "2f6d1a2c1ce94c27b2a518c9a972d539",
            "8d8f1df014ea48ceaf39eefec9abd3d9",
            "7f984927712f41f39612e3d49c37408f",
            "123f543b99bf44229f01cd52b7c611fa",
            "c418867b9b5c4e4cb5e42ed34da7cc1a",
            "1070e59aa5f942dfbcb75891caee6f3d"
          ]
        },
        "id": "N1eK1vMFYpz5",
        "outputId": "f59d39fa-420f-4098-bbad-841d72cf6449"
      },
      "source": [
        "experiment()"
      ],
      "execution_count": 27,
      "outputs": [
        {
          "output_type": "display_data",
          "data": {
            "text/html": [
              "Finishing last run (ID:1e3r3do1) before initializing another..."
            ],
            "text/plain": [
              "<IPython.core.display.HTML object>"
            ]
          },
          "metadata": {
            "tags": []
          }
        },
        {
          "output_type": "display_data",
          "data": {
            "text/html": [
              "<br/>Waiting for W&B process to finish, PID 807<br/>Program ended successfully."
            ],
            "text/plain": [
              "<IPython.core.display.HTML object>"
            ]
          },
          "metadata": {
            "tags": []
          }
        },
        {
          "output_type": "display_data",
          "data": {
            "application/vnd.jupyter.widget-view+json": {
              "model_id": "155be9619d0b4d8f9532857a035c078a",
              "version_minor": 0,
              "version_major": 2
            },
            "text/plain": [
              "VBox(children=(Label(value=' 0.00MB of 0.00MB uploaded (0.00MB deduped)\\r'), FloatProgress(value=1.0, max=1.0)…"
            ]
          },
          "metadata": {
            "tags": []
          }
        },
        {
          "output_type": "display_data",
          "data": {
            "text/html": [
              "Find user logs for this run at: <code>/content/wandb/run-20210413_084412-1e3r3do1/logs/debug.log</code>"
            ],
            "text/plain": [
              "<IPython.core.display.HTML object>"
            ]
          },
          "metadata": {
            "tags": []
          }
        },
        {
          "output_type": "display_data",
          "data": {
            "text/html": [
              "Find internal logs for this run at: <code>/content/wandb/run-20210413_084412-1e3r3do1/logs/debug-internal.log</code>"
            ],
            "text/plain": [
              "<IPython.core.display.HTML object>"
            ]
          },
          "metadata": {
            "tags": []
          }
        },
        {
          "output_type": "display_data",
          "data": {
            "text/html": [
              "<h3>Run summary:</h3><br/><style>\n",
              "    table.wandb td:nth-child(1) { padding: 0 10px; text-align: right }\n",
              "    </style><table class=\"wandb\">\n",
              "<tr><td>epoch</td><td>10</td></tr><tr><td>accuracy</td><td>17.2</td></tr><tr><td>training loss</td><td>162.22196</td></tr><tr><td>validation loss</td><td>18.10518</td></tr><tr><td>_runtime</td><td>452</td></tr><tr><td>_timestamp</td><td>1618303906</td></tr><tr><td>_step</td><td>9</td></tr></table>"
            ],
            "text/plain": [
              "<IPython.core.display.HTML object>"
            ]
          },
          "metadata": {
            "tags": []
          }
        },
        {
          "output_type": "display_data",
          "data": {
            "text/html": [
              "<h3>Run history:</h3><br/><style>\n",
              "    table.wandb td:nth-child(1) { padding: 0 10px; text-align: right }\n",
              "    </style><table class=\"wandb\">\n",
              "<tr><td>epoch</td><td>▁▂▃▃▄▅▆▆▇█</td></tr><tr><td>accuracy</td><td>▂▁▇▄▄▇▆█▅▇</td></tr><tr><td>training loss</td><td>█▄▄▄▂▃▂▂▁▂</td></tr><tr><td>validation loss</td><td>██▅▆▅▁▆▃▅▄</td></tr><tr><td>_runtime</td><td>▁▂▃▃▄▅▆▆▇█</td></tr><tr><td>_timestamp</td><td>▁▂▃▃▄▅▆▆▇█</td></tr><tr><td>_step</td><td>▁▂▃▃▄▅▆▆▇█</td></tr></table><br/>"
            ],
            "text/plain": [
              "<IPython.core.display.HTML object>"
            ]
          },
          "metadata": {
            "tags": []
          }
        },
        {
          "output_type": "display_data",
          "data": {
            "text/html": [
              "Synced 5 W&B file(s), 0 media file(s), 0 artifact file(s) and 0 other file(s)"
            ],
            "text/plain": [
              "<IPython.core.display.HTML object>"
            ]
          },
          "metadata": {
            "tags": []
          }
        },
        {
          "output_type": "display_data",
          "data": {
            "text/html": [
              "\n",
              "                    <br/>Synced <strong style=\"color:#cdcd00\">restful-darkness-11</strong>: <a href=\"https://wandb.ai/theindianwriter/cs6910-assignment2-part_a/runs/1e3r3do1\" target=\"_blank\">https://wandb.ai/theindianwriter/cs6910-assignment2-part_a/runs/1e3r3do1</a><br/>\n",
              "                "
            ],
            "text/plain": [
              "<IPython.core.display.HTML object>"
            ]
          },
          "metadata": {
            "tags": []
          }
        },
        {
          "output_type": "display_data",
          "data": {
            "text/html": [
              "...Successfully finished last run (ID:1e3r3do1). Initializing new run:<br/><br/>"
            ],
            "text/plain": [
              "<IPython.core.display.HTML object>"
            ]
          },
          "metadata": {
            "tags": []
          }
        },
        {
          "output_type": "display_data",
          "data": {
            "text/html": [
              "\n",
              "                Tracking run with wandb version 0.10.25<br/>\n",
              "                Syncing run <strong style=\"color:#cdcd00\">polar-wood-12</strong> to <a href=\"https://wandb.ai\" target=\"_blank\">Weights & Biases</a> <a href=\"https://docs.wandb.com/integrations/jupyter.html\" target=\"_blank\">(Documentation)</a>.<br/>\n",
              "                Project page: <a href=\"https://wandb.ai/theindianwriter/cs6910-assignment2-part_a\" target=\"_blank\">https://wandb.ai/theindianwriter/cs6910-assignment2-part_a</a><br/>\n",
              "                Run page: <a href=\"https://wandb.ai/theindianwriter/cs6910-assignment2-part_a/runs/12kq5ie0\" target=\"_blank\">https://wandb.ai/theindianwriter/cs6910-assignment2-part_a/runs/12kq5ie0</a><br/>\n",
              "                Run data is saved locally in <code>/content/wandb/run-20210413_085258-12kq5ie0</code><br/><br/>\n",
              "            "
            ],
            "text/plain": [
              "<IPython.core.display.HTML object>"
            ]
          },
          "metadata": {
            "tags": []
          }
        },
        {
          "output_type": "stream",
          "text": [
            "Training on cuda\n",
            "----------------------IN EPOCH 1--------------------------------\n",
            "avg training loss is 2.308392\n",
            "avg val loss is 2.292873 and accuracy is 12.20%\n",
            "----------------------IN EPOCH 2--------------------------------\n",
            "avg training loss is 2.292382\n",
            "avg val loss is 2.272477 and accuracy is 13.10%\n",
            "----------------------IN EPOCH 3--------------------------------\n",
            "avg training loss is 2.287171\n",
            "avg val loss is 2.277719 and accuracy is 14.30%\n",
            "----------------------IN EPOCH 4--------------------------------\n",
            "avg training loss is 2.278473\n",
            "avg val loss is 2.260938 and accuracy is 14.80%\n",
            "----------------------IN EPOCH 5--------------------------------\n",
            "avg training loss is 2.280558\n",
            "avg val loss is 2.274638 and accuracy is 12.60%\n",
            "----------------------IN EPOCH 6--------------------------------\n",
            "avg training loss is 2.273916\n",
            "avg val loss is 2.257609 and accuracy is 16.60%\n",
            "----------------------IN EPOCH 7--------------------------------\n",
            "avg training loss is 2.272362\n",
            "avg val loss is 2.257060 and accuracy is 16.70%\n",
            "----------------------IN EPOCH 8--------------------------------\n",
            "avg training loss is 2.275183\n",
            "avg val loss is 2.258813 and accuracy is 17.10%\n",
            "----------------------IN EPOCH 9--------------------------------\n",
            "avg training loss is 2.265931\n",
            "avg val loss is 2.236826 and accuracy is 17.70%\n",
            "----------------------IN EPOCH 10--------------------------------\n",
            "avg training loss is 2.266824\n",
            "avg val loss is 2.224507 and accuracy is 19.10%\n"
          ],
          "name": "stdout"
        }
      ]
    },
    {
      "cell_type": "code",
      "metadata": {
        "id": "GkqBe3AHh6up"
      },
      "source": [
        "sweep_id = wandb.sweep(sweep_config, entity=\"theindianwriter\", project=\"cs6910-assignment2-part_a\")"
      ],
      "execution_count": null,
      "outputs": []
    },
    {
      "cell_type": "code",
      "metadata": {
        "id": "P2qiHroyjFi-"
      },
      "source": [
        "wandb.agent(sweep_id, experiment)"
      ],
      "execution_count": null,
      "outputs": []
    }
  ]
}